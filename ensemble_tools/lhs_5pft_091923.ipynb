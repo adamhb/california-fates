{
 "cells": [
  {
   "cell_type": "markdown",
   "id": "dba0b46c-95c9-4ece-9eb8-9df72f995937",
   "metadata": {},
   "source": [
    "### Script to generate FATES parameters using LHS"
   ]
  },
  {
   "cell_type": "code",
   "execution_count": 1,
   "id": "6b4b7a37-1801-4033-bfbd-4de9eebc4c55",
   "metadata": {},
   "outputs": [],
   "source": [
    "from scipy.stats import qmc\n",
    "import numpy as np\n",
    "import csv\n",
    "import pandas as pd\n",
    "import os\n",
    "import netCDF4 as nc4\n",
    "import sys\n",
    "import shutil\n",
    "from tempfile import TemporaryFile                                                                                                                                 \n",
    "import argparse                                                                                                                                                                                                                                                                                                       \n",
    "import tempfile \n",
    "import random\n",
    "import re\n",
    "import modp as mp\n",
    "from matplotlib import pyplot as plt\n",
    "from scipy.io import netcdf as nc\n",
    "import importlib"
   ]
  },
  {
   "cell_type": "code",
   "execution_count": 55,
   "id": "12b3e6c8",
   "metadata": {},
   "outputs": [
    {
     "data": {
      "text/plain": [
       "<module 'modp' from '/home/adam/cloud/gdrive/postdoc/california-fates/ensemble_tools/modp.py'>"
      ]
     },
     "execution_count": 55,
     "metadata": {},
     "output_type": "execute_result"
    }
   ],
   "source": [
    "\n"
   ]
  },
  {
   "cell_type": "code",
   "execution_count": 26,
   "id": "a78bfb80",
   "metadata": {},
   "outputs": [],
   "source": [
    "pd.set_option('display.max_rows', 500) "
   ]
  },
  {
   "cell_type": "markdown",
   "id": "f41f01ef-feb3-4ce0-87c4-474f2cf11e15",
   "metadata": {},
   "source": [
    "### Read in min and max values for each parameter and pft \n",
    "- Adapted from work by Rachel Ward (parameter ranges and inequalities). \n",
    "- Where there are inequalities between PFTx and PFTy, sample PFTx parameter and then use a scalar to generate PFTy parameter. -- If parameter ranges are the same ignore the inequality\n",
    "- Add some noise to the inequalities so that inter-PFT trait correlations are not too strict"
   ]
  },
  {
   "cell_type": "markdown",
   "id": "20439224",
   "metadata": {},
   "source": [
    "### Pre-process param ranges file"
   ]
  },
  {
   "cell_type": "code",
   "execution_count": 110,
   "id": "c1b2c9aa-8737-4a7c-bd0d-6806290128b0",
   "metadata": {},
   "outputs": [
    {
     "name": "stdout",
     "output_type": "stream",
     "text": [
      "Number of params: 61\n",
      "Number of pfts: 5\n",
      "Param names: ['fates_recruit_seed_alloc_mature', 'fates_recruit_seed_alloc_mature', 'fates_recruit_seed_alloc_mature', 'fates_fire_alpha_SH', 'fates_fire_alpha_SH', 'fates_fire_alpha_SH', 'fates_fire_bark_scaler', 'fates_fire_bark_scaler', 'fates_fire_bark_scaler', 'fates_fire_crown_kill', 'fates_fire_crown_kill', 'fates_fire_crown_kill', 'fates_fire_drying_ratio', 'fates_fire_nignitions', 'fates_fire_threshold', 'fates_mort_bmort', 'fates_mort_bmort', 'fates_mort_bmort', 'fates_leaf_slatop', 'fates_leaf_slatop', 'fates_leaf_slatop', 'fates_leaf_vcmax25top', 'fates_leaf_vcmax25top', 'fates_leaf_vcmax25top', 'fates_mort_scalar_cstarvation', 'fates_mort_scalar_cstarvation', 'fates_mort_scalar_cstarvation', 'fates_fire_frac_resprout', 'fates_fire_frac_resprout', 'fates_frag_seed_decay_rate', 'fates_frag_seed_decay_rate', 'fates_frag_seed_decay_rate', 'fates_recruit_seed_germination_rate', 'fates_recruit_seed_germination_rate', 'fates_recruit_seed_germination_rate', 'fates_disturbance_germ', 'fates_turnover_branch', 'fates_turnover_branch', 'fates_turnover_leaf', 'fates_turnover_leaf', 'fates_turnover_leaf', 'fates_nonhydro_smpsc', 'fates_nonhydro_smpsc', 'fates_nonhydro_smpsc', 'fates_nonhydro_smpsc', 'fates_nonhydro_smpsc', 'fates_mort_hf_sm_threshold', 'fates_recruit_inter_patch_disp_frac', 'fates_frag_maxdecomp', 'fates_alloc_storage_cushion', 'fates_grperc', 'fates_stoich_nitr', 'fates_stoich_nitr', 'fates_stoich_nitr', 'fates_mort_ip_size_senescence', 'fates_mort_ip_age_senescence', 'fates_allom_d2ca_coefficient_max', 'fates_allom_d2ca_coefficient_max', 'fates_allom_d2ca_coefficient_max', 'fates_allom_agb1', 'fates_allom_agb1']\n",
      "<class 'pandas.core.frame.DataFrame'>\n",
      "Int64Index: 61 entries, 0 to 96\n",
      "Data columns (total 6 columns):\n",
      " #   Column     Non-Null Count  Dtype  \n",
      "---  ------     --------------  -----  \n",
      " 0   pft_ineq   61 non-null     object \n",
      " 1   param      61 non-null     object \n",
      " 2   value_min  61 non-null     float64\n",
      " 3   value_max  61 non-null     float64\n",
      " 4   pft        61 non-null     int64  \n",
      " 5   organ      4 non-null      float64\n",
      "dtypes: float64(3), int64(1), object(2)\n",
      "memory usage: 3.3+ KB\n"
     ]
    }
   ],
   "source": [
    "path_to_ca_fates = '/home/adam/cloud/gdrive/postdoc/california-fates'\n",
    "path_to_base_param_files_root = '/home/adam/cloud/gdrive/postdoc/parameters/'\n",
    "path_to_ensemble_param_files_root = '/home/adam/cloud/gdrive/postdoc/parameters/ensemble_params_test'\n",
    "pft_names = ['pine','cedar','fir','shrub','oak']\n",
    "\n",
    "#path_to_ensemble_param_files_root = '/glade/u/home/adamhb/ahb_params/fates_api_25/ensembles'\n",
    "\n",
    "param_ranges_full = pd.read_csv(os.path.join(path_to_ca_fates,'parameter_ranges/param_ranges_091923.csv'))\n",
    "param_ranges_full = param_ranges_full[['pft_ineq','param', 'value_min', 'value_max', 'pft', 'organ']]\n",
    "\n",
    "# Filter to params that we are going to sample from the LHS\n",
    "param_ranges = param_ranges_full.loc[param_ranges_full['pft_ineq'] == 'FALSE']\n",
    "\n",
    "# Make sure min and max are floats\n",
    "convert_dict = {'value_min': float,\n",
    "                'value_max': float\n",
    "                }\n",
    "param_ranges = param_ranges.astype(convert_dict)\n",
    "\n",
    "# number of parameters\n",
    "n_params = len(param_ranges)\n",
    "print(\"Number of params:\",n_params)\n",
    "\n",
    "# number of PFTs - some are global so subtract one\n",
    "n_pfts = max(len(pd.unique(param_ranges['pft'])) - 1, 1)\n",
    "print(\"Number of pfts:\", n_pfts)\n",
    "\n",
    "param_names = list(param_ranges.param)\n",
    "print(\"Param names:\",param_names)\n",
    "pfts = list(param_ranges.pft)\n",
    "organs = list(param_ranges.organ)\n",
    "\n",
    "param_ranges.info()"
   ]
  },
  {
   "cell_type": "code",
   "execution_count": 89,
   "id": "38298624",
   "metadata": {},
   "outputs": [
    {
     "data": {
      "text/plain": [
       "True"
      ]
     },
     "execution_count": 89,
     "metadata": {},
     "output_type": "execute_result"
    }
   ],
   "source": [
    "param_ranges_inequalities = param_ranges_full.loc[param_ranges_full['pft_ineq'] != 'FALSE']"
   ]
  },
  {
   "cell_type": "markdown",
   "id": "428b61db-831b-41a2-8fc8-529a4bf2460f",
   "metadata": {},
   "source": [
    "### Sample the parameter space using a Latin Hypercube approach"
   ]
  },
  {
   "cell_type": "code",
   "execution_count": 91,
   "id": "5751d5a4-d040-43da-bdde-feb479677f12",
   "metadata": {},
   "outputs": [
    {
     "name": "stdout",
     "output_type": "stream",
     "text": [
      "ensemble dimensions: (5, 61)\n"
     ]
    }
   ],
   "source": [
    "n_inst = 5\n",
    "\n",
    "sampler = qmc.LatinHypercube(d=n_params, seed=31)\n",
    "sample = sampler.random(n=n_inst)\n",
    "\n",
    "# scale to parameter ranges\n",
    "l_bounds = param_ranges['value_min']\n",
    "u_bounds = param_ranges['value_max']\n",
    "\n",
    "scaled_sample = qmc.scale(sample, l_bounds, u_bounds)\n",
    "\n",
    "print(\"ensemble dimensions:\",scaled_sample.shape)\n",
    "\n",
    "#Create a dataframe of the LHS ensemble\n",
    "col_names = [v + \"_\" + str(p) for v,p in zip(param_names,pfts)]\n",
    "lhs_df = pd.DataFrame(data=scaled_sample,columns=col_names)"
   ]
  },
  {
   "cell_type": "markdown",
   "id": "fcfa9f48-5bf8-41a0-8d13-5905f8e01941",
   "metadata": {},
   "source": [
    "### Visualize distribution of parameter ranges sampled by the LHS"
   ]
  },
  {
   "cell_type": "code",
   "execution_count": 33,
   "id": "bcdcbb2f-555f-41a5-bdb6-46b497ce25b2",
   "metadata": {},
   "outputs": [],
   "source": [
    "# if lhs_df.shape[1] < 50:\n",
    "#    lhs_df.hist(bins=10, figsize=(20,15))\n",
    "#    plt.show()"
   ]
  },
  {
   "cell_type": "markdown",
   "id": "1aaa3550-381b-499a-b003-69d99e1ed3ba",
   "metadata": {},
   "source": [
    "### Some parameters are held equal for all conifers\n",
    "\n",
    "There are some parameters that we keep equal among the conifers. We want the value pulled for pine from the Latin hypercube to apply to all conifers."
   ]
  },
  {
   "cell_type": "code",
   "execution_count": null,
   "id": "1782958f-d285-4b9a-9de4-c70716ffd759",
   "metadata": {},
   "outputs": [],
   "source": [
    "#equal_among_conifers = [\"fates_recruit_seed_alloc_mature\"]"
   ]
  },
  {
   "cell_type": "code",
   "execution_count": 44,
   "id": "2e15cd96",
   "metadata": {},
   "outputs": [
    {
     "data": {
      "text/plain": [
       "(36, 61)"
      ]
     },
     "execution_count": 44,
     "metadata": {},
     "output_type": "execute_result"
    }
   ],
   "source": [
    "scaled_sample.shape"
   ]
  },
  {
   "cell_type": "markdown",
   "id": "11372e84-33ab-4fa1-901f-574073ada83c",
   "metadata": {},
   "source": [
    "### Construct parameter files from the LHS samples"
   ]
  },
  {
   "cell_type": "code",
   "execution_count": 100,
   "id": "41fc670d",
   "metadata": {},
   "outputs": [
    {
     "data": {
      "text/plain": [
       "<module 'modp' from '/home/adam/cloud/gdrive/postdoc/california-fates/ensemble_tools/modp.py'>"
      ]
     },
     "execution_count": 100,
     "metadata": {},
     "output_type": "execute_result"
    }
   ],
   "source": [
    "importlib.reload(mp)"
   ]
  },
  {
   "cell_type": "code",
   "execution_count": 125,
   "id": "0823ee34",
   "metadata": {},
   "outputs": [],
   "source": [
    "base_param_file_name = 'ca_ahb_5pfts_090123.nc'\n",
    "param_files_subdir = 'testing_091923'"
   ]
  },
  {
   "cell_type": "code",
   "execution_count": 101,
   "id": "4e351416-8bc9-47a2-b13e-1f6731086e95",
   "metadata": {},
   "outputs": [
    {
     "name": "stdout",
     "output_type": "stream",
     "text": [
      "/home/adam/cloud/gdrive/postdoc/parameters/ca_ahb_5pfts_090123.nc\n",
      "0001\n",
      "0002\n",
      "0003\n",
      "0004\n",
      "0005\n"
     ]
    }
   ],
   "source": [
    "## Read in FATES file with values that will be used for all non-varying parameters\n",
    "\n",
    "# This parameter file has many changes associated with it compared to the default FATES file\n",
    "# It also has new parameter added as part of the development required for this experiment.\n",
    "input_fname = os.path.join(path_to_base_param_files_root,base_param_file_name)\n",
    "\n",
    "print(input_fname)\n",
    "\n",
    "# for each sample \n",
    "for i in range(0,n_inst) :\n",
    "    \n",
    "    param_file_end = str(i+1).rjust(4, '0')\n",
    "    \n",
    "    print(param_file_end)\n",
    "    \n",
    "    # final parameter file name\n",
    "    new_file_name = 'ca_5pfts_091923_{0}.nc'.format(param_file_end)\n",
    "    fout = os.path.join(path_to_ensemble_param_files_root,param_files_subdir,new_file_name)\n",
    "    \n",
    "    shutil.copyfile(input_fname, fout)                                                                                                                             \n",
    "   \n",
    "    # loop through each parameter and apply either to the correct pft or globally\n",
    "    for j in range(0, n_params) : \n",
    "        \n",
    "        var = param_names[j]\n",
    "        pft = pfts[j]\n",
    "        organ = organs[j]\n",
    "        \n",
    "        val = scaled_sample[i, j]\n",
    "    \n",
    "        mp.main(var = var, pft = pft, fin = fout, val = val, \n",
    "                    fout = fout, O = 1, organ = organ)"
   ]
  },
  {
   "cell_type": "markdown",
   "id": "c64e3d05",
   "metadata": {},
   "source": [
    "### Add values that require a pft-inequality"
   ]
  },
  {
   "cell_type": "code",
   "execution_count": 138,
   "id": "f4b88e72",
   "metadata": {},
   "outputs": [],
   "source": [
    "def get_param_value_from_ineq(ref_pft_value,min_val,max_val,pft_ineq):\n",
    "    '''returns the parameter value for the pft that depends on a reference pft value'''\n",
    "    if \">\" in pft_ineq:\n",
    "        min_val = ref_pft_value\n",
    "    if \"<\" in pft_ineq:\n",
    "        max_val = ref_pft_value\n",
    "    \n",
    "    return np.random.uniform(min_val,max_val)"
   ]
  },
  {
   "cell_type": "code",
   "execution_count": 135,
   "id": "7d0f8417",
   "metadata": {},
   "outputs": [
    {
     "data": {
      "text/plain": [
       "3.507320078423806"
      ]
     },
     "execution_count": 135,
     "metadata": {},
     "output_type": "execute_result"
    }
   ],
   "source": [
    "np.random.uniform(3.1,4.5)"
   ]
  },
  {
   "cell_type": "code",
   "execution_count": 113,
   "id": "b013d1ee",
   "metadata": {},
   "outputs": [
    {
     "data": {
      "text/plain": [
       "1"
      ]
     },
     "execution_count": 113,
     "metadata": {},
     "output_type": "execute_result"
    }
   ],
   "source": [
    "pft_names.index(\"cedar\")"
   ]
  },
  {
   "cell_type": "code",
   "execution_count": 131,
   "id": "5b2167fa",
   "metadata": {},
   "outputs": [],
   "source": [
    "def get_ref_pft_index(ineq):  \n",
    "    for p in pft_names:\n",
    "        if p in ineq:\n",
    "            return pft_names.index(p)"
   ]
  },
  {
   "cell_type": "code",
   "execution_count": 116,
   "id": "d7058d8a",
   "metadata": {},
   "outputs": [
    {
     "data": {
      "text/plain": [
       "1"
      ]
     },
     "execution_count": 116,
     "metadata": {},
     "output_type": "execute_result"
    }
   ],
   "source": []
  },
  {
   "cell_type": "code",
   "execution_count": 123,
   "id": "bc81944e",
   "metadata": {},
   "outputs": [],
   "source": [
    "def find_files_with_substring(directory, substring):\n",
    "    \"\"\"\n",
    "    Returns a list of filenames in the given directory that contain the given substring.\n",
    "    \n",
    "    :param directory: The path to the directory to search in.\n",
    "    :param substring: The substring to search for in filenames.\n",
    "    :return: A list of filenames containing the substring.\n",
    "    \"\"\"\n",
    "\n",
    "    # List all files in the directory\n",
    "    all_files = os.listdir(directory)\n",
    "\n",
    "    # Filter the ones that contain the substring\n",
    "    matching_files = [f for f in all_files if substring in f]\n",
    "\n",
    "    return matching_files"
   ]
  },
  {
   "cell_type": "code",
   "execution_count": 130,
   "id": "18507fda",
   "metadata": {},
   "outputs": [
    {
     "data": {
      "text/html": [
       "<div>\n",
       "<style scoped>\n",
       "    .dataframe tbody tr th:only-of-type {\n",
       "        vertical-align: middle;\n",
       "    }\n",
       "\n",
       "    .dataframe tbody tr th {\n",
       "        vertical-align: top;\n",
       "    }\n",
       "\n",
       "    .dataframe thead th {\n",
       "        text-align: right;\n",
       "    }\n",
       "</style>\n",
       "<table border=\"1\" class=\"dataframe\">\n",
       "  <thead>\n",
       "    <tr style=\"text-align: right;\">\n",
       "      <th></th>\n",
       "      <th>pft_ineq</th>\n",
       "      <th>param</th>\n",
       "      <th>value_min</th>\n",
       "      <th>value_max</th>\n",
       "      <th>pft</th>\n",
       "      <th>organ</th>\n",
       "    </tr>\n",
       "  </thead>\n",
       "  <tbody>\n",
       "    <tr>\n",
       "      <th>1</th>\n",
       "      <td>&lt;pine</td>\n",
       "      <td>fates_recruit_seed_alloc_mature</td>\n",
       "      <td>0.04</td>\n",
       "      <td>0.392860</td>\n",
       "      <td>2</td>\n",
       "      <td>NaN</td>\n",
       "    </tr>\n",
       "    <tr>\n",
       "      <th>2</th>\n",
       "      <td>&lt;pine</td>\n",
       "      <td>fates_recruit_seed_alloc_mature</td>\n",
       "      <td>0.04</td>\n",
       "      <td>0.392860</td>\n",
       "      <td>3</td>\n",
       "      <td>NaN</td>\n",
       "    </tr>\n",
       "    <tr>\n",
       "      <th>6</th>\n",
       "      <td>&gt;pine</td>\n",
       "      <td>fates_fire_alpha_SH</td>\n",
       "      <td>0.1</td>\n",
       "      <td>0.900000</td>\n",
       "      <td>2</td>\n",
       "      <td>NaN</td>\n",
       "    </tr>\n",
       "    <tr>\n",
       "      <th>7</th>\n",
       "      <td>&gt;pine</td>\n",
       "      <td>fates_fire_alpha_SH</td>\n",
       "      <td>0.1</td>\n",
       "      <td>0.900000</td>\n",
       "      <td>3</td>\n",
       "      <td>NaN</td>\n",
       "    </tr>\n",
       "    <tr>\n",
       "      <th>11</th>\n",
       "      <td>&lt;pine</td>\n",
       "      <td>fates_fire_bark_scaler</td>\n",
       "      <td>0.02</td>\n",
       "      <td>0.080000</td>\n",
       "      <td>2</td>\n",
       "      <td>NaN</td>\n",
       "    </tr>\n",
       "    <tr>\n",
       "      <th>12</th>\n",
       "      <td>&lt;cedar</td>\n",
       "      <td>fates_fire_bark_scaler</td>\n",
       "      <td>0.02</td>\n",
       "      <td>0.080000</td>\n",
       "      <td>3</td>\n",
       "      <td>NaN</td>\n",
       "    </tr>\n",
       "    <tr>\n",
       "      <th>16</th>\n",
       "      <td>&gt;pine</td>\n",
       "      <td>fates_fire_crown_kill</td>\n",
       "      <td>0.2</td>\n",
       "      <td>1.000000</td>\n",
       "      <td>2</td>\n",
       "      <td>NaN</td>\n",
       "    </tr>\n",
       "    <tr>\n",
       "      <th>17</th>\n",
       "      <td>&gt;pine</td>\n",
       "      <td>fates_fire_crown_kill</td>\n",
       "      <td>0.2</td>\n",
       "      <td>1.000000</td>\n",
       "      <td>3</td>\n",
       "      <td>NaN</td>\n",
       "    </tr>\n",
       "    <tr>\n",
       "      <th>24</th>\n",
       "      <td>pine</td>\n",
       "      <td>fates_mort_bmort</td>\n",
       "      <td>0.002</td>\n",
       "      <td>0.008000</td>\n",
       "      <td>2</td>\n",
       "      <td>NaN</td>\n",
       "    </tr>\n",
       "    <tr>\n",
       "      <th>25</th>\n",
       "      <td>pine</td>\n",
       "      <td>fates_mort_bmort</td>\n",
       "      <td>0.002</td>\n",
       "      <td>0.008000</td>\n",
       "      <td>3</td>\n",
       "      <td>NaN</td>\n",
       "    </tr>\n",
       "    <tr>\n",
       "      <th>29</th>\n",
       "      <td>&gt;pine</td>\n",
       "      <td>fates_leaf_slatop</td>\n",
       "      <td>0.007</td>\n",
       "      <td>0.011000</td>\n",
       "      <td>2</td>\n",
       "      <td>NaN</td>\n",
       "    </tr>\n",
       "    <tr>\n",
       "      <th>30</th>\n",
       "      <td>cedar</td>\n",
       "      <td>fates_leaf_slatop</td>\n",
       "      <td>0.007</td>\n",
       "      <td>0.011000</td>\n",
       "      <td>3</td>\n",
       "      <td>NaN</td>\n",
       "    </tr>\n",
       "    <tr>\n",
       "      <th>33</th>\n",
       "      <td>fates_leaf_slatop</td>\n",
       "      <td>fates_leaf_slamax</td>\n",
       "      <td>NaN</td>\n",
       "      <td>NaN</td>\n",
       "      <td>0</td>\n",
       "      <td>NaN</td>\n",
       "    </tr>\n",
       "    <tr>\n",
       "      <th>35</th>\n",
       "      <td>&lt;pine</td>\n",
       "      <td>fates_leaf_vcmax25top</td>\n",
       "      <td>45</td>\n",
       "      <td>75.000000</td>\n",
       "      <td>2</td>\n",
       "      <td>NaN</td>\n",
       "    </tr>\n",
       "    <tr>\n",
       "      <th>36</th>\n",
       "      <td>&lt;cedar</td>\n",
       "      <td>fates_leaf_vcmax25top</td>\n",
       "      <td>45</td>\n",
       "      <td>75.000000</td>\n",
       "      <td>3</td>\n",
       "      <td>NaN</td>\n",
       "    </tr>\n",
       "    <tr>\n",
       "      <th>40</th>\n",
       "      <td>&lt;pine</td>\n",
       "      <td>fates_mort_scalar_cstarvation</td>\n",
       "      <td>0.15</td>\n",
       "      <td>0.600000</td>\n",
       "      <td>2</td>\n",
       "      <td>NaN</td>\n",
       "    </tr>\n",
       "    <tr>\n",
       "      <th>41</th>\n",
       "      <td>&lt;cedar</td>\n",
       "      <td>fates_mort_scalar_cstarvation</td>\n",
       "      <td>0.15</td>\n",
       "      <td>0.600000</td>\n",
       "      <td>3</td>\n",
       "      <td>NaN</td>\n",
       "    </tr>\n",
       "    <tr>\n",
       "      <th>47</th>\n",
       "      <td>pine</td>\n",
       "      <td>fates_frag_seed_decay_rate</td>\n",
       "      <td>NaN</td>\n",
       "      <td>NaN</td>\n",
       "      <td>2</td>\n",
       "      <td>NaN</td>\n",
       "    </tr>\n",
       "    <tr>\n",
       "      <th>48</th>\n",
       "      <td>pine</td>\n",
       "      <td>fates_frag_seed_decay_rate</td>\n",
       "      <td>NaN</td>\n",
       "      <td>NaN</td>\n",
       "      <td>3</td>\n",
       "      <td>NaN</td>\n",
       "    </tr>\n",
       "    <tr>\n",
       "      <th>52</th>\n",
       "      <td>pine</td>\n",
       "      <td>fates_recruit_seed_germination_rate</td>\n",
       "      <td>NaN</td>\n",
       "      <td>NaN</td>\n",
       "      <td>2</td>\n",
       "      <td>NaN</td>\n",
       "    </tr>\n",
       "    <tr>\n",
       "      <th>53</th>\n",
       "      <td>pine</td>\n",
       "      <td>fates_recruit_seed_germination_rate</td>\n",
       "      <td>NaN</td>\n",
       "      <td>NaN</td>\n",
       "      <td>3</td>\n",
       "      <td>NaN</td>\n",
       "    </tr>\n",
       "    <tr>\n",
       "      <th>58</th>\n",
       "      <td>pine</td>\n",
       "      <td>fates_turnover_branch</td>\n",
       "      <td>50</td>\n",
       "      <td>150.000000</td>\n",
       "      <td>2</td>\n",
       "      <td>NaN</td>\n",
       "    </tr>\n",
       "    <tr>\n",
       "      <th>59</th>\n",
       "      <td>pine</td>\n",
       "      <td>fates_turnover_branch</td>\n",
       "      <td>50</td>\n",
       "      <td>150.000000</td>\n",
       "      <td>3</td>\n",
       "      <td>NaN</td>\n",
       "    </tr>\n",
       "    <tr>\n",
       "      <th>61</th>\n",
       "      <td>pine</td>\n",
       "      <td>fates_turnover_branch</td>\n",
       "      <td>50</td>\n",
       "      <td>150.000000</td>\n",
       "      <td>5</td>\n",
       "      <td>NaN</td>\n",
       "    </tr>\n",
       "    <tr>\n",
       "      <th>63</th>\n",
       "      <td>&gt;pine</td>\n",
       "      <td>fates_turnover_leaf</td>\n",
       "      <td>4.9355</td>\n",
       "      <td>25.000000</td>\n",
       "      <td>2</td>\n",
       "      <td>NaN</td>\n",
       "    </tr>\n",
       "    <tr>\n",
       "      <th>64</th>\n",
       "      <td>&gt;cedar</td>\n",
       "      <td>fates_turnover_leaf</td>\n",
       "      <td>4.9355</td>\n",
       "      <td>25.000000</td>\n",
       "      <td>3</td>\n",
       "      <td>NaN</td>\n",
       "    </tr>\n",
       "    <tr>\n",
       "      <th>75</th>\n",
       "      <td>FIXED</td>\n",
       "      <td>fates_frag_maxdecomp</td>\n",
       "      <td>INEQ_FACTOR</td>\n",
       "      <td>0.736538</td>\n",
       "      <td>0</td>\n",
       "      <td>2.0</td>\n",
       "    </tr>\n",
       "    <tr>\n",
       "      <th>76</th>\n",
       "      <td>FIXED</td>\n",
       "      <td>fates_frag_maxdecomp</td>\n",
       "      <td>INEQ_FACTOR</td>\n",
       "      <td>0.736538</td>\n",
       "      <td>0</td>\n",
       "      <td>3.0</td>\n",
       "    </tr>\n",
       "    <tr>\n",
       "      <th>77</th>\n",
       "      <td>FIXED</td>\n",
       "      <td>fates_frag_maxdecomp</td>\n",
       "      <td>INEQ_FACTOR</td>\n",
       "      <td>1.923077</td>\n",
       "      <td>0</td>\n",
       "      <td>5.0</td>\n",
       "    </tr>\n",
       "    <tr>\n",
       "      <th>81</th>\n",
       "      <td>&lt;pine</td>\n",
       "      <td>fates_stoich_nitr</td>\n",
       "      <td>0.016</td>\n",
       "      <td>0.028000</td>\n",
       "      <td>2</td>\n",
       "      <td>1.0</td>\n",
       "    </tr>\n",
       "    <tr>\n",
       "      <th>82</th>\n",
       "      <td>&lt;cedar</td>\n",
       "      <td>fates_stoich_nitr</td>\n",
       "      <td>0.016</td>\n",
       "      <td>0.028000</td>\n",
       "      <td>3</td>\n",
       "      <td>1.0</td>\n",
       "    </tr>\n",
       "    <tr>\n",
       "      <th>88</th>\n",
       "      <td>pine</td>\n",
       "      <td>fates_allom_d2ca_coefficient_max</td>\n",
       "      <td>0.25695434</td>\n",
       "      <td>0.370096</td>\n",
       "      <td>2</td>\n",
       "      <td>NaN</td>\n",
       "    </tr>\n",
       "    <tr>\n",
       "      <th>89</th>\n",
       "      <td>pine</td>\n",
       "      <td>fates_allom_d2ca_coefficient_max</td>\n",
       "      <td>0.25695434</td>\n",
       "      <td>0.370096</td>\n",
       "      <td>3</td>\n",
       "      <td>NaN</td>\n",
       "    </tr>\n",
       "    <tr>\n",
       "      <th>92</th>\n",
       "      <td>fates_allom_d2ca_coefficient_max</td>\n",
       "      <td>fates_allom_d2ca_coefficient_min</td>\n",
       "      <td>NaN</td>\n",
       "      <td>NaN</td>\n",
       "      <td>0</td>\n",
       "      <td>NaN</td>\n",
       "    </tr>\n",
       "    <tr>\n",
       "      <th>94</th>\n",
       "      <td>pine</td>\n",
       "      <td>fates_allom_agb1</td>\n",
       "      <td>0.064731</td>\n",
       "      <td>0.084150</td>\n",
       "      <td>2</td>\n",
       "      <td>NaN</td>\n",
       "    </tr>\n",
       "    <tr>\n",
       "      <th>95</th>\n",
       "      <td>pine</td>\n",
       "      <td>fates_allom_agb1</td>\n",
       "      <td>0.064731</td>\n",
       "      <td>0.084150</td>\n",
       "      <td>3</td>\n",
       "      <td>NaN</td>\n",
       "    </tr>\n",
       "  </tbody>\n",
       "</table>\n",
       "</div>"
      ],
      "text/plain": [
       "                            pft_ineq                                param  \\\n",
       "1                              <pine      fates_recruit_seed_alloc_mature   \n",
       "2                              <pine      fates_recruit_seed_alloc_mature   \n",
       "6                              >pine                  fates_fire_alpha_SH   \n",
       "7                              >pine                  fates_fire_alpha_SH   \n",
       "11                             <pine               fates_fire_bark_scaler   \n",
       "12                            <cedar               fates_fire_bark_scaler   \n",
       "16                             >pine                fates_fire_crown_kill   \n",
       "17                             >pine                fates_fire_crown_kill   \n",
       "24                              pine                     fates_mort_bmort   \n",
       "25                              pine                     fates_mort_bmort   \n",
       "29                             >pine                    fates_leaf_slatop   \n",
       "30                             cedar                    fates_leaf_slatop   \n",
       "33                 fates_leaf_slatop                    fates_leaf_slamax   \n",
       "35                             <pine                fates_leaf_vcmax25top   \n",
       "36                            <cedar                fates_leaf_vcmax25top   \n",
       "40                             <pine        fates_mort_scalar_cstarvation   \n",
       "41                            <cedar        fates_mort_scalar_cstarvation   \n",
       "47                              pine           fates_frag_seed_decay_rate   \n",
       "48                              pine           fates_frag_seed_decay_rate   \n",
       "52                              pine  fates_recruit_seed_germination_rate   \n",
       "53                              pine  fates_recruit_seed_germination_rate   \n",
       "58                              pine                fates_turnover_branch   \n",
       "59                              pine                fates_turnover_branch   \n",
       "61                              pine                fates_turnover_branch   \n",
       "63                             >pine                  fates_turnover_leaf   \n",
       "64                            >cedar                  fates_turnover_leaf   \n",
       "75                             FIXED                 fates_frag_maxdecomp   \n",
       "76                             FIXED                 fates_frag_maxdecomp   \n",
       "77                             FIXED                 fates_frag_maxdecomp   \n",
       "81                             <pine                    fates_stoich_nitr   \n",
       "82                            <cedar                    fates_stoich_nitr   \n",
       "88                              pine     fates_allom_d2ca_coefficient_max   \n",
       "89                              pine     fates_allom_d2ca_coefficient_max   \n",
       "92  fates_allom_d2ca_coefficient_max     fates_allom_d2ca_coefficient_min   \n",
       "94                              pine                     fates_allom_agb1   \n",
       "95                              pine                     fates_allom_agb1   \n",
       "\n",
       "      value_min   value_max  pft  organ  \n",
       "1          0.04    0.392860    2    NaN  \n",
       "2          0.04    0.392860    3    NaN  \n",
       "6           0.1    0.900000    2    NaN  \n",
       "7           0.1    0.900000    3    NaN  \n",
       "11         0.02    0.080000    2    NaN  \n",
       "12         0.02    0.080000    3    NaN  \n",
       "16          0.2    1.000000    2    NaN  \n",
       "17          0.2    1.000000    3    NaN  \n",
       "24        0.002    0.008000    2    NaN  \n",
       "25        0.002    0.008000    3    NaN  \n",
       "29        0.007    0.011000    2    NaN  \n",
       "30        0.007    0.011000    3    NaN  \n",
       "33          NaN         NaN    0    NaN  \n",
       "35           45   75.000000    2    NaN  \n",
       "36           45   75.000000    3    NaN  \n",
       "40         0.15    0.600000    2    NaN  \n",
       "41         0.15    0.600000    3    NaN  \n",
       "47          NaN         NaN    2    NaN  \n",
       "48          NaN         NaN    3    NaN  \n",
       "52          NaN         NaN    2    NaN  \n",
       "53          NaN         NaN    3    NaN  \n",
       "58           50  150.000000    2    NaN  \n",
       "59           50  150.000000    3    NaN  \n",
       "61           50  150.000000    5    NaN  \n",
       "63       4.9355   25.000000    2    NaN  \n",
       "64       4.9355   25.000000    3    NaN  \n",
       "75  INEQ_FACTOR    0.736538    0    2.0  \n",
       "76  INEQ_FACTOR    0.736538    0    3.0  \n",
       "77  INEQ_FACTOR    1.923077    0    5.0  \n",
       "81        0.016    0.028000    2    1.0  \n",
       "82        0.016    0.028000    3    1.0  \n",
       "88   0.25695434    0.370096    2    NaN  \n",
       "89   0.25695434    0.370096    3    NaN  \n",
       "92          NaN         NaN    0    NaN  \n",
       "94     0.064731    0.084150    2    NaN  \n",
       "95     0.064731    0.084150    3    NaN  "
      ]
     },
     "execution_count": 130,
     "metadata": {},
     "output_type": "execute_result"
    }
   ],
   "source": [
    "param_ranges_inequalities"
   ]
  },
  {
   "cell_type": "code",
   "execution_count": 121,
   "id": "0ce172c3",
   "metadata": {},
   "outputs": [
    {
     "name": "stdout",
     "output_type": "stream",
     "text": [
      "1\n",
      "1\n",
      "1\n",
      "1\n",
      "1\n",
      "2\n",
      "1\n",
      "1\n",
      "1\n",
      "1\n",
      "1\n",
      "2\n",
      "None\n",
      "1\n",
      "2\n"
     ]
    }
   ],
   "source": [
    "for inst in range(0,n_inst) :\n",
    "    \n",
    "    param_file_end = str(i+1).rjust(4, '0')\n",
    "    \n",
    "    #get param file with inst tag\n",
    "    ref_nc_file = find_files_with_substring(os.path.join(path_to_ensemble_param_files_root,param_files_subdir), param_file_end)\n",
    "    ref_nc_file_full_path = os.path.join(path_to_ensemble_param_files_root,param_files_subdir,ref_nc_file)\n",
    "    print(ref_nc_file_full_path)\n",
    "\n",
    "    for i in param_ranges_inequalities.index[:15]:\n",
    "\n",
    "        # reference file\n",
    "        \n",
    "\n",
    "        # input data from the inequalities df\n",
    "        d = param_ranges_inequalities.loc[i]\n",
    "\n",
    "        if \"fates\" in d['pft_ineq']:\n",
    "            output_val = extract_variable_from_netcdf(ref_nc_file_full_path, d['pft_ineq'],None)\n",
    "        \n",
    "        elif:\n",
    "            #fixed\n",
    "        \n",
    "        else:\n",
    "            ref_pft_index = get_ref_pft_index(d['pft_ineq'])\n",
    "            print(ref_pft_index)\n",
    "            ref_pft_value = extract_variable_from_netcdf(ref_nc_file_full_path, d['param'],ref_pft_index)\n",
    "            \n",
    "    \n",
    "    "
   ]
  },
  {
   "cell_type": "markdown",
   "id": "cc131ee3-7f37-4ac9-8625-c5c96be7e375",
   "metadata": {},
   "source": [
    "### Check the variable values in the parameter files"
   ]
  },
  {
   "cell_type": "code",
   "execution_count": 133,
   "id": "ffd5e0ab-2d42-4e4d-9bc1-346b203e872a",
   "metadata": {},
   "outputs": [],
   "source": [
    "def extract_variable_from_netcdf(file_path, variable_name,pft_index):\n",
    "    \"\"\"\n",
    "    Extract a variable from a NetCDF file.\n",
    "\n",
    "    Parameters:\n",
    "    - file_path: The path to the NetCDF file.\n",
    "    - variable_name: The name of the variable to extract.\n",
    "\n",
    "    Returns:\n",
    "    - The extracted variable data.\n",
    "    \"\"\"\n",
    "    with nc4.Dataset(file_path, 'r') as dataset:\n",
    "        # Check if the variable exists in the dataset\n",
    "        if variable_name in dataset.variables:\n",
    "            variable_data = dataset.variables[variable_name][:]\n",
    "            if pft_index == None:\n",
    "                return variable_data\n",
    "            else:\n",
    "                return variable_data[pft_index]\n",
    "        else:\n",
    "            raise ValueError(f\"'{variable_name}' not found in the NetCDF file.\")\n",
    "\n",
    "# Usage\n",
    "# file_path = '/glade/u/home/adamhb/ahb_params/fates_api_25/ensembles/conifer_allom_083023/conifer_allom_083023_0006.nc'\n",
    "# variable_name = 'fates_leaf_vcmax25top'\n",
    "# #variable_name = 'fates_allom_d2ca_coefficient_max'\n",
    "# data = extract_variable_from_netcdf(file_path, variable_name)\n",
    "# #dim: (organ,pft)\n",
    "# print(data[0,:])\n",
    "# print(len(data.shape))"
   ]
  },
  {
   "cell_type": "code",
   "execution_count": null,
   "id": "4f34d7c1-eba6-4605-b0de-6fa864c89c3a",
   "metadata": {},
   "outputs": [],
   "source": []
  }
 ],
 "metadata": {
  "kernelspec": {
   "display_name": "env4",
   "language": "python",
   "name": "env4"
  },
  "language_info": {
   "codemirror_mode": {
    "name": "ipython",
    "version": 3
   },
   "file_extension": ".py",
   "mimetype": "text/x-python",
   "name": "python",
   "nbconvert_exporter": "python",
   "pygments_lexer": "ipython3",
   "version": "3.8.13"
  },
  "toc": {
   "base_numbering": 1,
   "nav_menu": {},
   "number_sections": true,
   "sideBar": true,
   "skip_h1_title": false,
   "title_cell": "Table of Contents",
   "title_sidebar": "Contents",
   "toc_cell": false,
   "toc_position": {},
   "toc_section_display": true,
   "toc_window_display": false
  }
 },
 "nbformat": 4,
 "nbformat_minor": 5
}
