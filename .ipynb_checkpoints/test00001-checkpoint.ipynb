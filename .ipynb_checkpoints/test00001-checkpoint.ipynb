{
 "cells": [
  {
   "cell_type": "code",
   "execution_count": 6,
   "id": "eb5916dc-549a-4376-a212-a5bb27ab25e3",
   "metadata": {},
   "outputs": [],
   "source": [
    "import sys\n",
    "#Path to the esm_tools.py script\n",
    "sys.path.append('/glade/u/home/adamhb/Earth-System-Model-Tools')\n",
    "import esm_tools\n",
    "import importlib\n",
    "importlib.reload(esm_tools)\n",
    "import os"
   ]
  },
  {
   "cell_type": "code",
   "execution_count": 7,
   "id": "ade580c0-3152-45b9-97b8-b6f3ba79c54d",
   "metadata": {},
   "outputs": [],
   "source": [
    "src_path = '/glade/derecho/scratch/adamhb/CZ2_trans_1951_2020_012824_-17e2acb6a_FATES-5b076b69/lnd/hist'"
   ]
  },
  {
   "cell_type": "code",
   "execution_count": 8,
   "id": "9582c384-cd95-4471-bec4-de80917e966b",
   "metadata": {},
   "outputs": [
    {
     "data": {
      "text/plain": [
       "['CZ2_trans_1951_2020_012824_-17e2acb6a_FATES-5b076b69.clm2_0001.h0.1982-01.nc',\n",
       " 'CZ2_trans_1951_2020_012824_-17e2acb6a_FATES-5b076b69.clm2_0001.h0.1982-02.nc',\n",
       " 'CZ2_trans_1951_2020_012824_-17e2acb6a_FATES-5b076b69.clm2_0001.h0.1982-03.nc',\n",
       " 'CZ2_trans_1951_2020_012824_-17e2acb6a_FATES-5b076b69.clm2_0001.h0.1982-04.nc',\n",
       " 'CZ2_trans_1951_2020_012824_-17e2acb6a_FATES-5b076b69.clm2_0001.h0.1982-05.nc',\n",
       " 'CZ2_trans_1951_2020_012824_-17e2acb6a_FATES-5b076b69.clm2_0001.h0.1982-06.nc',\n",
       " 'CZ2_trans_1951_2020_012824_-17e2acb6a_FATES-5b076b69.clm2_0001.h0.1982-07.nc',\n",
       " 'CZ2_trans_1951_2020_012824_-17e2acb6a_FATES-5b076b69.clm2_0001.h0.1982-08.nc',\n",
       " 'CZ2_trans_1951_2020_012824_-17e2acb6a_FATES-5b076b69.clm2_0001.h0.1982-09.nc',\n",
       " 'CZ2_trans_1951_2020_012824_-17e2acb6a_FATES-5b076b69.clm2_0001.h0.1982-10.nc',\n",
       " 'CZ2_trans_1951_2020_012824_-17e2acb6a_FATES-5b076b69.clm2_0001.h0.1982-11.nc',\n",
       " 'CZ2_trans_1951_2020_012824_-17e2acb6a_FATES-5b076b69.clm2_0001.h0.1982-12.nc',\n",
       " 'CZ2_trans_1951_2020_012824_-17e2acb6a_FATES-5b076b69.clm2_0001.h0.1983-01.nc',\n",
       " 'CZ2_trans_1951_2020_012824_-17e2acb6a_FATES-5b076b69.clm2_0001.h0.1983-02.nc',\n",
       " 'CZ2_trans_1951_2020_012824_-17e2acb6a_FATES-5b076b69.clm2_0001.h0.1983-03.nc',\n",
       " 'CZ2_trans_1951_2020_012824_-17e2acb6a_FATES-5b076b69.clm2_0001.h0.1983-04.nc',\n",
       " 'CZ2_trans_1951_2020_012824_-17e2acb6a_FATES-5b076b69.clm2_0001.h0.1983-05.nc',\n",
       " 'CZ2_trans_1951_2020_012824_-17e2acb6a_FATES-5b076b69.clm2_0001.h0.1983-06.nc',\n",
       " 'CZ2_trans_1951_2020_012824_-17e2acb6a_FATES-5b076b69.clm2_0001.h0.1983-07.nc',\n",
       " 'CZ2_trans_1951_2020_012824_-17e2acb6a_FATES-5b076b69.clm2_0001.h0.1983-08.nc',\n",
       " 'CZ2_trans_1951_2020_012824_-17e2acb6a_FATES-5b076b69.clm2_0001.h0.1983-09.nc',\n",
       " 'CZ2_trans_1951_2020_012824_-17e2acb6a_FATES-5b076b69.clm2_0001.h0.1983-10.nc',\n",
       " 'CZ2_trans_1951_2020_012824_-17e2acb6a_FATES-5b076b69.clm2_0001.h0.1983-11.nc',\n",
       " 'CZ2_trans_1951_2020_012824_-17e2acb6a_FATES-5b076b69.clm2_0001.h0.1983-12.nc',\n",
       " 'CZ2_trans_1951_2020_012824_-17e2acb6a_FATES-5b076b69.clm2_0001.h0.1984-01.nc',\n",
       " 'CZ2_trans_1951_2020_012824_-17e2acb6a_FATES-5b076b69.clm2_0001.h0.1984-02.nc',\n",
       " 'CZ2_trans_1951_2020_012824_-17e2acb6a_FATES-5b076b69.clm2_0001.h0.1984-03.nc',\n",
       " 'CZ2_trans_1951_2020_012824_-17e2acb6a_FATES-5b076b69.clm2_0001.h0.1984-04.nc',\n",
       " 'CZ2_trans_1951_2020_012824_-17e2acb6a_FATES-5b076b69.clm2_0001.h0.1984-05.nc',\n",
       " 'CZ2_trans_1951_2020_012824_-17e2acb6a_FATES-5b076b69.clm2_0001.h0.1984-06.nc',\n",
       " 'CZ2_trans_1951_2020_012824_-17e2acb6a_FATES-5b076b69.clm2_0001.h0.1984-07.nc',\n",
       " 'CZ2_trans_1951_2020_012824_-17e2acb6a_FATES-5b076b69.clm2_0001.h0.1984-08.nc',\n",
       " 'CZ2_trans_1951_2020_012824_-17e2acb6a_FATES-5b076b69.clm2_0001.h0.1984-09.nc',\n",
       " 'CZ2_trans_1951_2020_012824_-17e2acb6a_FATES-5b076b69.clm2_0001.h0.1984-10.nc',\n",
       " 'CZ2_trans_1951_2020_012824_-17e2acb6a_FATES-5b076b69.clm2_0001.h0.1984-11.nc',\n",
       " 'CZ2_trans_1951_2020_012824_-17e2acb6a_FATES-5b076b69.clm2_0001.h0.1984-12.nc',\n",
       " 'CZ2_trans_1951_2020_012824_-17e2acb6a_FATES-5b076b69.clm2_0001.h0.1985-01.nc',\n",
       " 'CZ2_trans_1951_2020_012824_-17e2acb6a_FATES-5b076b69.clm2_0001.h0.1985-02.nc',\n",
       " 'CZ2_trans_1951_2020_012824_-17e2acb6a_FATES-5b076b69.clm2_0001.h0.1985-03.nc',\n",
       " 'CZ2_trans_1951_2020_012824_-17e2acb6a_FATES-5b076b69.clm2_0001.h0.1985-04.nc',\n",
       " 'CZ2_trans_1951_2020_012824_-17e2acb6a_FATES-5b076b69.clm2_0001.h0.1985-05.nc',\n",
       " 'CZ2_trans_1951_2020_012824_-17e2acb6a_FATES-5b076b69.clm2_0001.h0.1985-06.nc',\n",
       " 'CZ2_trans_1951_2020_012824_-17e2acb6a_FATES-5b076b69.clm2_0001.h0.1985-07.nc',\n",
       " 'CZ2_trans_1951_2020_012824_-17e2acb6a_FATES-5b076b69.clm2_0001.h0.1985-08.nc',\n",
       " 'CZ2_trans_1951_2020_012824_-17e2acb6a_FATES-5b076b69.clm2_0001.h0.1985-09.nc',\n",
       " 'CZ2_trans_1951_2020_012824_-17e2acb6a_FATES-5b076b69.clm2_0001.h0.1985-10.nc',\n",
       " 'CZ2_trans_1951_2020_012824_-17e2acb6a_FATES-5b076b69.clm2_0001.h0.1985-11.nc',\n",
       " 'CZ2_trans_1951_2020_012824_-17e2acb6a_FATES-5b076b69.clm2_0001.h0.1985-12.nc']"
      ]
     },
     "execution_count": 8,
     "metadata": {},
     "output_type": "execute_result"
    }
   ],
   "source": [
    "esm_tools.filter_output_files(src_path,\"0001\",1982,1985)"
   ]
  },
  {
   "cell_type": "code",
   "execution_count": 3,
   "id": "03619ecc-efff-416a-a1d6-3bfd1d5ec804",
   "metadata": {},
   "outputs": [
    {
     "ename": "NameError",
     "evalue": "name 'esm_tools' is not defined",
     "output_type": "error",
     "traceback": [
      "\u001b[0;31m---------------------------------------------------------------------------\u001b[0m",
      "\u001b[0;31mNameError\u001b[0m                                 Traceback (most recent call last)",
      "Cell \u001b[0;32mIn [3], line 1\u001b[0m\n\u001b[0;32m----> 1\u001b[0m \u001b[43mesm_tools\u001b[49m\u001b[38;5;241;43m.\u001b[39;49m\u001b[43mfilter_output_files\u001b[49m\u001b[43m(\u001b[49m\u001b[43msrc_path\u001b[49m\u001b[43m,\u001b[49m\u001b[38;5;124;43m\"\u001b[39;49m\u001b[38;5;124;43m0001\u001b[39;49m\u001b[38;5;124;43m\"\u001b[39;49m\u001b[43m,\u001b[49m\u001b[38;5;241;43m1982\u001b[39;49m\u001b[43m,\u001b[49m\u001b[38;5;241;43m1985\u001b[39;49m\u001b[43m)\u001b[49m\n",
      "File \u001b[0;32m~/Earth-System-Model-Tools/esm_tools.py:225\u001b[0m, in \u001b[0;36mfilter_output_files\u001b[0;34m(src_data_path, inst_tag, start_yr, end_yr)\u001b[0m\n\u001b[1;32m    222\u001b[0m     inst_files \u001b[38;5;241m=\u001b[39m os\u001b[38;5;241m.\u001b[39mlistdir(src_data_path)\n\u001b[1;32m    224\u001b[0m \u001b[38;5;66;03m# Subset based on years\u001b[39;00m\n\u001b[0;32m--> 225\u001b[0m inst_files \u001b[38;5;241m=\u001b[39m \u001b[43mesm_tools\u001b[49m\u001b[38;5;241m.\u001b[39mfilter_model_output_by_year(inst_files,start_yr,end_yr)\n\u001b[1;32m    227\u001b[0m \u001b[38;5;28;01mreturn\u001b[39;00m \u001b[38;5;28msorted\u001b[39m(inst_files)\n",
      "\u001b[0;31mNameError\u001b[0m: name 'esm_tools' is not defined"
     ]
    }
   ],
   "source": [
    "esm_tools.filter_output_files(src_path,\"0001\",1982,1985)\n",
    "#sorted(esm_tools.filter_model_output_by_year(files,1982,1985))"
   ]
  },
  {
   "cell_type": "code",
   "execution_count": null,
   "id": "d7a4332c-9e50-476f-ba6f-04303eb3e6b8",
   "metadata": {},
   "outputs": [],
   "source": [
    "filter_output_files(src_data_path,inst_tag,start_yr,end_yr):"
   ]
  },
  {
   "cell_type": "code",
   "execution_count": null,
   "id": "15a14eeb-e790-4d1f-8198-c285f9fd427b",
   "metadata": {},
   "outputs": [],
   "source": []
  }
 ],
 "metadata": {
  "kernelspec": {
   "display_name": "env4_work",
   "language": "python",
   "name": "env4_work"
  },
  "language_info": {
   "codemirror_mode": {
    "name": "ipython",
    "version": 3
   },
   "file_extension": ".py",
   "mimetype": "text/x-python",
   "name": "python",
   "nbconvert_exporter": "python",
   "pygments_lexer": "ipython3",
   "version": "3.8.13"
  }
 },
 "nbformat": 4,
 "nbformat_minor": 5
}
