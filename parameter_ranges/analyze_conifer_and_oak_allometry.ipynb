{
 "cells": [
  {
   "cell_type": "markdown",
   "id": "ad6167c7",
   "metadata": {},
   "source": [
    "# Constraining FATES parameters for conifer allometry\n",
    "\n",
    "This notebook uses observational data from the BAAD database to constrain fates parameters for a oak and conifer allometry"
   ]
  },
  {
   "cell_type": "markdown",
   "id": "169119e8",
   "metadata": {},
   "source": [
    "## Setup <a class=\"anchor\" id=\"setup\"></a>\n",
    "* Import libraries\n",
    "* Set paths to data\n",
    "* Define constants"
   ]
  },
  {
   "cell_type": "code",
   "execution_count": 70,
   "id": "048e848f",
   "metadata": {
    "code_folding": []
   },
   "outputs": [],
   "source": [
    "#import libraries\n",
    "import pandas as pd\n",
    "import numpy as np\n",
    "from numpy import genfromtxt\n",
    "import math\n",
    "from matplotlib import pyplot as plt\n",
    "from scipy.optimize import curve_fit\n",
    "from datetime import datetime\n",
    "import os\n",
    "#jupyter settings\n",
    "pd.set_option('display.max_rows', 200)\n",
    "pd.set_option('display.min_rows', 200)\n",
    "import re"
   ]
  },
  {
   "cell_type": "code",
   "execution_count": 71,
   "id": "12adc5dd",
   "metadata": {},
   "outputs": [],
   "source": [
    "path_to_trait_obs = \"/home/adam/cloud/gdrive/postdoc/parameters/param_data/trait_observations\"\n",
    "baad_data = os.path.join(path_to_trait_obs,\"conifer_allometry/baad_data/baad_data.csv\")\n",
    "urban_tree_db = os.path.join(path_to_trait_obs,'conifer_allometry/McPherson_urban_tree_database/TS3_Raw_tree_data.csv')\n",
    "tallo_db = os.path.join(path_to_trait_obs,\"conifer_allometry/Tallo.csv\")\n",
    "\n",
    "pollys_allom_params = os.path.join(\"/home/adam/cloud/gdrive/postdoc/parameters/pollys_allom_params.csv\")\n",
    "\n",
    "write_to_csv = False\n",
    "pft_colors = ['gold','darkorange','darkolivegreen','brown','springgreen']"
   ]
  },
  {
   "cell_type": "markdown",
   "id": "e39404a5",
   "metadata": {},
   "source": [
    "## Constants"
   ]
  },
  {
   "cell_type": "code",
   "execution_count": 72,
   "id": "8f1a8033",
   "metadata": {
    "code_folding": []
   },
   "outputs": [],
   "source": [
    "#define constants\n",
    "m2_per_cm2 = 1e-4\n",
    "g_biomass_per_g_C = 2\n",
    "m2_per_mm2 = 1e-6\n",
    "mg_per_g = 1e3\n",
    "g_per_kg = 1000\n",
    "mm2_per_cm2 = 100"
   ]
  },
  {
   "cell_type": "markdown",
   "id": "21a18c0c",
   "metadata": {},
   "source": [
    "### Define target trees"
   ]
  },
  {
   "cell_type": "code",
   "execution_count": 73,
   "id": "ba5a29ac",
   "metadata": {},
   "outputs": [],
   "source": [
    "target_trees = ['Pinus ponderosa','Calocedrus decurrens','Abies concolor','Quercus chrysolepis'\n",
    "                'Quercus kelloggii','Quercus douglasii','Abies magnifica']"
   ]
  },
  {
   "cell_type": "markdown",
   "id": "3ece29cf",
   "metadata": {},
   "source": [
    "### Define allom df"
   ]
  },
  {
   "cell_type": "code",
   "execution_count": 74,
   "id": "d732a062",
   "metadata": {},
   "outputs": [],
   "source": [
    "allom_vars = ['species','dbh_cm','height_m','leaf_biomass_kgC',\n",
    "              'agwb_kgC','agb_kgC','crown_area_m2','source']"
   ]
  },
  {
   "cell_type": "markdown",
   "id": "0ed16f05",
   "metadata": {},
   "source": [
    "## Explore and import data from Baad database\n",
    "\n",
    "Baad only has data for ponderosa pine"
   ]
  },
  {
   "cell_type": "code",
   "execution_count": 75,
   "id": "d3f59518",
   "metadata": {},
   "outputs": [
    {
     "name": "stdout",
     "output_type": "stream",
     "text": [
      "272\n",
      "0\n",
      "0\n",
      "0\n",
      "0\n",
      "0\n"
     ]
    }
   ],
   "source": [
    "# This just includes the species we're primarily trying to model.\n",
    "# The target species are used for allometry\n",
    "## Import crown area data for PIPO from Baad\n",
    "baad_df = pd.read_csv(baad_data)\n",
    "\n",
    "for sp in target_trees:\n",
    "    print(len(baad_df[baad_df['species'] == sp]))"
   ]
  },
  {
   "cell_type": "markdown",
   "id": "db043595",
   "metadata": {},
   "source": [
    "### Clean Baad data"
   ]
  },
  {
   "cell_type": "code",
   "execution_count": 76,
   "id": "79799f22",
   "metadata": {},
   "outputs": [
    {
     "name": "stdout",
     "output_type": "stream",
     "text": [
      "<class 'pandas.core.frame.DataFrame'>\n",
      "Index: 272 entries, 3428 to 12276\n",
      "Data columns (total 8 columns):\n",
      " #   Column            Non-Null Count  Dtype  \n",
      "---  ------            --------------  -----  \n",
      " 0   species           272 non-null    object \n",
      " 1   dbh_cm            263 non-null    float64\n",
      " 2   height_m          272 non-null    float64\n",
      " 3   leaf_biomass_kgC  154 non-null    float64\n",
      " 4   agwb_kgC          0 non-null      object \n",
      " 5   agb_kgC           0 non-null      object \n",
      " 6   crown_area_m2     125 non-null    float64\n",
      " 7   source            272 non-null    object \n",
      "dtypes: float64(4), object(4)\n",
      "memory usage: 19.1+ KB\n",
      "None\n"
     ]
    },
    {
     "data": {
      "text/html": [
       "<div>\n",
       "<style scoped>\n",
       "    .dataframe tbody tr th:only-of-type {\n",
       "        vertical-align: middle;\n",
       "    }\n",
       "\n",
       "    .dataframe tbody tr th {\n",
       "        vertical-align: top;\n",
       "    }\n",
       "\n",
       "    .dataframe thead th {\n",
       "        text-align: right;\n",
       "    }\n",
       "</style>\n",
       "<table border=\"1\" class=\"dataframe\">\n",
       "  <thead>\n",
       "    <tr style=\"text-align: right;\">\n",
       "      <th></th>\n",
       "      <th>species</th>\n",
       "      <th>dbh_cm</th>\n",
       "      <th>height_m</th>\n",
       "      <th>leaf_biomass_kgC</th>\n",
       "      <th>agwb_kgC</th>\n",
       "      <th>agb_kgC</th>\n",
       "      <th>crown_area_m2</th>\n",
       "      <th>source</th>\n",
       "    </tr>\n",
       "  </thead>\n",
       "  <tbody>\n",
       "    <tr>\n",
       "      <th>3428</th>\n",
       "      <td>Pinus ponderosa</td>\n",
       "      <td>NaN</td>\n",
       "      <td>0.70104</td>\n",
       "      <td>0.042003</td>\n",
       "      <td>None</td>\n",
       "      <td>None</td>\n",
       "      <td>0.186793</td>\n",
       "      <td>Baad</td>\n",
       "    </tr>\n",
       "    <tr>\n",
       "      <th>3455</th>\n",
       "      <td>Pinus ponderosa</td>\n",
       "      <td>NaN</td>\n",
       "      <td>1.18872</td>\n",
       "      <td>0.022000</td>\n",
       "      <td>None</td>\n",
       "      <td>None</td>\n",
       "      <td>0.236409</td>\n",
       "      <td>Baad</td>\n",
       "    </tr>\n",
       "    <tr>\n",
       "      <th>3464</th>\n",
       "      <td>Pinus ponderosa</td>\n",
       "      <td>NaN</td>\n",
       "      <td>1.31064</td>\n",
       "      <td>0.123493</td>\n",
       "      <td>None</td>\n",
       "      <td>None</td>\n",
       "      <td>0.794598</td>\n",
       "      <td>Baad</td>\n",
       "    </tr>\n",
       "    <tr>\n",
       "      <th>3470</th>\n",
       "      <td>Pinus ponderosa</td>\n",
       "      <td>NaN</td>\n",
       "      <td>1.37160</td>\n",
       "      <td>0.120499</td>\n",
       "      <td>None</td>\n",
       "      <td>None</td>\n",
       "      <td>0.456037</td>\n",
       "      <td>Baad</td>\n",
       "    </tr>\n",
       "    <tr>\n",
       "      <th>3477</th>\n",
       "      <td>Pinus ponderosa</td>\n",
       "      <td>0.762</td>\n",
       "      <td>1.40208</td>\n",
       "      <td>0.033498</td>\n",
       "      <td>None</td>\n",
       "      <td>None</td>\n",
       "      <td>0.263407</td>\n",
       "      <td>Baad</td>\n",
       "    </tr>\n",
       "  </tbody>\n",
       "</table>\n",
       "</div>"
      ],
      "text/plain": [
       "              species  dbh_cm  height_m  leaf_biomass_kgC agwb_kgC agb_kgC  \\\n",
       "3428  Pinus ponderosa     NaN   0.70104          0.042003     None    None   \n",
       "3455  Pinus ponderosa     NaN   1.18872          0.022000     None    None   \n",
       "3464  Pinus ponderosa     NaN   1.31064          0.123493     None    None   \n",
       "3470  Pinus ponderosa     NaN   1.37160          0.120499     None    None   \n",
       "3477  Pinus ponderosa   0.762   1.40208          0.033498     None    None   \n",
       "\n",
       "      crown_area_m2 source  \n",
       "3428       0.186793   Baad  \n",
       "3455       0.236409   Baad  \n",
       "3464       0.794598   Baad  \n",
       "3470       0.456037   Baad  \n",
       "3477       0.263407   Baad  "
      ]
     },
     "execution_count": 76,
     "metadata": {},
     "output_type": "execute_result"
    }
   ],
   "source": [
    "## Import data for PIPO from Baad\n",
    "baad_df = pd.read_csv(baad_data)\n",
    "baad_df = baad_df.loc[baad_df['species'] == \"Pinus ponderosa\"]\n",
    "baad_df = baad_df[['species','d.bh','m.lf','a.cp','h.t']]\n",
    "baad_df['crown_area_m2'] = baad_df['a.cp']\n",
    "baad_df['leaf_biomass_kgC'] = baad_df['m.lf'] / g_biomass_per_g_C\n",
    "baad_df['dbh_cm'] = baad_df['d.bh'] * 100\n",
    "baad_df['height_m'] = baad_df['h.t']\n",
    "baad_df['agwb_kgC'] = None\n",
    "baad_df['agb_kgC'] = None\n",
    "baad_df['source'] = \"Baad\"\n",
    "baad_df = baad_df[allom_vars]\n",
    "#baad_df = baad_df[]\n",
    "print(baad_df.info())\n",
    "baad_df.head()"
   ]
  },
  {
   "cell_type": "markdown",
   "id": "d40b70b9",
   "metadata": {},
   "source": [
    "## Explore and import data from McPerhson urban tree database"
   ]
  },
  {
   "cell_type": "code",
   "execution_count": 77,
   "id": "6e99e224",
   "metadata": {},
   "outputs": [
    {
     "name": "stdout",
     "output_type": "stream",
     "text": [
      "<class 'pandas.core.frame.DataFrame'>\n",
      "RangeIndex: 14487 entries, 0 to 14486\n",
      "Data columns (total 41 columns):\n",
      " #   Column          Non-Null Count  Dtype  \n",
      "---  ------          --------------  -----  \n",
      " 0   DbaseID         14487 non-null  int64  \n",
      " 1   Region          14487 non-null  object \n",
      " 2   City            14487 non-null  object \n",
      " 3   Source          14487 non-null  object \n",
      " 4   TreeID          14487 non-null  object \n",
      " 5   Zone            14487 non-null  object \n",
      " 6   Park/Street     14487 non-null  object \n",
      " 7   SpCode          14487 non-null  object \n",
      " 8   ScientificName  14487 non-null  object \n",
      " 9   CommonName      14487 non-null  object \n",
      " 10  TreeType        14487 non-null  object \n",
      " 11  address         14487 non-null  object \n",
      " 12  street          14487 non-null  object \n",
      " 13  side            14487 non-null  object \n",
      " 14  cell            14487 non-null  int64  \n",
      " 15  OnStreet        14487 non-null  object \n",
      " 16  FromStreet      14487 non-null  object \n",
      " 17  ToStreet        14487 non-null  object \n",
      " 18  Age             14487 non-null  int64  \n",
      " 19  DBH (cm)        14487 non-null  float64\n",
      " 20  TreeHt (m)      14487 non-null  float64\n",
      " 21  CrnBase         14487 non-null  float64\n",
      " 22  CrnHt (m)       14487 non-null  float64\n",
      " 23  CdiaPar (m)     14487 non-null  float64\n",
      " 24  CDiaPerp (m)    14487 non-null  float64\n",
      " 25  AvgCdia (m)     14487 non-null  float64\n",
      " 26  Leaf (m2)       14487 non-null  float64\n",
      " 27  Setback         14487 non-null  int64  \n",
      " 28  TreeOr          14487 non-null  int64  \n",
      " 29  CarShade        14487 non-null  int64  \n",
      " 30  LandUse         14487 non-null  int64  \n",
      " 31  Shape           14487 non-null  int64  \n",
      " 32  WireConf        14487 non-null  int64  \n",
      " 33  dbh1            14487 non-null  float64\n",
      " 34  dbh2            14487 non-null  float64\n",
      " 35  dbh3            14487 non-null  float64\n",
      " 36  dbh4            14487 non-null  float64\n",
      " 37  dbh5            14487 non-null  float64\n",
      " 38  dbh6            14487 non-null  float64\n",
      " 39  dbh7            14487 non-null  float64\n",
      " 40  dbh8            14487 non-null  float64\n",
      "dtypes: float64(16), int64(9), object(16)\n",
      "memory usage: 4.5+ MB\n"
     ]
    }
   ],
   "source": [
    "mcpherson_df = pd.read_csv(urban_tree_db)\n",
    "mcpherson_df.info()"
   ]
  },
  {
   "cell_type": "markdown",
   "id": "9cdf3adf",
   "metadata": {},
   "source": [
    "### Clean McPherson data"
   ]
  },
  {
   "cell_type": "code",
   "execution_count": 78,
   "id": "91ca4c92",
   "metadata": {},
   "outputs": [
    {
     "name": "stdout",
     "output_type": "stream",
     "text": [
      "<class 'pandas.core.frame.DataFrame'>\n",
      "Index: 241 entries, 1343 to 13462\n",
      "Data columns (total 8 columns):\n",
      " #   Column            Non-Null Count  Dtype  \n",
      "---  ------            --------------  -----  \n",
      " 0   species           241 non-null    object \n",
      " 1   dbh_cm            241 non-null    float64\n",
      " 2   height_m          241 non-null    float64\n",
      " 3   leaf_biomass_kgC  0 non-null      object \n",
      " 4   agwb_kgC          0 non-null      object \n",
      " 5   agb_kgC           0 non-null      object \n",
      " 6   crown_area_m2     241 non-null    float64\n",
      " 7   source            241 non-null    object \n",
      "dtypes: float64(3), object(5)\n",
      "memory usage: 16.9+ KB\n",
      "None\n"
     ]
    }
   ],
   "source": [
    "mcpherson_df = pd.read_csv(urban_tree_db)\n",
    "\n",
    "# McPherson tree codes of interest\n",
    "mcpher_codes = ['PIPO','PSME','QUAG','CADE2']\n",
    "\n",
    "# McPherson vars of interest\n",
    "mcpher_vars = ['SpCode','ScientificName','DBH (cm)','Age','TreeHt (m)','AvgCdia (m)','Leaf (m2)']\n",
    "\n",
    "mcpherson_df = mcpherson_df.loc[mcpherson_df['SpCode'].isin(mcpher_codes)][mcpher_vars]\n",
    "mcpherson_df.head()\n",
    "\n",
    "#Clean\n",
    "mcpherson_df['species'] = mcpherson_df['ScientificName']\n",
    "mcpherson_df['dbh_cm'] = mcpherson_df['DBH (cm)']\n",
    "mcpherson_df['height_m'] = mcpherson_df['TreeHt (m)']\n",
    "mcpherson_df['leaf_biomass_kgC'] = None\n",
    "mcpherson_df['agwb_kgC'] = None\n",
    "mcpherson_df['agb_kgC'] = None\n",
    "mcpherson_df['crown_area_m2'] = math.pi * (mcpherson_df['AvgCdia (m)'] / 2)**2\n",
    "mcpherson_df['source'] = \"McPherson_2016\"\n",
    "mcpherson_df = mcpherson_df[allom_vars]\n",
    "print(mcpherson_df.info())\n",
    "\n",
    "# Could do this if helpful\n",
    "#Add foliar biomass for QUAG to McPherson data\n",
    "#mcpherson_df['leaf_biomass_g'] = mcpherson_df['Leaf (m2)'] * 251.98 # QUAG foliar biomass factor taken from Table 6 of McPherson et al., 2016"
   ]
  },
  {
   "cell_type": "markdown",
   "id": "55eaa764",
   "metadata": {},
   "source": [
    "## Explore and import data from Tallo"
   ]
  },
  {
   "cell_type": "code",
   "execution_count": 79,
   "id": "85a9bed0",
   "metadata": {},
   "outputs": [
    {
     "name": "stdout",
     "output_type": "stream",
     "text": [
      "species\n",
      "Pinus ponderosa         623\n",
      "Abies magnifica         210\n",
      "Abies concolor          195\n",
      "Quercus douglasii        51\n",
      "Calocedrus decurrens     14\n",
      "Name: count, dtype: int64\n",
      "<class 'pandas.core.frame.DataFrame'>\n",
      "Index: 1093 entries, 80266 to 495591\n",
      "Data columns (total 13 columns):\n",
      " #   Column                Non-Null Count  Dtype  \n",
      "---  ------                --------------  -----  \n",
      " 0   tree_id               1093 non-null   object \n",
      " 1   division              1093 non-null   object \n",
      " 2   family                1093 non-null   object \n",
      " 3   genus                 1093 non-null   object \n",
      " 4   species               1093 non-null   object \n",
      " 5   latitude              1093 non-null   float64\n",
      " 6   longitude             1093 non-null   float64\n",
      " 7   stem_diameter_cm      1093 non-null   float64\n",
      " 8   height_m              1093 non-null   float64\n",
      " 9   crown_radius_m        527 non-null    float64\n",
      " 10  height_outlier        1093 non-null   object \n",
      " 11  crown_radius_outlier  1093 non-null   object \n",
      " 12  reference_id          1093 non-null   int64  \n",
      "dtypes: float64(5), int64(1), object(7)\n",
      "memory usage: 119.5+ KB\n",
      "None\n"
     ]
    }
   ],
   "source": [
    "tallo_df = pd.read_csv(tallo_db)\n",
    "tallo_df = tallo_df.loc[tallo_df['species'].isin(target_trees)]\n",
    "print(tallo_df.species.value_counts())\n",
    "print(tallo_df.info())"
   ]
  },
  {
   "cell_type": "markdown",
   "id": "db068ce9",
   "metadata": {},
   "source": [
    "### Clean tallo data"
   ]
  },
  {
   "cell_type": "code",
   "execution_count": 80,
   "id": "bc20ab57",
   "metadata": {},
   "outputs": [
    {
     "name": "stdout",
     "output_type": "stream",
     "text": [
      "<class 'pandas.core.frame.DataFrame'>\n",
      "Index: 1093 entries, 80266 to 495591\n",
      "Data columns (total 8 columns):\n",
      " #   Column            Non-Null Count  Dtype  \n",
      "---  ------            --------------  -----  \n",
      " 0   species           1093 non-null   object \n",
      " 1   dbh_cm            1093 non-null   float64\n",
      " 2   height_m          1093 non-null   float64\n",
      " 3   leaf_biomass_kgC  0 non-null      object \n",
      " 4   agwb_kgC          0 non-null      object \n",
      " 5   agb_kgC           0 non-null      object \n",
      " 6   crown_area_m2     527 non-null    float64\n",
      " 7   source            1093 non-null   object \n",
      "dtypes: float64(3), object(5)\n",
      "memory usage: 76.9+ KB\n",
      "None\n"
     ]
    }
   ],
   "source": [
    "tallo_df = pd.read_csv(tallo_db)\n",
    "\n",
    "tallo_df = tallo_df.loc[tallo_df['species'].isin(target_trees)]\n",
    "\n",
    "#Clean\n",
    "tallo_df['dbh_cm'] = tallo_df['stem_diameter_cm']\n",
    "tallo_df['leaf_biomass_kgC'] = None\n",
    "tallo_df['agwb_kgC'] = None\n",
    "tallo_df['agb_kgC'] = None\n",
    "tallo_df['crown_area_m2'] = math.pi * tallo_df['crown_radius_m']**2\n",
    "tallo_df['source'] = \"Tallo\"\n",
    "tallo_df = tallo_df[allom_vars]\n",
    "print(tallo_df.info())"
   ]
  },
  {
   "cell_type": "code",
   "execution_count": 81,
   "id": "ab60a5ba",
   "metadata": {},
   "outputs": [
    {
     "data": {
      "text/html": [
       "<div>\n",
       "<style scoped>\n",
       "    .dataframe tbody tr th:only-of-type {\n",
       "        vertical-align: middle;\n",
       "    }\n",
       "\n",
       "    .dataframe tbody tr th {\n",
       "        vertical-align: top;\n",
       "    }\n",
       "\n",
       "    .dataframe thead th {\n",
       "        text-align: right;\n",
       "    }\n",
       "</style>\n",
       "<table border=\"1\" class=\"dataframe\">\n",
       "  <thead>\n",
       "    <tr style=\"text-align: right;\">\n",
       "      <th></th>\n",
       "      <th>species</th>\n",
       "      <th>dbh_cm</th>\n",
       "      <th>height_m</th>\n",
       "      <th>leaf_biomass_kgC</th>\n",
       "      <th>agwb_kgC</th>\n",
       "      <th>agb_kgC</th>\n",
       "      <th>crown_area_m2</th>\n",
       "      <th>source</th>\n",
       "    </tr>\n",
       "  </thead>\n",
       "  <tbody>\n",
       "    <tr>\n",
       "      <th>80266</th>\n",
       "      <td>Pinus ponderosa</td>\n",
       "      <td>1.0</td>\n",
       "      <td>1.6</td>\n",
       "      <td>None</td>\n",
       "      <td>None</td>\n",
       "      <td>None</td>\n",
       "      <td>0.636173</td>\n",
       "      <td>Tallo</td>\n",
       "    </tr>\n",
       "    <tr>\n",
       "      <th>80455</th>\n",
       "      <td>Pinus ponderosa</td>\n",
       "      <td>1.3</td>\n",
       "      <td>2.0</td>\n",
       "      <td>None</td>\n",
       "      <td>None</td>\n",
       "      <td>None</td>\n",
       "      <td>NaN</td>\n",
       "      <td>Tallo</td>\n",
       "    </tr>\n",
       "    <tr>\n",
       "      <th>80585</th>\n",
       "      <td>Pinus ponderosa</td>\n",
       "      <td>1.5</td>\n",
       "      <td>2.6</td>\n",
       "      <td>None</td>\n",
       "      <td>None</td>\n",
       "      <td>None</td>\n",
       "      <td>NaN</td>\n",
       "      <td>Tallo</td>\n",
       "    </tr>\n",
       "    <tr>\n",
       "      <th>80586</th>\n",
       "      <td>Pinus ponderosa</td>\n",
       "      <td>1.5</td>\n",
       "      <td>1.8</td>\n",
       "      <td>None</td>\n",
       "      <td>None</td>\n",
       "      <td>None</td>\n",
       "      <td>NaN</td>\n",
       "      <td>Tallo</td>\n",
       "    </tr>\n",
       "    <tr>\n",
       "      <th>80589</th>\n",
       "      <td>Pinus ponderosa</td>\n",
       "      <td>1.5</td>\n",
       "      <td>1.7</td>\n",
       "      <td>None</td>\n",
       "      <td>None</td>\n",
       "      <td>None</td>\n",
       "      <td>1.130973</td>\n",
       "      <td>Tallo</td>\n",
       "    </tr>\n",
       "  </tbody>\n",
       "</table>\n",
       "</div>"
      ],
      "text/plain": [
       "               species  dbh_cm  height_m leaf_biomass_kgC agwb_kgC agb_kgC  \\\n",
       "80266  Pinus ponderosa     1.0       1.6             None     None    None   \n",
       "80455  Pinus ponderosa     1.3       2.0             None     None    None   \n",
       "80585  Pinus ponderosa     1.5       2.6             None     None    None   \n",
       "80586  Pinus ponderosa     1.5       1.8             None     None    None   \n",
       "80589  Pinus ponderosa     1.5       1.7             None     None    None   \n",
       "\n",
       "       crown_area_m2 source  \n",
       "80266       0.636173  Tallo  \n",
       "80455            NaN  Tallo  \n",
       "80585            NaN  Tallo  \n",
       "80586            NaN  Tallo  \n",
       "80589       1.130973  Tallo  "
      ]
     },
     "execution_count": 81,
     "metadata": {},
     "output_type": "execute_result"
    }
   ],
   "source": [
    "tallo_df.head()"
   ]
  },
  {
   "cell_type": "markdown",
   "id": "548cfa17",
   "metadata": {},
   "source": [
    "## Join conifer allometry data"
   ]
  },
  {
   "cell_type": "code",
   "execution_count": 82,
   "id": "88718533",
   "metadata": {},
   "outputs": [
    {
     "name": "stdout",
     "output_type": "stream",
     "text": [
      "<class 'pandas.core.frame.DataFrame'>\n",
      "Index: 1606 entries, 80266 to 12276\n",
      "Data columns (total 8 columns):\n",
      " #   Column            Non-Null Count  Dtype  \n",
      "---  ------            --------------  -----  \n",
      " 0   species           1606 non-null   object \n",
      " 1   dbh_cm            1597 non-null   float64\n",
      " 2   height_m          1606 non-null   float64\n",
      " 3   leaf_biomass_kgC  154 non-null    float64\n",
      " 4   agwb_kgC          0 non-null      object \n",
      " 5   agb_kgC           0 non-null      object \n",
      " 6   crown_area_m2     893 non-null    float64\n",
      " 7   source            1606 non-null   object \n",
      "dtypes: float64(4), object(4)\n",
      "memory usage: 112.9+ KB\n"
     ]
    }
   ],
   "source": [
    "conifer_allometry_df = pd.concat([tallo_df,mcpherson_df,baad_df])\n",
    "conifer_allometry_df.info()\n",
    "\n",
    "#Pick up here with adding total above-ground biomass to the dataframe using the equations on Chojnacky\n",
    "\n",
    "# General plan forward is to give cedar the same allometry as pine, and then tweak fir to have slightly\n",
    "# more leaf biomass per unit of dbh (same ratio that polly used?)\n",
    "\n",
    "# Then consider giving fir a different crown area function too\n",
    "# See if cedar needs to have a different crown area function from pine too?"
   ]
  },
  {
   "cell_type": "markdown",
   "id": "5a0c0485",
   "metadata": {},
   "source": [
    "## Functions"
   ]
  },
  {
   "cell_type": "code",
   "execution_count": 83,
   "id": "811ab844",
   "metadata": {},
   "outputs": [],
   "source": [
    "#diamter to height\n",
    "def d2h_obrien(ds,p1,p2,dbh_maxh):\n",
    "    '''Input; dbh (cm)\n",
    "    Returns: height (m)'''\n",
    "    \n",
    "    h = []\n",
    "    for d in ds:\n",
    "        h.append(10.0**(math.log10(min(d,dbh_maxh))*p1+p2))\n",
    "    return(h)\n",
    "\n",
    "# diameter to max leaf biomass\n",
    "# why no carbon to leaf biomass multiplier here (not in the main fates code?)\n",
    "# https://github.com/NGEET/fates/blob/main/biogeochem/FatesAllometryMod.F90#L1403\n",
    "def d2blmax_salda(ds,p1,p2,p3,wood_density,dbh_maxh):\n",
    "    '''Input; dbh (cm)\n",
    "    Returns: plant leaf biomass (kg)'''\n",
    "    \n",
    "    blmax = []\n",
    "    \n",
    "    for d in ds:\n",
    "        if d < dbh_maxh:\n",
    "            blmax.append(p1 * d**p2 * wood_density**p3)\n",
    "        else:\n",
    "            blmax.append(p1 * dbh_maxh**p2 * wood_density**p3)\n",
    "    \n",
    "    return(blmax)\n",
    "\n",
    "#diameter and height to above-ground biomass (just structural and sapwood biomass)\n",
    "def dh2bagw_salda(p1, p2, p3, p4, allom_agb_frac,ds,heights,wood_density):\n",
    "    \n",
    "    '''Input; dbh (cm)\n",
    "    Returns: woody above-ground biomass (kg)'''\n",
    "    \n",
    "    bagw = []\n",
    "    \n",
    "    for d,h in zip(ds,heights):\n",
    "    \n",
    "        bagw.append(allom_agb_frac*p1*(h**p2)*(d**p3)*(wood_density**p4))\n",
    "    \n",
    "    return(bagw)\n",
    "\n",
    "#2-param power function for diameter (cm) to plant above-ground biomass (kgC)\n",
    "def d2bagw_2pwr(d,p1,p2,c2b):\n",
    "    bagw = []\n",
    "    for i in d:\n",
    "        bagw.append((p1 * i**p2)/c2b)\n",
    "    return bagw\n",
    "\n",
    "#This is a power function for leaf biomass from plant diameter\n",
    "def d2blmax_2pwr(d,p1,p2,c2b,dbh_maxh):\n",
    "    '''input dbh [cm]\n",
    "    output: plant leaf biomass [kg C]'''\n",
    "    blmax = []\n",
    "    for i in d:\n",
    "        blmax.append((p1*min(i,dbh_maxh)**p2) / c2b)   \n",
    "    return blmax\n",
    "\n",
    "def carea_2pwr(ds, p1, p2):\n",
    "    c = []\n",
    "    for d in ds:\n",
    "        c.append(p1 * d ** p2)\n",
    "    return c\n",
    "\n",
    "def d_to_crown_area_fates(ds,d2bl_p2,d2bl_ediff,spread,d2ca_max,d2ca_min, dbh_maxh):\n",
    "    \n",
    "    '''Input dbh (cm)\n",
    "    Output: crown area (m2)'''\n",
    "    \n",
    "    ca = []\n",
    "    cd = []\n",
    "    \n",
    "    for d in ds:\n",
    "        #from fates\n",
    "        \n",
    "        if d > dbh_maxh:\n",
    "            d = dbh_maxh\n",
    "        \n",
    "        crown_area_to_dbh_exponent = d2bl_p2 + d2bl_ediff\n",
    "        spreadterm = spread * d2ca_max + (1.0 - spread) * d2ca_min\n",
    "        tmp_ca = spreadterm * d ** crown_area_to_dbh_exponent\n",
    "        ca.append(tmp_ca)\n",
    "\n",
    "        #convert to crown diameter\n",
    "        cd.append(2 * math.sqrt(tmp_ca/math.pi))\n",
    "\n",
    "    return ca,cd\n",
    "\n",
    "def age_senescence(age, mort_r_age_senescence, mort_ip_age_senescence):\n",
    "    out = []\n",
    "    for i in age:\n",
    "        out.append(1.0 / (1.0 + math.exp(-1 * mort_r_age_senescence * (i - mort_ip_age_senescence))))\n",
    "    return out\n",
    "\n",
    "\n",
    "def size_senescence(size, mort_r_size_senescence, mort_ip_size_senescence):\n",
    "    out = []\n",
    "    for i in size:\n",
    "        out.append(1.0 / (1.0 + math.exp(-1 * mort_r_size_senescence * (i - mort_ip_size_senescence))))\n",
    "    return out\n",
    "\n",
    "def prep_data_for_curve_fit(df,sp,dbh_var,var):\n",
    "    df = df.loc[df['species'] == sp]\n",
    "    \n",
    "    if type(var) == list:\n",
    "        var.append(dbh_var) \n",
    "        df = df[var].dropna()\n",
    "    else:\n",
    "        df = df[[dbh_var,var]].dropna()\n",
    "    return df\n",
    "\n",
    "\n",
    "    \n",
    "def add_param_to_allometry_dict(fates_name,min_max_mean):\n",
    "    \n",
    "    allometry_dict[\"fates_name\"].append(fates_name)\n",
    "    allometry_dict[\"min_value\"].append(min_max_mean[0])\n",
    "    allometry_dict[\"max_value\"].append(min_max_mean[1])\n",
    "    allometry_dict[\"mean\"].append(min_max_mean[2])\n",
    "    \n",
    "    \n",
    "# This function gets the optimal parameter value from the curve fit function and\n",
    "# also returns the min and max values for the parameter (+- 1 SD of error)\n",
    "def getMeanMinMaxofParam(param):\n",
    "    sd_of_param = np.sqrt(np.diag(pcov))[param]\n",
    "    mean_value = popt[param]\n",
    "    min_value = popt[param] - sd_of_param\n",
    "    max_value = popt[param] + sd_of_param\n",
    "    return(np.array([min_value, max_value, mean_value]))\n",
    "\n",
    "def convert_to_fates_units(trait_name,input_units,input_value):\n",
    "\n",
    "    \n",
    "    if (\"SLA\" in trait_name) | (\"Specific leaf area\" in trait_name) and input_units == \"mm2 mg-1\":  \n",
    "        output_value = input_value * m2_per_mm2 * mg_per_g * g_biomass_per_g_C\n",
    "        return output_value\n",
    "\n",
    "    elif \"Leaf nitrogen\" in trait_name and input_units == \"mg/g\":\n",
    "        output_value = input_value * g_per_mg * g_biomass_per_g_C\n",
    "        return output_value\n",
    "\n",
    "    elif \"Stem specific density\" in trait_name and input_units == \"g/cm3\":\n",
    "        output_value = input_value\n",
    "        return output_value\n",
    "    \n",
    "    # Anaker conversions\n",
    "    elif trait_name == \"log(SLA cm2 g-1)\":\n",
    "        output_value = np.exp(input_value) * m2_per_cm2 * g_biomass_per_g_C\n",
    "        return output_value\n",
    "        \n",
    "    elif trait_name == 'log(wood density g ml-1)':\n",
    "        output_value = np.exp(input_value)\n",
    "        return output_value\n",
    "        \n",
    "    elif trait_name == 'log(N %)':\n",
    "        output_value = np.exp(input_value) * 1e-2 * g_biomass_per_g_C\n",
    "        return output_value\n",
    "    \n",
    "    #Jepson leaf N\n",
    "    elif trait_name == \"Leaf Nmass\":\n",
    "    \n",
    "        # muliplying by 1e-2 is to reverse the \"per cent\"  \n",
    "        output_value = input_value * 1e-2 * g_biomass_per_g_C\n",
    "        return output_value\n",
    "    \n",
    "    elif \"Wood density\" in trait_name:\n",
    "        output_value = input_value\n",
    "        return output_value\n",
    "    \n",
    "    elif trait_name == \"Leaf area to sapwood area\" and input_units == \"mm2 mm-2\":\n",
    "        output_value = input_value * 1e-4\n",
    "        return output_value\n",
    "    \n",
    "    elif \"Vcmax\" in trait_name and input_units == \"micro mol m-2 s-1\":\n",
    "        output_value = input_value\n",
    "        return output_value\n",
    "    \n",
    "    else:\n",
    "        #print(\"No unit conversion known for:\", trait_name)\n",
    "        return None\n",
    "    \n",
    "def convert_to_fates_param_name(input_trait_name):\n",
    "    if (\"SLA\" in input_trait_name) | ('Specific leaf area' in input_trait_name):\n",
    "        return \"fates_leaf_slatop\"\n",
    "    \n",
    "    elif (\"wood density\" in input_trait_name) |  (\"Wood density\" in input_trait_name):\n",
    "        return \"fates_wood_density\"\n",
    "    \n",
    "    elif (\"N %\" in input_trait_name) | (\"Leaf Nmass\" in input_trait_name):\n",
    "        return \"fates_stoich_nitr\"\n",
    "    \n",
    "    elif \"Leaf nitrogen (N) content per leaf dry mass\" in input_trait_name:\n",
    "        return \"fates_stoich_nitr\"\n",
    "    \n",
    "    elif \"Leaf area to sapwood area\" in input_trait_name:\n",
    "        return \"fates_allom_la_per_sa_int\"\n",
    "    \n",
    "    elif \"Vcmax\" in input_trait_name:\n",
    "        return \"fates_leaf_vcmax25top\"\n",
    "    \n",
    "    else:\n",
    "        return None\n",
    "    \n",
    "def get_sources(df,variable):\n",
    "    return df.loc[df.fates_name == variable].source.unique()\n",
    "\n",
    "def get_range_data(df,subset_name):\n",
    "\n",
    "    summary_stats = df.groupby('fates_name')['fates_value'].agg(\n",
    "        min_value='min',\n",
    "        max_value='max',\n",
    "        mean='mean',\n",
    "        median='median',\n",
    "        sample_size='size'\n",
    "    )\n",
    "\n",
    "    summary_stats['subset_name'] = subset_name\n",
    "    \n",
    "    return summary_stats\n",
    "\n",
    "#def check_vai_max(dbh,sai_scaler,sla,d2bl1):\n",
    "    "
   ]
  },
  {
   "cell_type": "markdown",
   "id": "9734ebc2",
   "metadata": {},
   "source": [
    "## Import Polly's parameters"
   ]
  },
  {
   "cell_type": "code",
   "execution_count": 84,
   "id": "95940c76",
   "metadata": {},
   "outputs": [],
   "source": [
    "#Import polly's parameters\n",
    "polly_allom = pd.read_csv(pollys_allom_params)\n",
    "\n",
    "#Put them in a dictionary for easier access\n",
    "pollys_params = [{},{},{}]\n",
    "for pft in range(0,3):\n",
    "    for index, row in polly_allom.iterrows():\n",
    "        pollys_params[pft][row['param']] = row[pft+1]"
   ]
  },
  {
   "cell_type": "markdown",
   "id": "bc983bb5",
   "metadata": {},
   "source": [
    "## Set up dictionary to store allometry param values"
   ]
  },
  {
   "cell_type": "code",
   "execution_count": 85,
   "id": "d82714a1",
   "metadata": {},
   "outputs": [],
   "source": [
    "allometry_dict = {}\n",
    "\n",
    "for i in ['fates_name','min_value','max_value','mean']:\n",
    "    allometry_dict[i] = []\n",
    "    \n",
    "# diameters [cm] to plot allom functions against\n",
    "diams = list(range(1,100))"
   ]
  },
  {
   "cell_type": "markdown",
   "id": "fc19c7f3",
   "metadata": {},
   "source": [
    "## Diameter to height"
   ]
  },
  {
   "cell_type": "code",
   "execution_count": 86,
   "id": "897a1473",
   "metadata": {},
   "outputs": [
    {
     "name": "stdout",
     "output_type": "stream",
     "text": [
      "<class 'pandas.core.frame.DataFrame'>\n",
      "Index: 263 entries, 3477 to 12276\n",
      "Data columns (total 2 columns):\n",
      " #   Column    Non-Null Count  Dtype  \n",
      "---  ------    --------------  -----  \n",
      " 0   dbh_cm    263 non-null    float64\n",
      " 1   height_m  263 non-null    float64\n",
      "dtypes: float64(2)\n",
      "memory usage: 6.2 KB\n"
     ]
    }
   ],
   "source": [
    "baad_pipo_height = prep_data_for_curve_fit(baad_df,\"Pinus ponderosa\",\"dbh_cm\",\"height_m\")\n",
    "baad_pipo_height.info()\n",
    "# dbh = utdb.loc[utdb['SpCode'] == \"CADE2\"][\"DBH (cm)\"]\n",
    "# h = utdb.loc[utdb['SpCode'] == \"CADE2\"]['TreeHt (m)']\n",
    "# plt.scatter(dbh,h)"
   ]
  },
  {
   "cell_type": "markdown",
   "id": "1ed41aab",
   "metadata": {},
   "source": [
    "### Find optimal params"
   ]
  },
  {
   "cell_type": "code",
   "execution_count": 87,
   "id": "2b3f10e9",
   "metadata": {},
   "outputs": [
    {
     "name": "stdout",
     "output_type": "stream",
     "text": [
      "fates_allom_d2h1 [0.80899151 0.85371989 0.8313557 ]\n",
      "fates_allom_d2h2 [-0.02815632  0.04455624  0.00819996]\n"
     ]
    }
   ],
   "source": [
    "#For PIPO\n",
    "popt, pcov = curve_fit(lambda d, p1, p2: d2h_obrien(d, p1, p2, dbh_maxh=80),\n",
    "                       xdata=list(baad_pipo_height['dbh_cm']), ydata=list(baad_pipo_height['height_m']))\n",
    "\n",
    "fates_allom_d2h1 = getMeanMinMaxofParam(param = 0)\n",
    "print(\"fates_allom_d2h1\",fates_allom_d2h1)\n",
    "fates_allom_d2h2 = getMeanMinMaxofParam(param = 1)\n",
    "print(\"fates_allom_d2h2\",fates_allom_d2h2)\n",
    "\n",
    "# Add param\n",
    "# Think about how to set this up for multi-pft\n",
    "add_param_to_allometry_dict(\"fates_allom_d2h1\",fates_allom_d2h1)\n",
    "add_param_to_allometry_dict(\"fates_allom_d2h2\",fates_allom_d2h2)\n",
    "\n",
    "\n",
    "#Other pfts"
   ]
  },
  {
   "cell_type": "markdown",
   "id": "7066951d",
   "metadata": {},
   "source": [
    "### Visualize d2h params"
   ]
  },
  {
   "cell_type": "code",
   "execution_count": 88,
   "id": "2aa5bf88",
   "metadata": {},
   "outputs": [
    {
     "data": {
      "image/png": "[encoded data removed]",
      "text/plain": [
       "<Figure size 640x480 with 1 Axes>"
      ]
     },
     "metadata": {},
     "output_type": "display_data"
    }
   ],
   "source": [
    "#optimal min\n",
    "h_opt = d2h_obrien(ds = diams,\n",
    "                            p1 = fates_allom_d2h1[0],\n",
    "                            p2 = fates_allom_d2h2[0],\n",
    "                            dbh_maxh = 80)\n",
    "\n",
    "plt.plot(diams, h_opt, label = \"opt-min\",color = \"red\", lw = 2)\n",
    "\n",
    "#optimal max\n",
    "h_opt = d2h_obrien(ds = diams,\n",
    "                            p1 = fates_allom_d2h1[1],\n",
    "                            p2 = fates_allom_d2h2[1],\n",
    "                            dbh_maxh = 80)\n",
    "\n",
    "plt.plot(diams, h_opt, label = \"opt-max\",color = \"blue\", lw = 2)\n",
    "\n",
    "\n",
    "#Polly's\n",
    "h_polly = d2h_obrien(ds = diams,\n",
    "                            p1 = pollys_params[0][\"fates_allom_d2h1\"],\n",
    "                            p2 = pollys_params[0][\"fates_allom_d2h2\"],\n",
    "                            dbh_maxh = 60)\n",
    "plt.plot(diams, h_polly, label = \"polly\",color = \"black\", lw = 2)\n",
    "\n",
    "#Baad data\n",
    "plt.scatter(baad_pipo_height.dbh_cm, baad_pipo_height['height_m'], label = \"Baad data\",color = \"black\", marker = \"s\", alpha = 0.3)\n",
    "\n",
    "plt.xlabel('dbh [cm]')\n",
    "plt.ylabel('height [m]')\n",
    "plt.legend()\n",
    "plt.show()"
   ]
  },
  {
   "cell_type": "markdown",
   "id": "f3fbaa6c",
   "metadata": {},
   "source": [
    "## Diameter to leaf biomass\n",
    "\n",
    "Underestimates leaf biomass of large trees"
   ]
  },
  {
   "cell_type": "code",
   "execution_count": 89,
   "id": "b571e874",
   "metadata": {},
   "outputs": [
    {
     "name": "stdout",
     "output_type": "stream",
     "text": [
      "<class 'pandas.core.frame.DataFrame'>\n",
      "Index: 272 entries, 3428 to 12276\n",
      "Data columns (total 8 columns):\n",
      " #   Column            Non-Null Count  Dtype  \n",
      "---  ------            --------------  -----  \n",
      " 0   species           272 non-null    object \n",
      " 1   dbh_cm            263 non-null    float64\n",
      " 2   height_m          272 non-null    float64\n",
      " 3   leaf_biomass_kgC  154 non-null    float64\n",
      " 4   agwb_kgC          0 non-null      object \n",
      " 5   agb_kgC           0 non-null      object \n",
      " 6   crown_area_m2     125 non-null    float64\n",
      " 7   source            272 non-null    object \n",
      "dtypes: float64(4), object(4)\n",
      "memory usage: 19.1+ KB\n"
     ]
    }
   ],
   "source": [
    "baad_df.info()"
   ]
  },
  {
   "cell_type": "code",
   "execution_count": 90,
   "id": "e939d0ba",
   "metadata": {},
   "outputs": [],
   "source": [
    "baad_pipo_leafbio = prep_data_for_curve_fit(baad_df,\"Pinus ponderosa\",\"dbh_cm\",\"leaf_biomass_kgC\")"
   ]
  },
  {
   "cell_type": "markdown",
   "id": "1af7a952",
   "metadata": {},
   "source": [
    "### Find optimal params"
   ]
  },
  {
   "cell_type": "code",
   "execution_count": 91,
   "id": "6d8cf3be",
   "metadata": {},
   "outputs": [
    {
     "name": "stdout",
     "output_type": "stream",
     "text": [
      "fates_allom_d2bl1 [-6.33725277e+05  6.33725469e+05  9.63471087e-02]\n",
      "fates_allom_d2bl2 [1.94904159 2.49297415 2.22100787]\n",
      "fates_allom_d2bl3 [-8.14617972e+06  8.14618683e+06  3.55591634e+00]\n"
     ]
    }
   ],
   "source": [
    "popt, pcov = curve_fit(lambda d, p1, p2, p3: d2blmax_salda(d, p1, p2, p3, wood_density= 0.446, dbh_maxh=60),\n",
    "                       xdata=list(baad_pipo_leafbio['dbh_cm']), ydata=list(baad_pipo_leafbio[\"leaf_biomass_kgC\"]))\n",
    "\n",
    "\n",
    "# Issue grabbing the se of the parameters here\n",
    "fates_allom_d2bl1 = getMeanMinMaxofParam(param = 0)\n",
    "print(\"fates_allom_d2bl1\",fates_allom_d2bl1)\n",
    "\n",
    "fates_allom_d2bl2 = getMeanMinMaxofParam(param = 1)\n",
    "print(\"fates_allom_d2bl2\",fates_allom_d2bl2)\n",
    "\n",
    "fates_allom_d2bl3 = getMeanMinMaxofParam(param = 2)\n",
    "print(\"fates_allom_d2bl3\",fates_allom_d2bl3)\n",
    "\n",
    "add_param_to_allometry_dict(\"fates_allom_d2bl1\",fates_allom_d2bl1)\n",
    "add_param_to_allometry_dict(\"fates_allom_d2bl2\",fates_allom_d2bl2)\n",
    "add_param_to_allometry_dict(\"fates_allom_d2bl3\",fates_allom_d2bl3)"
   ]
  },
  {
   "cell_type": "code",
   "execution_count": 92,
   "id": "3c40ca42",
   "metadata": {},
   "outputs": [
    {
     "name": "stdout",
     "output_type": "stream",
     "text": [
      "Pollys d2bl2 1.5\n"
     ]
    }
   ],
   "source": [
    "print(\"Pollys d2bl2\",pollys_params[0][\"fates_allom_d2bl2\"])"
   ]
  },
  {
   "cell_type": "markdown",
   "id": "baff4e17",
   "metadata": {},
   "source": [
    "### Visualize leaf biomass allometry"
   ]
  },
  {
   "cell_type": "code",
   "execution_count": 93,
   "id": "15becf66",
   "metadata": {
    "code_folding": []
   },
   "outputs": [
    {
     "data": {
      "image/png": "[encoded data removed]",
      "text/plain": [
       "<Figure size 640x480 with 1 Axes>"
      ]
     },
     "metadata": {},
     "output_type": "display_data"
    }
   ],
   "source": [
    "#Opt\n",
    "blmax_opt = d2blmax_salda(ds = diams,\n",
    "                            p1 = fates_allom_d2bl1[2],\n",
    "                            p2 = fates_allom_d2bl2[2],\n",
    "                            p3 = fates_allom_d2bl3[2],\n",
    "                            wood_density = 0.446,\n",
    "                            dbh_maxh = 60)\n",
    "plt.plot(diams, blmax_opt, label = \"blmax_opt\",color = \"red\", lw = 2)\n",
    "\n",
    "\n",
    "#Polly\n",
    "blmax_polly = d2blmax_salda(ds = diams,\n",
    "                            p1 = pollys_params[0][\"fates_allom_d2bl1\"],\n",
    "                            p2 = pollys_params[0][\"fates_allom_d2bl2\"],\n",
    "                            p3 = pollys_params[0][\"fates_allom_d2bl3\"],\n",
    "                            wood_density = 0.446,\n",
    "                            dbh_maxh = 60)\n",
    "plt.plot(diams, blmax_polly, label = \"blmax_polly\",color = \"black\", lw = 2)\n",
    "\n",
    "\n",
    "\n",
    "#Baad data\n",
    "plt.scatter(baad_pipo_leafbio.dbh_cm, baad_pipo_leafbio[\"leaf_biomass_kgC\"], label = \"Baad data\",color = \"black\", marker = \"s\", alpha = 0.3)\n",
    "\n",
    "plt.xlabel('dbh [cm]')\n",
    "plt.ylabel('leaf biomass [kg]')\n",
    "plt.legend()\n",
    "plt.show()"
   ]
  },
  {
   "cell_type": "markdown",
   "id": "bf3762b9",
   "metadata": {},
   "source": [
    "## Diameter to crown area"
   ]
  },
  {
   "cell_type": "markdown",
   "id": "0eab1a21",
   "metadata": {},
   "source": [
    "### Find optimal params"
   ]
  },
  {
   "cell_type": "code",
   "execution_count": 101,
   "id": "c85f41c5",
   "metadata": {},
   "outputs": [
    {
     "name": "stdout",
     "output_type": "stream",
     "text": [
      "d2ca_base (derived from curve fit): [0.02887947 0.0828723  0.05587589]\n",
      "d2ca_expo (derived from curve fit): [1.49537907 1.73069078 1.61303492]\n",
      "fates_allom_d2ca_coefficient_min [0.02887947 0.0828723  0.05587589]\n",
      "fates_allom_d2ca_coefficient_max [0.02887947 0.0828723  0.05587589]\n",
      "fates_allom_d2bl2 [1.94904159 2.49297415 2.22100787]\n",
      "fates_allom_blca_expnt_diff [-0.45366252 -0.76228337 -0.60797295]\n"
     ]
    }
   ],
   "source": [
    "allow_spread = False\n",
    "\n",
    "baad_pipo_ca = prep_data_for_curve_fit(baad_df,\"Pinus ponderosa\",\"dbh_cm\",\"crown_area_m2\")\n",
    "\n",
    "popt, pcov = curve_fit(lambda d, p1, p2: carea_2pwr(d, p1, p2),\n",
    "                       xdata=list(baad_pipo_ca['dbh_cm']), ydata=list(baad_pipo_ca[\"crown_area_m2\"]))\n",
    "\n",
    "# p1 is the base of the 2 parameter power function.\n",
    "# In the FATES code it is called the 'spread term'\n",
    "# The spread term is actually a dynamic variable based on the\n",
    "# site-level stand density and two parameters (fates_allom_d2ca_coefficient_max and\n",
    "# fates_allom_d2ca_coefficient_in) that determine the amount\n",
    "# of elasticity the crowns should have to respond to the stand density.\n",
    "# Caution: fates_allom_d2ca_coefficient_(min/max) both affect the ultimate\n",
    "# crown area\n",
    "\n",
    "d2ca_base = getMeanMinMaxofParam(param = 0)\n",
    "d2ca_expo = getMeanMinMaxofParam(param = 1)\n",
    "\n",
    "print(\"d2ca_base (derived from curve fit):\", d2ca_base)\n",
    "print(\"d2ca_expo (derived from curve fit):\",d2ca_expo)\n",
    "\n",
    "if allow_spread == True:\n",
    "    # Use variation in the estimate of the base parameter for fates_allom_d2ca_coefficient_(min/max)\n",
    "    fates_allom_d2ca_coefficient_min = [d2ca_base[0] * 0.85, d2ca_base[0] * 1.15, d2ca_base[0]]\n",
    "    fates_allom_d2ca_coefficient_max = [d2ca_base[1] * 0.85, d2ca_base[1] * 1.15, d2ca_base[1]]\n",
    "\n",
    "else:\n",
    "    fates_allom_d2ca_coefficient_min = fates_allom_d2ca_coefficient_max = d2ca_base\n",
    "\n",
    "print(\"fates_allom_d2ca_coefficient_min\",fates_allom_d2ca_coefficient_min)\n",
    "print(\"fates_allom_d2ca_coefficient_max\",fates_allom_d2ca_coefficient_max)\n",
    "\n",
    "\n",
    "# The exponent in FATES is calculated by adding and \"exponent diff param\" to fates_allom_d2bl2\n",
    "\n",
    "print(\"fates_allom_d2bl2\",fates_allom_d2bl2)\n",
    "fates_allom_blca_expnt_diff = d2ca_expo - fates_allom_d2bl2\n",
    "print(\"fates_allom_blca_expnt_diff\",fates_allom_blca_expnt_diff)\n",
    "\n",
    "\n",
    "add_param_to_allometry_dict(\"fates_allom_d2ca_coefficient_min\",fates_allom_d2ca_coefficient_min)\n",
    "add_param_to_allometry_dict(\"fates_allom_d2ca_coefficient_max\",fates_allom_d2ca_coefficient_max)\n",
    "add_param_to_allometry_dict(\"fates_allom_blca_expnt_diff\",fates_allom_blca_expnt_diff)"
   ]
  },
  {
   "cell_type": "markdown",
   "id": "9bbbccb1",
   "metadata": {},
   "source": [
    "[Gill et al., 2000 model](https://www.sciencedirect.com/science/article/pii/S0378112799001139?via%3Dihub#aep-section-id11)\n",
    "\n"
   ]
  },
  {
   "cell_type": "code",
   "execution_count": 95,
   "id": "f6c217d5",
   "metadata": {},
   "outputs": [],
   "source": [
    "def Gill_2000(ds,b0,b1):\n",
    "    \n",
    "    r = []\n",
    "    ca = []\n",
    "    \n",
    "    for d in ds:\n",
    "        radius_tmp = b0 + b1 * d\n",
    "        r.append(radius_tmp)\n",
    "        ca_tmp = math.pi * radius_tmp **2\n",
    "        ca.append(ca_tmp)\n",
    "    return r,ca"
   ]
  },
  {
   "cell_type": "markdown",
   "id": "5cbe3e9a",
   "metadata": {},
   "source": [
    "### Visualize diameter to crown area"
   ]
  },
  {
   "cell_type": "code",
   "execution_count": 96,
   "id": "ec26c90f",
   "metadata": {},
   "outputs": [
    {
     "data": {
      "image/png": "[encoded data removed]",
      "text/plain": [
       "<Figure size 640x480 with 1 Axes>"
      ]
     },
     "metadata": {},
     "output_type": "display_data"
    }
   ],
   "source": [
    "#Polly's params\n",
    "ca,cd = d_to_crown_area_fates(ds=diams,\n",
    "                                         d2bl_p2=pollys_params[0]['fates_allom_d2bl2'],\n",
    "                                         d2bl_ediff=pollys_params[0][\"fates_allom_blca_expnt_diff\"],\n",
    "                                         d2ca_max=pollys_params[0][\"fates_allom_d2ca_coefficient_max\"],\n",
    "                                         d2ca_min=pollys_params[0][\"fates_allom_d2ca_coefficient_min\"],\n",
    "                                         spread=0.5,dbh_maxh=60)\n",
    "plt.plot(diams, ca, label = \"polly-PIPO\",color = pft_colors[0], lw = 2)\n",
    "\n",
    "#Optimized 2 param pwr function\n",
    "# Simple crown area model with fitted base and exponent \n",
    "crown_area_model = carea_2pwr(diams, d2ca_base[2], d2ca_expo[2])\n",
    "plt.plot(diams, crown_area_model,label = \"PIPO-2pwr-opt\",color = \"blue\", lw = 2)\n",
    "\n",
    "# Optimized fates params\n",
    "ca,cd = d_to_crown_area_fates(ds=diams,\n",
    "                              d2bl_p2=fates_allom_d2bl2[2],\n",
    "                              d2bl_ediff=fates_allom_blca_expnt_diff[2],\n",
    "                              d2ca_max=fates_allom_d2ca_coefficient_max[2],\n",
    "                              d2ca_min=fates_allom_d2ca_coefficient_min[2],\n",
    "                              spread=0.5, dbh_maxh=60)\n",
    "plt.plot(diams, ca, label = \"fates-opt-PIPO\",color = \"red\", lw = 2, linestyle = \"--\")\n",
    "\n",
    "#Gill et al., 2000\n",
    "r,ca_gill = Gill_2000(diams,b0=0.9488,b1=0.0356)\n",
    "plt.plot(diams, ca_gill, label = \"Gill model\",color = \"black\", lw = 2)\n",
    "\n",
    "\n",
    "#Baad data\n",
    "plt.scatter(baad_pipo_ca['dbh_cm'], baad_pipo_ca['crown_area_m2'], label = \"Baad data\",\n",
    "            color = \"green\", marker = \"s\", alpha=0.3)\n",
    "\n",
    "plt.xlabel('dbh [cm]')\n",
    "plt.ylabel('crown area [m2]')\n",
    "plt.legend()\n",
    "plt.show()"
   ]
  },
  {
   "cell_type": "markdown",
   "id": "69bd3176",
   "metadata": {},
   "source": [
    "## Diameter to AGWB"
   ]
  },
  {
   "cell_type": "markdown",
   "id": "f246ac34",
   "metadata": {},
   "source": [
    "Here we use the models from Chojnacky et al., 2014 to evaluate Polly's parameters for AGWB"
   ]
  },
  {
   "cell_type": "code",
   "execution_count": 97,
   "id": "1db0eed3",
   "metadata": {},
   "outputs": [],
   "source": [
    "def Chojnacky_d2_AGB(ds,b0,b1):\n",
    "    '''input: diameters [cm],\n",
    "    output: AGB [kg]'''\n",
    "    \n",
    "    agb = []\n",
    "    for i,d in enumerate(ds):\n",
    "        \n",
    "        log_agb = b0 + b1 * np.log(d)\n",
    "        agbh_temp = np.exp(log_agb)\n",
    "        agb.append(agbh_temp)\n",
    "    return agb"
   ]
  },
  {
   "cell_type": "markdown",
   "id": "42d7fd16",
   "metadata": {},
   "source": [
    "### Visualize total AGB"
   ]
  },
  {
   "cell_type": "code",
   "execution_count": 98,
   "id": "297f7231",
   "metadata": {},
   "outputs": [
    {
     "data": {
      "image/png": "[encoded data removed]",
      "text/plain": [
       "<Figure size 640x480 with 1 Axes>"
      ]
     },
     "metadata": {},
     "output_type": "display_data"
    }
   ],
   "source": [
    "agwb_polly = dh2bagw_salda(p1 = pollys_params[0][\"fates_allom_agb1\"],\n",
    "              p2 = pollys_params[0][\"fates_allom_agb2\"],\n",
    "              p3 = pollys_params[0][\"fates_allom_agb3\"],\n",
    "              p4 = pollys_params[0][\"fates_allom_agb4\"],\n",
    "              allom_agb_frac=0.6,\n",
    "              ds=diams,\n",
    "              heights=h_polly,\n",
    "              wood_density=0.446)\n",
    "\n",
    "agb_polly = np.array(agwb_polly) + np.array(blmax_polly)\n",
    "plt.plot(diams, agb_polly, label = \"polly\",color = \"black\", lw = 2)\n",
    "\n",
    "agb_chojnacky = Chojnacky_d2_AGB(ds = diams,b0 = -2.6177,b1 = 2.4638)\n",
    "\n",
    "plt.xlabel('dbh [cm]')\n",
    "plt.ylabel('AGB [kg]')\n",
    "plt.plot(diams, agb_chojnacky, label = \"chojnacky\",color = \"blue\", lw = 2)\n",
    "plt.legend()\n",
    "plt.show()"
   ]
  },
  {
   "cell_type": "markdown",
   "id": "c90b6fab",
   "metadata": {},
   "source": [
    "## Write out file"
   ]
  },
  {
   "cell_type": "code",
   "execution_count": 103,
   "id": "d5ac39c7",
   "metadata": {},
   "outputs": [],
   "source": [
    "allometry_range_df = pd.DataFrame.from_dict(allometry_dict)\n",
    "\n",
    "if write_to_csv == True:\n",
    "\n",
    "    now = datetime.now()\n",
    "    dt_string = now.strftime(\"%m-%d-%Y-%H-%M-%S\")\n",
    "    file_path = \"pine_param_ranges_data_derived_\" + dt_string + \".csv\"\n",
    "    allometry_range_df.to_csv(file_path, index=False)"
   ]
  },
  {
   "cell_type": "code",
   "execution_count": 104,
   "id": "9cd6a794",
   "metadata": {},
   "outputs": [
    {
     "data": {
      "text/html": [
       "<div>\n",
       "<style scoped>\n",
       "    .dataframe tbody tr th:only-of-type {\n",
       "        vertical-align: middle;\n",
       "    }\n",
       "\n",
       "    .dataframe tbody tr th {\n",
       "        vertical-align: top;\n",
       "    }\n",
       "\n",
       "    .dataframe thead th {\n",
       "        text-align: right;\n",
       "    }\n",
       "</style>\n",
       "<table border=\"1\" class=\"dataframe\">\n",
       "  <thead>\n",
       "    <tr style=\"text-align: right;\">\n",
       "      <th></th>\n",
       "      <th>fates_name</th>\n",
       "      <th>min_value</th>\n",
       "      <th>max_value</th>\n",
       "      <th>mean</th>\n",
       "    </tr>\n",
       "  </thead>\n",
       "  <tbody>\n",
       "    <tr>\n",
       "      <th>0</th>\n",
       "      <td>fates_allom_d2h1</td>\n",
       "      <td>8.089915e-01</td>\n",
       "      <td>8.537199e-01</td>\n",
       "      <td>0.831356</td>\n",
       "    </tr>\n",
       "    <tr>\n",
       "      <th>1</th>\n",
       "      <td>fates_allom_d2h2</td>\n",
       "      <td>-2.815632e-02</td>\n",
       "      <td>4.455624e-02</td>\n",
       "      <td>0.008200</td>\n",
       "    </tr>\n",
       "    <tr>\n",
       "      <th>2</th>\n",
       "      <td>fates_allom_d2bl1</td>\n",
       "      <td>-6.337253e+05</td>\n",
       "      <td>6.337255e+05</td>\n",
       "      <td>0.096347</td>\n",
       "    </tr>\n",
       "    <tr>\n",
       "      <th>3</th>\n",
       "      <td>fates_allom_d2bl2</td>\n",
       "      <td>1.949042e+00</td>\n",
       "      <td>2.492974e+00</td>\n",
       "      <td>2.221008</td>\n",
       "    </tr>\n",
       "    <tr>\n",
       "      <th>4</th>\n",
       "      <td>fates_allom_d2bl3</td>\n",
       "      <td>-8.146180e+06</td>\n",
       "      <td>8.146187e+06</td>\n",
       "      <td>3.555916</td>\n",
       "    </tr>\n",
       "    <tr>\n",
       "      <th>5</th>\n",
       "      <td>fates_allom_d2ca_coefficient_min</td>\n",
       "      <td>2.887947e-02</td>\n",
       "      <td>8.287230e-02</td>\n",
       "      <td>0.055876</td>\n",
       "    </tr>\n",
       "    <tr>\n",
       "      <th>6</th>\n",
       "      <td>fates_allom_d2ca_coefficient_max</td>\n",
       "      <td>2.887947e-02</td>\n",
       "      <td>8.287230e-02</td>\n",
       "      <td>0.055876</td>\n",
       "    </tr>\n",
       "    <tr>\n",
       "      <th>7</th>\n",
       "      <td>fates_allom_blca_expnt_diff</td>\n",
       "      <td>-4.536625e-01</td>\n",
       "      <td>-7.622834e-01</td>\n",
       "      <td>-0.607973</td>\n",
       "    </tr>\n",
       "  </tbody>\n",
       "</table>\n",
       "</div>"
      ],
      "text/plain": [
       "                         fates_name     min_value     max_value      mean\n",
       "0                  fates_allom_d2h1  8.089915e-01  8.537199e-01  0.831356\n",
       "1                  fates_allom_d2h2 -2.815632e-02  4.455624e-02  0.008200\n",
       "2                 fates_allom_d2bl1 -6.337253e+05  6.337255e+05  0.096347\n",
       "3                 fates_allom_d2bl2  1.949042e+00  2.492974e+00  2.221008\n",
       "4                 fates_allom_d2bl3 -8.146180e+06  8.146187e+06  3.555916\n",
       "5  fates_allom_d2ca_coefficient_min  2.887947e-02  8.287230e-02  0.055876\n",
       "6  fates_allom_d2ca_coefficient_max  2.887947e-02  8.287230e-02  0.055876\n",
       "7       fates_allom_blca_expnt_diff -4.536625e-01 -7.622834e-01 -0.607973"
      ]
     },
     "execution_count": 104,
     "metadata": {},
     "output_type": "execute_result"
    }
   ],
   "source": [
    "allometry_range_df"
   ]
  },
  {
   "cell_type": "markdown",
   "id": "8003a249",
   "metadata": {},
   "source": [
    "### Check range of possible tree vai's"
   ]
  },
  {
   "cell_type": "code",
   "execution_count": 133,
   "id": "d3a4b906",
   "metadata": {},
   "outputs": [],
   "source": [
    "PIPO_slatop = 0.00935078582102433 # m2 per g of C\n",
    "PIPO_slatop = 0.013 # m2 per g of C"
   ]
  },
  {
   "cell_type": "code",
   "execution_count": 140,
   "id": "548b698a",
   "metadata": {},
   "outputs": [
    {
     "name": "stdout",
     "output_type": "stream",
     "text": [
      "leaf biomass g [91977.29218063 91977.29218063 91977.29218063 91977.29218063\n",
      " 91977.29218063 91977.29218063 91977.29218063 91977.29218063\n",
      " 91977.29218063 91977.29218063]\n",
      "leaf_area [1195.70479835 1195.70479835 1195.70479835 1195.70479835 1195.70479835\n",
      " 1195.70479835 1195.70479835 1195.70479835 1195.70479835 1195.70479835]\n",
      "crown area [65.61075410243332, 65.61075410243332, 65.61075410243332, 65.61075410243332, 65.61075410243332, 65.61075410243332, 65.61075410243332, 65.61075410243332, 65.61075410243332, 65.61075410243332]\n",
      "tree vai [ 1.39641467  2.12829829  2.72327324  3.24377401  3.71508929  4.15058499\n",
      "  4.55838652  4.94388867  5.31089888  5.66222794  6.00002392  6.32597402\n",
      "  6.64143344  6.94751097  7.24512813  7.53506106  7.81797106  8.09442728\n",
      "  8.36492394  8.62989361  8.88971755  9.14473394  9.3952445   9.64151979\n",
      "  9.88380362 10.12231661 10.35725924 10.58881435 10.81714924 11.0424175\n",
      " 11.26476056 11.48430899 11.70118366 11.91549671 12.12735247 12.33684813\n",
      " 12.54407449 12.7491165  12.95205377 13.15296107 13.35190873 13.54896296\n",
      " 13.74418624 13.93763758 14.12937282 14.3194448  14.50790366 14.69479697\n",
      " 14.88016998 15.06406569 15.24652508 15.42758722 15.60728936 15.7856671\n",
      " 15.96275447 16.138584   16.31318686 16.48659291 16.65883077 16.82992793\n",
      " 16.99991075 17.1688046  17.33663384 17.50342193 17.66919144 17.83396413\n",
      " 17.99776096 18.16060215 18.3225072  18.48349494 18.64358358 18.80279069\n",
      " 18.96113327 19.11862775 19.27529006 19.4311356  19.58617929 19.7404356\n",
      " 19.89391853 20.04664169 20.04664169 20.04664169 20.04664169 20.04664169\n",
      " 20.04664169 20.04664169 20.04664169 20.04664169 20.04664169 20.04664169\n",
      " 20.04664169 20.04664169 20.04664169 20.04664169 20.04664169 20.04664169\n",
      " 20.04664169 20.04664169 20.04664169]\n"
     ]
    }
   ],
   "source": [
    "leaf_biomass = d2blmax_salda(ds = diams,\n",
    "                            p1 = fates_allom_d2bl1[2],\n",
    "                            p2 = fates_allom_d2bl2[2],\n",
    "                            p3 = fates_allom_d2bl3[2],\n",
    "                            wood_density = 0.446,\n",
    "                            dbh_maxh = 80)\n",
    "\n",
    "leaf_biomass_g = np.array(leaf_biomass) * 1000\n",
    "print(\"leaf biomass g\",leaf_biomass_g[-10:])\n",
    "\n",
    "leaf_area_m2 = leaf_biomass_g * PIPO_slatop\n",
    "print(\"leaf_area\",leaf_area_m2[-10:])\n",
    "\n",
    "# Optimized fates params\n",
    "ca,cd = d_to_crown_area_fates(ds=diams,\n",
    "                              d2bl_p2=fates_allom_d2bl2[2],\n",
    "                              d2bl_ediff=fates_allom_blca_expnt_diff[2],\n",
    "                              d2ca_max=fates_allom_d2ca_coefficient_max[2],\n",
    "                              d2ca_min=fates_allom_d2ca_coefficient_min[2],\n",
    "                              spread=0.5, dbh_maxh=80)\n",
    "\n",
    "print(\"crown area\",ca[-10:])\n",
    "\n",
    "tree_vai = (np.array(leaf_area_m2) / np.array(ca)) * 1.1\n",
    "print(\"tree vai\",tree_vai)"
   ]
  }
 ],
 "metadata": {
  "kernelspec": {
   "display_name": "Python [conda env:la-veg]",
   "language": "python",
   "name": "conda-env-la-veg-py"
  },
  "language_info": {
   "codemirror_mode": {
    "name": "ipython",
    "version": 3
   },
   "file_extension": ".py",
   "mimetype": "text/x-python",
   "name": "python",
   "nbconvert_exporter": "python",
   "pygments_lexer": "ipython3",
   "version": "3.10.12"
  },
  "toc": {
   "base_numbering": 1,
   "nav_menu": {},
   "number_sections": true,
   "sideBar": true,
   "skip_h1_title": true,
   "title_cell": "Table of Contents",
   "title_sidebar": "Contents",
   "toc_cell": false,
   "toc_position": {
    "height": "calc(100% - 180px)",
    "left": "10px",
    "top": "150px",
    "width": "303.264px"
   },
   "toc_section_display": true,
   "toc_window_display": true
  }
 },
 "nbformat": 4,
 "nbformat_minor": 5
}
