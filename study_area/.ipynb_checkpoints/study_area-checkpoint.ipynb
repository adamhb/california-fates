{
 "cells": [
  {
   "cell_type": "code",
   "execution_count": 1,
   "id": "436408fb",
   "metadata": {},
   "outputs": [],
   "source": [
    "import numpy as np\n",
    "import pandas as pd\n",
    "import rasterio\n",
    "import os\n",
    "import matplotlib.pyplot as plt\n",
    "from pyproj import Transformer"
   ]
  },
  {
   "cell_type": "code",
   "execution_count": 2,
   "id": "30690099",
   "metadata": {},
   "outputs": [],
   "source": [
    "path_to_bps_data = \"/home/adam/cloud/gdrive/postdoc/landfire_BPS_2020_102323\"\n",
    "path_to_bps_tiff = os.path.join(path_to_bps_data,\"BPS_codes_study_area_all_values.tif\")\n",
    "bps_codes = pd.read_csv('bps_codes.csv')"
   ]
  },
  {
   "cell_type": "markdown",
   "id": "9da66535",
   "metadata": {},
   "source": [
    "## Functions"
   ]
  },
  {
   "cell_type": "code",
   "execution_count": 4,
   "id": "f32131b1",
   "metadata": {},
   "outputs": [],
   "source": [
    "def create_raster_mask(input_raster_path,values_list,new_value,output_raster_path):\n",
    "\n",
    "    # Open the raster\n",
    "    with rasterio.open(input_raster_path) as src:\n",
    "        # Read the data\n",
    "        data = src.read(1)\n",
    "        data = data.astype(\"uint16\")\n",
    "\n",
    "        # Create a mask where values are in the list\n",
    "        mask = np.isin(data, values_list)\n",
    "\n",
    "        # Set cells in the mask to 1 and others to nodata\n",
    "        nodata = 9999\n",
    "        data[mask] = new_value\n",
    "        data[~mask] = nodata\n",
    "\n",
    "        # Save the modified data to a new raster file\n",
    "        with rasterio.open(output_raster_path, 'w', driver='GTiff', height=src.height, width=src.width,\n",
    "                           count=1, dtype=data.dtype, crs=src.crs, transform=src.transform, nodata=nodata) as dst:\n",
    "            dst.write(data, 1)\n",
    "\n",
    "        print(f\"Set values in {values_list} to {new_value} and saved to {output_raster_path}\")\n",
    "        \n",
    "def extract_value_at_lat_lon(raster_path, lat, lon, null_value):\n",
    "    \"\"\"Extract the closest non-null raster value at specific latitude and longitude after transforming to EPSG:5070.\"\"\"\n",
    "\n",
    "    # Transform lat, lon from EPSG:4326 (WGS 84) to EPSG:5070 (NAD83 / Conus Albers)\n",
    "    transformer = Transformer.from_crs(\"EPSG:4326\", \"EPSG:5070\")\n",
    "    lon_transformed, lat_transformed = transformer.transform(lat, lon)\n",
    "\n",
    "    with rasterio.open(raster_path) as src:\n",
    "        # Transform the transformed coordinates to row, col\n",
    "        row, col = src.index(lon_transformed, lat_transformed)\n",
    "        \n",
    "        # Start spiral search for the closest non-null value\n",
    "        directions = [(0,1), (1,0), (0,-1), (-1,0)]  # Right, Down, Left, Up\n",
    "        max_distance = max(src.height, src.width)  # Max search radius\n",
    "        for distance in range(1, max_distance):\n",
    "            for i in range(4):  # For each direction\n",
    "                for j in range(distance):  # Move 'distance' steps in that direction\n",
    "                    row_offset, col_offset = directions[i]\n",
    "                    new_row, new_col = row + row_offset * j, col + col_offset * j\n",
    "                    \n",
    "                    # Check if the new coordinates are within the raster bounds\n",
    "                    if 0 <= new_row < src.height and 0 <= new_col < src.width:\n",
    "                        value = src.read(1)[new_row, new_col]\n",
    "                        if value != null_value:  # Assuming np.nan represents the null value\n",
    "                            return value\n",
    "                # Rotate direction\n",
    "                directions = directions[1:] + directions[:1]\n",
    "        raise ValueError(\"Could not find a non-null value in the vicinity of the specified coordinates.\")"
   ]
  },
  {
   "cell_type": "markdown",
   "id": "34f57a32",
   "metadata": {},
   "source": [
    "## Get raster values for dry and moist MCF types"
   ]
  },
  {
   "cell_type": "code",
   "execution_count": 5,
   "id": "5b134484",
   "metadata": {},
   "outputs": [
    {
     "name": "stdout",
     "output_type": "stream",
     "text": [
      "moist MCF values: [549, 550, 552, 583, 585, 762, 763, 765, 795, 796, 798, 932, 1052]\n",
      "dry MCF values: [551, 584, 764, 797, 911, 931]\n"
     ]
    }
   ],
   "source": [
    "bps_codes.head()\n",
    "\n",
    "# Define the BPS codes that Mallek et al., 2013 defined as part of the moist mixed conifer zone\n",
    "mmc_bps_codes = [10210,10280,10220]\n",
    "\n",
    "# Define the BPS codes that Mallek et al., 2013 defined as part of the dry mixed conifer zone\n",
    "dmc_bps_codes = [10270]\n",
    "\n",
    "# Print raster values for moist mixed conifer forest\n",
    "mmc_values = list(bps_codes.loc[bps_codes['BPS_CODE'].isin(mmc_bps_codes)]['VALUE'])\n",
    "dmc_values = list(bps_codes.loc[bps_codes['BPS_CODE'].isin(dmc_bps_codes)]['VALUE'])\n",
    "print(\"moist MCF values:\",mmc_values)\n",
    "print(\"dry MCF values:\",dmc_values)"
   ]
  },
  {
   "cell_type": "markdown",
   "id": "d833d8b4",
   "metadata": {},
   "source": [
    "## Write the new raster for dry and wet MCF"
   ]
  },
  {
   "cell_type": "code",
   "execution_count": 92,
   "id": "d183db60",
   "metadata": {},
   "outputs": [
    {
     "name": "stdout",
     "output_type": "stream",
     "text": [
      "Set values in [549, 550, 552, 583, 585, 762, 763, 765, 795, 796, 798, 932, 1052] to 2 and saved to /home/adam/cloud/gdrive/postdoc/landfire_BPS_2020_102323/mmc_raster.tif\n",
      "Set values in [551, 584, 764, 797, 911, 931] to 1 and saved to /home/adam/cloud/gdrive/postdoc/landfire_BPS_2020_102323/dmc_raster.tif\n"
     ]
    }
   ],
   "source": [
    "create_raster_mask(input_raster_path = path_to_bps_tiff,values_list = mmc_values,new_value = 2, output_raster_path=os.path.join(path_to_bps_data,\"mmc_raster.tif\"))\n",
    "create_raster_mask(input_raster_path = path_to_bps_tiff,values_list = dmc_values,new_value = 1, output_raster_path=os.path.join(path_to_bps_data,\"dmc_raster.tif\"))"
   ]
  },
  {
   "cell_type": "code",
   "execution_count": 5,
   "id": "1d8b39bd",
   "metadata": {},
   "outputs": [
    {
     "name": "stdout",
     "output_type": "stream",
     "text": [
      "Data type: uint16\n",
      "No data value: 9999.0\n"
     ]
    }
   ],
   "source": [
    "with rasterio.open('/home/adam/cloud/gdrive/postdoc/landfire_BPS_2020_102323/dmc_raster.tif') as src:\n",
    "    no_data_value = src.nodata\n",
    "    \n",
    "with rasterio.open('/home/adam/cloud/gdrive/postdoc/landfire_BPS_2020_102323/dmc_raster.tif') as src:\n",
    "    data_type = src.dtypes[0]  # assuming a single band; for multi-band rasters, this will give the data type of the first band\n",
    "\n",
    "print(\"Data type:\",data_type)\n",
    "\n",
    "print(\"No data value:\",no_data_value)"
   ]
  },
  {
   "cell_type": "code",
   "execution_count": 6,
   "id": "029cc44a",
   "metadata": {},
   "outputs": [],
   "source": [
    "# with rasterio.open('/home/adam/cloud/gdrive/postdoc/landfire_BPS_2020_102323/mmc_raster.tif') as src:\n",
    "#     # Read the raster data as a numpy array\n",
    "#     raster_data = src.read(1)  # Change the band number as needed\n",
    "\n",
    "# histogram, bins = np.histogram(raster_data, bins=5, range=(0, 3))  # Adjust the bins and range as needed\n",
    "\n",
    "# plt.hist(raster_data.ravel(), bins=5, range=(0, 5), color='blue', alpha=0.7)\n",
    "# plt.xlabel('Pixel Value')\n",
    "# plt.ylabel('Frequency')\n",
    "# plt.title('Histogram of Raster Values')\n",
    "# plt.show()"
   ]
  },
  {
   "cell_type": "markdown",
   "id": "d6daa5fc",
   "metadata": {},
   "source": [
    "## Merge the dry and mixed rasters"
   ]
  },
  {
   "cell_type": "code",
   "execution_count": 15,
   "id": "f8f5f67e",
   "metadata": {},
   "outputs": [
    {
     "name": "stdout",
     "output_type": "stream",
     "text": [
      "Merged raster saved to: /home/adam/cloud/gdrive/postdoc/landfire_BPS_2020_102323/mmc_and_dmc_bps.tif\n"
     ]
    }
   ],
   "source": [
    "import rasterio\n",
    "from rasterio.merge import merge\n",
    "\n",
    "# Define the filepaths for your input rasters and output raster\n",
    "raster1_path = os.path.join(path_to_bps_data,\"mmc_raster.tif\")\n",
    "raster2_path = os.path.join(path_to_bps_data,\"dmc_raster.tif\")\n",
    "merged_raster_path = os.path.join(path_to_bps_data,'mmc_and_dmc_bps.tif')\n",
    "\n",
    "# Open the rasters\n",
    "with rasterio.open(raster1_path) as src1, rasterio.open(raster2_path) as src2:\n",
    "    # Merge the two rasters\n",
    "    merged_data, merged_transform = merge([src1, src2])\n",
    "    \n",
    "    \n",
    "    # Write the merged raster to a new file\n",
    "    with rasterio.open(merged_raster_path, 'w', \n",
    "                       driver='GTiff',\n",
    "                       height=merged_data.shape[1],\n",
    "                       width=merged_data.shape[2],\n",
    "                       count=merged_data.shape[0],\n",
    "                       dtype=merged_data.dtype,\n",
    "                       crs=src1.crs,\n",
    "                       nodata=9999,\n",
    "                       transform=merged_transform) as dst:\n",
    "        dst.write(merged_data)\n",
    "\n",
    "print(f\"Merged raster saved to: {merged_raster_path}\")"
   ]
  },
  {
   "cell_type": "markdown",
   "id": "82147156",
   "metadata": {},
   "source": [
    "### See coordinate reference system and no data value for the merged raster"
   ]
  },
  {
   "cell_type": "code",
   "execution_count": 16,
   "id": "d86d8314",
   "metadata": {},
   "outputs": [
    {
     "name": "stdout",
     "output_type": "stream",
     "text": [
      "CRS: EPSG:5070\n"
     ]
    }
   ],
   "source": [
    "forest_type_path = '/home/adam/cloud/gdrive/postdoc/landfire_BPS_2020_102323/mmc_and_dmc_bps.tif'\n",
    "with rasterio.open(forest_type_path) as src:\n",
    "    crs = src.crs\n",
    "print(\"CRS:\",crs)\n",
    "\n",
    "with rasterio.open(forest_type_path) as src:\n",
    "    no_data_value = src.nodata\n",
    "print(no_data_value)"
   ]
  },
  {
   "cell_type": "markdown",
   "id": "4d6383cd",
   "metadata": {},
   "source": [
    "## Check if point is MMC or DMC"
   ]
  },
  {
   "cell_type": "code",
   "execution_count": 24,
   "id": "50893c26",
   "metadata": {},
   "outputs": [
    {
     "name": "stdout",
     "output_type": "stream",
     "text": [
      "2\n"
     ]
    }
   ],
   "source": [
    "raster_path = forest_type_path\n",
    "lat = 35.8846892836225  # Replace with your latitude\n",
    "lon = -118.595324757914 # Replace with your longitude\n",
    "\n",
    "\n",
    "\n",
    "value = extract_value_at_lat_lon(raster_path, lat, lon, null_value=9999)\n",
    "print(value)"
   ]
  },
  {
   "cell_type": "markdown",
   "id": "36dc6485",
   "metadata": {},
   "source": [
    "## Make polygon from the forest types"
   ]
  },
  {
   "cell_type": "code",
   "execution_count": null,
   "id": "9cd30e96",
   "metadata": {},
   "outputs": [],
   "source": [
    "# import rasterio\n",
    "# import numpy as np\n",
    "# from scipy.ndimage import label\n",
    "# from shapely.geometry import mapping, shape\n",
    "# from shapely.ops import cascaded_union\n",
    "# from skimage.measure import find_contours\n",
    "\n",
    "# def raster_to_polygon_contour(input_raster, mask_value, alpha=0.05):\n",
    "#     \"\"\"\n",
    "#     Create a polygon around the unmasked values in a raster.\n",
    "#     :param input_raster: Path to the input raster file.\n",
    "#     :param mask_value: Value used in the raster to represent masked data.\n",
    "#     :param alpha: Alpha level for the probability contour. 0.05 for 95% contour.\n",
    "#     :return: A Shapely polygon.\n",
    "#     \"\"\"\n",
    "    \n",
    "#     # Load the raster data\n",
    "#     with rasterio.open(input_raster) as src:\n",
    "#         data = src.read(1)\n",
    "#         transform = src.transform\n",
    "    \n",
    "#     # Create a binary array (1 for unmasked, 0 for masked)\n",
    "#     binary_array = (data != mask_value).astype(int)\n",
    "    \n",
    "#     # Find connected components\n",
    "#     labeled_array, num_features = label(binary_array)\n",
    "    \n",
    "#     polygons = []\n",
    "    \n",
    "#     # For each connected component, generate a polygon\n",
    "#     for feature_id in range(1, num_features + 1):\n",
    "        \n",
    "#         component_array = (labeled_array == feature_id).astype(float)\n",
    "        \n",
    "#         # Find contours at half intensity\n",
    "#         contours = find_contours(component_array, 0.5)\n",
    "        \n",
    "#         # Convert each contour to a polygon\n",
    "#         for contour in contours:\n",
    "#             # Transform from pixel coordinates to spatial coordinates\n",
    "#             spatial_contour = [~transform * (y, x) for x, y in contour]\n",
    "#             poly = shape({\n",
    "#                 \"type\": \"Polygon\",\n",
    "#                 \"coordinates\": [spatial_contour]\n",
    "#             })\n",
    "            \n",
    "#             polygons.append(poly)\n",
    "    \n",
    "#     # Merge all polygons\n",
    "#     merged_polygon = cascaded_union(polygons)\n",
    "    \n",
    "#     return merged_polygon\n",
    "\n",
    "# input_raster_path = 'path_to_your_raster.tif'\n",
    "# mask_value = 0  # Replace with your mask value\n",
    "\n",
    "# # Generate the polygon\n",
    "# polygon = raster_to_polygon_contour(input_raster_path, mask_value)\n",
    "\n",
    "# print(polygon)"
   ]
  }
 ],
 "metadata": {
  "kernelspec": {
   "display_name": "Python [conda env:la-veg]",
   "language": "python",
   "name": "conda-env-la-veg-py"
  },
  "language_info": {
   "codemirror_mode": {
    "name": "ipython",
    "version": 3
   },
   "file_extension": ".py",
   "mimetype": "text/x-python",
   "name": "python",
   "nbconvert_exporter": "python",
   "pygments_lexer": "ipython3",
   "version": "3.10.13"
  },
  "toc": {
   "base_numbering": 1,
   "nav_menu": {},
   "number_sections": true,
   "sideBar": true,
   "skip_h1_title": false,
   "title_cell": "Table of Contents",
   "title_sidebar": "Contents",
   "toc_cell": false,
   "toc_position": {},
   "toc_section_display": true,
   "toc_window_display": false
  }
 },
 "nbformat": 4,
 "nbformat_minor": 5
}
