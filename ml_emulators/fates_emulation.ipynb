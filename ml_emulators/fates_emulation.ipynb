{
 "cells": [
  {
   "cell_type": "markdown",
   "id": "051a67e8",
   "metadata": {},
   "source": [
    "# Emulate FATES\n",
    "\n",
    "This script trains ML models to predict coexistence (TRUE/FALSE), ShannonE, and the number of `FailedPFTs`. The coexistence model was pretty good with a custom threshold for TRUE (> 0.15). The FailedPFTs model can distinguish between simulations that will have 3 and 4 failing pfts from 1 and 2.\n",
    "\n",
    "I think it is worth using the coex and FailedPFTs models together to predict successful parameterizations. This should increase our efficiency of successful parameterizations from 6% to 22% (at 100 years, not equililbrium)."
   ]
  },
  {
   "cell_type": "code",
   "execution_count": 16,
   "id": "2713a626",
   "metadata": {},
   "outputs": [],
   "source": [
    "import numpy as np\n",
    "import sklearn\n",
    "import matplotlib.pyplot as plt\n",
    "import pandas as pd\n",
    "import os\n",
    "from sklearn.model_selection import cross_val_score\n",
    "from sklearn.model_selection import cross_val_predict\n",
    "from sklearn.metrics import confusion_matrix\n",
    "pd.set_option('display.max_rows', 500)\n",
    "import joblib\n",
    "from sklearn.ensemble import RandomForestClassifier"
   ]
  },
  {
   "cell_type": "markdown",
   "id": "a87ab41c",
   "metadata": {},
   "source": [
    "## Functions"
   ]
  },
  {
   "cell_type": "code",
   "execution_count": 17,
   "id": "4376db3c",
   "metadata": {},
   "outputs": [],
   "source": [
    "def display_scores(scores):\n",
    "    print(\"Scores:\", scores)\n",
    "    print(\"Mean:\", scores.mean())\n",
    "    print(\"Standard deviation:\", scores.std())\n",
    "    \n",
    "from sklearn.metrics import confusion_matrix\n",
    "import pandas as pd\n",
    "\n",
    "def labeled_confusion_matrix(y_true, y_pred, labels=[0, 1], label_names=None):\n",
    "    \"\"\"\n",
    "    Returns a labeled confusion matrix using pandas DataFrame.\n",
    "    \n",
    "    Args:\n",
    "    - y_true: list or array-like, Ground truth target values.\n",
    "    - y_pred: list or array-like, Estimated target values.\n",
    "    - labels: list, The set of labels to include in the confusion matrix.\n",
    "    - label_names: list or None, Names of the labels for better visualization.\n",
    "    \n",
    "    Returns:\n",
    "    - DataFrame of the confusion matrix.\n",
    "    \"\"\"\n",
    "    # Calculate confusion matrix\n",
    "    cm = confusion_matrix(y_true, y_pred, labels=labels)\n",
    "    \n",
    "    # Check if custom label names are provided\n",
    "    if label_names:\n",
    "        labels = label_names\n",
    "\n",
    "    # Convert the matrix to a DataFrame for better labeling\n",
    "    df_cm = pd.DataFrame(\n",
    "        cm,\n",
    "        columns=[f'Predicted {label}' for label in labels],\n",
    "        index=[f'Actual {label}' for label in labels]\n",
    "    )\n",
    "    return df_cm\n"
   ]
  },
  {
   "cell_type": "markdown",
   "id": "e903efd1",
   "metadata": {},
   "source": [
    "## Import data"
   ]
  },
  {
   "cell_type": "code",
   "execution_count": 18,
   "id": "e7082f9c",
   "metadata": {},
   "outputs": [
    {
     "name": "stdout",
     "output_type": "stream",
     "text": [
      "<class 'pandas.core.frame.DataFrame'>\n",
      "RangeIndex: 3024 entries, 0 to 3023\n",
      "Columns: 117 entries, Unnamed: 0 to case_tag\n",
      "dtypes: float64(113), int64(4)\n",
      "memory usage: 2.7 MB\n",
      "\n",
      "\n",
      "['BA', 'AGB', 'TreeStemD', 'ResproutD_oak', 'ResproutD_shrub', 'ShannonE', 'NPP', 'FailedPFTs', 'Pct_shrub_cover_canopy', 'Pct_shrub_cover', 'Combustible_fuel', 'BA_pine', 'BA_cedar', 'BA_fir', 'BA_shrub', 'BA_oak', 'inst', 'fates_recruit_seed_alloc_mature_1', 'fates_recruit_seed_alloc_mature_2', 'fates_recruit_seed_alloc_mature_3', 'fates_recruit_seed_alloc_mature_4', 'fates_recruit_seed_alloc_mature_5', 'fates_recruit_seed_dbh_repro_threshold_1', 'fates_recruit_seed_dbh_repro_threshold_2', 'fates_recruit_seed_dbh_repro_threshold_3', 'fates_recruit_seed_dbh_repro_threshold_5', 'fates_fire_alpha_SH_1', 'fates_fire_alpha_SH_2', 'fates_fire_alpha_SH_3', 'fates_fire_alpha_SH_4', 'fates_fire_alpha_SH_5', 'fates_fire_bark_scaler_1', 'fates_fire_bark_scaler_2', 'fates_fire_bark_scaler_3', 'fates_fire_bark_scaler_4', 'fates_fire_bark_scaler_5', 'fates_fire_crown_kill_1', 'fates_fire_crown_kill_2', 'fates_fire_crown_kill_3', 'fates_fire_crown_kill_4', 'fates_fire_crown_kill_5', 'fates_fire_drying_ratio_0', 'fates_fire_nignitions_0', 'fates_fire_threshold_0', 'fates_mort_bmort_1', 'fates_mort_bmort_2', 'fates_mort_bmort_3', 'fates_mort_bmort_4', 'fates_mort_bmort_5', 'fates_leaf_slatop_1', 'fates_leaf_slatop_2', 'fates_leaf_slatop_3', 'fates_leaf_slatop_4', 'fates_leaf_slatop_5', 'fates_leaf_slamax_0', 'fates_leaf_vcmax25top_1', 'fates_leaf_vcmax25top_2', 'fates_leaf_vcmax25top_3', 'fates_leaf_vcmax25top_4', 'fates_leaf_vcmax25top_5', 'fates_mort_scalar_cstarvation_1', 'fates_mort_scalar_cstarvation_2', 'fates_mort_scalar_cstarvation_3', 'fates_mort_scalar_cstarvation_4', 'fates_mort_scalar_cstarvation_5', 'fates_fire_frac_resprout_4', 'fates_fire_frac_resprout_5', 'fates_frag_seed_decay_rate_1', 'fates_frag_seed_decay_rate_2', 'fates_frag_seed_decay_rate_3', 'fates_frag_seed_decay_rate_4', 'fates_frag_seed_decay_rate_5', 'fates_recruit_seed_germination_rate_1', 'fates_recruit_seed_germination_rate_2', 'fates_recruit_seed_germination_rate_3', 'fates_recruit_seed_germination_rate_4', 'fates_recruit_seed_germination_rate_5', 'fates_disturbance_germ_4', 'fates_turnover_branch_1', 'fates_turnover_branch_2', 'fates_turnover_branch_3', 'fates_turnover_branch_4', 'fates_turnover_branch_5', 'fates_turnover_leaf_1', 'fates_turnover_leaf_2', 'fates_turnover_leaf_3', 'fates_turnover_leaf_4', 'fates_turnover_leaf_5', 'fates_nonhydro_smpsc_1', 'fates_nonhydro_smpsc_2', 'fates_nonhydro_smpsc_3', 'fates_nonhydro_smpsc_4', 'fates_nonhydro_smpsc_5', 'fates_mort_hf_sm_threshold_0', 'fates_recruit_inter_patch_disp_frac_0', 'fates_frag_maxdecomp_0', 'fates_alloc_storage_cushion_5', 'fates_grperc_4', 'fates_stoich_nitr_1', 'fates_stoich_nitr_2', 'fates_stoich_nitr_3', 'fates_stoich_nitr_4', 'fates_stoich_nitr_5', 'fates_mort_ip_size_senescence_4', 'fates_mort_ip_age_senescence_4', 'fates_allom_d2ca_coefficient_max_1', 'fates_allom_d2ca_coefficient_max_2', 'fates_allom_d2ca_coefficient_max_3', 'fates_allom_d2ca_coefficient_max_4', 'fates_allom_d2ca_coefficient_max_5', 'fates_allom_d2ca_coefficient_min_0', 'fates_allom_agb1_1', 'fates_allom_agb1_2', 'fates_allom_agb1_3', 'fates_allom_agb1_5', 'case_tag']\n"
     ]
    }
   ],
   "source": [
    "raw_df = pd.read_csv('all_member_output_101223.csv')\n",
    "raw_df.info()\n",
    "print(\"\\n\")\n",
    "\n",
    "# Drop first column\n",
    "raw_df.drop(columns=raw_df.columns[0], axis=1, inplace=True)\n",
    "print(list(raw_df.columns))\n",
    "\n",
    "df = raw_df.copy()"
   ]
  },
  {
   "cell_type": "markdown",
   "id": "e57c5443",
   "metadata": {},
   "source": [
    "## Clean"
   ]
  },
  {
   "cell_type": "code",
   "execution_count": 19,
   "id": "4fde224d",
   "metadata": {},
   "outputs": [],
   "source": [
    "df.fillna(0, inplace=True)"
   ]
  },
  {
   "cell_type": "markdown",
   "id": "99110c38",
   "metadata": {},
   "source": [
    "## Add coexistence variable\n",
    "\n",
    "We define coexistence as runs where there were no failed pfts.\n",
    "\n",
    "A failed pft is defined as one that had basal area [m2 ha-1] < 0.1\n",
    "\n",
    "The goal of the emulator is to increase the success rate of coexistence."
   ]
  },
  {
   "cell_type": "code",
   "execution_count": 20,
   "id": "43c5d152",
   "metadata": {},
   "outputs": [
    {
     "name": "stdout",
     "output_type": "stream",
     "text": [
      "\n",
      "\n",
      "Coexistence success rate: 6.403940886699508 %\n"
     ]
    }
   ],
   "source": [
    "df['coexistence'] = df['FailedPFTs'] == 0\n",
    "coex_table = df['coexistence'].value_counts()\n",
    "\n",
    "print(\"\\n\")\n",
    "\n",
    "print('Coexistence success rate:',coex_table[1]/coex_table[0] * 100, \"%\")"
   ]
  },
  {
   "cell_type": "markdown",
   "id": "afeb8b19",
   "metadata": {},
   "source": [
    "## Split data into train and test sets\n",
    "\n",
    "While ensuring that the train and test sets have equal ratios of coexistence to non-coexistence"
   ]
  },
  {
   "cell_type": "code",
   "execution_count": 21,
   "id": "c311c470",
   "metadata": {},
   "outputs": [],
   "source": [
    "from sklearn.model_selection import StratifiedShuffleSplit\n",
    "\n",
    "split = StratifiedShuffleSplit(n_splits=1, test_size = 0.1, random_state = 42)\n",
    "\n",
    "# Split the data into training and test sets, maintaining an equal proportion of veg and non-veg labels in each.\n",
    "for train_index, test_index in split.split(df, df['coexistence']):\n",
    "    train_set = df.iloc[train_index]\n",
    "    test_set = df.iloc[test_index]\n",
    "    \n",
    "X_cols = train_set.columns[train_set.columns.str.contains('fates')]\n",
    "train_X = train_set[X_cols]\n",
    "test_X = test_set[X_cols]\n",
    "\n",
    "#Create vars to be predicted\n",
    "train_y_coex = train_set[\"coexistence\"].copy()\n",
    "train_y_shannonE = train_set[\"ShannonE\"].copy()\n",
    "train_y_failedPFTs = train_set[\"FailedPFTs\"].copy()\n",
    "\n",
    "test_Y_coex = test_set[\"coexistence\"].copy()\n",
    "test_y_shannonE = test_set[\"ShannonE\"].copy()\n",
    "test_y_failedPFTs = test_set[\"FailedPFTs\"].copy()"
   ]
  },
  {
   "cell_type": "markdown",
   "id": "fcbdd362",
   "metadata": {},
   "source": [
    "### Check dataset evenness\n",
    "`StratifiedShuffleSplit` ensures that the train and test sets have similar ratios of coexistence to competitive exclusion, but we have an uneven number of cases where coexistence occurred vs. did not. To address this we oversample the coexistence cases (see below)."
   ]
  },
  {
   "cell_type": "code",
   "execution_count": 22,
   "id": "c6301567",
   "metadata": {},
   "outputs": [
    {
     "name": "stdout",
     "output_type": "stream",
     "text": [
      "train: coexistence\n",
      "False    2557\n",
      "True      164\n",
      "Name: count, dtype: int64\n",
      "test: coexistence\n",
      "False    285\n",
      "True      18\n",
      "Name: count, dtype: int64\n"
     ]
    }
   ],
   "source": [
    "print(\"train:\",train_y_coex.value_counts())\n",
    "print(\"test:\",test_set['coexistence'].value_counts())"
   ]
  },
  {
   "cell_type": "markdown",
   "id": "a43f7a49",
   "metadata": {},
   "source": [
    "## Set up a data transformation pipeline to prepare the data for machine learning\n",
    "\n",
    "\n",
    "Here we standardize the data, but some algorithms (some neural networks), need normalized data 0-1.\n",
    "Normalizing can make outliers have a big effect on the data though (\"squishing down\"), so removing outliers can be helpful before normalizing."
   ]
  },
  {
   "cell_type": "code",
   "execution_count": 23,
   "id": "2b44c319",
   "metadata": {},
   "outputs": [],
   "source": [
    "from sklearn.pipeline import Pipeline\n",
    "from sklearn.preprocessing import StandardScaler\n",
    "\n",
    "# This is for if I need to define a custom data transformation function\n",
    "from sklearn.base import BaseEstimator, TransformerMixin\n",
    "\n",
    "# Data transformation pipeline\n",
    "transformation_pipeline = Pipeline([\n",
    "        ('std_scaler', StandardScaler()), # Scale the data by substracting mean and dividing by sigma\n",
    "    ])\n",
    "\n",
    "# Apply transformation pipeline to training data\n",
    "X = transformation_pipeline.fit_transform(train_X)\n",
    "\n",
    "# Apply to test data\n",
    "\n",
    "X_test = transformation_pipeline.fit_transform(test_X)"
   ]
  },
  {
   "cell_type": "markdown",
   "id": "f56c43bf",
   "metadata": {},
   "source": [
    "## Create another training set using oversampling to balance out the examples of coexistence\n",
    "\n",
    "\n",
    "The balanced training datasets are called `X_resampled` and `y_resampled`"
   ]
  },
  {
   "cell_type": "code",
   "execution_count": 24,
   "id": "c20b5cef",
   "metadata": {},
   "outputs": [
    {
     "name": "stdout",
     "output_type": "stream",
     "text": [
      "Original dataset shape: Counter({False: 2557, True: 164})\n",
      "2393\n",
      "Resampled dataset shape: Counter({False: 2557, True: 2393})\n"
     ]
    }
   ],
   "source": [
    "import numpy as np\n",
    "from sklearn.datasets import make_classification\n",
    "from collections import Counter\n",
    "\n",
    "train_y_coex_array = np.array(train_y_coex)\n",
    "\n",
    "print(\"Original dataset shape:\", Counter(train_y_coex_array))\n",
    "\n",
    "# Identify the indices of the minority class\n",
    "minority_class_indices = np.where(train_y_coex_array == True)[0]\n",
    "\n",
    "# Calculate how many samples to duplicate to balance the classes\n",
    "desired_samples = len(train_y_coex_array) - 2 * len(minority_class_indices)\n",
    "print(desired_samples)\n",
    "\n",
    "duplicate_samples = desired_samples - len(minority_class_indices)\n",
    "\n",
    "# Randomly select instances from the minority class to be duplicated\n",
    "duplicating_indices = np.random.choice(minority_class_indices, size=duplicate_samples)\n",
    "\n",
    "# Duplicate the selected instances\n",
    "X_duplicated = X[duplicating_indices]\n",
    "y_duplicated = train_y_coex_array[duplicating_indices]\n",
    "\n",
    "# Concatenate the original and duplicated data\n",
    "X_resampled = np.vstack((X, X_duplicated))\n",
    "y_resampled = np.hstack((train_y_coex, y_duplicated))\n",
    "\n",
    "print(\"Resampled dataset shape:\", Counter(y_resampled))"
   ]
  },
  {
   "cell_type": "markdown",
   "id": "81dcddca",
   "metadata": {},
   "source": [
    "## Define a naive classifier to compare our classifiers to\n",
    "\n",
    "This classifier always predicts no coexistence."
   ]
  },
  {
   "cell_type": "code",
   "execution_count": 25,
   "id": "4d2af723",
   "metadata": {},
   "outputs": [],
   "source": [
    "from sklearn.base import BaseEstimator\n",
    "class NeverCoexist(BaseEstimator):\n",
    "    def fit(self, X, y=None):\n",
    "        pass\n",
    "    def predict(self, X):\n",
    "        \n",
    "        #always predicts false (0)\n",
    "        return np.zeros((len(X), 1), dtype=bool)"
   ]
  },
  {
   "cell_type": "code",
   "execution_count": 26,
   "id": "ae771c45",
   "metadata": {},
   "outputs": [
    {
     "name": "stdout",
     "output_type": "stream",
     "text": [
      "Scores: [0.91941392 0.97058824 0.94485294 0.92279412 0.91544118 0.94485294\n",
      " 0.95220588 0.94852941 0.91911765 0.95955882]\n",
      "Mean: 0.9397355095884506\n",
      "Standard deviation: 0.018290331458515947\n",
      "Naive: None\n"
     ]
    }
   ],
   "source": [
    "# Naive classifier\n",
    "never_coexist = NeverCoexist()\n",
    "# test naive classifier\n",
    "naive_scores = cross_val_score(never_coexist, X, train_y_coex, cv= 10, scoring=\"accuracy\")\n",
    "print(\"Naive:\",display_scores(naive_scores))"
   ]
  },
  {
   "cell_type": "markdown",
   "id": "99e1f84a",
   "metadata": {},
   "source": [
    "# Emulate coexistence"
   ]
  },
  {
   "cell_type": "markdown",
   "id": "4b51b379",
   "metadata": {},
   "source": [
    "## Evaluate Decision Tree\n",
    "\n",
    "Decision tree performs worse that the naive classifier."
   ]
  },
  {
   "cell_type": "code",
   "execution_count": 27,
   "id": "d0191b5e",
   "metadata": {},
   "outputs": [
    {
     "name": "stdout",
     "output_type": "stream",
     "text": [
      "Decision Tree: [0.87912088 0.90808824 0.88970588 0.88602941 0.88970588 0.88235294\n",
      " 0.88970588 0.88970588 0.88602941 0.87132353]\n"
     ]
    }
   ],
   "source": [
    "from sklearn.tree import DecisionTreeClassifier\n",
    "\n",
    "# decision tree classifier\n",
    "tree = DecisionTreeClassifier()\n",
    "\n",
    "# test regression tree\n",
    "tree_scores = cross_val_score(tree, X, train_y_coex, cv= 10, scoring=\"accuracy\")\n",
    "print(\"Decision Tree:\",tree_scores)"
   ]
  },
  {
   "cell_type": "markdown",
   "id": "e0de9116",
   "metadata": {},
   "source": [
    "## Evaluate Random Forest to predict coexistence on unbalanced data"
   ]
  },
  {
   "cell_type": "markdown",
   "id": "c74961d2",
   "metadata": {},
   "source": [
    "## Look at feature importances"
   ]
  },
  {
   "cell_type": "markdown",
   "id": "5748e50f",
   "metadata": {},
   "source": [
    "### Fit basic model and look at feature importances"
   ]
  },
  {
   "cell_type": "code",
   "execution_count": 28,
   "id": "c3765dad",
   "metadata": {},
   "outputs": [
    {
     "data": {
      "text/html": [
       "<div>\n",
       "<style scoped>\n",
       "    .dataframe tbody tr th:only-of-type {\n",
       "        vertical-align: middle;\n",
       "    }\n",
       "\n",
       "    .dataframe tbody tr th {\n",
       "        vertical-align: top;\n",
       "    }\n",
       "\n",
       "    .dataframe thead th {\n",
       "        text-align: right;\n",
       "    }\n",
       "</style>\n",
       "<table border=\"1\" class=\"dataframe\">\n",
       "  <thead>\n",
       "    <tr style=\"text-align: right;\">\n",
       "      <th></th>\n",
       "      <th>param</th>\n",
       "      <th>feature_importance</th>\n",
       "    </tr>\n",
       "  </thead>\n",
       "  <tbody>\n",
       "    <tr>\n",
       "      <th>35</th>\n",
       "      <td>fates_leaf_slatop_4</td>\n",
       "      <td>0.034796</td>\n",
       "    </tr>\n",
       "    <tr>\n",
       "      <th>25</th>\n",
       "      <td>fates_fire_nignitions_0</td>\n",
       "      <td>0.02272</td>\n",
       "    </tr>\n",
       "    <tr>\n",
       "      <th>36</th>\n",
       "      <td>fates_leaf_slatop_5</td>\n",
       "      <td>0.020742</td>\n",
       "    </tr>\n",
       "    <tr>\n",
       "      <th>73</th>\n",
       "      <td>fates_nonhydro_smpsc_3</td>\n",
       "      <td>0.019122</td>\n",
       "    </tr>\n",
       "    <tr>\n",
       "      <th>97</th>\n",
       "      <td>fates_allom_agb1_5</td>\n",
       "      <td>0.019096</td>\n",
       "    </tr>\n",
       "    <tr>\n",
       "      <th>42</th>\n",
       "      <td>fates_leaf_vcmax25top_5</td>\n",
       "      <td>0.016969</td>\n",
       "    </tr>\n",
       "    <tr>\n",
       "      <th>43</th>\n",
       "      <td>fates_mort_scalar_cstarvation_1</td>\n",
       "      <td>0.016909</td>\n",
       "    </tr>\n",
       "    <tr>\n",
       "      <th>16</th>\n",
       "      <td>fates_fire_bark_scaler_3</td>\n",
       "      <td>0.016893</td>\n",
       "    </tr>\n",
       "    <tr>\n",
       "      <th>53</th>\n",
       "      <td>fates_frag_seed_decay_rate_4</td>\n",
       "      <td>0.016579</td>\n",
       "    </tr>\n",
       "    <tr>\n",
       "      <th>3</th>\n",
       "      <td>fates_recruit_seed_alloc_mature_4</td>\n",
       "      <td>0.016534</td>\n",
       "    </tr>\n",
       "    <tr>\n",
       "      <th>77</th>\n",
       "      <td>fates_recruit_inter_patch_disp_frac_0</td>\n",
       "      <td>0.016457</td>\n",
       "    </tr>\n",
       "    <tr>\n",
       "      <th>79</th>\n",
       "      <td>fates_alloc_storage_cushion_5</td>\n",
       "      <td>0.016216</td>\n",
       "    </tr>\n",
       "    <tr>\n",
       "      <th>12</th>\n",
       "      <td>fates_fire_alpha_SH_4</td>\n",
       "      <td>0.015116</td>\n",
       "    </tr>\n",
       "    <tr>\n",
       "      <th>84</th>\n",
       "      <td>fates_stoich_nitr_4</td>\n",
       "      <td>0.014353</td>\n",
       "    </tr>\n",
       "    <tr>\n",
       "      <th>41</th>\n",
       "      <td>fates_leaf_vcmax25top_4</td>\n",
       "      <td>0.013526</td>\n",
       "    </tr>\n",
       "    <tr>\n",
       "      <th>59</th>\n",
       "      <td>fates_recruit_seed_germination_rate_5</td>\n",
       "      <td>0.013324</td>\n",
       "    </tr>\n",
       "    <tr>\n",
       "      <th>78</th>\n",
       "      <td>fates_frag_maxdecomp_0</td>\n",
       "      <td>0.013173</td>\n",
       "    </tr>\n",
       "    <tr>\n",
       "      <th>22</th>\n",
       "      <td>fates_fire_crown_kill_4</td>\n",
       "      <td>0.013067</td>\n",
       "    </tr>\n",
       "    <tr>\n",
       "      <th>0</th>\n",
       "      <td>fates_recruit_seed_alloc_mature_1</td>\n",
       "      <td>0.013027</td>\n",
       "    </tr>\n",
       "    <tr>\n",
       "      <th>5</th>\n",
       "      <td>fates_recruit_seed_dbh_repro_threshold_1</td>\n",
       "      <td>0.012737</td>\n",
       "    </tr>\n",
       "    <tr>\n",
       "      <th>64</th>\n",
       "      <td>fates_turnover_branch_4</td>\n",
       "      <td>0.012326</td>\n",
       "    </tr>\n",
       "    <tr>\n",
       "      <th>91</th>\n",
       "      <td>fates_allom_d2ca_coefficient_max_4</td>\n",
       "      <td>0.012176</td>\n",
       "    </tr>\n",
       "    <tr>\n",
       "      <th>80</th>\n",
       "      <td>fates_grperc_4</td>\n",
       "      <td>0.011877</td>\n",
       "    </tr>\n",
       "    <tr>\n",
       "      <th>93</th>\n",
       "      <td>fates_allom_d2ca_coefficient_min_0</td>\n",
       "      <td>0.011597</td>\n",
       "    </tr>\n",
       "    <tr>\n",
       "      <th>38</th>\n",
       "      <td>fates_leaf_vcmax25top_1</td>\n",
       "      <td>0.011535</td>\n",
       "    </tr>\n",
       "    <tr>\n",
       "      <th>4</th>\n",
       "      <td>fates_recruit_seed_alloc_mature_5</td>\n",
       "      <td>0.011449</td>\n",
       "    </tr>\n",
       "    <tr>\n",
       "      <th>13</th>\n",
       "      <td>fates_fire_alpha_SH_5</td>\n",
       "      <td>0.011312</td>\n",
       "    </tr>\n",
       "    <tr>\n",
       "      <th>85</th>\n",
       "      <td>fates_stoich_nitr_5</td>\n",
       "      <td>0.01123</td>\n",
       "    </tr>\n",
       "    <tr>\n",
       "      <th>30</th>\n",
       "      <td>fates_mort_bmort_4</td>\n",
       "      <td>0.011114</td>\n",
       "    </tr>\n",
       "    <tr>\n",
       "      <th>87</th>\n",
       "      <td>fates_mort_ip_age_senescence_4</td>\n",
       "      <td>0.011084</td>\n",
       "    </tr>\n",
       "    <tr>\n",
       "      <th>61</th>\n",
       "      <td>fates_turnover_branch_1</td>\n",
       "      <td>0.010693</td>\n",
       "    </tr>\n",
       "    <tr>\n",
       "      <th>18</th>\n",
       "      <td>fates_fire_bark_scaler_5</td>\n",
       "      <td>0.010435</td>\n",
       "    </tr>\n",
       "    <tr>\n",
       "      <th>21</th>\n",
       "      <td>fates_fire_crown_kill_3</td>\n",
       "      <td>0.010427</td>\n",
       "    </tr>\n",
       "    <tr>\n",
       "      <th>74</th>\n",
       "      <td>fates_nonhydro_smpsc_4</td>\n",
       "      <td>0.010369</td>\n",
       "    </tr>\n",
       "    <tr>\n",
       "      <th>58</th>\n",
       "      <td>fates_recruit_seed_germination_rate_4</td>\n",
       "      <td>0.010244</td>\n",
       "    </tr>\n",
       "    <tr>\n",
       "      <th>19</th>\n",
       "      <td>fates_fire_crown_kill_1</td>\n",
       "      <td>0.009986</td>\n",
       "    </tr>\n",
       "    <tr>\n",
       "      <th>92</th>\n",
       "      <td>fates_allom_d2ca_coefficient_max_5</td>\n",
       "      <td>0.009916</td>\n",
       "    </tr>\n",
       "    <tr>\n",
       "      <th>60</th>\n",
       "      <td>fates_disturbance_germ_4</td>\n",
       "      <td>0.009779</td>\n",
       "    </tr>\n",
       "    <tr>\n",
       "      <th>39</th>\n",
       "      <td>fates_leaf_vcmax25top_2</td>\n",
       "      <td>0.009717</td>\n",
       "    </tr>\n",
       "    <tr>\n",
       "      <th>1</th>\n",
       "      <td>fates_recruit_seed_alloc_mature_2</td>\n",
       "      <td>0.009705</td>\n",
       "    </tr>\n",
       "    <tr>\n",
       "      <th>15</th>\n",
       "      <td>fates_fire_bark_scaler_2</td>\n",
       "      <td>0.009678</td>\n",
       "    </tr>\n",
       "    <tr>\n",
       "      <th>72</th>\n",
       "      <td>fates_nonhydro_smpsc_2</td>\n",
       "      <td>0.009669</td>\n",
       "    </tr>\n",
       "    <tr>\n",
       "      <th>70</th>\n",
       "      <td>fates_turnover_leaf_5</td>\n",
       "      <td>0.009662</td>\n",
       "    </tr>\n",
       "    <tr>\n",
       "      <th>86</th>\n",
       "      <td>fates_mort_ip_size_senescence_4</td>\n",
       "      <td>0.009616</td>\n",
       "    </tr>\n",
       "    <tr>\n",
       "      <th>45</th>\n",
       "      <td>fates_mort_scalar_cstarvation_3</td>\n",
       "      <td>0.00954</td>\n",
       "    </tr>\n",
       "    <tr>\n",
       "      <th>82</th>\n",
       "      <td>fates_stoich_nitr_2</td>\n",
       "      <td>0.009527</td>\n",
       "    </tr>\n",
       "    <tr>\n",
       "      <th>66</th>\n",
       "      <td>fates_turnover_leaf_1</td>\n",
       "      <td>0.009441</td>\n",
       "    </tr>\n",
       "    <tr>\n",
       "      <th>10</th>\n",
       "      <td>fates_fire_alpha_SH_2</td>\n",
       "      <td>0.009256</td>\n",
       "    </tr>\n",
       "    <tr>\n",
       "      <th>88</th>\n",
       "      <td>fates_allom_d2ca_coefficient_max_1</td>\n",
       "      <td>0.009249</td>\n",
       "    </tr>\n",
       "    <tr>\n",
       "      <th>67</th>\n",
       "      <td>fates_turnover_leaf_2</td>\n",
       "      <td>0.009188</td>\n",
       "    </tr>\n",
       "    <tr>\n",
       "      <th>2</th>\n",
       "      <td>fates_recruit_seed_alloc_mature_3</td>\n",
       "      <td>0.009184</td>\n",
       "    </tr>\n",
       "    <tr>\n",
       "      <th>44</th>\n",
       "      <td>fates_mort_scalar_cstarvation_2</td>\n",
       "      <td>0.009135</td>\n",
       "    </tr>\n",
       "    <tr>\n",
       "      <th>40</th>\n",
       "      <td>fates_leaf_vcmax25top_3</td>\n",
       "      <td>0.009058</td>\n",
       "    </tr>\n",
       "    <tr>\n",
       "      <th>14</th>\n",
       "      <td>fates_fire_bark_scaler_1</td>\n",
       "      <td>0.009058</td>\n",
       "    </tr>\n",
       "    <tr>\n",
       "      <th>8</th>\n",
       "      <td>fates_recruit_seed_dbh_repro_threshold_5</td>\n",
       "      <td>0.009003</td>\n",
       "    </tr>\n",
       "    <tr>\n",
       "      <th>49</th>\n",
       "      <td>fates_fire_frac_resprout_5</td>\n",
       "      <td>0.008901</td>\n",
       "    </tr>\n",
       "    <tr>\n",
       "      <th>23</th>\n",
       "      <td>fates_fire_crown_kill_5</td>\n",
       "      <td>0.008892</td>\n",
       "    </tr>\n",
       "    <tr>\n",
       "      <th>31</th>\n",
       "      <td>fates_mort_bmort_5</td>\n",
       "      <td>0.008869</td>\n",
       "    </tr>\n",
       "    <tr>\n",
       "      <th>75</th>\n",
       "      <td>fates_nonhydro_smpsc_5</td>\n",
       "      <td>0.008702</td>\n",
       "    </tr>\n",
       "    <tr>\n",
       "      <th>71</th>\n",
       "      <td>fates_nonhydro_smpsc_1</td>\n",
       "      <td>0.008605</td>\n",
       "    </tr>\n",
       "    <tr>\n",
       "      <th>7</th>\n",
       "      <td>fates_recruit_seed_dbh_repro_threshold_3</td>\n",
       "      <td>0.008593</td>\n",
       "    </tr>\n",
       "    <tr>\n",
       "      <th>54</th>\n",
       "      <td>fates_frag_seed_decay_rate_5</td>\n",
       "      <td>0.008376</td>\n",
       "    </tr>\n",
       "    <tr>\n",
       "      <th>90</th>\n",
       "      <td>fates_allom_d2ca_coefficient_max_3</td>\n",
       "      <td>0.008368</td>\n",
       "    </tr>\n",
       "    <tr>\n",
       "      <th>89</th>\n",
       "      <td>fates_allom_d2ca_coefficient_max_2</td>\n",
       "      <td>0.008336</td>\n",
       "    </tr>\n",
       "    <tr>\n",
       "      <th>46</th>\n",
       "      <td>fates_mort_scalar_cstarvation_4</td>\n",
       "      <td>0.008326</td>\n",
       "    </tr>\n",
       "    <tr>\n",
       "      <th>94</th>\n",
       "      <td>fates_allom_agb1_1</td>\n",
       "      <td>0.008226</td>\n",
       "    </tr>\n",
       "    <tr>\n",
       "      <th>9</th>\n",
       "      <td>fates_fire_alpha_SH_1</td>\n",
       "      <td>0.008185</td>\n",
       "    </tr>\n",
       "    <tr>\n",
       "      <th>24</th>\n",
       "      <td>fates_fire_drying_ratio_0</td>\n",
       "      <td>0.008031</td>\n",
       "    </tr>\n",
       "    <tr>\n",
       "      <th>17</th>\n",
       "      <td>fates_fire_bark_scaler_4</td>\n",
       "      <td>0.007782</td>\n",
       "    </tr>\n",
       "    <tr>\n",
       "      <th>63</th>\n",
       "      <td>fates_turnover_branch_3</td>\n",
       "      <td>0.007728</td>\n",
       "    </tr>\n",
       "    <tr>\n",
       "      <th>33</th>\n",
       "      <td>fates_leaf_slatop_2</td>\n",
       "      <td>0.007586</td>\n",
       "    </tr>\n",
       "    <tr>\n",
       "      <th>48</th>\n",
       "      <td>fates_fire_frac_resprout_4</td>\n",
       "      <td>0.007493</td>\n",
       "    </tr>\n",
       "    <tr>\n",
       "      <th>81</th>\n",
       "      <td>fates_stoich_nitr_1</td>\n",
       "      <td>0.007394</td>\n",
       "    </tr>\n",
       "    <tr>\n",
       "      <th>32</th>\n",
       "      <td>fates_leaf_slatop_1</td>\n",
       "      <td>0.00731</td>\n",
       "    </tr>\n",
       "    <tr>\n",
       "      <th>11</th>\n",
       "      <td>fates_fire_alpha_SH_3</td>\n",
       "      <td>0.007286</td>\n",
       "    </tr>\n",
       "    <tr>\n",
       "      <th>6</th>\n",
       "      <td>fates_recruit_seed_dbh_repro_threshold_2</td>\n",
       "      <td>0.007193</td>\n",
       "    </tr>\n",
       "    <tr>\n",
       "      <th>47</th>\n",
       "      <td>fates_mort_scalar_cstarvation_5</td>\n",
       "      <td>0.007068</td>\n",
       "    </tr>\n",
       "    <tr>\n",
       "      <th>20</th>\n",
       "      <td>fates_fire_crown_kill_2</td>\n",
       "      <td>0.007049</td>\n",
       "    </tr>\n",
       "    <tr>\n",
       "      <th>50</th>\n",
       "      <td>fates_frag_seed_decay_rate_1</td>\n",
       "      <td>0.006809</td>\n",
       "    </tr>\n",
       "    <tr>\n",
       "      <th>34</th>\n",
       "      <td>fates_leaf_slatop_3</td>\n",
       "      <td>0.00679</td>\n",
       "    </tr>\n",
       "    <tr>\n",
       "      <th>76</th>\n",
       "      <td>fates_mort_hf_sm_threshold_0</td>\n",
       "      <td>0.00658</td>\n",
       "    </tr>\n",
       "    <tr>\n",
       "      <th>28</th>\n",
       "      <td>fates_mort_bmort_2</td>\n",
       "      <td>0.006503</td>\n",
       "    </tr>\n",
       "    <tr>\n",
       "      <th>62</th>\n",
       "      <td>fates_turnover_branch_2</td>\n",
       "      <td>0.006374</td>\n",
       "    </tr>\n",
       "    <tr>\n",
       "      <th>68</th>\n",
       "      <td>fates_turnover_leaf_3</td>\n",
       "      <td>0.006317</td>\n",
       "    </tr>\n",
       "    <tr>\n",
       "      <th>56</th>\n",
       "      <td>fates_recruit_seed_germination_rate_2</td>\n",
       "      <td>0.006265</td>\n",
       "    </tr>\n",
       "    <tr>\n",
       "      <th>52</th>\n",
       "      <td>fates_frag_seed_decay_rate_3</td>\n",
       "      <td>0.006162</td>\n",
       "    </tr>\n",
       "    <tr>\n",
       "      <th>29</th>\n",
       "      <td>fates_mort_bmort_3</td>\n",
       "      <td>0.006128</td>\n",
       "    </tr>\n",
       "    <tr>\n",
       "      <th>37</th>\n",
       "      <td>fates_leaf_slamax_0</td>\n",
       "      <td>0.006099</td>\n",
       "    </tr>\n",
       "    <tr>\n",
       "      <th>65</th>\n",
       "      <td>fates_turnover_branch_5</td>\n",
       "      <td>0.00606</td>\n",
       "    </tr>\n",
       "    <tr>\n",
       "      <th>95</th>\n",
       "      <td>fates_allom_agb1_2</td>\n",
       "      <td>0.005931</td>\n",
       "    </tr>\n",
       "    <tr>\n",
       "      <th>57</th>\n",
       "      <td>fates_recruit_seed_germination_rate_3</td>\n",
       "      <td>0.005794</td>\n",
       "    </tr>\n",
       "    <tr>\n",
       "      <th>27</th>\n",
       "      <td>fates_mort_bmort_1</td>\n",
       "      <td>0.005584</td>\n",
       "    </tr>\n",
       "    <tr>\n",
       "      <th>69</th>\n",
       "      <td>fates_turnover_leaf_4</td>\n",
       "      <td>0.005301</td>\n",
       "    </tr>\n",
       "    <tr>\n",
       "      <th>96</th>\n",
       "      <td>fates_allom_agb1_3</td>\n",
       "      <td>0.005054</td>\n",
       "    </tr>\n",
       "    <tr>\n",
       "      <th>26</th>\n",
       "      <td>fates_fire_threshold_0</td>\n",
       "      <td>0.005045</td>\n",
       "    </tr>\n",
       "    <tr>\n",
       "      <th>51</th>\n",
       "      <td>fates_frag_seed_decay_rate_2</td>\n",
       "      <td>0.004985</td>\n",
       "    </tr>\n",
       "    <tr>\n",
       "      <th>83</th>\n",
       "      <td>fates_stoich_nitr_3</td>\n",
       "      <td>0.004963</td>\n",
       "    </tr>\n",
       "    <tr>\n",
       "      <th>55</th>\n",
       "      <td>fates_recruit_seed_germination_rate_1</td>\n",
       "      <td>0.00436</td>\n",
       "    </tr>\n",
       "  </tbody>\n",
       "</table>\n",
       "</div>"
      ],
      "text/plain": [
       "                                       param feature_importance\n",
       "35                       fates_leaf_slatop_4           0.034796\n",
       "25                   fates_fire_nignitions_0            0.02272\n",
       "36                       fates_leaf_slatop_5           0.020742\n",
       "73                    fates_nonhydro_smpsc_3           0.019122\n",
       "97                        fates_allom_agb1_5           0.019096\n",
       "42                   fates_leaf_vcmax25top_5           0.016969\n",
       "43           fates_mort_scalar_cstarvation_1           0.016909\n",
       "16                  fates_fire_bark_scaler_3           0.016893\n",
       "53              fates_frag_seed_decay_rate_4           0.016579\n",
       "3          fates_recruit_seed_alloc_mature_4           0.016534\n",
       "77     fates_recruit_inter_patch_disp_frac_0           0.016457\n",
       "79             fates_alloc_storage_cushion_5           0.016216\n",
       "12                     fates_fire_alpha_SH_4           0.015116\n",
       "84                       fates_stoich_nitr_4           0.014353\n",
       "41                   fates_leaf_vcmax25top_4           0.013526\n",
       "59     fates_recruit_seed_germination_rate_5           0.013324\n",
       "78                    fates_frag_maxdecomp_0           0.013173\n",
       "22                   fates_fire_crown_kill_4           0.013067\n",
       "0          fates_recruit_seed_alloc_mature_1           0.013027\n",
       "5   fates_recruit_seed_dbh_repro_threshold_1           0.012737\n",
       "64                   fates_turnover_branch_4           0.012326\n",
       "91        fates_allom_d2ca_coefficient_max_4           0.012176\n",
       "80                            fates_grperc_4           0.011877\n",
       "93        fates_allom_d2ca_coefficient_min_0           0.011597\n",
       "38                   fates_leaf_vcmax25top_1           0.011535\n",
       "4          fates_recruit_seed_alloc_mature_5           0.011449\n",
       "13                     fates_fire_alpha_SH_5           0.011312\n",
       "85                       fates_stoich_nitr_5            0.01123\n",
       "30                        fates_mort_bmort_4           0.011114\n",
       "87            fates_mort_ip_age_senescence_4           0.011084\n",
       "61                   fates_turnover_branch_1           0.010693\n",
       "18                  fates_fire_bark_scaler_5           0.010435\n",
       "21                   fates_fire_crown_kill_3           0.010427\n",
       "74                    fates_nonhydro_smpsc_4           0.010369\n",
       "58     fates_recruit_seed_germination_rate_4           0.010244\n",
       "19                   fates_fire_crown_kill_1           0.009986\n",
       "92        fates_allom_d2ca_coefficient_max_5           0.009916\n",
       "60                  fates_disturbance_germ_4           0.009779\n",
       "39                   fates_leaf_vcmax25top_2           0.009717\n",
       "1          fates_recruit_seed_alloc_mature_2           0.009705\n",
       "15                  fates_fire_bark_scaler_2           0.009678\n",
       "72                    fates_nonhydro_smpsc_2           0.009669\n",
       "70                     fates_turnover_leaf_5           0.009662\n",
       "86           fates_mort_ip_size_senescence_4           0.009616\n",
       "45           fates_mort_scalar_cstarvation_3            0.00954\n",
       "82                       fates_stoich_nitr_2           0.009527\n",
       "66                     fates_turnover_leaf_1           0.009441\n",
       "10                     fates_fire_alpha_SH_2           0.009256\n",
       "88        fates_allom_d2ca_coefficient_max_1           0.009249\n",
       "67                     fates_turnover_leaf_2           0.009188\n",
       "2          fates_recruit_seed_alloc_mature_3           0.009184\n",
       "44           fates_mort_scalar_cstarvation_2           0.009135\n",
       "40                   fates_leaf_vcmax25top_3           0.009058\n",
       "14                  fates_fire_bark_scaler_1           0.009058\n",
       "8   fates_recruit_seed_dbh_repro_threshold_5           0.009003\n",
       "49                fates_fire_frac_resprout_5           0.008901\n",
       "23                   fates_fire_crown_kill_5           0.008892\n",
       "31                        fates_mort_bmort_5           0.008869\n",
       "75                    fates_nonhydro_smpsc_5           0.008702\n",
       "71                    fates_nonhydro_smpsc_1           0.008605\n",
       "7   fates_recruit_seed_dbh_repro_threshold_3           0.008593\n",
       "54              fates_frag_seed_decay_rate_5           0.008376\n",
       "90        fates_allom_d2ca_coefficient_max_3           0.008368\n",
       "89        fates_allom_d2ca_coefficient_max_2           0.008336\n",
       "46           fates_mort_scalar_cstarvation_4           0.008326\n",
       "94                        fates_allom_agb1_1           0.008226\n",
       "9                      fates_fire_alpha_SH_1           0.008185\n",
       "24                 fates_fire_drying_ratio_0           0.008031\n",
       "17                  fates_fire_bark_scaler_4           0.007782\n",
       "63                   fates_turnover_branch_3           0.007728\n",
       "33                       fates_leaf_slatop_2           0.007586\n",
       "48                fates_fire_frac_resprout_4           0.007493\n",
       "81                       fates_stoich_nitr_1           0.007394\n",
       "32                       fates_leaf_slatop_1            0.00731\n",
       "11                     fates_fire_alpha_SH_3           0.007286\n",
       "6   fates_recruit_seed_dbh_repro_threshold_2           0.007193\n",
       "47           fates_mort_scalar_cstarvation_5           0.007068\n",
       "20                   fates_fire_crown_kill_2           0.007049\n",
       "50              fates_frag_seed_decay_rate_1           0.006809\n",
       "34                       fates_leaf_slatop_3            0.00679\n",
       "76              fates_mort_hf_sm_threshold_0            0.00658\n",
       "28                        fates_mort_bmort_2           0.006503\n",
       "62                   fates_turnover_branch_2           0.006374\n",
       "68                     fates_turnover_leaf_3           0.006317\n",
       "56     fates_recruit_seed_germination_rate_2           0.006265\n",
       "52              fates_frag_seed_decay_rate_3           0.006162\n",
       "29                        fates_mort_bmort_3           0.006128\n",
       "37                       fates_leaf_slamax_0           0.006099\n",
       "65                   fates_turnover_branch_5            0.00606\n",
       "95                        fates_allom_agb1_2           0.005931\n",
       "57     fates_recruit_seed_germination_rate_3           0.005794\n",
       "27                        fates_mort_bmort_1           0.005584\n",
       "69                     fates_turnover_leaf_4           0.005301\n",
       "96                        fates_allom_agb1_3           0.005054\n",
       "26                    fates_fire_threshold_0           0.005045\n",
       "51              fates_frag_seed_decay_rate_2           0.004985\n",
       "83                       fates_stoich_nitr_3           0.004963\n",
       "55     fates_recruit_seed_germination_rate_1            0.00436"
      ]
     },
     "execution_count": 28,
     "metadata": {},
     "output_type": "execute_result"
    }
   ],
   "source": [
    "# These hyperparameters were determined to be the best from a grid search algorithm below\n",
    "# However, these hyperparameters didn't change the performance of the model very much\n",
    "forest = RandomForestClassifier(n_estimators=100,max_features=0.25)\n",
    "\n",
    "forest.fit(X,train_y_coex)\n",
    "feature_importances = forest.feature_importances_\n",
    "fi = pd.DataFrame(np.column_stack([X_cols,feature_importances]),columns=[\"param\",\"feature_importance\"])\n",
    "fi.sort_values(\"feature_importance\",ascending=False)"
   ]
  },
  {
   "cell_type": "markdown",
   "id": "d89c7583",
   "metadata": {},
   "source": [
    "## Use cross-validation to evaluate model"
   ]
  },
  {
   "cell_type": "code",
   "execution_count": 29,
   "id": "fe11453f",
   "metadata": {},
   "outputs": [],
   "source": [
    "\n",
    "\n",
    "forest_scores = cross_val_score(forest,X,train_y_coex,cv=10,scoring=\"accuracy\")"
   ]
  },
  {
   "cell_type": "code",
   "execution_count": 30,
   "id": "3d49ad03",
   "metadata": {},
   "outputs": [
    {
     "name": "stdout",
     "output_type": "stream",
     "text": [
      "Naive:\n",
      "Scores: [0.91941392 0.97058824 0.94485294 0.92279412 0.91544118 0.94485294\n",
      " 0.95220588 0.94852941 0.91911765 0.95955882]\n",
      "Mean: 0.9397355095884506\n",
      "Standard deviation: 0.018290331458515947\n",
      "None\n",
      "\n",
      "\n",
      "Forest\n",
      "Scores: [0.93772894 0.94117647 0.94117647 0.94117647 0.94117647 0.94117647\n",
      " 0.94117647 0.9375     0.9375     0.9375    ]\n",
      "Mean: 0.9397287761258349\n",
      "Standard deviation: 0.001774164541686241\n",
      "None\n"
     ]
    }
   ],
   "source": [
    "print(\"Naive:\")\n",
    "print(display_scores(naive_scores))\n",
    "print(\"\\n\")\n",
    "print(\"Forest\")\n",
    "print(display_scores(forest_scores))"
   ]
  },
  {
   "cell_type": "markdown",
   "id": "14ee954a",
   "metadata": {},
   "source": [
    "### Confusion matrices\n",
    "\n",
    "The RF model `forest` never predicts coexistence when trained on unbalanced data, but the one trained on balanced data, `forest_resampled`, does."
   ]
  },
  {
   "cell_type": "code",
   "execution_count": 31,
   "id": "aedc41b5",
   "metadata": {},
   "outputs": [
    {
     "name": "stdout",
     "output_type": "stream",
     "text": [
      "Forest\n",
      "[[2557    0]\n",
      " [ 164    0]]\n",
      "\n",
      "\n",
      "Naive\n",
      "[[2557    0]\n",
      " [ 164    0]]\n"
     ]
    }
   ],
   "source": [
    "forest = RandomForestClassifier(n_estimators=100,max_features=0.25, class_weight=\"balanced\", random_state=42)\n",
    "forest_preds = cross_val_predict(forest,X,train_y_coex,cv=3)\n",
    "\n",
    "print(\"Forest\")\n",
    "print(confusion_matrix(train_y_coex,forest_preds))\n",
    "print(\"\\n\")\n",
    "\n",
    "print(\"Naive\")\n",
    "naive_preds = cross_val_predict(never_coexist, X, train_y_coex, cv= 3)\n",
    "print(confusion_matrix(train_y_coex,naive_preds))"
   ]
  },
  {
   "cell_type": "code",
   "execution_count": 32,
   "id": "87225fd1",
   "metadata": {},
   "outputs": [
    {
     "name": "stdout",
     "output_type": "stream",
     "text": [
      "Forest resampled\n"
     ]
    },
    {
     "data": {
      "text/html": [
       "<div>\n",
       "<style scoped>\n",
       "    .dataframe tbody tr th:only-of-type {\n",
       "        vertical-align: middle;\n",
       "    }\n",
       "\n",
       "    .dataframe tbody tr th {\n",
       "        vertical-align: top;\n",
       "    }\n",
       "\n",
       "    .dataframe thead th {\n",
       "        text-align: right;\n",
       "    }\n",
       "</style>\n",
       "<table border=\"1\" class=\"dataframe\">\n",
       "  <thead>\n",
       "    <tr style=\"text-align: right;\">\n",
       "      <th></th>\n",
       "      <th>Predicted Exclusion</th>\n",
       "      <th>Predicted Coexistence</th>\n",
       "    </tr>\n",
       "  </thead>\n",
       "  <tbody>\n",
       "    <tr>\n",
       "      <th>Actual Exclusion</th>\n",
       "      <td>2550</td>\n",
       "      <td>7</td>\n",
       "    </tr>\n",
       "    <tr>\n",
       "      <th>Actual Coexistence</th>\n",
       "      <td>0</td>\n",
       "      <td>2393</td>\n",
       "    </tr>\n",
       "  </tbody>\n",
       "</table>\n",
       "</div>"
      ],
      "text/plain": [
       "                    Predicted Exclusion  Predicted Coexistence\n",
       "Actual Exclusion                   2550                      7\n",
       "Actual Coexistence                    0                   2393"
      ]
     },
     "execution_count": 32,
     "metadata": {},
     "output_type": "execute_result"
    }
   ],
   "source": [
    "forest_resampled = RandomForestClassifier(n_estimators=100,max_features=0.25, class_weight=\"balanced\")\n",
    "forest_preds_resampled = cross_val_predict(forest_resampled,X_resampled,y_resampled,cv=3)\n",
    "\n",
    "print(\"Forest resampled\")\n",
    "labeled_confusion_matrix(y_resampled, forest_preds_resampled, labels=[0, 1], label_names=[\"Exclusion\",\"Coexistence\"])"
   ]
  },
  {
   "cell_type": "markdown",
   "id": "f9ebeb9b",
   "metadata": {},
   "source": [
    "## Evalute random forest on balanced data\n",
    "\n",
    "It performs much better on the balanced training data"
   ]
  },
  {
   "cell_type": "code",
   "execution_count": 33,
   "id": "c32cc1ed",
   "metadata": {},
   "outputs": [
    {
     "name": "stdout",
     "output_type": "stream",
     "text": [
      "Scores: [0.9959596 1.        1.        1.        1.        1.        0.9979798\n",
      " 0.9979798 1.        1.       ]\n",
      "Mean: 0.9991919191919191\n",
      "Standard deviation: 0.0013400504203456248\n"
     ]
    }
   ],
   "source": [
    "forest_scores_resampled = cross_val_score(forest_resampled,X_resampled,y_resampled,cv=10,scoring=\"accuracy\")\n",
    "display_scores(forest_scores_resampled)"
   ]
  },
  {
   "cell_type": "markdown",
   "id": "5a54b5a0",
   "metadata": {},
   "source": [
    "### ... but still never predicts coexistence on the test data\n",
    "\n",
    "Therefore, the expected overfitting from the oversampling did become an issue.\n",
    "\n",
    "Next, we will try tinkering with the threshold value at which point the random forest predicts a positive case."
   ]
  },
  {
   "cell_type": "code",
   "execution_count": 34,
   "id": "18ea4f1f",
   "metadata": {},
   "outputs": [
    {
     "name": "stdout",
     "output_type": "stream",
     "text": [
      "Accuracy: 0.9405940594059405\n",
      "Confusion Matrix:\n",
      "          Predicted 0  Predicted 1\n",
      "Actual 0          285            0\n",
      "Actual 1           18            0\n",
      "Classification Report:\n",
      "              precision    recall  f1-score   support\n",
      "\n",
      "       False       0.94      1.00      0.97       285\n",
      "        True       0.00      0.00      0.00        18\n",
      "\n",
      "    accuracy                           0.94       303\n",
      "   macro avg       0.47      0.50      0.48       303\n",
      "weighted avg       0.88      0.94      0.91       303\n",
      "\n"
     ]
    },
    {
     "name": "stderr",
     "output_type": "stream",
     "text": [
      "/home/adam/miniconda3/envs/la-veg/lib/python3.10/site-packages/sklearn/metrics/_classification.py:1469: UndefinedMetricWarning: Precision and F-score are ill-defined and being set to 0.0 in labels with no predicted samples. Use `zero_division` parameter to control this behavior.\n",
      "  _warn_prf(average, modifier, msg_start, len(result))\n",
      "/home/adam/miniconda3/envs/la-veg/lib/python3.10/site-packages/sklearn/metrics/_classification.py:1469: UndefinedMetricWarning: Precision and F-score are ill-defined and being set to 0.0 in labels with no predicted samples. Use `zero_division` parameter to control this behavior.\n",
      "  _warn_prf(average, modifier, msg_start, len(result))\n",
      "/home/adam/miniconda3/envs/la-veg/lib/python3.10/site-packages/sklearn/metrics/_classification.py:1469: UndefinedMetricWarning: Precision and F-score are ill-defined and being set to 0.0 in labels with no predicted samples. Use `zero_division` parameter to control this behavior.\n",
      "  _warn_prf(average, modifier, msg_start, len(result))\n"
     ]
    }
   ],
   "source": [
    "from sklearn.metrics import classification_report, accuracy_score, confusion_matrix\n",
    "\n",
    "forest_resampled.fit(X_resampled,y_resampled)\n",
    "\n",
    "# Predict on the test data\n",
    "y_pred = forest_resampled.predict(X_test)\n",
    "\n",
    "# Evaluate the model\n",
    "accuracy = accuracy_score(test_Y_coex, y_pred)\n",
    "confusion = labeled_confusion_matrix(test_Y_coex, y_pred)\n",
    "report = classification_report(test_Y_coex, y_pred)\n",
    "\n",
    "print(\"Accuracy:\", accuracy)\n",
    "print(\"Confusion Matrix:\")\n",
    "print(confusion)\n",
    "print(\"Classification Report:\")\n",
    "print(report)"
   ]
  },
  {
   "cell_type": "code",
   "execution_count": 35,
   "id": "b5922110",
   "metadata": {},
   "outputs": [],
   "source": [
    "#forest_resampled.dump(clf, 'random_forest_model_balanced_data.pkl')"
   ]
  },
  {
   "cell_type": "markdown",
   "id": "cc2e8e6a",
   "metadata": {},
   "source": [
    "## Analyze the precision-recall tradeoff\n",
    "\n",
    "The figure below shows that we should set the probability threshold to 0.15 to find a balance between precision and recall."
   ]
  },
  {
   "cell_type": "code",
   "execution_count": 36,
   "id": "befcbb16",
   "metadata": {},
   "outputs": [],
   "source": [
    "#first use this function to return the decision function value, not the classification\n",
    "predict_probas = cross_val_predict(forest, X, train_y_coex, cv=3,\n",
    "                             method=\"predict_proba\")\n",
    "\n",
    "y_prob_predict = predict_probas[:,1] #probability of coexistence\n",
    "\n",
    "from sklearn.metrics import precision_recall_curve\n",
    "\n",
    "precisions, recalls, thresholds = precision_recall_curve(train_y_coex, y_prob_predict)"
   ]
  },
  {
   "cell_type": "code",
   "execution_count": 37,
   "id": "6dc2bb6a",
   "metadata": {},
   "outputs": [
    {
     "data": {
      "image/png": "[encoded data removed]",
      "text/plain": [
       "<Figure size 640x480 with 1 Axes>"
      ]
     },
     "metadata": {},
     "output_type": "display_data"
    }
   ],
   "source": [
    "def plot_precision_recall_vs_threshold(precisions, recalls, thresholds):\n",
    "    plt.plot(thresholds, precisions[:-1], \"b--\", label=\"Precision\", linewidth=2)\n",
    "    plt.plot(thresholds, recalls[:-1], \"g-\", label=\"Recall\", linewidth=2)\n",
    "    plt.legend(loc=\"center right\", fontsize=16) # Not shown in the book\n",
    "    plt.xlabel(\"Threshold\", fontsize=16)        # Not shown\n",
    "    plt.grid(True)                              # Not shown\n",
    "    #plt.axis([-50000, 50000, 0, 1])             # Not shown\n",
    "\n",
    "\n",
    "plot_precision_recall_vs_threshold(precisions, recalls, thresholds)"
   ]
  },
  {
   "cell_type": "markdown",
   "id": "979b8af7",
   "metadata": {},
   "source": [
    "## Evaluate random forest model with altered threshold value \n",
    "\n",
    "With the threshold set to 0.15, the random forest will have a true positive rate of about 22%. 22% of the members that it say's will have coexistence should actually have coexistence. This is an increase in efficiency of 260% compared to the initial success rate without ML of 6%. "
   ]
  },
  {
   "cell_type": "code",
   "execution_count": 88,
   "id": "35d6c3bb",
   "metadata": {},
   "outputs": [
    {
     "name": "stdout",
     "output_type": "stream",
     "text": [
      "Training data\n",
      "Accuracy: 1.0\n",
      "Confusion Matrix:\n",
      "          Predicted 0  Predicted 1\n",
      "Actual 0         2557            0\n",
      "Actual 1            0          164\n",
      "Classification Report:\n",
      "              precision    recall  f1-score   support\n",
      "\n",
      "       False       1.00      1.00      1.00      2557\n",
      "        True       1.00      1.00      1.00       164\n",
      "\n",
      "    accuracy                           1.00      2721\n",
      "   macro avg       1.00      1.00      1.00      2721\n",
      "weighted avg       1.00      1.00      1.00      2721\n",
      "\n",
      "\n",
      "\n",
      "Test data\n",
      "Training data\n",
      "Accuracy: 0.8877887788778878\n",
      "Confusion Matrix:\n",
      "          Predicted 0  Predicted 1\n",
      "Actual 0          267           18\n",
      "Actual 1           16            2\n",
      "Classification Report:\n",
      "              precision    recall  f1-score   support\n",
      "\n",
      "       False       0.94      0.94      0.94       285\n",
      "        True       0.10      0.11      0.11        18\n",
      "\n",
      "    accuracy                           0.89       303\n",
      "   macro avg       0.52      0.52      0.52       303\n",
      "weighted avg       0.89      0.89      0.89       303\n",
      "\n"
     ]
    },
    {
     "data": {
      "text/plain": [
       "['saved_models/RF_coex_103023.pkl']"
      ]
     },
     "execution_count": 88,
     "metadata": {},
     "output_type": "execute_result"
    }
   ],
   "source": [
    "threshold = 0.15  # Threshold determined from precision-recall figure above\n",
    "\n",
    "forest.fit(X,train_y_coex)\n",
    "\n",
    "# Get the probabilities for the positive class\n",
    "probabilities_training = forest.predict_proba(X)[:, 1]\n",
    "y_pred_training = (probabilities_training >= threshold).astype(bool)\n",
    "\n",
    "# Get the probabilities for the positive class on the test data\n",
    "probabilities_test = forest.predict_proba(X_test)[:, 1]\n",
    "y_pred_test = (probabilities_test >= threshold).astype(bool)\n",
    "\n",
    "\n",
    "# Evaluate the model on the training data\n",
    "accuracy = accuracy_score(train_y_coex, y_pred_training)\n",
    "confusion = labeled_confusion_matrix(train_y_coex, y_pred_training)\n",
    "report = classification_report(train_y_coex, y_pred_training)\n",
    "\n",
    "print(\"Training data\")\n",
    "print(\"Accuracy:\", accuracy)\n",
    "print(\"Confusion Matrix:\")\n",
    "print(confusion)\n",
    "print(\"Classification Report:\")\n",
    "print(report)\n",
    "\n",
    "print(\"\\n\")\n",
    "print(\"Test data\")\n",
    "\n",
    "# Evaluate the model on the training data\n",
    "accuracy = accuracy_score(test_Y_coex, y_pred_test)\n",
    "confusion = labeled_confusion_matrix(test_Y_coex, y_pred_test)\n",
    "report = classification_report(test_Y_coex, y_pred_test)\n",
    "\n",
    "print(\"Training data\")\n",
    "print(\"Accuracy:\", accuracy)\n",
    "print(\"Confusion Matrix:\")\n",
    "print(confusion)\n",
    "print(\"Classification Report:\")\n",
    "print(report)\n",
    "\n",
    "joblib.dump(forest, 'saved_models/RF_coex_103023.pkl')"
   ]
  },
  {
   "cell_type": "markdown",
   "id": "43225984",
   "metadata": {},
   "source": [
    "## Build a RF regressor model to predict shannon's equitability index\n",
    "\n",
    "ShannonE scores above 0.7 generally exclude the poorest performing param sets"
   ]
  },
  {
   "cell_type": "code",
   "execution_count": 41,
   "id": "dd8a2948",
   "metadata": {},
   "outputs": [
    {
     "data": {
      "image/png": "[encoded data removed]",
      "text/plain": [
       "<Figure size 640x480 with 1 Axes>"
      ]
     },
     "metadata": {},
     "output_type": "display_data"
    }
   ],
   "source": [
    "plt.scatter(train_set['FailedPFTs'],train_set['ShannonE'])\n",
    "plt.show()\n",
    "plt.xlabel(\"Number of failed pfts\")\n",
    "plt.ylabel(\"\")"
   ]
  },
  {
   "cell_type": "markdown",
   "id": "fc531b89",
   "metadata": {},
   "source": [
    "We have to bin the data to get some high shannon scores in the test data"
   ]
  },
  {
   "cell_type": "code",
   "execution_count": 55,
   "id": "e1c06837",
   "metadata": {},
   "outputs": [],
   "source": [
    "df[\"ShannonE_cat\"] = pd.cut(df[\"ShannonE\"],\n",
    "                           bins = [-0.01,0.25,0.50,0.75,np.inf],\n",
    "                           labels = [1,2,3,4])"
   ]
  },
  {
   "cell_type": "code",
   "execution_count": 56,
   "id": "ce11d4df",
   "metadata": {},
   "outputs": [
    {
     "data": {
      "text/plain": [
       "<Axes: >"
      ]
     },
     "execution_count": 56,
     "metadata": {},
     "output_type": "execute_result"
    },
    {
     "data": {
      "image/png": "[encoded data removed]",
      "text/plain": [
       "<Figure size 640x480 with 1 Axes>"
      ]
     },
     "metadata": {},
     "output_type": "display_data"
    }
   ],
   "source": [
    "df[\"ShannonE_cat\"].hist()"
   ]
  },
  {
   "cell_type": "markdown",
   "id": "de6505d8",
   "metadata": {},
   "source": [
    "## Split the data while stratifying across the different ShannonE groups"
   ]
  },
  {
   "cell_type": "code",
   "execution_count": 61,
   "id": "ecc1b570",
   "metadata": {},
   "outputs": [],
   "source": [
    "from sklearn.model_selection import StratifiedShuffleSplit\n",
    "\n",
    "split = StratifiedShuffleSplit(n_splits=1, test_size = 0.1, random_state = 42)\n",
    "\n",
    "# Split the data into training and test sets, maintaining an equal proportion of veg and non-veg labels in each.\n",
    "for train_index, test_index in split.split(df, df['ShannonE_cat']):\n",
    "    train_set = df.iloc[train_index]\n",
    "    test_set = df.iloc[test_index]\n",
    "    \n",
    "X_cols = train_set.columns[train_set.columns.str.contains('fates')]\n",
    "train_X = train_set[X_cols]\n",
    "test_X = test_set[X_cols]\n",
    "\n",
    "#Create vars to be predicted\n",
    "train_y_coex = train_set[\"coexistence\"].copy()\n",
    "train_y_shannonE = train_set[\"ShannonE\"].copy()\n",
    "train_y_failedPFTs = train_set[\"FailedPFTs\"].copy()\n",
    "\n",
    "test_Y_coex = test_set[\"coexistence\"].copy()\n",
    "test_y_shannonE = test_set[\"ShannonE\"].copy()\n",
    "test_y_failedPFTs = test_set[\"FailedPFTs\"].copy()\n",
    "\n",
    "# Apply transformation pipeline to training data\n",
    "X = transformation_pipeline.fit_transform(train_X)\n",
    "# Apply to test data\n",
    "\n",
    "X_test = transformation_pipeline.fit_transform(test_X)"
   ]
  },
  {
   "cell_type": "markdown",
   "id": "b71a7f68",
   "metadata": {},
   "source": [
    "## Train and evaluate a non-optimized random forest regressor\n",
    "\n",
    "There is very little predictive power here."
   ]
  },
  {
   "cell_type": "code",
   "execution_count": 63,
   "id": "ec228c3a",
   "metadata": {},
   "outputs": [
    {
     "name": "stdout",
     "output_type": "stream",
     "text": [
      "Scores: [0.19987329 0.18817756 0.20445951 0.20049864 0.21232255 0.20080414\n",
      " 0.20564374 0.19532841 0.20242907 0.18832077]\n",
      "Mean: 0.19978576701638037\n",
      "Standard deviation: 0.007126956362220488\n"
     ]
    },
    {
     "data": {
      "text/plain": [
       "Text(0, 0.5, 'Prediction')"
      ]
     },
     "execution_count": 63,
     "metadata": {},
     "output_type": "execute_result"
    },
    {
     "data": {
      "image/png": "[encoded data removed]",
      "text/plain": [
       "<Figure size 640x480 with 1 Axes>"
      ]
     },
     "metadata": {},
     "output_type": "display_data"
    }
   ],
   "source": [
    "from sklearn.ensemble import RandomForestRegressor\n",
    "\n",
    "forest_reg = RandomForestRegressor(random_state=42)\n",
    "\n",
    "forest_reg_scores = cross_val_score(forest_reg,X,train_y_shannonE,cv=10,scoring=\"neg_mean_squared_error\")\n",
    "tree_reg_rmse_scores = np.sqrt(-forest_reg_scores)\n",
    "display_scores(tree_reg_rmse_scores)\n",
    "\n",
    "forest_reg.fit(X,train_y_shannonE)\n",
    "forest_reg_train_preds = forest_reg.predict(X)\n",
    "forest_reg_test_preds = forest_reg.predict(X_test)\n",
    "\n",
    "plt.scatter(test_y_shannonE,forest_reg_test_preds)\n",
    "plt.xlabel(\"True value\")\n",
    "plt.ylabel(\"Prediction\")"
   ]
  },
  {
   "cell_type": "markdown",
   "id": "9d1e506b",
   "metadata": {},
   "source": [
    "## RF model to predict the number of failed pfts\n",
    "\n",
    "It should be better at doing this because it will have more data. It might still confuse cases where 1 or 0 pfts fail, but it would still be useful to rule out cases where >1 pfts fail and it might be able to do a good job of this."
   ]
  },
  {
   "cell_type": "markdown",
   "id": "2fb27be1",
   "metadata": {},
   "source": [
    "## Stratify data by number of failed pfts"
   ]
  },
  {
   "cell_type": "code",
   "execution_count": 64,
   "id": "71dc6659",
   "metadata": {},
   "outputs": [
    {
     "data": {
      "text/plain": [
       "<Axes: >"
      ]
     },
     "execution_count": 64,
     "metadata": {},
     "output_type": "execute_result"
    },
    {
     "data": {
      "image/png": "[encoded data removed]",
      "text/plain": [
       "<Figure size 640x480 with 1 Axes>"
      ]
     },
     "metadata": {},
     "output_type": "display_data"
    }
   ],
   "source": [
    "df[\"FailedPFTs\"].hist()"
   ]
  },
  {
   "cell_type": "code",
   "execution_count": 65,
   "id": "9e26eab1",
   "metadata": {},
   "outputs": [],
   "source": [
    "from sklearn.model_selection import StratifiedShuffleSplit\n",
    "\n",
    "split = StratifiedShuffleSplit(n_splits=1, test_size = 0.1, random_state = 42)\n",
    "\n",
    "# Split the data into training and test sets, maintaining an equal proportion of veg and non-veg labels in each.\n",
    "for train_index, test_index in split.split(df, df['FailedPFTs']):\n",
    "    train_set = df.iloc[train_index]\n",
    "    test_set = df.iloc[test_index]\n",
    "    \n",
    "X_cols = train_set.columns[train_set.columns.str.contains('fates')]\n",
    "train_X = train_set[X_cols]\n",
    "test_X = test_set[X_cols]\n",
    "\n",
    "#Create vars to be predicted\n",
    "train_y_coex = train_set[\"coexistence\"].copy()\n",
    "train_y_shannonE = train_set[\"ShannonE\"].copy()\n",
    "train_y_failedPFTs = train_set[\"FailedPFTs\"].copy()\n",
    "\n",
    "test_Y_coex = test_set[\"coexistence\"].copy()\n",
    "test_y_shannonE = test_set[\"ShannonE\"].copy()\n",
    "test_y_failedPFTs = test_set[\"FailedPFTs\"].copy()\n",
    "\n",
    "\n",
    "# Apply transformation pipeline to training data\n",
    "X = transformation_pipeline.fit_transform(train_X)\n",
    "# Apply to test data\n",
    "\n",
    "X_test = transformation_pipeline.fit_transform(test_X)"
   ]
  },
  {
   "cell_type": "markdown",
   "id": "9e9a3323",
   "metadata": {},
   "source": [
    "## Evaluate accuracy of multi-class classifier"
   ]
  },
  {
   "cell_type": "code",
   "execution_count": 66,
   "id": "120f44a8",
   "metadata": {},
   "outputs": [
    {
     "name": "stdout",
     "output_type": "stream",
     "text": [
      "Scores: [0.47985348 0.49632353 0.46323529 0.48161765 0.46323529 0.46691176\n",
      " 0.49632353 0.45220588 0.46691176 0.44485294]\n",
      "Mean: 0.47114711269123044\n",
      "Standard deviation: 0.016322869204435722\n"
     ]
    }
   ],
   "source": [
    "forest_failedPFTs = RandomForestClassifier(random_state=42)\n",
    "forest_failedPFTs_scores = cross_val_score(forest_failedPFTs,X,train_y_failedPFTs,cv=10,scoring=\"accuracy\")\n",
    "display_scores(forest_failedPFTs_scores)"
   ]
  },
  {
   "cell_type": "markdown",
   "id": "66e84f06",
   "metadata": {},
   "source": [
    "## Confusion matrix on validation data"
   ]
  },
  {
   "cell_type": "code",
   "execution_count": 75,
   "id": "1bb4003e",
   "metadata": {},
   "outputs": [
    {
     "data": {
      "text/plain": [
       "FailedPFTs\n",
       "2    723\n",
       "4    706\n",
       "1    626\n",
       "3    502\n",
       "0    164\n",
       "Name: count, dtype: int64"
      ]
     },
     "execution_count": 75,
     "metadata": {},
     "output_type": "execute_result"
    }
   ],
   "source": [
    "train_y_failedPFTs.value_counts()"
   ]
  },
  {
   "cell_type": "code",
   "execution_count": 70,
   "id": "93120be5",
   "metadata": {},
   "outputs": [
    {
     "data": {
      "text/plain": [
       "<Axes: >"
      ]
     },
     "execution_count": 70,
     "metadata": {},
     "output_type": "execute_result"
    },
    {
     "data": {
      "image/png": "[encoded data removed]",
      "text/plain": [
       "<Figure size 640x480 with 1 Axes>"
      ]
     },
     "metadata": {},
     "output_type": "display_data"
    }
   ],
   "source": [
    "train_y_failedPFTs.hist()"
   ]
  },
  {
   "cell_type": "code",
   "execution_count": 86,
   "id": "c157094a",
   "metadata": {},
   "outputs": [
    {
     "data": {
      "text/html": [
       "<div>\n",
       "<style scoped>\n",
       "    .dataframe tbody tr th:only-of-type {\n",
       "        vertical-align: middle;\n",
       "    }\n",
       "\n",
       "    .dataframe tbody tr th {\n",
       "        vertical-align: top;\n",
       "    }\n",
       "\n",
       "    .dataframe thead th {\n",
       "        text-align: right;\n",
       "    }\n",
       "</style>\n",
       "<table border=\"1\" class=\"dataframe\">\n",
       "  <thead>\n",
       "    <tr style=\"text-align: right;\">\n",
       "      <th></th>\n",
       "      <th>Predicted 0</th>\n",
       "      <th>Predicted 1</th>\n",
       "      <th>Predicted 2</th>\n",
       "      <th>Predicted 3</th>\n",
       "      <th>Predicted 4</th>\n",
       "    </tr>\n",
       "  </thead>\n",
       "  <tbody>\n",
       "    <tr>\n",
       "      <th>Actual 0</th>\n",
       "      <td>0</td>\n",
       "      <td>78</td>\n",
       "      <td>64</td>\n",
       "      <td>5</td>\n",
       "      <td>17</td>\n",
       "    </tr>\n",
       "    <tr>\n",
       "      <th>Actual 1</th>\n",
       "      <td>0</td>\n",
       "      <td>232</td>\n",
       "      <td>284</td>\n",
       "      <td>15</td>\n",
       "      <td>95</td>\n",
       "    </tr>\n",
       "    <tr>\n",
       "      <th>Actual 2</th>\n",
       "      <td>0</td>\n",
       "      <td>172</td>\n",
       "      <td>412</td>\n",
       "      <td>25</td>\n",
       "      <td>114</td>\n",
       "    </tr>\n",
       "    <tr>\n",
       "      <th>Actual 3</th>\n",
       "      <td>0</td>\n",
       "      <td>68</td>\n",
       "      <td>178</td>\n",
       "      <td>21</td>\n",
       "      <td>235</td>\n",
       "    </tr>\n",
       "    <tr>\n",
       "      <th>Actual 4</th>\n",
       "      <td>0</td>\n",
       "      <td>56</td>\n",
       "      <td>55</td>\n",
       "      <td>26</td>\n",
       "      <td>569</td>\n",
       "    </tr>\n",
       "  </tbody>\n",
       "</table>\n",
       "</div>"
      ],
      "text/plain": [
       "          Predicted 0  Predicted 1  Predicted 2  Predicted 3  Predicted 4\n",
       "Actual 0            0           78           64            5           17\n",
       "Actual 1            0          232          284           15           95\n",
       "Actual 2            0          172          412           25          114\n",
       "Actual 3            0           68          178           21          235\n",
       "Actual 4            0           56           55           26          569"
      ]
     },
     "execution_count": 86,
     "metadata": {},
     "output_type": "execute_result"
    }
   ],
   "source": [
    "y_pred_failedPFTs = cross_val_predict(forest_failedPFTs,X,train_y_failedPFTs,cv=3)\n",
    "labeled_confusion_matrix(train_y_failedPFTs,y_pred_failedPFTs,labels=[0,1,2,3,4])"
   ]
  },
  {
   "cell_type": "markdown",
   "id": "7dfaee6e",
   "metadata": {},
   "source": [
    "## Confusion matrix on test data\n",
    "\n",
    "Here we see that it never predict total coexistence among the 5 pfts, but when it predicts that 1 pft will fail we rarely get a scenario where 3 or 4 pfts failed, so we can use this to weed out the worst cases."
   ]
  },
  {
   "cell_type": "code",
   "execution_count": 85,
   "id": "80600183",
   "metadata": {},
   "outputs": [
    {
     "data": {
      "text/html": [
       "<div>\n",
       "<style scoped>\n",
       "    .dataframe tbody tr th:only-of-type {\n",
       "        vertical-align: middle;\n",
       "    }\n",
       "\n",
       "    .dataframe tbody tr th {\n",
       "        vertical-align: top;\n",
       "    }\n",
       "\n",
       "    .dataframe thead th {\n",
       "        text-align: right;\n",
       "    }\n",
       "</style>\n",
       "<table border=\"1\" class=\"dataframe\">\n",
       "  <thead>\n",
       "    <tr style=\"text-align: right;\">\n",
       "      <th></th>\n",
       "      <th>Predicted 0</th>\n",
       "      <th>Predicted 1</th>\n",
       "      <th>Predicted 2</th>\n",
       "      <th>Predicted 3</th>\n",
       "      <th>Predicted 4</th>\n",
       "    </tr>\n",
       "  </thead>\n",
       "  <tbody>\n",
       "    <tr>\n",
       "      <th>Actual 0</th>\n",
       "      <td>0</td>\n",
       "      <td>6</td>\n",
       "      <td>9</td>\n",
       "      <td>0</td>\n",
       "      <td>3</td>\n",
       "    </tr>\n",
       "    <tr>\n",
       "      <th>Actual 1</th>\n",
       "      <td>0</td>\n",
       "      <td>27</td>\n",
       "      <td>35</td>\n",
       "      <td>2</td>\n",
       "      <td>6</td>\n",
       "    </tr>\n",
       "    <tr>\n",
       "      <th>Actual 2</th>\n",
       "      <td>0</td>\n",
       "      <td>20</td>\n",
       "      <td>40</td>\n",
       "      <td>4</td>\n",
       "      <td>17</td>\n",
       "    </tr>\n",
       "    <tr>\n",
       "      <th>Actual 3</th>\n",
       "      <td>0</td>\n",
       "      <td>7</td>\n",
       "      <td>17</td>\n",
       "      <td>3</td>\n",
       "      <td>29</td>\n",
       "    </tr>\n",
       "    <tr>\n",
       "      <th>Actual 4</th>\n",
       "      <td>0</td>\n",
       "      <td>4</td>\n",
       "      <td>10</td>\n",
       "      <td>2</td>\n",
       "      <td>62</td>\n",
       "    </tr>\n",
       "  </tbody>\n",
       "</table>\n",
       "</div>"
      ],
      "text/plain": [
       "          Predicted 0  Predicted 1  Predicted 2  Predicted 3  Predicted 4\n",
       "Actual 0            0            6            9            0            3\n",
       "Actual 1            0           27           35            2            6\n",
       "Actual 2            0           20           40            4           17\n",
       "Actual 3            0            7           17            3           29\n",
       "Actual 4            0            4           10            2           62"
      ]
     },
     "execution_count": 85,
     "metadata": {},
     "output_type": "execute_result"
    }
   ],
   "source": [
    "forest_failedPFTs.fit(X,train_y_failedPFTs)\n",
    "y_pred_failedPFTs_test = forest_failedPFTs.predict(X_test)\n",
    "labeled_confusion_matrix(test_y_failedPFTs,y_pred_failedPFTs_test,labels = [0,1,2,3,4])\n",
    "\n"
   ]
  },
  {
   "cell_type": "markdown",
   "id": "e7d411a1",
   "metadata": {},
   "source": [
    "## Save the multi-class model"
   ]
  },
  {
   "cell_type": "code",
   "execution_count": 87,
   "id": "2b1d5ca2",
   "metadata": {},
   "outputs": [
    {
     "data": {
      "text/plain": [
       "['RF_NFailedPFTs_103023.pkl']"
      ]
     },
     "execution_count": 87,
     "metadata": {},
     "output_type": "execute_result"
    }
   ],
   "source": [
    "joblib.dump(forest_failedPFTs, 'saved_models/RF_NFailedPFTs_103023.pkl')"
   ]
  },
  {
   "cell_type": "markdown",
   "id": "28f5ef28",
   "metadata": {},
   "source": [
    "## Hyperparameter optimization for multi-class classification\n",
    "\n",
    "I'm going to save doing this until I have more training data"
   ]
  },
  {
   "cell_type": "code",
   "execution_count": null,
   "id": "1b045768",
   "metadata": {},
   "outputs": [],
   "source": [
    "#Here we use the GridSearchCV function to find optimal hyperparameters\n",
    "\n",
    "#However, we can also use RandomizedSearchCV where you can specify the\n",
    "#Number of iterations directly and pull from (I guess) a distribution of hyperparameters\n",
    "\n",
    "# from sklearn.model_selection import GridSearchCV\n",
    "\n",
    "# param_grid = [\n",
    "#     {'n_estimators': [35, 100, 500], 'max_features': [0.25, 0.5, 0.8]},\n",
    "#     {'bootstrap': [False], 'n_estimators': [35, 100, 500], 'max_features': [0.25, 0.5, 0.8]},\n",
    "#   ]\n",
    "\n",
    "# forest_grid = RandomForestClassifier()\n",
    "\n",
    "# # train across 5 folds, that's a total of (12+6)*5=90 rounds of training \n",
    "# grid_search = GridSearchCV(forest_grid, param_grid, cv=5,\n",
    "#                            scoring='accuracy',\n",
    "#                            return_train_score=True)\n",
    "# grid_search.fit(X, train_y_coex)\n",
    "# grid_search.best_params_"
   ]
  },
  {
   "cell_type": "markdown",
   "id": "fb4879a9",
   "metadata": {},
   "source": [
    "## Hyperparameter optimization for binary classification random forest model"
   ]
  },
  {
   "cell_type": "code",
   "execution_count": null,
   "id": "9d82de41",
   "metadata": {},
   "outputs": [],
   "source": [
    "#Here we use the GridSearchCV function to find optimal hyperparameters\n",
    "\n",
    "#However, we can also use RandomizedSearchCV where you can specify the\n",
    "#Number of iterations directly and pull from (I guess) a distribution of hyperparameters\n",
    "\n",
    "# from sklearn.model_selection import GridSearchCV\n",
    "\n",
    "# param_grid = [\n",
    "#     {'n_estimators': [35, 100, 500], 'max_features': [0.25, 0.5, 0.8]},\n",
    "#     {'bootstrap': [False], 'n_estimators': [35, 100, 500], 'max_features': [0.25, 0.5, 0.8]},\n",
    "#   ]\n",
    "\n",
    "# forest_grid = RandomForestClassifier()\n",
    "\n",
    "# # train across 5 folds, that's a total of (12+6)*5=90 rounds of training \n",
    "# grid_search = GridSearchCV(forest_grid, param_grid, cv=5,\n",
    "#                            scoring='accuracy',\n",
    "#                            return_train_score=True)\n",
    "# grid_search.fit(X, train_y_coex)\n",
    "# grid_search.best_params_"
   ]
  },
  {
   "cell_type": "markdown",
   "id": "3e79a061",
   "metadata": {},
   "source": [
    "### See results of the hyperparameter optimization\n",
    "\n",
    "Scores are not very sensitive to these hyperparameters, but best had these params:{'max_features': 0.25, 'n_estimators': 100}"
   ]
  },
  {
   "cell_type": "code",
   "execution_count": null,
   "id": "bedfa8fe",
   "metadata": {
    "scrolled": false
   },
   "outputs": [],
   "source": [
    "# cvres = grid_search.cv_results_\n",
    "# for mean_score, params in zip(cvres[\"mean_test_score\"],cvres[\"params\"]):\n",
    "#     print(mean_score,params)"
   ]
  },
  {
   "cell_type": "markdown",
   "id": "9e077d4d",
   "metadata": {},
   "source": [
    "## Support Vector Machine"
   ]
  },
  {
   "cell_type": "code",
   "execution_count": null,
   "id": "66c8c8d5",
   "metadata": {},
   "outputs": [],
   "source": [
    "# from sklearn.svm import SVC\n",
    "\n",
    "# svm_clf = SVC(gamma=\"auto\", random_state=42)\n",
    "# svm_scores = cross_val_score(svm_clf,X,train_y_coex,cv=10,scoring=\"accuracy\")\n",
    "# print(\"Naive:\",naive_scores)\n",
    "# print(\"\\n\")\n",
    "# print(\"SVM:\",svm_scores)"
   ]
  },
  {
   "cell_type": "markdown",
   "id": "56aac5fc",
   "metadata": {},
   "source": [
    "## Stochastic Gradient Descent Classifier\n",
    "\n",
    "This is crashing the kernel"
   ]
  },
  {
   "cell_type": "code",
   "execution_count": null,
   "id": "0e3b2422",
   "metadata": {},
   "outputs": [],
   "source": [
    "# from sklearn.linear_model import SGDClassifier\n",
    "\n",
    "# sgd_clf = SGDClassifier(random_state=42)\n",
    "\n",
    "# sgd_scores = cross_val_score(sgd_clf,X,train_y_coex,cv=10,scoring=\"accuracy\")\n",
    "\n",
    "# print(\"Naive:\",naive_scores)\n",
    "# print(\"\\n\")\n",
    "# print(\"SGD:\",sgd_scores_scores)"
   ]
  }
 ],
 "metadata": {
  "kernelspec": {
   "display_name": "Python [conda env:la-veg]",
   "language": "python",
   "name": "conda-env-la-veg-py"
  },
  "language_info": {
   "codemirror_mode": {
    "name": "ipython",
    "version": 3
   },
   "file_extension": ".py",
   "mimetype": "text/x-python",
   "name": "python",
   "nbconvert_exporter": "python",
   "pygments_lexer": "ipython3",
   "version": "3.10.13"
  },
  "toc": {
   "base_numbering": 1,
   "nav_menu": {},
   "number_sections": true,
   "sideBar": true,
   "skip_h1_title": true,
   "title_cell": "Table of Contents",
   "title_sidebar": "Contents",
   "toc_cell": false,
   "toc_position": {
    "height": "calc(100% - 180px)",
    "left": "10px",
    "top": "150px",
    "width": "235px"
   },
   "toc_section_display": true,
   "toc_window_display": true
  }
 },
 "nbformat": 4,
 "nbformat_minor": 5
}
