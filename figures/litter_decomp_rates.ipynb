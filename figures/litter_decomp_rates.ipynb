{
 "cells": [
  {
   "cell_type": "code",
   "execution_count": 59,
   "id": "7591b53d-a0f7-4557-b757-2572f70da32d",
   "metadata": {},
   "outputs": [],
   "source": [
    "import netCDF4 as nc4\n",
    "import xarray as xr\n",
    "import numpy as np\n",
    "import pandas as pd\n",
    "import warnings\n",
    "warnings.filterwarnings('ignore')\n",
    "sys.path.append('/glade/u/home/adamhb/Earth-System-Model-Tools/')\n",
    "import importlib\n",
    "#importlib.reload(fields)\n",
    "from fields import fields\n",
    "import esm_tools\n",
    "from matplotlib import pyplot as plt\n",
    "import os"
   ]
  },
  {
   "cell_type": "markdown",
   "id": "04793ef1-26ea-4f0b-a696-fcbfe67b5b40",
   "metadata": {},
   "source": [
    "## Paths and constants"
   ]
  },
  {
   "cell_type": "code",
   "execution_count": 128,
   "id": "56e4ded2-eb4a-41ec-9226-a6f11e77f6c6",
   "metadata": {},
   "outputs": [],
   "source": [
    "case_name = 'CZ2_equilibrium_040924_-17e2acb6a_FATES-1449c787'\n",
    "s_per_year = 3.154e+7\n",
    "fates_litterclass_name = [\"twig\",\"small_branch\",\"large_branch\",\"trunk\",\"dead_leaves\",\"live_grass\"]\n",
    "np.set_printoptions(suppress=True)"
   ]
  },
  {
   "cell_type": "code",
   "execution_count": 124,
   "id": "8473ea69-8f04-4efe-8cd3-4110b584fea7",
   "metadata": {},
   "outputs": [],
   "source": [
    "def get_litter_out(ds):\n",
    "    '''\n",
    "    returns litter out in kg m-2 s-1\n",
    "    '''\n",
    "    return ds['FATES_LITTER_OUT'].mean(dim = \"time\").values * s_per_year\n",
    "\n",
    "def get_frag_scaler(inst_tag):\n",
    "    ds = esm_tools.load_fates_output_data(model_output_root='/glade/derecho/scratch/adamhb',\n",
    "                                      case_name=case_name,years = list(range(1849,1869)),\n",
    "                                      fields=['FATES_LITTER_OUT','FATES_FRAGMENTATION_SCALER_SL'],\n",
    "                                      inst_tag=inst_tag)\n",
    "    \n",
    "    return ds['FATES_FRAGMENTATION_SCALER_SL'].mean(dim = \"time\").isel(levsoi = 0).values\n",
    "\n",
    "def get_max_frag_rate(inst_tag):\n",
    "    path_to_param_files = '/glade/u/home/adamhb/ahb_params/fates_api_25/ensembles/CZ2_equilibrium_040924/'\n",
    "    ref_nc_file = esm_tools.find_files_with_substring(directory=path_to_param_files,\n",
    "                                                    substring=inst_tag)\n",
    "            \n",
    "    # Get full path of ref param file\n",
    "    ref_nc_file_full_path = os.path.join(path_to_param_files,ref_nc_file[0])\n",
    "    print(ref_nc_file_full_path)\n",
    "    max_frag_rates = [esm_tools.extract_variable_from_netcdf(ref_nc_file_full_path,\"fates_frag_maxdecomp\",i) for i in list(range(0,6))]\n",
    "    return np.array(max_frag_rates)\n",
    "\n",
    "def get_bias(inst_tag, frag_obs = frag_obs_mean):\n",
    "    max_frag = get_max_frag_rate(inst_tag)\n",
    "    f_scaler = f_scaler_mean\n",
    "    pred_frag_rate = max_frag * f_scaler\n",
    "    bias = pred_frag_rate - frag_obs\n",
    "    return np.concatenate((max_frag,bias),axis = 0)"
   ]
  },
  {
   "cell_type": "markdown",
   "id": "f719c0d8-c8e6-4d24-94b1-beeac4331f93",
   "metadata": {},
   "source": [
    "## Obs of fragmentation rates"
   ]
  },
  {
   "cell_type": "code",
   "execution_count": 122,
   "id": "880e41f0-55ca-4232-b86f-0751c7e68819",
   "metadata": {},
   "outputs": [
    {
     "data": {
      "text/plain": [
       "array([0.1 , 0.09, 0.08, 0.04, 0.16, 0.16])"
      ]
     },
     "execution_count": 122,
     "metadata": {},
     "output_type": "execute_result"
    }
   ],
   "source": [
    "fates_litterclass_name = [\"twig\",\"small_branch\",\"large_branch\",\"trunk\",\"dead_leaves\",\"live_grass\"]\n",
    "frag_obs_mean = np.array([0.1,# Based on Campbell et al., 2006 and McIntyre and Ottman, 2006\n",
    "                 0.09,# Based on Campbell et al., 2006 and McIntyre and Ottman, 2006\n",
    "                 0.08,# Based on Campbell et al., 2006 and McIntyre and Ottman, 2006\n",
    "                 0.04,# McIntyre and Ottman, 2006 and Harmon et al., 2020\n",
    "                 0.16, # Based on Hart et al., 1992 and McIntyre and Ottman, 2006\n",
    "                 0.16])\n",
    "frag_obs_mean"
   ]
  },
  {
   "cell_type": "markdown",
   "id": "519ab052-6d80-4f4d-8b01-6e8e60590e05",
   "metadata": {},
   "source": [
    "## Get mean frag scaler from prior runs"
   ]
  },
  {
   "cell_type": "code",
   "execution_count": 85,
   "id": "9ec6e32f-12f7-4fdb-931e-fd346128ad9b",
   "metadata": {},
   "outputs": [
    {
     "name": "stdout",
     "output_type": "stream",
     "text": [
      "-- your data have been read in -- \n",
      "0.14193371\n",
      "-- your data have been read in -- \n",
      "0.13646555\n",
      "-- your data have been read in -- \n",
      "0.13256435\n",
      "-- your data have been read in -- \n",
      "0.12826414\n",
      "-- your data have been read in -- \n",
      "0.1335383\n",
      "-- your data have been read in -- \n",
      "0.12980542\n",
      "-- your data have been read in -- \n",
      "0.1427188\n",
      "-- your data have been read in -- \n",
      "0.12542418\n",
      "-- your data have been read in -- \n",
      "0.13799712\n",
      "-- your data have been read in -- \n",
      "0.12889846\n",
      "-- your data have been read in -- \n",
      "0.13203765\n",
      "-- your data have been read in -- \n",
      "0.12737763\n",
      "-- your data have been read in -- \n",
      "0.12697484\n",
      "-- your data have been read in -- \n",
      "0.124168165\n",
      "-- your data have been read in -- \n",
      "0.12928279\n",
      "-- your data have been read in -- \n",
      "0.13863823\n",
      "-- your data have been read in -- \n",
      "0.12542655\n",
      "-- your data have been read in -- \n",
      "0.14350632\n",
      "-- your data have been read in -- \n",
      "0.124387994\n"
     ]
    }
   ],
   "source": [
    "f_scaler = []\n",
    "for tag in esm_tools.inst_to_tag(list(range(1,20))):\n",
    "    tmp = get_frag_scaler(tag)\n",
    "    print(tmp)\n",
    "    f_scaler.append(tmp)\n",
    "\n",
    "f_scaler = [f_scaler[i].item() for i in list(range(len(f_scaler)))]\n",
    "f_scaler_mean = np.array(f_scaler).mean()"
   ]
  },
  {
   "cell_type": "markdown",
   "id": "18a16f15-35ba-4209-b2be-6fea25c766a3",
   "metadata": {},
   "source": [
    "## Find best params"
   ]
  },
  {
   "cell_type": "code",
   "execution_count": 149,
   "id": "4b4dbb0c-a762-44fc-9c93-9235ebbaafd9",
   "metadata": {},
   "outputs": [
    {
     "name": "stdout",
     "output_type": "stream",
     "text": [
      "low [0.37857501 0.34071751 0.30286001 0.15143001 0.60572002 0.60572002]\n",
      "high [1.13572504 1.02215254 0.90858003 0.45429002 1.81716007 1.81716007]\n"
     ]
    }
   ],
   "source": [
    "def get_optimal_max_decomp_param(f_scaler,obs_low, obs_high):\n",
    "    optimal_param_low = obs_low / f_scaler\n",
    "    optimal_param_high = obs_high / f_scaler\n",
    "    print(\"low\",optimal_param_low)\n",
    "    print(\"high\",optimal_param_high)\n",
    "    return \n",
    "\n",
    "obs_low = frag_obs_mean * 0.5\n",
    "obs_high = frag_obs_mean * 1.5\n",
    "\n",
    "[\"twig\",\"small_branch\",\"large_branch\",\"trunk\",\"dead_leaves\",\"live_grass\"]\n",
    "get_optimal_max_decomp_param(f_scaler_mean,obs_low, obs_high)"
   ]
  },
  {
   "cell_type": "code",
   "execution_count": 135,
   "id": "311dfe44-ac14-4dcc-9eeb-75154b6a9c89",
   "metadata": {},
   "outputs": [
    {
     "data": {
      "text/plain": [
       "array([1. , 0.9, 0.8, 0.4, 1.6, 1.6])"
      ]
     },
     "execution_count": 135,
     "metadata": {},
     "output_type": "execute_result"
    }
   ],
   "source": [
    "twig = frag_obs_mean[0]\n",
    "frag_obs_mean_frac_of_twig = frag_obs_mean/twig\n",
    "frag_obs_mean_frac_of_twig"
   ]
  },
  {
   "cell_type": "code",
   "execution_count": 151,
   "id": "0b5e24a4-8af7-4510-92ac-847d4b36b5a8",
   "metadata": {},
   "outputs": [
    {
     "data": {
      "text/plain": [
       "array([0.1 , 0.09, 0.08, 0.04, 0.16, 0.16])"
      ]
     },
     "execution_count": 151,
     "metadata": {},
     "output_type": "execute_result"
    }
   ],
   "source": [
    "frag_obs_mean"
   ]
  },
  {
   "cell_type": "code",
   "execution_count": 146,
   "id": "0c672c93-e205-4b9e-b3db-85397d3d25dd",
   "metadata": {},
   "outputs": [
    {
     "data": {
      "text/plain": [
       "0.13207422079224335"
      ]
     },
     "execution_count": 146,
     "metadata": {},
     "output_type": "execute_result"
    }
   ],
   "source": [
    "f_scaler_mean"
   ]
  },
  {
   "cell_type": "code",
   "execution_count": 147,
   "id": "a7ea7b9f-e339-4a8e-925e-69b908eb56df",
   "metadata": {},
   "outputs": [
    {
     "data": {
      "text/plain": [
       "0.025001649995971664"
      ]
     },
     "execution_count": 147,
     "metadata": {},
     "output_type": "execute_result"
    }
   ],
   "source": [
    "0.1893 * f_scaler_mean"
   ]
  },
  {
   "cell_type": "code",
   "execution_count": 133,
   "id": "dda52920-7aed-4381-b9b6-30b9bbeb34b7",
   "metadata": {},
   "outputs": [
    {
     "name": "stdout",
     "output_type": "stream",
     "text": [
      "/glade/u/home/adamhb/ahb_params/fates_api_25/ensembles/CZ2_equilibrium_040924/ca_5pfts_100523_0020.nc\n"
     ]
    },
    {
     "data": {
      "text/plain": [
       "array([  1.57454574,   1.1597135 ,   1.1597135 ,   0.19      ,\n",
       "         3.02797257, 999.        ])"
      ]
     },
     "execution_count": 133,
     "metadata": {},
     "output_type": "execute_result"
    }
   ],
   "source": [
    "get_max_frag_rate('0020')"
   ]
  },
  {
   "cell_type": "code",
   "execution_count": null,
   "id": "329ff77c-f94d-4ca5-8e62-f3071ad448da",
   "metadata": {},
   "outputs": [],
   "source": [
    "f_scaler_mean"
   ]
  },
  {
   "cell_type": "code",
   "execution_count": 79,
   "id": "87090fb2-e3dd-458e-8707-16fa3b0863cf",
   "metadata": {},
   "outputs": [],
   "source": [
    "decay_loc = pd.read_csv('~/california-fates/cwd_decay/decay_rate_location.csv')\n",
    "decay_data = pd.read_csv('~/california-fates/cwd_decay/decay_rates.csv')"
   ]
  },
  {
   "cell_type": "code",
   "execution_count": 82,
   "id": "f9214ea5-3f4d-4bf1-ab5d-c09adf418762",
   "metadata": {},
   "outputs": [
    {
     "data": {
      "text/html": [
       "<div>\n",
       "<style scoped>\n",
       "    .dataframe tbody tr th:only-of-type {\n",
       "        vertical-align: middle;\n",
       "    }\n",
       "\n",
       "    .dataframe tbody tr th {\n",
       "        vertical-align: top;\n",
       "    }\n",
       "\n",
       "    .dataframe thead th {\n",
       "        text-align: right;\n",
       "    }\n",
       "</style>\n",
       "<table border=\"1\" class=\"dataframe\">\n",
       "  <thead>\n",
       "    <tr style=\"text-align: right;\">\n",
       "      <th></th>\n",
       "      <th>Genus</th>\n",
       "      <th>Species</th>\n",
       "      <th>subspecies</th>\n",
       "      <th>Family</th>\n",
       "      <th>Climate zone</th>\n",
       "      <th>Forest type</th>\n",
       "      <th>Positon</th>\n",
       "      <th>Diameters (cm)</th>\n",
       "      <th>Model type</th>\n",
       "      <th>Target variable</th>\n",
       "      <th>k (per year)</th>\n",
       "      <th>stderr k (per year)</th>\n",
       "      <th>Decay resistance</th>\n",
       "      <th>Initial density (Mg per m cubed)</th>\n",
       "      <th>Reported precipitation (mm per year)</th>\n",
       "      <th>Reported temperature ( C )</th>\n",
       "      <th>WC precipitation (mm per year)</th>\n",
       "      <th>WC temperature ( C )</th>\n",
       "      <th>Reference</th>\n",
       "      <th>Unnamed: 19</th>\n",
       "    </tr>\n",
       "  </thead>\n",
       "  <tbody>\n",
       "  </tbody>\n",
       "</table>\n",
       "</div>"
      ],
      "text/plain": [
       "Empty DataFrame\n",
       "Columns: [Genus, Species, subspecies, Family, Climate zone, Forest type, Positon, Diameters (cm), Model type, Target variable, k (per year), stderr k (per year), Decay resistance, Initial density (Mg per m cubed), Reported precipitation (mm per year), Reported temperature ( C ), WC precipitation (mm per year), WC temperature ( C ), Reference, Unnamed: 19]\n",
       "Index: []"
      ]
     },
     "execution_count": 82,
     "metadata": {},
     "output_type": "execute_result"
    }
   ],
   "source": [
    "refs = decay_loc.loc[decay_loc['LOCATION'].isin(['US - CA','US - OR'])]['REFERENCE']\n",
    "decay_data.loc[decay_data['Reference'].isin(refs)]"
   ]
  },
  {
   "cell_type": "code",
   "execution_count": 70,
   "id": "126dc6ed-4b19-44a5-b5ee-3199630058e1",
   "metadata": {},
   "outputs": [
    {
     "name": "stdout",
     "output_type": "stream",
     "text": [
      "Empty DataFrame\n",
      "Columns: [LOCATION, FOREST_TYPE, LATITUDE, LONGITUDE, REFERENCE]\n",
      "Index: []\n"
     ]
    }
   ],
   "source": [
    "import pandas as pd\n",
    "\n",
    "# Example data setup\n",
    "data = {\n",
    "    'LOCATION': ['US - OR', 'US - WA', 'US - WY', 'US - NH', 'US - CA'],\n",
    "    'FOREST_TYPE': ['EF', 'EF', 'EF', 'EF', 'EF'],\n",
    "    'LATITUDE': ['43.03 N', '43.25 N', '41 N', '44.01 N', '43.73 N'],\n",
    "    'LONGITUDE': ['124.30 W', '124.15 W', '106 W', '71.48 W', '121.64 W'],\n",
    "    'REFERENCE': [16, 23, 25, 26, 30]\n",
    "}\n",
    "\n",
    "# Convert to DataFrame\n",
    "df = pd.DataFrame(data)\n",
    "\n",
    "# Convert LATITUDE and LONGITUDE to numeric after removing 'N' and 'W' and converting to negative longitudes\n",
    "df['LATITUDE'] = df['LATITUDE'].str.replace(' N', '').astype(float)\n",
    "df['LONGITUDE'] = df['LONGITUDE'].str.replace(' W', '').astype(float) * -1\n",
    "\n",
    "# Define bounds for the Sierra Nevada region\n",
    "lat_min = 36.0\n",
    "lat_max = 39.5\n",
    "lon_min = -120.0\n",
    "lon_max = -118.0\n",
    "\n",
    "# Filter for Sierra Nevada in California\n",
    "sierra_nevada_df = df[(df['LOCATION'] == 'US - CA') &\n",
    "                      (df['LATITUDE'] >= lat_min) &\n",
    "                      (df['LATITUDE'] <= lat_max) &\n",
    "                      (df['LONGITUDE'] >= lon_min) &\n",
    "                      (df['LONGITUDE'] <= lon_max)]\n",
    "\n",
    "print(sierra_nevada_df)\n"
   ]
  },
  {
   "cell_type": "code",
   "execution_count": null,
   "id": "155d0a00-0acf-42b7-afe6-997a22d37fbc",
   "metadata": {},
   "outputs": [],
   "source": [
    "decay_loc"
   ]
  }
 ],
 "metadata": {
  "kernelspec": {
   "display_name": "env4_work",
   "language": "python",
   "name": "env4_work"
  },
  "language_info": {
   "codemirror_mode": {
    "name": "ipython",
    "version": 3
   },
   "file_extension": ".py",
   "mimetype": "text/x-python",
   "name": "python",
   "nbconvert_exporter": "python",
   "pygments_lexer": "ipython3",
   "version": "3.8.13"
  }
 },
 "nbformat": 4,
 "nbformat_minor": 5
}
