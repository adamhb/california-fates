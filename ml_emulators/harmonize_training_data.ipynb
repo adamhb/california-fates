{
 "cells": [
  {
   "cell_type": "code",
   "execution_count": 7,
   "id": "6dcd1cbb",
   "metadata": {},
   "outputs": [],
   "source": [
    "import pandas as pd\n",
    "import numpy as np"
   ]
  },
  {
   "cell_type": "code",
   "execution_count": 2,
   "id": "96cd85c8",
   "metadata": {},
   "outputs": [],
   "source": [
    "df_110223 = pd.read_csv('ensemble_output_ca_5pfts_ml_assisted_720_100123_XX_-17e2acb6a_FATES-8a054a12_20231103104816_structure_metrics_last3_years.csv')"
   ]
  },
  {
   "cell_type": "code",
   "execution_count": 4,
   "id": "31c2e61e",
   "metadata": {},
   "outputs": [],
   "source": [
    "df_101223 = pd.read_csv('all_member_output_101223.csv')"
   ]
  },
  {
   "cell_type": "code",
   "execution_count": 11,
   "id": "6a72c87a",
   "metadata": {},
   "outputs": [
    {
     "name": "stdout",
     "output_type": "stream",
     "text": [
      "['inst_id' 'param_file_path']\n"
     ]
    }
   ],
   "source": [
    "cols_to_add_to_df110223 = np.array([col_110223 not in df_101223.columns for col_110223 in df_110223.columns])\n",
    "cols_to_add_to_df110223 = np.array(df_110223.columns)[cols_to_add_to_df110223]\n",
    "print(cols_to_add_to_df110223)"
   ]
  },
  {
   "cell_type": "code",
   "execution_count": 12,
   "id": "e96592f6",
   "metadata": {},
   "outputs": [],
   "source": [
    "df_101223['inst_id'] = None\n",
    "df_101223['param_file_path'] = None"
   ]
  },
  {
   "cell_type": "code",
   "execution_count": 13,
   "id": "6ba5a105",
   "metadata": {},
   "outputs": [],
   "source": [
    "df = pd.concat([df_101223,df_110223],axis = 0)"
   ]
  },
  {
   "cell_type": "code",
   "execution_count": 18,
   "id": "f56c7012",
   "metadata": {},
   "outputs": [],
   "source": [
    "df.to_csv(\"ML_training_data_110323.csv\")"
   ]
  }
 ],
 "metadata": {
  "kernelspec": {
   "display_name": "Python [conda env:la-veg]",
   "language": "python",
   "name": "conda-env-la-veg-py"
  },
  "language_info": {
   "codemirror_mode": {
    "name": "ipython",
    "version": 3
   },
   "file_extension": ".py",
   "mimetype": "text/x-python",
   "name": "python",
   "nbconvert_exporter": "python",
   "pygments_lexer": "ipython3",
   "version": "3.10.13"
  },
  "toc": {
   "base_numbering": 1,
   "nav_menu": {},
   "number_sections": true,
   "sideBar": true,
   "skip_h1_title": false,
   "title_cell": "Table of Contents",
   "title_sidebar": "Contents",
   "toc_cell": false,
   "toc_position": {},
   "toc_section_display": true,
   "toc_window_display": false
  }
 },
 "nbformat": 4,
 "nbformat_minor": 5
}
