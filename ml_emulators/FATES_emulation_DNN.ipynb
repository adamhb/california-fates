{
  "cells": [
    {
      "cell_type": "markdown",
      "metadata": {
        "id": "view-in-github",
        "colab_type": "text"
      },
      "source": [
        "<a href=\"https://colab.research.google.com/github/adamhb/Earth-System-Model-Tools/blob/master/FATES_emulation_DNN.ipynb\" target=\"_parent\"><img src=\"https://colab.research.google.com/assets/colab-badge.svg\" alt=\"Open In Colab\"/></a>"
      ]
    },
    {
      "cell_type": "markdown",
      "metadata": {
        "id": "Hh6StcOmsc2Z"
      },
      "source": [
        "Import data"
      ]
    },
    {
      "cell_type": "code",
      "execution_count": 1,
      "metadata": {
        "colab": {
          "base_uri": "https://localhost:8080/",
          "height": 73
        },
        "id": "zrvzds9rYGuY",
        "outputId": "9f0c2e4c-d310-445a-c39f-646f1d114275"
      },
      "outputs": [
        {
          "output_type": "display_data",
          "data": {
            "text/plain": [
              "<IPython.core.display.HTML object>"
            ],
            "text/html": [
              "\n",
              "     <input type=\"file\" id=\"files-06267ba2-e88b-42f1-a9d6-eaa772d4d4b7\" name=\"files[]\" multiple disabled\n",
              "        style=\"border:none\" />\n",
              "     <output id=\"result-06267ba2-e88b-42f1-a9d6-eaa772d4d4b7\">\n",
              "      Upload widget is only available when the cell has been executed in the\n",
              "      current browser session. Please rerun this cell to enable.\n",
              "      </output>\n",
              "      <script>// Copyright 2017 Google LLC\n",
              "//\n",
              "// Licensed under the Apache License, Version 2.0 (the \"License\");\n",
              "// you may not use this file except in compliance with the License.\n",
              "// You may obtain a copy of the License at\n",
              "//\n",
              "//      http://www.apache.org/licenses/LICENSE-2.0\n",
              "//\n",
              "// Unless required by applicable law or agreed to in writing, software\n",
              "// distributed under the License is distributed on an \"AS IS\" BASIS,\n",
              "// WITHOUT WARRANTIES OR CONDITIONS OF ANY KIND, either express or implied.\n",
              "// See the License for the specific language governing permissions and\n",
              "// limitations under the License.\n",
              "\n",
              "/**\n",
              " * @fileoverview Helpers for google.colab Python module.\n",
              " */\n",
              "(function(scope) {\n",
              "function span(text, styleAttributes = {}) {\n",
              "  const element = document.createElement('span');\n",
              "  element.textContent = text;\n",
              "  for (const key of Object.keys(styleAttributes)) {\n",
              "    element.style[key] = styleAttributes[key];\n",
              "  }\n",
              "  return element;\n",
              "}\n",
              "\n",
              "// Max number of bytes which will be uploaded at a time.\n",
              "const MAX_PAYLOAD_SIZE = 100 * 1024;\n",
              "\n",
              "function _uploadFiles(inputId, outputId) {\n",
              "  const steps = uploadFilesStep(inputId, outputId);\n",
              "  const outputElement = document.getElementById(outputId);\n",
              "  // Cache steps on the outputElement to make it available for the next call\n",
              "  // to uploadFilesContinue from Python.\n",
              "  outputElement.steps = steps;\n",
              "\n",
              "  return _uploadFilesContinue(outputId);\n",
              "}\n",
              "\n",
              "// This is roughly an async generator (not supported in the browser yet),\n",
              "// where there are multiple asynchronous steps and the Python side is going\n",
              "// to poll for completion of each step.\n",
              "// This uses a Promise to block the python side on completion of each step,\n",
              "// then passes the result of the previous step as the input to the next step.\n",
              "function _uploadFilesContinue(outputId) {\n",
              "  const outputElement = document.getElementById(outputId);\n",
              "  const steps = outputElement.steps;\n",
              "\n",
              "  const next = steps.next(outputElement.lastPromiseValue);\n",
              "  return Promise.resolve(next.value.promise).then((value) => {\n",
              "    // Cache the last promise value to make it available to the next\n",
              "    // step of the generator.\n",
              "    outputElement.lastPromiseValue = value;\n",
              "    return next.value.response;\n",
              "  });\n",
              "}\n",
              "\n",
              "/**\n",
              " * Generator function which is called between each async step of the upload\n",
              " * process.\n",
              " * @param {string} inputId Element ID of the input file picker element.\n",
              " * @param {string} outputId Element ID of the output display.\n",
              " * @return {!Iterable<!Object>} Iterable of next steps.\n",
              " */\n",
              "function* uploadFilesStep(inputId, outputId) {\n",
              "  const inputElement = document.getElementById(inputId);\n",
              "  inputElement.disabled = false;\n",
              "\n",
              "  const outputElement = document.getElementById(outputId);\n",
              "  outputElement.innerHTML = '';\n",
              "\n",
              "  const pickedPromise = new Promise((resolve) => {\n",
              "    inputElement.addEventListener('change', (e) => {\n",
              "      resolve(e.target.files);\n",
              "    });\n",
              "  });\n",
              "\n",
              "  const cancel = document.createElement('button');\n",
              "  inputElement.parentElement.appendChild(cancel);\n",
              "  cancel.textContent = 'Cancel upload';\n",
              "  const cancelPromise = new Promise((resolve) => {\n",
              "    cancel.onclick = () => {\n",
              "      resolve(null);\n",
              "    };\n",
              "  });\n",
              "\n",
              "  // Wait for the user to pick the files.\n",
              "  const files = yield {\n",
              "    promise: Promise.race([pickedPromise, cancelPromise]),\n",
              "    response: {\n",
              "      action: 'starting',\n",
              "    }\n",
              "  };\n",
              "\n",
              "  cancel.remove();\n",
              "\n",
              "  // Disable the input element since further picks are not allowed.\n",
              "  inputElement.disabled = true;\n",
              "\n",
              "  if (!files) {\n",
              "    return {\n",
              "      response: {\n",
              "        action: 'complete',\n",
              "      }\n",
              "    };\n",
              "  }\n",
              "\n",
              "  for (const file of files) {\n",
              "    const li = document.createElement('li');\n",
              "    li.append(span(file.name, {fontWeight: 'bold'}));\n",
              "    li.append(span(\n",
              "        `(${file.type || 'n/a'}) - ${file.size} bytes, ` +\n",
              "        `last modified: ${\n",
              "            file.lastModifiedDate ? file.lastModifiedDate.toLocaleDateString() :\n",
              "                                    'n/a'} - `));\n",
              "    const percent = span('0% done');\n",
              "    li.appendChild(percent);\n",
              "\n",
              "    outputElement.appendChild(li);\n",
              "\n",
              "    const fileDataPromise = new Promise((resolve) => {\n",
              "      const reader = new FileReader();\n",
              "      reader.onload = (e) => {\n",
              "        resolve(e.target.result);\n",
              "      };\n",
              "      reader.readAsArrayBuffer(file);\n",
              "    });\n",
              "    // Wait for the data to be ready.\n",
              "    let fileData = yield {\n",
              "      promise: fileDataPromise,\n",
              "      response: {\n",
              "        action: 'continue',\n",
              "      }\n",
              "    };\n",
              "\n",
              "    // Use a chunked sending to avoid message size limits. See b/62115660.\n",
              "    let position = 0;\n",
              "    do {\n",
              "      const length = Math.min(fileData.byteLength - position, MAX_PAYLOAD_SIZE);\n",
              "      const chunk = new Uint8Array(fileData, position, length);\n",
              "      position += length;\n",
              "\n",
              "      const base64 = btoa(String.fromCharCode.apply(null, chunk));\n",
              "      yield {\n",
              "        response: {\n",
              "          action: 'append',\n",
              "          file: file.name,\n",
              "          data: base64,\n",
              "        },\n",
              "      };\n",
              "\n",
              "      let percentDone = fileData.byteLength === 0 ?\n",
              "          100 :\n",
              "          Math.round((position / fileData.byteLength) * 100);\n",
              "      percent.textContent = `${percentDone}% done`;\n",
              "\n",
              "    } while (position < fileData.byteLength);\n",
              "  }\n",
              "\n",
              "  // All done.\n",
              "  yield {\n",
              "    response: {\n",
              "      action: 'complete',\n",
              "    }\n",
              "  };\n",
              "}\n",
              "\n",
              "scope.google = scope.google || {};\n",
              "scope.google.colab = scope.google.colab || {};\n",
              "scope.google.colab._files = {\n",
              "  _uploadFiles,\n",
              "  _uploadFilesContinue,\n",
              "};\n",
              "})(self);\n",
              "</script> "
            ]
          },
          "metadata": {}
        },
        {
          "output_type": "stream",
          "name": "stdout",
          "text": [
            "Saving all_member_output_101223.csv to all_member_output_101223.csv\n"
          ]
        }
      ],
      "source": [
        "from google.colab import files\n",
        "uploaded = files.upload() #import the labeled remote sensing data"
      ]
    },
    {
      "cell_type": "markdown",
      "source": [
        "## Functions"
      ],
      "metadata": {
        "id": "kDvRZj7OXibM"
      }
    },
    {
      "cell_type": "code",
      "source": [
        "def display_scores(scores):\n",
        "    print(\"Scores:\", scores)\n",
        "    print(\"Mean:\", scores.mean())\n",
        "    print(\"Standard deviation:\", scores.std())\n",
        "\n",
        "from sklearn.metrics import confusion_matrix\n",
        "import pandas as pd\n",
        "\n",
        "def labeled_confusion_matrix(y_true, y_pred, labels=[0, 1], label_names=None):\n",
        "    \"\"\"\n",
        "    Returns a labeled confusion matrix using pandas DataFrame.\n",
        "\n",
        "    Args:\n",
        "    - y_true: list or array-like, Ground truth target values.\n",
        "    - y_pred: list or array-like, Estimated target values.\n",
        "    - labels: list, The set of labels to include in the confusion matrix.\n",
        "    - label_names: list or None, Names of the labels for better visualization.\n",
        "\n",
        "    Returns:\n",
        "    - DataFrame of the confusion matrix.\n",
        "    \"\"\"\n",
        "    # Calculate confusion matrix\n",
        "    cm = confusion_matrix(y_true, y_pred, labels=labels)\n",
        "\n",
        "    # Check if custom label names are provided\n",
        "    if label_names:\n",
        "        labels = label_names\n",
        "\n",
        "    # Convert the matrix to a DataFrame for better labeling\n",
        "    df_cm = pd.DataFrame(\n",
        "        cm,\n",
        "        columns=[f'Predicted {label}' for label in labels],\n",
        "        index=[f'Actual {label}' for label in labels]\n",
        "    )\n",
        "    return df_cm\n"
      ],
      "metadata": {
        "id": "TAS1J2NEXh4A"
      },
      "execution_count": 14,
      "outputs": []
    },
    {
      "cell_type": "markdown",
      "source": [
        "## Import and clean data"
      ],
      "metadata": {
        "id": "XddFN9kQWg7e"
      }
    },
    {
      "cell_type": "code",
      "source": [
        "from sklearn.model_selection import cross_val_score\n",
        "from sklearn.model_selection import cross_val_predict\n",
        "from sklearn.metrics import confusion_matrix"
      ],
      "metadata": {
        "id": "T_3jVVTNXUDY"
      },
      "execution_count": 10,
      "outputs": []
    },
    {
      "cell_type": "code",
      "execution_count": 3,
      "metadata": {
        "colab": {
          "base_uri": "https://localhost:8080/"
        },
        "id": "Ii9JYajesCsT",
        "outputId": "b2468815-9035-418d-a67d-5b79e2f8a468"
      },
      "outputs": [
        {
          "output_type": "stream",
          "name": "stdout",
          "text": [
            "<class 'pandas.core.frame.DataFrame'>\n",
            "RangeIndex: 3024 entries, 0 to 3023\n",
            "Columns: 117 entries, Unnamed: 0 to case_tag\n",
            "dtypes: float64(113), int64(4)\n",
            "memory usage: 2.7 MB\n",
            "None\n",
            "\n",
            "\n",
            "['BA', 'AGB', 'TreeStemD', 'ResproutD_oak', 'ResproutD_shrub', 'ShannonE', 'NPP', 'FailedPFTs', 'Pct_shrub_cover_canopy', 'Pct_shrub_cover', 'Combustible_fuel', 'BA_pine', 'BA_cedar', 'BA_fir', 'BA_shrub', 'BA_oak', 'inst', 'fates_recruit_seed_alloc_mature_1', 'fates_recruit_seed_alloc_mature_2', 'fates_recruit_seed_alloc_mature_3', 'fates_recruit_seed_alloc_mature_4', 'fates_recruit_seed_alloc_mature_5', 'fates_recruit_seed_dbh_repro_threshold_1', 'fates_recruit_seed_dbh_repro_threshold_2', 'fates_recruit_seed_dbh_repro_threshold_3', 'fates_recruit_seed_dbh_repro_threshold_5', 'fates_fire_alpha_SH_1', 'fates_fire_alpha_SH_2', 'fates_fire_alpha_SH_3', 'fates_fire_alpha_SH_4', 'fates_fire_alpha_SH_5', 'fates_fire_bark_scaler_1', 'fates_fire_bark_scaler_2', 'fates_fire_bark_scaler_3', 'fates_fire_bark_scaler_4', 'fates_fire_bark_scaler_5', 'fates_fire_crown_kill_1', 'fates_fire_crown_kill_2', 'fates_fire_crown_kill_3', 'fates_fire_crown_kill_4', 'fates_fire_crown_kill_5', 'fates_fire_drying_ratio_0', 'fates_fire_nignitions_0', 'fates_fire_threshold_0', 'fates_mort_bmort_1', 'fates_mort_bmort_2', 'fates_mort_bmort_3', 'fates_mort_bmort_4', 'fates_mort_bmort_5', 'fates_leaf_slatop_1', 'fates_leaf_slatop_2', 'fates_leaf_slatop_3', 'fates_leaf_slatop_4', 'fates_leaf_slatop_5', 'fates_leaf_slamax_0', 'fates_leaf_vcmax25top_1', 'fates_leaf_vcmax25top_2', 'fates_leaf_vcmax25top_3', 'fates_leaf_vcmax25top_4', 'fates_leaf_vcmax25top_5', 'fates_mort_scalar_cstarvation_1', 'fates_mort_scalar_cstarvation_2', 'fates_mort_scalar_cstarvation_3', 'fates_mort_scalar_cstarvation_4', 'fates_mort_scalar_cstarvation_5', 'fates_fire_frac_resprout_4', 'fates_fire_frac_resprout_5', 'fates_frag_seed_decay_rate_1', 'fates_frag_seed_decay_rate_2', 'fates_frag_seed_decay_rate_3', 'fates_frag_seed_decay_rate_4', 'fates_frag_seed_decay_rate_5', 'fates_recruit_seed_germination_rate_1', 'fates_recruit_seed_germination_rate_2', 'fates_recruit_seed_germination_rate_3', 'fates_recruit_seed_germination_rate_4', 'fates_recruit_seed_germination_rate_5', 'fates_disturbance_germ_4', 'fates_turnover_branch_1', 'fates_turnover_branch_2', 'fates_turnover_branch_3', 'fates_turnover_branch_4', 'fates_turnover_branch_5', 'fates_turnover_leaf_1', 'fates_turnover_leaf_2', 'fates_turnover_leaf_3', 'fates_turnover_leaf_4', 'fates_turnover_leaf_5', 'fates_nonhydro_smpsc_1', 'fates_nonhydro_smpsc_2', 'fates_nonhydro_smpsc_3', 'fates_nonhydro_smpsc_4', 'fates_nonhydro_smpsc_5', 'fates_mort_hf_sm_threshold_0', 'fates_recruit_inter_patch_disp_frac_0', 'fates_frag_maxdecomp_0', 'fates_alloc_storage_cushion_5', 'fates_grperc_4', 'fates_stoich_nitr_1', 'fates_stoich_nitr_2', 'fates_stoich_nitr_3', 'fates_stoich_nitr_4', 'fates_stoich_nitr_5', 'fates_mort_ip_size_senescence_4', 'fates_mort_ip_age_senescence_4', 'fates_allom_d2ca_coefficient_max_1', 'fates_allom_d2ca_coefficient_max_2', 'fates_allom_d2ca_coefficient_max_3', 'fates_allom_d2ca_coefficient_max_4', 'fates_allom_d2ca_coefficient_max_5', 'fates_allom_d2ca_coefficient_min_0', 'fates_allom_agb1_1', 'fates_allom_agb1_2', 'fates_allom_agb1_3', 'fates_allom_agb1_5', 'case_tag']\n"
          ]
        }
      ],
      "source": [
        "import pandas as pd\n",
        "import io\n",
        "import numpy as np\n",
        "\n",
        "raw_df = pd.read_csv(io.StringIO(uploaded['all_member_output_101223.csv'].decode('utf-8')),sep = ',')\n",
        "\n",
        "print(raw_df.info())\n",
        "print(\"\\n\")\n",
        "\n",
        "# Drop first column\n",
        "raw_df.drop(columns=raw_df.columns[0], axis=1, inplace=True)\n",
        "print(list(raw_df.columns))\n",
        "\n",
        "df = raw_df.copy()\n",
        "\n",
        "df.fillna(0, inplace=True)"
      ]
    },
    {
      "cell_type": "markdown",
      "metadata": {
        "id": "pKrI4Mbysrw9"
      },
      "source": [
        "Add coexistence variable"
      ]
    },
    {
      "cell_type": "code",
      "source": [
        "df['coexistence'] = df['FailedPFTs'] == 0\n",
        "coex_table = df['coexistence'].value_counts()\n",
        "\n",
        "print(\"\\n\")\n",
        "\n",
        "print('Coexistence success rate:',coex_table[1]/coex_table[0] * 100, \"%\")"
      ],
      "metadata": {
        "colab": {
          "base_uri": "https://localhost:8080/"
        },
        "id": "QpB-xX-3WYd4",
        "outputId": "f75eea12-fa52-4b67-e1a5-5d4fd4c477c4"
      },
      "execution_count": 5,
      "outputs": [
        {
          "output_type": "stream",
          "name": "stdout",
          "text": [
            "\n",
            "\n",
            "Coexistence success rate: 6.403940886699508 %\n"
          ]
        }
      ]
    },
    {
      "cell_type": "markdown",
      "source": [
        "## Split data into train and test sets\n",
        "\n",
        "While ensuring that the train and test sets have equal ratios of coexistence to non-coexistence"
      ],
      "metadata": {
        "id": "yi-e0kC_WyvU"
      }
    },
    {
      "cell_type": "code",
      "source": [
        "from sklearn.model_selection import StratifiedShuffleSplit\n",
        "\n",
        "split = StratifiedShuffleSplit(n_splits=1, test_size = 0.1, random_state = 42)\n",
        "\n",
        "# Split the data into training and test sets, maintaining an equal proportion of veg and non-veg labels in each.\n",
        "for train_index, test_index in split.split(df, df['coexistence']):\n",
        "    train_set = df.iloc[train_index]\n",
        "    test_set = df.iloc[test_index]\n",
        "\n",
        "X_cols = train_set.columns[train_set.columns.str.contains('fates')]\n",
        "train_X = train_set[X_cols]\n",
        "test_X = test_set[X_cols]\n",
        "\n",
        "#Create vars to be predicted\n",
        "train_y_coex = train_set[\"coexistence\"].copy()\n",
        "train_y_shannonE = train_set[\"ShannonE\"].copy()\n",
        "train_y_failedPFTs = train_set[\"FailedPFTs\"].copy()\n",
        "\n",
        "test_y_coex = test_set[\"coexistence\"].copy()\n",
        "test_y_shannonE = test_set[\"ShannonE\"].copy()\n",
        "test_y_failedPFTs = test_set[\"FailedPFTs\"].copy()"
      ],
      "metadata": {
        "id": "-qwqJ6noWaN_"
      },
      "execution_count": 17,
      "outputs": []
    },
    {
      "cell_type": "code",
      "source": [
        "print(\"train:\",train_y_coex.value_counts())\n",
        "print(\"test:\",test_set['coexistence'].value_counts())"
      ],
      "metadata": {
        "colab": {
          "base_uri": "https://localhost:8080/"
        },
        "id": "_XXkkIc9Wabg",
        "outputId": "a979a4de-1c3b-41a7-adf2-e779692cdad3"
      },
      "execution_count": 7,
      "outputs": [
        {
          "output_type": "stream",
          "name": "stdout",
          "text": [
            "train: False    2557\n",
            "True      164\n",
            "Name: coexistence, dtype: int64\n",
            "test: False    285\n",
            "True      18\n",
            "Name: coexistence, dtype: int64\n"
          ]
        }
      ]
    },
    {
      "cell_type": "markdown",
      "source": [
        "## Set up a data transformation pipeline to prepare the data for machine learning"
      ],
      "metadata": {
        "id": "qpLvx28qW8xe"
      }
    },
    {
      "cell_type": "code",
      "source": [
        "from sklearn.pipeline import Pipeline\n",
        "from sklearn.preprocessing import StandardScaler\n",
        "\n",
        "# This is for if I need to define a custom data transformation function\n",
        "from sklearn.base import BaseEstimator, TransformerMixin\n",
        "\n",
        "# Data transformation pipeline\n",
        "transformation_pipeline = Pipeline([\n",
        "        ('std_scaler', StandardScaler()), # Scale the data by substracting mean and dividing by sigma\n",
        "    ])\n",
        "\n",
        "# Apply transformation pipeline to training data\n",
        "X = transformation_pipeline.fit_transform(train_X)\n",
        "\n",
        "# Apply to test data\n",
        "\n",
        "X_test = transformation_pipeline.fit_transform(test_X)"
      ],
      "metadata": {
        "id": "5yR2h3ohW7VY"
      },
      "execution_count": 12,
      "outputs": []
    },
    {
      "cell_type": "markdown",
      "source": [
        "## Define a naive classifier to compare our classifiers to\n",
        "\n",
        "This classifier always predicts no coexistence."
      ],
      "metadata": {
        "id": "pvW2BDb7XDx0"
      }
    },
    {
      "cell_type": "code",
      "source": [
        "from sklearn.base import BaseEstimator\n",
        "class NeverCoexist(BaseEstimator):\n",
        "    def fit(self, X, y=None):\n",
        "        pass\n",
        "    def predict(self, X):\n",
        "\n",
        "        #always predicts false (0)\n",
        "        return np.zeros((len(X), 1), dtype=bool)"
      ],
      "metadata": {
        "id": "Ay_cjqt4XEo7"
      },
      "execution_count": 8,
      "outputs": []
    },
    {
      "cell_type": "code",
      "source": [
        "# Naive classifier\n",
        "never_coexist = NeverCoexist()\n",
        "# test naive classifier\n",
        "naive_scores = cross_val_score(never_coexist, X, train_y_coex, cv= 10, scoring=\"accuracy\")\n",
        "print(\"Naive:\",display_scores(naive_scores))"
      ],
      "metadata": {
        "colab": {
          "base_uri": "https://localhost:8080/"
        },
        "id": "LOi-ci9NXJ1-",
        "outputId": "cd485cd3-bd98-4df7-e1ff-55f2abf1a61a"
      },
      "execution_count": 15,
      "outputs": [
        {
          "output_type": "stream",
          "name": "stdout",
          "text": [
            "Scores: [0.91941392 0.97058824 0.94485294 0.92279412 0.91544118 0.94485294\n",
            " 0.95220588 0.94852941 0.91911765 0.95955882]\n",
            "Mean: 0.9397355095884506\n",
            "Standard deviation: 0.018290331458515947\n",
            "Naive: None\n"
          ]
        }
      ]
    },
    {
      "cell_type": "markdown",
      "metadata": {
        "id": "uhQmrJdgsaME"
      },
      "source": [
        "## Build and train a deep neural network"
      ]
    },
    {
      "cell_type": "code",
      "source": [
        "import numpy as np\n",
        "from keras.models import Sequential\n",
        "from keras.layers import Dense\n",
        "from keras.optimizers import Adam\n",
        "\n",
        "# Sample data (replace this with your data)\n",
        "# Let's assume each data point has 8 features for this example.\n",
        "X_train = X\n",
        "y_train = train_y_coex\n",
        "X_test = X_test\n",
        "y_test = test_y_coex\n",
        "\n",
        "# Build the model\n",
        "model = Sequential()\n",
        "model.add(Dense(16, input_dim=X.shape[1], activation='relu')) # input_dim should match the number of features in your dataset\n",
        "model.add(Dense(32, activation='relu'))\n",
        "model.add(Dense(16, activation='relu'))\n",
        "model.add(Dense(1, activation='sigmoid')) # sigmoid activation for binary classification\n",
        "\n",
        "# Compile the model\n",
        "model.compile(loss='binary_crossentropy', optimizer=Adam(learning_rate=0.001), metrics=['accuracy'])\n",
        "\n",
        "# Train the model\n",
        "history = model.fit(X_train, y_train, epochs=10, batch_size=32, validation_data=(X_test, y_test))\n",
        "\n",
        "# Evaluate the model\n",
        "loss, accuracy = model.evaluate(X_test, y_test)\n",
        "print(\"Test Loss:\", loss)\n",
        "print(\"Test Accuracy:\", accuracy)\n",
        "\n",
        "# Save the model if needed\n",
        "# model.save(\"binary_classifier.h5\")"
      ],
      "metadata": {
        "colab": {
          "base_uri": "https://localhost:8080/"
        },
        "id": "QicUa63xYo9z",
        "outputId": "e90e3ae6-85ac-40b1-ba76-9ebc8ca22398"
      },
      "execution_count": 24,
      "outputs": [
        {
          "output_type": "stream",
          "name": "stdout",
          "text": [
            "Epoch 1/10\n",
            "86/86 [==============================] - 4s 12ms/step - loss: 0.4172 - accuracy: 0.8361 - val_loss: 0.2474 - val_accuracy: 0.9406\n",
            "Epoch 2/10\n",
            "86/86 [==============================] - 0s 4ms/step - loss: 0.2274 - accuracy: 0.9397 - val_loss: 0.2353 - val_accuracy: 0.9406\n",
            "Epoch 3/10\n",
            "86/86 [==============================] - 0s 5ms/step - loss: 0.2117 - accuracy: 0.9397 - val_loss: 0.2304 - val_accuracy: 0.9406\n",
            "Epoch 4/10\n",
            "86/86 [==============================] - 0s 5ms/step - loss: 0.1998 - accuracy: 0.9397 - val_loss: 0.2268 - val_accuracy: 0.9406\n",
            "Epoch 5/10\n",
            "86/86 [==============================] - 0s 4ms/step - loss: 0.1902 - accuracy: 0.9397 - val_loss: 0.2255 - val_accuracy: 0.9406\n",
            "Epoch 6/10\n",
            "86/86 [==============================] - 0s 2ms/step - loss: 0.1819 - accuracy: 0.9405 - val_loss: 0.2214 - val_accuracy: 0.9406\n",
            "Epoch 7/10\n",
            "86/86 [==============================] - 0s 2ms/step - loss: 0.1746 - accuracy: 0.9405 - val_loss: 0.2218 - val_accuracy: 0.9406\n",
            "Epoch 8/10\n",
            "86/86 [==============================] - 0s 2ms/step - loss: 0.1661 - accuracy: 0.9408 - val_loss: 0.2277 - val_accuracy: 0.9406\n",
            "Epoch 9/10\n",
            "86/86 [==============================] - 0s 2ms/step - loss: 0.1590 - accuracy: 0.9419 - val_loss: 0.2287 - val_accuracy: 0.9373\n",
            "Epoch 10/10\n",
            "86/86 [==============================] - 0s 2ms/step - loss: 0.1501 - accuracy: 0.9434 - val_loss: 0.2366 - val_accuracy: 0.9406\n",
            "10/10 [==============================] - 0s 3ms/step - loss: 0.2366 - accuracy: 0.9406\n",
            "Test Loss: 0.23660384118556976\n",
            "Test Accuracy: 0.9405940771102905\n"
          ]
        }
      ]
    },
    {
      "cell_type": "code",
      "source": [],
      "metadata": {
        "id": "qbRzwkKkdYDI"
      },
      "execution_count": null,
      "outputs": []
    },
    {
      "cell_type": "markdown",
      "source": [
        "## Display training and validation accuracy (using the test partition for validation) during training"
      ],
      "metadata": {
        "id": "KXJMPCgedY-e"
      }
    },
    {
      "cell_type": "code",
      "source": [
        "history_dict = history.history\n",
        "print(history_dict.keys())\n",
        "train_acc = history_dict['accuracy']\n",
        "val_acc = history_dict['val_accuracy']\n",
        "val_loss = history_dict['val_loss']\n",
        "\n",
        "\n",
        "epochs = range(1,len(val_acc) + 1)\n",
        "\n",
        "import matplotlib.pyplot as plt\n",
        "plt.plot(epochs,train_acc, 'ro',label='Training accuracy')\n",
        "plt.plot(epochs, val_acc, 'bo',label = \"Validation accuracy\")\n",
        "plt.title('Training and validation accuracy')\n",
        "plt.xlabel('Epochs')\n",
        "plt.ylabel('Accuracy')\n",
        "plt.legend()\n",
        "\n",
        "plt.show()"
      ],
      "metadata": {
        "colab": {
          "base_uri": "https://localhost:8080/",
          "height": 489
        },
        "id": "Xx-rQY75aRjZ",
        "outputId": "6aaeb537-89d0-4822-ee3b-94fc46ac21e4"
      },
      "execution_count": 36,
      "outputs": [
        {
          "output_type": "stream",
          "name": "stdout",
          "text": [
            "dict_keys(['loss', 'accuracy', 'val_loss', 'val_accuracy'])\n"
          ]
        },
        {
          "output_type": "display_data",
          "data": {
            "text/plain": [
              "<Figure size 640x480 with 1 Axes>"
            ],
            "image/png": "[encoded data removed]"
          },
          "metadata": {}
        }
      ]
    },
    {
      "cell_type": "markdown",
      "source": [
        "## View confusion matrix for predictions on the test data"
      ],
      "metadata": {
        "id": "4bcvR3XNdjAy"
      }
    },
    {
      "cell_type": "code",
      "source": [
        "from sklearn.metrics import confusion_matrix, classification_report\n",
        "import matplotlib.pyplot as plt\n",
        "import seaborn as sns\n",
        "\n",
        "# Predict classes (instead of probabilities) for the test set\n",
        "y_pred = model.predict(X_test)\n",
        "\n",
        "y_pred_boolean = y_pred > 0.15\n",
        "\n",
        "# Compute the confusion matrix\n",
        "cm = confusion_matrix(y_test, y_pred_boolean)\n",
        "\n",
        "# Display the confusion matrix using Seaborn\n",
        "plt.figure(figsize=(6, 5))\n",
        "sns.heatmap(cm, annot=True, fmt=\"d\", cmap=\"Blues\", xticklabels=['Class 0', 'Class 1'], yticklabels=['Class 0', 'Class 1'])\n",
        "plt.ylabel('Actual')\n",
        "plt.xlabel('Predicted')\n",
        "plt.title('Confusion Matrix')\n",
        "plt.show()\n",
        "\n",
        "# Optionally, display the classification report for more detailed metrics\n",
        "print(classification_report(y_test, y_pred_boolean, target_names=['Class 0', 'Class 1']))\n"
      ],
      "metadata": {
        "colab": {
          "base_uri": "https://localhost:8080/",
          "height": 661
        },
        "id": "iu1PGSkxbyJF",
        "outputId": "047cf4bb-48a4-4c7d-bec4-cfac1e44745f"
      },
      "execution_count": 35,
      "outputs": [
        {
          "output_type": "stream",
          "name": "stdout",
          "text": [
            "10/10 [==============================] - 0s 3ms/step\n"
          ]
        },
        {
          "output_type": "display_data",
          "data": {
            "text/plain": [
              "<Figure size 600x500 with 2 Axes>"
            ],
            "image/png": "[encoded data removed]"
          },
          "metadata": {}
        },
        {
          "output_type": "stream",
          "name": "stdout",
          "text": [
            "              precision    recall  f1-score   support\n",
            "\n",
            "     Class 0       0.95      0.91      0.93       285\n",
            "     Class 1       0.10      0.17      0.13        18\n",
            "\n",
            "    accuracy                           0.86       303\n",
            "   macro avg       0.52      0.54      0.53       303\n",
            "weighted avg       0.90      0.86      0.88       303\n",
            "\n"
          ]
        }
      ]
    },
    {
      "cell_type": "markdown",
      "source": [
        "# Scratch below"
      ],
      "metadata": {
        "id": "6Di0K6RLdwS7"
      }
    },
    {
      "cell_type": "code",
      "execution_count": null,
      "metadata": {
        "id": "1k2pbavTitzL"
      },
      "outputs": [],
      "source": [
        "from keras import models\n",
        "from keras import layers\n",
        "\n",
        "\n",
        "model = models.Sequential()\n",
        "model.add(layers.Dense(16, activation=\"relu\", input_shape = (6,)))\n",
        "model.add(layers.Dense(16, activation='relu'))\n",
        "model.add(layers.Dense(1, activation='sigmoid'))"
      ]
    },
    {
      "cell_type": "markdown",
      "metadata": {
        "id": "qiF0yGQssdKJ"
      },
      "source": [
        "Compile Model"
      ]
    },
    {
      "cell_type": "code",
      "execution_count": null,
      "metadata": {
        "colab": {
          "base_uri": "https://localhost:8080/"
        },
        "id": "LdxfZH6Mlk44",
        "outputId": "9f808b4b-510c-4b08-d213-c673463a4221"
      },
      "outputs": [
        {
          "name": "stdout",
          "output_type": "stream",
          "text": [
            "Epoch 1/50\n",
            "12/12 [==============================] - 13s 45ms/step - loss: 0.6587 - acc: 0.4043 - val_loss: 0.6373 - val_acc: 0.5800\n",
            "Epoch 2/50\n",
            "12/12 [==============================] - 0s 5ms/step - loss: 0.6356 - acc: 0.6771 - val_loss: 0.6120 - val_acc: 0.7500\n",
            "Epoch 3/50\n",
            "12/12 [==============================] - 0s 3ms/step - loss: 0.5956 - acc: 0.7871 - val_loss: 0.5892 - val_acc: 0.7520\n",
            "Epoch 4/50\n",
            "12/12 [==============================] - 0s 5ms/step - loss: 0.5745 - acc: 0.7964 - val_loss: 0.5682 - val_acc: 0.7720\n",
            "Epoch 5/50\n",
            "12/12 [==============================] - 0s 5ms/step - loss: 0.5562 - acc: 0.8125 - val_loss: 0.5488 - val_acc: 0.7780\n",
            "Epoch 6/50\n",
            "12/12 [==============================] - 0s 3ms/step - loss: 0.5239 - acc: 0.8305 - val_loss: 0.5291 - val_acc: 0.7960\n",
            "Epoch 7/50\n",
            "12/12 [==============================] - 0s 5ms/step - loss: 0.5105 - acc: 0.8460 - val_loss: 0.5095 - val_acc: 0.8040\n",
            "Epoch 8/50\n",
            "12/12 [==============================] - 0s 3ms/step - loss: 0.4911 - acc: 0.8403 - val_loss: 0.4877 - val_acc: 0.8160\n",
            "Epoch 9/50\n",
            "12/12 [==============================] - 0s 3ms/step - loss: 0.4643 - acc: 0.8601 - val_loss: 0.4640 - val_acc: 0.8300\n",
            "Epoch 10/50\n",
            "12/12 [==============================] - 0s 3ms/step - loss: 0.4532 - acc: 0.8539 - val_loss: 0.4405 - val_acc: 0.8400\n",
            "Epoch 11/50\n",
            "12/12 [==============================] - 0s 3ms/step - loss: 0.4229 - acc: 0.8531 - val_loss: 0.4158 - val_acc: 0.8440\n",
            "Epoch 12/50\n",
            "12/12 [==============================] - 0s 5ms/step - loss: 0.3951 - acc: 0.8637 - val_loss: 0.3916 - val_acc: 0.8460\n",
            "Epoch 13/50\n",
            "12/12 [==============================] - 0s 5ms/step - loss: 0.3741 - acc: 0.8604 - val_loss: 0.3673 - val_acc: 0.8460\n",
            "Epoch 14/50\n",
            "12/12 [==============================] - 0s 3ms/step - loss: 0.3586 - acc: 0.8646 - val_loss: 0.3447 - val_acc: 0.8640\n",
            "Epoch 15/50\n",
            "12/12 [==============================] - 0s 5ms/step - loss: 0.3279 - acc: 0.8880 - val_loss: 0.3218 - val_acc: 0.9380\n",
            "Epoch 16/50\n",
            "12/12 [==============================] - 0s 3ms/step - loss: 0.3087 - acc: 0.9434 - val_loss: 0.3005 - val_acc: 0.9460\n",
            "Epoch 17/50\n",
            "12/12 [==============================] - 0s 4ms/step - loss: 0.2786 - acc: 0.9412 - val_loss: 0.2778 - val_acc: 0.9540\n",
            "Epoch 18/50\n",
            "12/12 [==============================] - 0s 5ms/step - loss: 0.2584 - acc: 0.9482 - val_loss: 0.2573 - val_acc: 0.9560\n",
            "Epoch 19/50\n",
            "12/12 [==============================] - 0s 5ms/step - loss: 0.2423 - acc: 0.9504 - val_loss: 0.2381 - val_acc: 0.9580\n",
            "Epoch 20/50\n",
            "12/12 [==============================] - 0s 4ms/step - loss: 0.2242 - acc: 0.9489 - val_loss: 0.2198 - val_acc: 0.9600\n",
            "Epoch 21/50\n",
            "12/12 [==============================] - 0s 3ms/step - loss: 0.2087 - acc: 0.9526 - val_loss: 0.2008 - val_acc: 0.9640\n",
            "Epoch 22/50\n",
            "12/12 [==============================] - 0s 4ms/step - loss: 0.1977 - acc: 0.9559 - val_loss: 0.1860 - val_acc: 0.9620\n",
            "Epoch 23/50\n",
            "12/12 [==============================] - 0s 3ms/step - loss: 0.1803 - acc: 0.9565 - val_loss: 0.1709 - val_acc: 0.9620\n",
            "Epoch 24/50\n",
            "12/12 [==============================] - 0s 5ms/step - loss: 0.1564 - acc: 0.9725 - val_loss: 0.1583 - val_acc: 0.9620\n",
            "Epoch 25/50\n",
            "12/12 [==============================] - 0s 3ms/step - loss: 0.1512 - acc: 0.9666 - val_loss: 0.1463 - val_acc: 0.9620\n",
            "Epoch 26/50\n",
            "12/12 [==============================] - 0s 4ms/step - loss: 0.1399 - acc: 0.9698 - val_loss: 0.1362 - val_acc: 0.9660\n",
            "Epoch 27/50\n",
            "12/12 [==============================] - 0s 3ms/step - loss: 0.1409 - acc: 0.9695 - val_loss: 0.1285 - val_acc: 0.9660\n",
            "Epoch 28/50\n",
            "12/12 [==============================] - 0s 4ms/step - loss: 0.1276 - acc: 0.9688 - val_loss: 0.1193 - val_acc: 0.9660\n",
            "Epoch 29/50\n",
            "12/12 [==============================] - 0s 3ms/step - loss: 0.1197 - acc: 0.9727 - val_loss: 0.1137 - val_acc: 0.9660\n",
            "Epoch 30/50\n",
            "12/12 [==============================] - 0s 3ms/step - loss: 0.1275 - acc: 0.9674 - val_loss: 0.1073 - val_acc: 0.9700\n",
            "Epoch 31/50\n",
            "12/12 [==============================] - 0s 3ms/step - loss: 0.0980 - acc: 0.9776 - val_loss: 0.1033 - val_acc: 0.9720\n",
            "Epoch 32/50\n",
            "12/12 [==============================] - 0s 5ms/step - loss: 0.0977 - acc: 0.9774 - val_loss: 0.0991 - val_acc: 0.9720\n",
            "Epoch 33/50\n",
            "12/12 [==============================] - 0s 4ms/step - loss: 0.1016 - acc: 0.9699 - val_loss: 0.0949 - val_acc: 0.9720\n",
            "Epoch 34/50\n",
            "12/12 [==============================] - 0s 3ms/step - loss: 0.0925 - acc: 0.9752 - val_loss: 0.0897 - val_acc: 0.9740\n",
            "Epoch 35/50\n",
            "12/12 [==============================] - 0s 5ms/step - loss: 0.0860 - acc: 0.9765 - val_loss: 0.0858 - val_acc: 0.9760\n",
            "Epoch 36/50\n",
            "12/12 [==============================] - 0s 3ms/step - loss: 0.0765 - acc: 0.9816 - val_loss: 0.0850 - val_acc: 0.9740\n",
            "Epoch 37/50\n",
            "12/12 [==============================] - 0s 4ms/step - loss: 0.0778 - acc: 0.9792 - val_loss: 0.0807 - val_acc: 0.9780\n",
            "Epoch 38/50\n",
            "12/12 [==============================] - 0s 3ms/step - loss: 0.0822 - acc: 0.9792 - val_loss: 0.0797 - val_acc: 0.9760\n",
            "Epoch 39/50\n",
            "12/12 [==============================] - 0s 4ms/step - loss: 0.0918 - acc: 0.9764 - val_loss: 0.0769 - val_acc: 0.9780\n",
            "Epoch 40/50\n",
            "12/12 [==============================] - 0s 5ms/step - loss: 0.0789 - acc: 0.9785 - val_loss: 0.0758 - val_acc: 0.9780\n",
            "Epoch 41/50\n",
            "12/12 [==============================] - 0s 5ms/step - loss: 0.0793 - acc: 0.9736 - val_loss: 0.0747 - val_acc: 0.9760\n",
            "Epoch 42/50\n",
            "12/12 [==============================] - 0s 4ms/step - loss: 0.0806 - acc: 0.9747 - val_loss: 0.0733 - val_acc: 0.9780\n",
            "Epoch 43/50\n",
            "12/12 [==============================] - 0s 4ms/step - loss: 0.0751 - acc: 0.9794 - val_loss: 0.0720 - val_acc: 0.9780\n",
            "Epoch 44/50\n",
            "12/12 [==============================] - 0s 6ms/step - loss: 0.0700 - acc: 0.9778 - val_loss: 0.0694 - val_acc: 0.9780\n",
            "Epoch 45/50\n",
            "12/12 [==============================] - 0s 3ms/step - loss: 0.0688 - acc: 0.9787 - val_loss: 0.0684 - val_acc: 0.9780\n",
            "Epoch 46/50\n",
            "12/12 [==============================] - 0s 3ms/step - loss: 0.0881 - acc: 0.9760 - val_loss: 0.0683 - val_acc: 0.9780\n",
            "Epoch 47/50\n",
            "12/12 [==============================] - 0s 3ms/step - loss: 0.0769 - acc: 0.9750 - val_loss: 0.0666 - val_acc: 0.9780\n",
            "Epoch 48/50\n",
            "12/12 [==============================] - 0s 3ms/step - loss: 0.0644 - acc: 0.9796 - val_loss: 0.0641 - val_acc: 0.9800\n",
            "Epoch 49/50\n",
            "12/12 [==============================] - 0s 5ms/step - loss: 0.0818 - acc: 0.9759 - val_loss: 0.0658 - val_acc: 0.9780\n",
            "Epoch 50/50\n",
            "12/12 [==============================] - 0s 3ms/step - loss: 0.0634 - acc: 0.9824 - val_loss: 0.0638 - val_acc: 0.9780\n"
          ]
        }
      ],
      "source": [
        "model.compile(optimizer='rmsprop',\n",
        "              loss='binary_crossentropy',\n",
        "              metrics=['acc'])\n",
        "\n",
        "history = model.fit(partial_x_train,\n",
        "                    partial_y_train,\n",
        "                    epochs=50,\n",
        "                    batch_size=128,\n",
        "                    validation_data=(x_val, y_val))"
      ]
    },
    {
      "cell_type": "markdown",
      "metadata": {
        "id": "CPhoErUJshQL"
      },
      "source": [
        "Analyze model fitting"
      ]
    },
    {
      "cell_type": "code",
      "execution_count": null,
      "metadata": {
        "colab": {
          "base_uri": "https://localhost:8080/"
        },
        "id": "t2O6B42wwCOy",
        "outputId": "ae11f57c-9146-4720-df9e-cfef4ead6730"
      },
      "outputs": [
        {
          "name": "stdout",
          "output_type": "stream",
          "text": [
            "dict_keys(['loss', 'acc', 'val_loss', 'val_acc'])\n"
          ]
        }
      ],
      "source": [
        "history_dict = history.history\n",
        "print(history_dict.keys())\n",
        "train_acc = history_dict['acc']\n",
        "val_acc = history_dict['val_acc']\n",
        "val_loss = history_dict['val_loss']"
      ]
    },
    {
      "cell_type": "markdown",
      "metadata": {
        "id": "MwTsFZmLs__j"
      },
      "source": [
        "Plot model fitting process"
      ]
    },
    {
      "cell_type": "code",
      "execution_count": null,
      "metadata": {
        "colab": {
          "base_uri": "https://localhost:8080/",
          "height": 295
        },
        "id": "2SlQhMdQPrKD",
        "outputId": "b2288f99-472c-43a6-e674-c378560e17e8"
      },
      "outputs": [
        {
          "data": {
            "image/png": "[encoded data removed]",
            "text/plain": [
              "<Figure size 432x288 with 1 Axes>"
            ]
          },
          "metadata": {
            "tags": []
          },
          "output_type": "display_data"
        }
      ],
      "source": [
        "epochs = range(1,len(val_acc) + 1)\n",
        "\n",
        "import matplotlib.pyplot as plt\n",
        "plt.plot(epochs,train_acc, 'ro',label='Training accuracy')\n",
        "plt.plot(epochs, val_acc, 'bo',label = \"Validation accuracy\")\n",
        "plt.title('Training and validation accuracy')\n",
        "plt.xlabel('Epochs')\n",
        "plt.ylabel('Accuracy')\n",
        "plt.legend()\n",
        "\n",
        "plt.show()"
      ]
    },
    {
      "cell_type": "markdown",
      "metadata": {
        "id": "nKQ1uwezu0_7"
      },
      "source": [
        "Rebuilding the model on all training data with tuned hyperparameters (i.e. 50 epochs)"
      ]
    },
    {
      "cell_type": "code",
      "execution_count": null,
      "metadata": {
        "colab": {
          "base_uri": "https://localhost:8080/"
        },
        "id": "BHNz_ks6u9mP",
        "outputId": "56993363-11d0-4fb4-8aeb-24a45a1b9413"
      },
      "outputs": [
        {
          "data": {
            "text/plain": [
              "<keras.callbacks.History at 0x7f16fbc96050>"
            ]
          },
          "execution_count": 10,
          "metadata": {
            "tags": []
          },
          "output_type": "execute_result"
        }
      ],
      "source": [
        "model = models.Sequential()\n",
        "model.add(layers.Dense(16, activation=\"relu\", input_shape = (6,)))\n",
        "model.add(layers.Dense(16, activation='relu'))\n",
        "model.add(layers.Dense(1, activation='sigmoid'))\n",
        "\n",
        "model.compile(optimizer='rmsprop',\n",
        "              loss='binary_crossentropy',\n",
        "              metrics=['acc'])\n",
        "\n",
        "model.fit(train_x,train_y,\n",
        "          epochs=50,batch_size=128,verbose=0)"
      ]
    },
    {
      "cell_type": "code",
      "execution_count": null,
      "metadata": {
        "colab": {
          "base_uri": "https://localhost:8080/"
        },
        "id": "GyCCg4v5vrPw",
        "outputId": "81b18adb-d2eb-4709-ec81-0d68a05b81d3"
      },
      "outputs": [
        {
          "name": "stdout",
          "output_type": "stream",
          "text": [
            "24/24 [==============================] - 0s 1ms/step - loss: 0.0601 - acc: 0.9772\n"
          ]
        },
        {
          "data": {
            "text/plain": [
              "(744, 1)"
            ]
          },
          "execution_count": 26,
          "metadata": {
            "tags": []
          },
          "output_type": "execute_result"
        }
      ],
      "source": [
        "model.evaluate(test_x,test_y)\n",
        "model.predict(test_x).shape"
      ]
    },
    {
      "cell_type": "markdown",
      "metadata": {
        "id": "XbAABQO6wZQ6"
      },
      "source": [
        "The test accuracy for identifying conifer forest vs. other vegetation is ~ 98%"
      ]
    },
    {
      "cell_type": "markdown",
      "metadata": {
        "id": "NpbLmm4LnU-V"
      },
      "source": [
        "Save the model to google cloud storage platform"
      ]
    },
    {
      "cell_type": "code",
      "execution_count": null,
      "metadata": {
        "id": "70bX26BRoXBM"
      },
      "outputs": [],
      "source": [
        "from google.colab import auth\n",
        "auth.authenticate_user()\n"
      ]
    },
    {
      "cell_type": "code",
      "execution_count": null,
      "metadata": {
        "colab": {
          "base_uri": "https://localhost:8080/"
        },
        "id": "2mxi6voX44kA",
        "outputId": "9e64bf80-13dd-420a-d1df-390d438c6571"
      },
      "outputs": [
        {
          "name": "stdout",
          "output_type": "stream",
          "text": [
            "To authorize access needed by Earth Engine, open the following URL in a web browser and follow the instructions. If the web browser does not start automatically, please manually browse the URL below.\n",
            "\n",
            "    https://accounts.google.com/o/oauth2/auth?client_id=517222506229-vsmmajv00ul0bs7p89v5m89qs8eb9359.apps.googleusercontent.com&scope=https%3A%2F%2Fwww.googleapis.com%2Fauth%2Fearthengine+https%3A%2F%2Fwww.googleapis.com%2Fauth%2Fdevstorage.full_control&redirect_uri=urn%3Aietf%3Awg%3Aoauth%3A2.0%3Aoob&response_type=code&code_challenge=AuEOduI9JWVr27oKwPS-CagjUYc7h0RLp0tYZ_lRRNk&code_challenge_method=S256\n",
            "\n",
            "The authorization workflow will generate a code, which you should paste in the box below. \n",
            "Enter verification code: 4/1AY0e-g4V3t8EitH063iAwjQ6f4RfIt3dh0tKQSZWmUprisBOYv7NXxRhQA8\n",
            "\n",
            "Successfully saved authorization token.\n"
          ]
        }
      ],
      "source": [
        "import ee\n",
        "ee.Authenticate()\n",
        "ee.Initialize()"
      ]
    },
    {
      "cell_type": "code",
      "execution_count": null,
      "metadata": {
        "colab": {
          "base_uri": "https://localhost:8080/"
        },
        "id": "7IDGx-T4nUJo",
        "outputId": "662297ba-5904-4f1b-a160-41a7fcffaf0b"
      },
      "outputs": [
        {
          "name": "stdout",
          "output_type": "stream",
          "text": [
            "INFO:tensorflow:Assets written to: gs://postfire-regen-01/conifer_classifier/assets\n"
          ]
        }
      ],
      "source": [
        "OUTPUT_BUCKET = 'postfire-regen-01'\n",
        "MODEL_DIR = 'gs://' + OUTPUT_BUCKET + '/conifer_classifier'\n",
        "model.save(MODEL_DIR, save_format='tf')\n"
      ]
    },
    {
      "cell_type": "markdown",
      "metadata": {
        "id": "q6QeAtzVuBvZ"
      },
      "source": [
        "EarthEngine-ify the model"
      ]
    },
    {
      "cell_type": "code",
      "execution_count": null,
      "metadata": {
        "colab": {
          "base_uri": "https://localhost:8080/"
        },
        "id": "HQoC5Mmxt-9E",
        "outputId": "2a7ed40c-e3ca-4384-b242-52f757a0d6d6"
      },
      "outputs": [
        {
          "name": "stdout",
          "output_type": "stream",
          "text": [
            "'{\"serving_default_dense_3_input:0\": \"array\"}'\n",
            "'{\"StatefulPartitionedCall:0\": \"ConProb\"}'\n"
          ]
        }
      ],
      "source": [
        "\n",
        "from tensorflow.python.tools import saved_model_utils\n",
        "\n",
        "PROJECT = 'postfire-regen'\n",
        "\n",
        "meta_graph_def = saved_model_utils.get_meta_graph_def(MODEL_DIR, 'serve')\n",
        "inputs = meta_graph_def.signature_def['serving_default'].inputs\n",
        "outputs = meta_graph_def.signature_def['serving_default'].outputs\n",
        "\n",
        "# Just get the first thing(s) from the serving signature def.  i.e. this\n",
        "# model only has a single input and a single output.\n",
        "input_name = None\n",
        "for k,v in inputs.items():\n",
        "  input_name = v.name\n",
        "  break\n",
        "\n",
        "output_name = None\n",
        "for k,v in outputs.items():\n",
        "  output_name = v.name\n",
        "  break\n",
        "\n",
        "# Make a dictionary that maps Earth Engine outputs and inputs to\n",
        "# AI Platform inputs and outputs, respectively.\n",
        "import json\n",
        "input_dict = \"'\" + json.dumps({input_name: \"array\"}) + \"'\"\n",
        "output_dict = \"'\" + json.dumps({output_name: \"ConProb\"}) + \"'\"\n",
        "print(input_dict)\n",
        "print(output_dict)"
      ]
    },
    {
      "cell_type": "code",
      "execution_count": null,
      "metadata": {
        "colab": {
          "base_uri": "https://localhost:8080/"
        },
        "id": "hfGar2tJxZXH",
        "outputId": "324326f7-2773-46f8-dcec-522eba9c141a"
      },
      "outputs": [
        {
          "name": "stdout",
          "output_type": "stream",
          "text": [
            "Requirement already up-to-date: earthengine-api in /usr/local/lib/python3.7/dist-packages (0.1.267)\n"
          ]
        }
      ],
      "source": [
        "#!pip install -U earthengine-api --no-deps"
      ]
    },
    {
      "cell_type": "code",
      "execution_count": null,
      "metadata": {
        "colab": {
          "base_uri": "https://localhost:8080/"
        },
        "id": "ifn6gKifvaRg",
        "outputId": "32b6a93b-d74c-45e1-ca23-52101c9cc4a5"
      },
      "outputs": [
        {
          "name": "stdout",
          "output_type": "stream",
          "text": [
            "WARNING:tensorflow:From /usr/local/lib/python3.7/dist-packages/tensorflow/python/compat/v2_compat.py:96: disable_resource_variables (from tensorflow.python.ops.variable_scope) is deprecated and will be removed in a future version.\n",
            "Instructions for updating:\n",
            "non-resource variables are not supported in the long term\n",
            "Successfully saved project id\n",
            "WARNING:tensorflow:From /usr/local/lib/python3.7/dist-packages/tensorflow/python/compat/v2_compat.py:96: disable_resource_variables (from tensorflow.python.ops.variable_scope) is deprecated and will be removed in a future version.\n",
            "Instructions for updating:\n",
            "non-resource variables are not supported in the long term\n",
            "Warning: TensorFlow Addons not found. Models that use non-standard ops may not work.\n",
            "Success: model at 'gs://postfire-regen-01/eeified_conifer_classifier' is ready to be hosted in AI Platform.\n"
          ]
        }
      ],
      "source": [
        "# Put the EEified model next to the trained model directory in google storage\n",
        "EEIFIED_DIR = 'gs://' + OUTPUT_BUCKET + '/eeified_conifer_classifier'\n",
        "\n",
        "\n",
        "# You need to set the project before using the model prepare command.\n",
        "!earthengine set_project {PROJECT}\n",
        "!earthengine model prepare --source_dir {MODEL_DIR} --dest_dir {EEIFIED_DIR} --input {input_dict} --output {output_dict}"
      ]
    },
    {
      "cell_type": "markdown",
      "metadata": {
        "id": "dPyt4SFc5fV4"
      },
      "source": [
        "Host the model in Google AI platform"
      ]
    },
    {
      "cell_type": "code",
      "execution_count": null,
      "metadata": {
        "colab": {
          "base_uri": "https://localhost:8080/"
        },
        "id": "0LdG_QL2FLGw",
        "outputId": "41b2df3a-36b0-404e-cb64-fa7125992807"
      },
      "outputs": [
        {
          "name": "stdout",
          "output_type": "stream",
          "text": [
            "Using endpoint [https://us-central1-ml.googleapis.com/]\n",
            "Created ai platform model [projects/postfire-regen/models/eeified_conifer_classifier].\n",
            "\n",
            "\n",
            "To take a quick anonymous survey, run:\n",
            "  $ gcloud survey\n",
            "\n",
            "Using endpoint [https://us-central1-ml.googleapis.com/]\n"
          ]
        }
      ],
      "source": [
        "MODEL_NAME = 'eeified_conifer_classifier'\n",
        "REGION = 'us-central1'\n",
        "VERSION_NAME = 'v0'\n",
        "\n",
        "!gcloud ai-platform models create {MODEL_NAME} \\\n",
        "  --project 'postfire-regen' \\\n",
        "  --region {REGION}\n",
        "\n",
        "!gcloud ai-platform versions create {VERSION_NAME} \\\n",
        "  --project {PROJECT} \\\n",
        "  --region {REGION} \\\n",
        "  --model {MODEL_NAME} \\\n",
        "  --origin {EEIFIED_DIR} \\\n",
        "  --framework \"TENSORFLOW\" \\\n",
        "  --runtime-version=2.3 \\\n",
        "  --python-version=3.7"
      ]
    },
    {
      "cell_type": "code",
      "execution_count": null,
      "metadata": {
        "id": "5iUu8vtq6W05"
      },
      "outputs": [],
      "source": []
    }
  ],
  "metadata": {
    "colab": {
      "provenance": [],
      "authorship_tag": "ABX9TyNL9dEhMp5UlWw5G8lWWyiT",
      "include_colab_link": true
    },
    "kernelspec": {
      "display_name": "Python 3",
      "name": "python3"
    },
    "language_info": {
      "name": "python"
    }
  },
  "nbformat": 4,
  "nbformat_minor": 0
}