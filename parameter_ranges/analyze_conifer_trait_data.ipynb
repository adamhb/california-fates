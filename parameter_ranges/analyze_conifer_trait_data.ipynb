{
 "cells": [
  {
   "cell_type": "markdown",
   "id": "70c39f83",
   "metadata": {},
   "source": [
    "# Conifer parameter data from TRY"
   ]
  },
  {
   "cell_type": "code",
   "execution_count": 3,
   "id": "ba823db8",
   "metadata": {},
   "outputs": [],
   "source": [
    "import pandas as pd\n",
    "import os\n",
    "#import myfuncs\n",
    "from datetime import datetime\n",
    "pd.set_option('display.max_rows', 400)\n",
    "pd.set_option('display.min_rows', 400)\n",
    "\n",
    "#define constants\n",
    "m2_per_cm2 = 1e-4\n",
    "g_biomass_per_g_C = 2\n",
    "m2_per_mm2 = 1e-6\n",
    "mg_per_g = 1e3\n",
    "g_per_kg = 1000\n",
    "mm2_per_cm2 = 100\n",
    "g_per_mg = 1e-3\n",
    "write_csv = True"
   ]
  },
  {
   "cell_type": "code",
   "execution_count": 4,
   "id": "d8fbcb27",
   "metadata": {},
   "outputs": [],
   "source": [
    "path_to_trait_obs = \"/home/adam/cloud/gdrive/postdoc/parameters/param_data/trait_observations\"\n",
    "write_to_csv = False"
   ]
  },
  {
   "cell_type": "code",
   "execution_count": 5,
   "id": "28669341",
   "metadata": {},
   "outputs": [],
   "source": [
    "try_data = os.path.join(path_to_trait_obs,\"conifer/TRY/conifer_traits_TRY.txt\")"
   ]
  },
  {
   "cell_type": "markdown",
   "id": "9a23c279",
   "metadata": {},
   "source": [
    "### Functions"
   ]
  },
  {
   "cell_type": "code",
   "execution_count": 6,
   "id": "a7b322b2",
   "metadata": {},
   "outputs": [],
   "source": [
    "def convert_to_fates_units(trait_name,input_units,input_value):\n",
    "\n",
    "    \n",
    "    if (\"SLA\" in trait_name) | (\"Specific leaf area\" in trait_name) and input_units == \"mm2 mg-1\":  \n",
    "        output_value = input_value * m2_per_mm2 * mg_per_g * g_biomass_per_g_C\n",
    "        return output_value\n",
    "\n",
    "    elif \"Leaf nitrogen\" in trait_name and input_units == \"mg/g\":\n",
    "        output_value = input_value * g_per_mg * g_biomass_per_g_C\n",
    "        return output_value\n",
    "\n",
    "    elif \"Stem specific density\" in trait_name and input_units == \"g/cm3\":\n",
    "        output_value = input_value\n",
    "        return output_value\n",
    "    \n",
    "    # Anaker conversions\n",
    "    elif trait_name == \"log(SLA cm2 g-1)\":\n",
    "        output_value = np.exp(input_value) * m2_per_cm2 * g_biomass_per_g_C\n",
    "        return output_value\n",
    "        \n",
    "    elif trait_name == 'log(wood density g ml-1)':\n",
    "        output_value = np.exp(input_value)\n",
    "        return output_value\n",
    "        \n",
    "    elif trait_name == 'log(N %)':\n",
    "        output_value = np.exp(input_value) * 1e-2 * g_biomass_per_g_C\n",
    "        return output_value\n",
    "    \n",
    "    #Jepson leaf N\n",
    "    elif trait_name == \"Leaf Nmass\":\n",
    "    \n",
    "        # muliplying by 1e-2 is to reverse the \"per cent\"  \n",
    "        output_value = input_value * 1e-2 * g_biomass_per_g_C\n",
    "        return output_value\n",
    "    \n",
    "    elif \"Wood density\" in trait_name:\n",
    "        output_value = input_value\n",
    "        return output_value\n",
    "    \n",
    "    elif trait_name == \"Leaf area to sapwood area\" and input_units == \"mm2 mm-2\":\n",
    "        output_value = input_value * 1e-4\n",
    "        return output_value\n",
    "    \n",
    "    elif \"Vcmax\" in trait_name and input_units == \"micro mol m-2 s-1\":\n",
    "        output_value = input_value\n",
    "        return output_value\n",
    "    \n",
    "    elif \"hydraulic vulnerability\" in trait_name and input_units == \"Mpa\":\n",
    "        output_value = input_value\n",
    "        return output_value\n",
    "    \n",
    "    elif \"Leaf lifespan\" in trait_name and input_units == \"month\":\n",
    "        output_value = input_value / 12\n",
    "        return output_value\n",
    "    \n",
    "    else:\n",
    "        #print(\"No unit conversion known for:\", trait_name)\n",
    "        return None\n",
    "    \n",
    "def convert_to_fates_param_name(input_trait_name):\n",
    "    if (\"SLA\" in input_trait_name) | ('Specific leaf area' in input_trait_name):\n",
    "        return \"fates_leaf_slatop\"\n",
    "    \n",
    "    elif (\"wood density\" in input_trait_name) |  (\"Wood density\" in input_trait_name):\n",
    "        return \"fates_wood_density\"\n",
    "    \n",
    "    elif (\"N %\" in input_trait_name) | (\"Leaf Nmass\" in input_trait_name):\n",
    "        return \"fates_stoich_nitr\"\n",
    "    \n",
    "    elif \"Leaf nitrogen (N) content per leaf dry mass\" in input_trait_name:\n",
    "        return \"fates_stoich_nitr\"\n",
    "    \n",
    "    elif \"Leaf area to sapwood area\" in input_trait_name:\n",
    "        return \"fates_allom_la_per_sa_int\"\n",
    "    \n",
    "    elif \"Vcmax\" in input_trait_name:\n",
    "        return \"fates_leaf_vcmax25top\"\n",
    "    \n",
    "    elif \"hydraulic vulnerability\" in input_trait_name:\n",
    "        return \"fates_nonhydro_smpsc\"\n",
    "    \n",
    "    elif \"Leaf lifespan\" in input_trait_name:\n",
    "        return \"fates_turnover_leaf\"\n",
    "    \n",
    "    \n",
    "    else:\n",
    "        return None\n",
    "    \n",
    "def get_sources(df,variable):\n",
    "    return df.loc[df.fates_name == variable].source.unique()\n",
    "\n",
    "def get_range_data(df,subset_name):\n",
    "\n",
    "    summary_stats = df.groupby('fates_name')['fates_value'].agg(\n",
    "        min_value='min',\n",
    "        max_value='max',\n",
    "        mean='mean',\n",
    "        median='median',\n",
    "        sample_size='size'\n",
    "    )\n",
    "\n",
    "    summary_stats['subset_name'] = subset_name\n",
    "    \n",
    "    return summary_stats"
   ]
  },
  {
   "cell_type": "markdown",
   "id": "64f813af",
   "metadata": {},
   "source": [
    "### Load, clean, and view oak trait data"
   ]
  },
  {
   "cell_type": "code",
   "execution_count": 7,
   "id": "4a4ffcf4",
   "metadata": {},
   "outputs": [
    {
     "name": "stdout",
     "output_type": "stream",
     "text": [
      "Available trait observations\n",
      "TraitName\n",
      "Plant height vegetative                                                                                    433\n",
      "Leaf area per leaf dry mass (specific leaf area, SLA or 1/LMA): undefined if petiole is in- or excluded    259\n",
      "Xylem hydraulic vulnerability, xylem cavitation vulnerability, embolism vulnerability, (P20, P50, P80)     116\n",
      "Xylem hydraulic vulnerability curve (P20, P50, P80)                                                         98\n",
      "Leaf area per leaf dry mass (specific leaf area, SLA or 1/LMA): petiole excluded                            90\n",
      "Stem specific density (SSD, stem dry mass per stem fresh volume) or wood density                            74\n",
      "Bark thickness                                                                                              68\n",
      "Leaf nitrogen (N) content per leaf area                                                                     51\n",
      "Leaf carbon (C) content per leaf area                                                                       41\n",
      "Stem, branch or twig sapwood cross-sectional area per supported leaf area (Huber value)                     24\n",
      "Root rooting depth                                                                                          11\n",
      "Photosynthesis carboxylation capacity (Vcmax) per leaf area (Farquhar model)                                 4\n",
      "Leaf area per leaf dry mass (specific leaf area, SLA or 1/LMA): petiole included                             2\n",
      "Leaf lifespan (longevity)                                                                                    2\n",
      "Plant height generative                                                                                      1\n",
      "Name: count, dtype: int64\n"
     ]
    }
   ],
   "source": [
    "# Load and join QUCH and QUKE data\n",
    "try_df_raw = pd.read_csv(try_data, sep=\"\\t\", encoding='latin1')[['ObservationID','SpeciesName','AccSpeciesName','TraitID','TraitName','OrigValueStr','OrigUnitStr','StdValue','UnitName','ErrorRisk']]\n",
    "\n",
    "try_df_raw = try_df_raw[['AccSpeciesName','TraitName','OrigValueStr','OrigUnitStr','StdValue','UnitName']]\n",
    "\n",
    "print(\"Available trait observations\")\n",
    "print(try_df_raw.TraitName.value_counts())\n",
    "#print(\"\\n\")\n",
    "#print(try_df_raw.info())"
   ]
  },
  {
   "cell_type": "code",
   "execution_count": 8,
   "id": "d3f5f7dc",
   "metadata": {},
   "outputs": [],
   "source": [
    "try_df_raw = pd.DataFrame.drop_duplicates(try_df_raw)"
   ]
  },
  {
   "cell_type": "markdown",
   "id": "fc66e691",
   "metadata": {},
   "source": [
    "### Filter to relevant traits"
   ]
  },
  {
   "cell_type": "code",
   "execution_count": 9,
   "id": "64ca42aa",
   "metadata": {},
   "outputs": [
    {
     "name": "stdout",
     "output_type": "stream",
     "text": [
      "<class 'pandas.core.frame.DataFrame'>\n",
      "Index: 518 entries, 9 to 24154\n",
      "Data columns (total 6 columns):\n",
      " #   Column          Non-Null Count  Dtype  \n",
      "---  ------          --------------  -----  \n",
      " 0   AccSpeciesName  518 non-null    object \n",
      " 1   TraitName       518 non-null    object \n",
      " 2   OrigValueStr    518 non-null    object \n",
      " 3   OrigUnitStr     512 non-null    object \n",
      " 4   StdValue        494 non-null    float64\n",
      " 5   UnitName        494 non-null    object \n",
      "dtypes: float64(1), object(5)\n",
      "memory usage: 28.3+ KB\n"
     ]
    }
   ],
   "source": [
    "# Filter to get traits of interest\n",
    "fates_relevant_traits = ['Stem specific density (SSD, stem dry mass per stem fresh volume) or wood density',\n",
    "                         'Leaf nitrogen (N) content per leaf dry mass',\n",
    "                         #'Bark thickness',\n",
    "                         'Leaf area per leaf dry mass (specific leaf area, SLA or 1/LMA): undefined if petiole is in- or excluded',\n",
    "                         'Leaf area per leaf dry mass (specific leaf area, SLA or 1/LMA): petiole excluded',\n",
    "                         'Leaf lifespan (longevity)',\n",
    "                         'Photosynthesis carboxylation capacity (Vcmax) per leaf area (Farquhar model)',\n",
    "                         'Xylem hydraulic vulnerability, xylem cavitation vulnerability, embolism vulnerability, (P20, P50, P80)']\n",
    "\n",
    "try_df = try_df_raw[try_df_raw.TraitName.isin(fates_relevant_traits)]\n",
    "try_df.info()"
   ]
  },
  {
   "cell_type": "code",
   "execution_count": 10,
   "id": "5301932e",
   "metadata": {},
   "outputs": [
    {
     "data": {
      "text/html": [
       "<div>\n",
       "<style scoped>\n",
       "    .dataframe tbody tr th:only-of-type {\n",
       "        vertical-align: middle;\n",
       "    }\n",
       "\n",
       "    .dataframe tbody tr th {\n",
       "        vertical-align: top;\n",
       "    }\n",
       "\n",
       "    .dataframe thead th {\n",
       "        text-align: right;\n",
       "    }\n",
       "</style>\n",
       "<table border=\"1\" class=\"dataframe\">\n",
       "  <thead>\n",
       "    <tr style=\"text-align: right;\">\n",
       "      <th></th>\n",
       "      <th>AccSpeciesName</th>\n",
       "      <th>TraitName</th>\n",
       "      <th>OrigValueStr</th>\n",
       "      <th>OrigUnitStr</th>\n",
       "      <th>StdValue</th>\n",
       "      <th>UnitName</th>\n",
       "    </tr>\n",
       "  </thead>\n",
       "  <tbody>\n",
       "    <tr>\n",
       "      <th>24125</th>\n",
       "      <td>Abies concolor</td>\n",
       "      <td>Leaf lifespan (longevity)</td>\n",
       "      <td>7.7</td>\n",
       "      <td>year</td>\n",
       "      <td>92.4</td>\n",
       "      <td>month</td>\n",
       "    </tr>\n",
       "    <tr>\n",
       "      <th>24135</th>\n",
       "      <td>Pinus ponderosa</td>\n",
       "      <td>Leaf lifespan (longevity)</td>\n",
       "      <td>3</td>\n",
       "      <td>year</td>\n",
       "      <td>36.0</td>\n",
       "      <td>month</td>\n",
       "    </tr>\n",
       "  </tbody>\n",
       "</table>\n",
       "</div>"
      ],
      "text/plain": [
       "        AccSpeciesName                  TraitName OrigValueStr OrigUnitStr  \\\n",
       "24125   Abies concolor  Leaf lifespan (longevity)          7.7        year   \n",
       "24135  Pinus ponderosa  Leaf lifespan (longevity)            3        year   \n",
       "\n",
       "       StdValue UnitName  \n",
       "24125      92.4    month  \n",
       "24135      36.0    month  "
      ]
     },
     "execution_count": 10,
     "metadata": {},
     "output_type": "execute_result"
    }
   ],
   "source": [
    "try_df.loc[try_df['TraitName'].str.contains('Leaf life')]"
   ]
  },
  {
   "cell_type": "markdown",
   "id": "b4cf1003",
   "metadata": {},
   "source": [
    "### Apply unit conversions and fates parameter names"
   ]
  },
  {
   "cell_type": "code",
   "execution_count": 11,
   "id": "7066073c",
   "metadata": {},
   "outputs": [
    {
     "name": "stderr",
     "output_type": "stream",
     "text": [
      "/tmp/ipykernel_8967/4023397515.py:3: SettingWithCopyWarning: \n",
      "A value is trying to be set on a copy of a slice from a DataFrame.\n",
      "Try using .loc[row_indexer,col_indexer] = value instead\n",
      "\n",
      "See the caveats in the documentation: https://pandas.pydata.org/pandas-docs/stable/user_guide/indexing.html#returning-a-view-versus-a-copy\n",
      "  try_df['fates_value'] = fates_values\n",
      "/tmp/ipykernel_8967/4023397515.py:7: SettingWithCopyWarning: \n",
      "A value is trying to be set on a copy of a slice from a DataFrame.\n",
      "Try using .loc[row_indexer,col_indexer] = value instead\n",
      "\n",
      "See the caveats in the documentation: https://pandas.pydata.org/pandas-docs/stable/user_guide/indexing.html#returning-a-view-versus-a-copy\n",
      "  try_df[\"fates_name\"] = fates_names\n"
     ]
    }
   ],
   "source": [
    "# Unit convertion to fates units\n",
    "fates_values = try_df.apply(lambda x: convert_to_fates_units(x['TraitName'], x['UnitName'], x[\"StdValue\"]), axis=1)\n",
    "try_df['fates_value'] = fates_values\n",
    "\n",
    "# Convert variable names to fates names\n",
    "fates_names = try_df.apply(lambda x: convert_to_fates_param_name(x[\"TraitName\"]),axis = 1)\n",
    "try_df[\"fates_name\"] = fates_names\n"
   ]
  },
  {
   "cell_type": "code",
   "execution_count": 19,
   "id": "7d2e934a",
   "metadata": {},
   "outputs": [
    {
     "data": {
      "text/plain": [
       "array(['Leaf area per leaf dry mass (specific leaf area, SLA or 1/LMA): petiole excluded',\n",
       "       'Leaf area per leaf dry mass (specific leaf area, SLA or 1/LMA): undefined if petiole is in- or excluded',\n",
       "       'Stem specific density (SSD, stem dry mass per stem fresh volume) or wood density',\n",
       "       'Photosynthesis carboxylation capacity (Vcmax) per leaf area (Farquhar model)',\n",
       "       'Xylem hydraulic vulnerability, xylem cavitation vulnerability, embolism vulnerability, (P20, P50, P80)',\n",
       "       'Leaf lifespan (longevity)'], dtype=object)"
      ]
     },
     "execution_count": 19,
     "metadata": {},
     "output_type": "execute_result"
    }
   ],
   "source": [
    "try_df.TraitName.unique()"
   ]
  },
  {
   "cell_type": "code",
   "execution_count": 13,
   "id": "ea1aba4c",
   "metadata": {},
   "outputs": [],
   "source": [
    "ABCO_df = try_df.loc[try_df.AccSpeciesName == \"Abies concolor\"]\n",
    "CADE_df = try_df.loc[try_df.AccSpeciesName == \"Calocedrus decurrens\"]\n",
    "PIPO_df = try_df.loc[try_df.AccSpeciesName == \"Pinus ponderosa\"]\n",
    "\n",
    "param_range_conifer_df = pd.concat([get_range_data(ABCO_df,\"ABCO\"),get_range_data(CADE_df,\"CADE\"),get_range_data(PIPO_df,\"PIPO\")]).reset_index()\n",
    "param_range_conifer_df['sources'] = \"try\""
   ]
  },
  {
   "cell_type": "markdown",
   "id": "2de67f06",
   "metadata": {},
   "source": [
    "### See percentiles of key parameters for PIPO\n",
    "\n",
    "This is to make sure that the ranges we're testing based on Buotte et al., 2021 also line up well with the TRY data"
   ]
  },
  {
   "cell_type": "code",
   "execution_count": 14,
   "id": "af0569dd",
   "metadata": {
    "scrolled": true
   },
   "outputs": [
    {
     "name": "stdout",
     "output_type": "stream",
     "text": [
      "fates_leaf_slatop\n",
      "         StdValue  fates_value\n",
      "count  247.000000   247.000000\n",
      "mean     4.621289     0.009243\n",
      "std      2.305617     0.004611\n",
      "min      0.940000     0.001880\n",
      "25%      3.135819     0.006272\n",
      "50%      3.863076     0.007726\n",
      "75%      5.881351     0.011763\n",
      "max     16.540000     0.033080\n",
      "fates_leaf_vcmax25top\n",
      "        StdValue  fates_value\n",
      "count   2.000000     2.000000\n",
      "mean   62.496000    62.496000\n",
      "std    19.482206    19.482206\n",
      "min    48.720000    48.720000\n",
      "25%    55.608000    55.608000\n",
      "50%    62.496000    62.496000\n",
      "75%    69.384000    69.384000\n",
      "max    76.272000    76.272000\n",
      "fates_nonhydro_smpsc\n",
      "        StdValue  fates_value\n",
      "count  61.000000    61.000000\n",
      "mean   -2.325816    -2.325816\n",
      "std     1.380365     1.380365\n",
      "min    -5.448360    -5.448360\n",
      "25%    -3.361057    -3.361057\n",
      "50%    -2.100000    -2.100000\n",
      "75%    -1.260000    -1.260000\n",
      "max     0.670000     0.670000\n"
     ]
    }
   ],
   "source": [
    "param_vars = ['fates_leaf_slatop', 'fates_leaf_vcmax25top', 'fates_nonhydro_smpsc']\n",
    "\n",
    "for p in param_vars:\n",
    "    print(p)\n",
    "    print(PIPO_df.loc[PIPO_df['fates_name'].str.contains(p)].describe())"
   ]
  },
  {
   "cell_type": "markdown",
   "id": "2ae8afdd",
   "metadata": {},
   "source": [
    "### See percentiles of key parameters for CADE\n",
    "\n",
    "This is to make sure that the ranges we're testing based on Buotte et al., 2021 also line up well with the TRY data"
   ]
  },
  {
   "cell_type": "code",
   "execution_count": 15,
   "id": "222db28c",
   "metadata": {},
   "outputs": [
    {
     "name": "stdout",
     "output_type": "stream",
     "text": [
      "fates_leaf_slatop\n",
      "       StdValue  fates_value\n",
      "count       0.0          0.0\n",
      "mean        NaN          NaN\n",
      "std         NaN          NaN\n",
      "min         NaN          NaN\n",
      "25%         NaN          NaN\n",
      "50%         NaN          NaN\n",
      "75%         NaN          NaN\n",
      "max         NaN          NaN\n",
      "fates_leaf_vcmax25top\n",
      "       StdValue  fates_value\n",
      "count       0.0          0.0\n",
      "mean        NaN          NaN\n",
      "std         NaN          NaN\n",
      "min         NaN          NaN\n",
      "25%         NaN          NaN\n",
      "50%         NaN          NaN\n",
      "75%         NaN          NaN\n",
      "max         NaN          NaN\n",
      "fates_nonhydro_smpsc\n",
      "        StdValue  fates_value\n",
      "count   4.000000     4.000000\n",
      "mean   -7.712140    -7.712140\n",
      "std     2.251164     2.251164\n",
      "min   -10.435596   -10.435596\n",
      "25%    -8.417937    -8.417937\n",
      "50%    -7.745384    -7.745384\n",
      "75%    -7.039587    -7.039587\n",
      "max    -4.922196    -4.922196\n"
     ]
    }
   ],
   "source": [
    "for p in param_vars:\n",
    "    print(p)\n",
    "    print(CADE_df.loc[CADE_df['fates_name'].str.contains(p)].describe())"
   ]
  },
  {
   "cell_type": "markdown",
   "id": "5b9716dc",
   "metadata": {},
   "source": [
    "### See percentiles of key parameters for ABCO\n",
    "\n",
    "This is to make sure that the ranges we're testing based on Buotte et al., 2021 also line up well with the TRY data"
   ]
  },
  {
   "cell_type": "code",
   "execution_count": 16,
   "id": "ff5d7274",
   "metadata": {},
   "outputs": [
    {
     "name": "stdout",
     "output_type": "stream",
     "text": [
      "fates_leaf_slatop\n",
      "        StdValue  fates_value\n",
      "count  98.000000    98.000000\n",
      "mean    5.136648     0.010273\n",
      "std     1.768476     0.003537\n",
      "min     2.206200     0.004412\n",
      "25%     3.535400     0.007071\n",
      "50%     4.760100     0.009520\n",
      "75%     6.878307     0.013757\n",
      "max     8.411215     0.016822\n",
      "fates_leaf_vcmax25top\n",
      "       StdValue  fates_value\n",
      "count       0.0          0.0\n",
      "mean        NaN          NaN\n",
      "std         NaN          NaN\n",
      "min         NaN          NaN\n",
      "25%         NaN          NaN\n",
      "50%         NaN          NaN\n",
      "75%         NaN          NaN\n",
      "max         NaN          NaN\n",
      "fates_nonhydro_smpsc\n",
      "        StdValue  fates_value\n",
      "count  11.000000    11.000000\n",
      "mean   -4.739429    -4.739429\n",
      "std     1.564701     1.564701\n",
      "min    -8.400000    -8.400000\n",
      "25%    -5.224000    -5.224000\n",
      "50%    -4.510000    -4.510000\n",
      "75%    -3.571150    -3.571150\n",
      "max    -3.249000    -3.249000\n"
     ]
    }
   ],
   "source": [
    "for p in param_vars:\n",
    "    print(p)\n",
    "    print(ABCO_df.loc[ABCO_df['fates_name'].str.contains(p)].describe())"
   ]
  },
  {
   "cell_type": "code",
   "execution_count": 17,
   "id": "ac06e5b2",
   "metadata": {},
   "outputs": [],
   "source": [
    "# Write CSV\n",
    "if write_to_csv == True:\n",
    "\n",
    "    now = datetime.now()\n",
    "    dt_string = now.strftime(\"%m-%d-%Y-%H-%M-%S\")\n",
    "    file_path = \"conifer_param_ranges_data_derived_\" + dt_string + \".csv\"\n",
    "    param_range_conifer_df.to_csv(file_path, index=False)"
   ]
  },
  {
   "cell_type": "code",
   "execution_count": 18,
   "id": "6c6d9294",
   "metadata": {},
   "outputs": [
    {
     "data": {
      "text/html": [
       "<div>\n",
       "<style scoped>\n",
       "    .dataframe tbody tr th:only-of-type {\n",
       "        vertical-align: middle;\n",
       "    }\n",
       "\n",
       "    .dataframe tbody tr th {\n",
       "        vertical-align: top;\n",
       "    }\n",
       "\n",
       "    .dataframe thead th {\n",
       "        text-align: right;\n",
       "    }\n",
       "</style>\n",
       "<table border=\"1\" class=\"dataframe\">\n",
       "  <thead>\n",
       "    <tr style=\"text-align: right;\">\n",
       "      <th></th>\n",
       "      <th>fates_name</th>\n",
       "      <th>min_value</th>\n",
       "      <th>max_value</th>\n",
       "      <th>mean</th>\n",
       "      <th>median</th>\n",
       "      <th>sample_size</th>\n",
       "      <th>subset_name</th>\n",
       "      <th>sources</th>\n",
       "    </tr>\n",
       "  </thead>\n",
       "  <tbody>\n",
       "    <tr>\n",
       "      <th>0</th>\n",
       "      <td>fates_leaf_slatop</td>\n",
       "      <td>0.004412</td>\n",
       "      <td>0.016822</td>\n",
       "      <td>0.010273</td>\n",
       "      <td>0.009520</td>\n",
       "      <td>98</td>\n",
       "      <td>ABCO</td>\n",
       "      <td>try</td>\n",
       "    </tr>\n",
       "    <tr>\n",
       "      <th>1</th>\n",
       "      <td>fates_nonhydro_smpsc</td>\n",
       "      <td>-8.400000</td>\n",
       "      <td>-3.249000</td>\n",
       "      <td>-4.739429</td>\n",
       "      <td>-4.510000</td>\n",
       "      <td>14</td>\n",
       "      <td>ABCO</td>\n",
       "      <td>try</td>\n",
       "    </tr>\n",
       "    <tr>\n",
       "      <th>2</th>\n",
       "      <td>fates_turnover_leaf</td>\n",
       "      <td>7.700000</td>\n",
       "      <td>7.700000</td>\n",
       "      <td>7.700000</td>\n",
       "      <td>7.700000</td>\n",
       "      <td>1</td>\n",
       "      <td>ABCO</td>\n",
       "      <td>try</td>\n",
       "    </tr>\n",
       "    <tr>\n",
       "      <th>3</th>\n",
       "      <td>fates_wood_density</td>\n",
       "      <td>0.290600</td>\n",
       "      <td>0.486900</td>\n",
       "      <td>0.394754</td>\n",
       "      <td>0.397800</td>\n",
       "      <td>26</td>\n",
       "      <td>ABCO</td>\n",
       "      <td>try</td>\n",
       "    </tr>\n",
       "    <tr>\n",
       "      <th>4</th>\n",
       "      <td>fates_nonhydro_smpsc</td>\n",
       "      <td>-10.435596</td>\n",
       "      <td>-4.922196</td>\n",
       "      <td>-7.712140</td>\n",
       "      <td>-7.745384</td>\n",
       "      <td>5</td>\n",
       "      <td>CADE</td>\n",
       "      <td>try</td>\n",
       "    </tr>\n",
       "    <tr>\n",
       "      <th>5</th>\n",
       "      <td>fates_wood_density</td>\n",
       "      <td>0.260000</td>\n",
       "      <td>0.600000</td>\n",
       "      <td>0.392625</td>\n",
       "      <td>0.360000</td>\n",
       "      <td>8</td>\n",
       "      <td>CADE</td>\n",
       "      <td>try</td>\n",
       "    </tr>\n",
       "    <tr>\n",
       "      <th>6</th>\n",
       "      <td>fates_leaf_slatop</td>\n",
       "      <td>0.001880</td>\n",
       "      <td>0.033080</td>\n",
       "      <td>0.009243</td>\n",
       "      <td>0.007726</td>\n",
       "      <td>247</td>\n",
       "      <td>PIPO</td>\n",
       "      <td>try</td>\n",
       "    </tr>\n",
       "    <tr>\n",
       "      <th>7</th>\n",
       "      <td>fates_leaf_vcmax25top</td>\n",
       "      <td>48.720000</td>\n",
       "      <td>76.272000</td>\n",
       "      <td>62.496000</td>\n",
       "      <td>62.496000</td>\n",
       "      <td>2</td>\n",
       "      <td>PIPO</td>\n",
       "      <td>try</td>\n",
       "    </tr>\n",
       "    <tr>\n",
       "      <th>8</th>\n",
       "      <td>fates_nonhydro_smpsc</td>\n",
       "      <td>-5.448360</td>\n",
       "      <td>0.670000</td>\n",
       "      <td>-2.325816</td>\n",
       "      <td>-2.100000</td>\n",
       "      <td>81</td>\n",
       "      <td>PIPO</td>\n",
       "      <td>try</td>\n",
       "    </tr>\n",
       "    <tr>\n",
       "      <th>9</th>\n",
       "      <td>fates_turnover_leaf</td>\n",
       "      <td>3.000000</td>\n",
       "      <td>3.000000</td>\n",
       "      <td>3.000000</td>\n",
       "      <td>3.000000</td>\n",
       "      <td>1</td>\n",
       "      <td>PIPO</td>\n",
       "      <td>try</td>\n",
       "    </tr>\n",
       "    <tr>\n",
       "      <th>10</th>\n",
       "      <td>fates_wood_density</td>\n",
       "      <td>0.350000</td>\n",
       "      <td>0.507100</td>\n",
       "      <td>0.441147</td>\n",
       "      <td>0.454400</td>\n",
       "      <td>35</td>\n",
       "      <td>PIPO</td>\n",
       "      <td>try</td>\n",
       "    </tr>\n",
       "  </tbody>\n",
       "</table>\n",
       "</div>"
      ],
      "text/plain": [
       "               fates_name  min_value  max_value       mean     median  \\\n",
       "0       fates_leaf_slatop   0.004412   0.016822   0.010273   0.009520   \n",
       "1    fates_nonhydro_smpsc  -8.400000  -3.249000  -4.739429  -4.510000   \n",
       "2     fates_turnover_leaf   7.700000   7.700000   7.700000   7.700000   \n",
       "3      fates_wood_density   0.290600   0.486900   0.394754   0.397800   \n",
       "4    fates_nonhydro_smpsc -10.435596  -4.922196  -7.712140  -7.745384   \n",
       "5      fates_wood_density   0.260000   0.600000   0.392625   0.360000   \n",
       "6       fates_leaf_slatop   0.001880   0.033080   0.009243   0.007726   \n",
       "7   fates_leaf_vcmax25top  48.720000  76.272000  62.496000  62.496000   \n",
       "8    fates_nonhydro_smpsc  -5.448360   0.670000  -2.325816  -2.100000   \n",
       "9     fates_turnover_leaf   3.000000   3.000000   3.000000   3.000000   \n",
       "10     fates_wood_density   0.350000   0.507100   0.441147   0.454400   \n",
       "\n",
       "    sample_size subset_name sources  \n",
       "0            98        ABCO     try  \n",
       "1            14        ABCO     try  \n",
       "2             1        ABCO     try  \n",
       "3            26        ABCO     try  \n",
       "4             5        CADE     try  \n",
       "5             8        CADE     try  \n",
       "6           247        PIPO     try  \n",
       "7             2        PIPO     try  \n",
       "8            81        PIPO     try  \n",
       "9             1        PIPO     try  \n",
       "10           35        PIPO     try  "
      ]
     },
     "execution_count": 18,
     "metadata": {},
     "output_type": "execute_result"
    }
   ],
   "source": [
    "param_range_conifer_df"
   ]
  }
 ],
 "metadata": {
  "kernelspec": {
   "display_name": "Python [conda env:la-veg]",
   "language": "python",
   "name": "conda-env-la-veg-py"
  },
  "language_info": {
   "codemirror_mode": {
    "name": "ipython",
    "version": 3
   },
   "file_extension": ".py",
   "mimetype": "text/x-python",
   "name": "python",
   "nbconvert_exporter": "python",
   "pygments_lexer": "ipython3",
   "version": "3.10.12"
  },
  "toc": {
   "base_numbering": 1,
   "nav_menu": {},
   "number_sections": true,
   "sideBar": true,
   "skip_h1_title": false,
   "title_cell": "Table of Contents",
   "title_sidebar": "Contents",
   "toc_cell": false,
   "toc_position": {
    "height": "calc(100% - 180px)",
    "left": "10px",
    "top": "150px",
    "width": "363.976px"
   },
   "toc_section_display": true,
   "toc_window_display": true
  }
 },
 "nbformat": 4,
 "nbformat_minor": 5
}
