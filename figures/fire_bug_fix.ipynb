{
 "cells": [
  {
   "cell_type": "markdown",
   "id": "076da8fc-373c-4c34-88d5-89f1896f0516",
   "metadata": {},
   "source": [
    "# Results of 1470 to 1869 simulation with fire bug fix"
   ]
  },
  {
   "cell_type": "code",
   "execution_count": null,
   "id": "ddab555a-04d8-43f9-839a-828eaef302f3",
   "metadata": {},
   "outputs": [],
   "source": [
    "import sys\n",
    "sys.path.append('/home/adamhb/gdrive/FATES/Earth-System-Model-Tools')\n",
    "import os\n",
    "import numpy as np\n",
    "import pandas as pd\n",
    "from matplotlib.dates import DateFormatter\n",
    "from datetime import datetime#,timedelta\n",
    "import esm_tools\n",
    "from matplotlib import pyplot as plt\n",
    "import seaborn as sns\n",
    "import xarray as xr\n",
    "pd.set_option('display.max_rows', 500)\n",
    "from fields import fields\n",
    "import importlib\n",
    "importlib.reload(esm_tools)"
   ]
  },
  {
   "cell_type": "code",
   "execution_count": null,
   "id": "c79f88fc-fa19-4570-9c2b-1f2a4a598926",
   "metadata": {},
   "outputs": [],
   "source": [
    "output_root = '/home/adamhb/gdrive/postdoc/simulation_output'\n",
    "m2_per_ha = 1e4"
   ]
  },
  {
   "cell_type": "markdown",
   "id": "83687e38-4929-481b-bdde-a32a12d22c85",
   "metadata": {},
   "source": [
    "## Bug fix helps size class distribution in 1869\n",
    "\n",
    "Size class distributions with the bug fix are very close to observations shown in Figs. 16,17 (p. 103) in Safford and Stevens, 2017"
   ]
  },
  {
   "cell_type": "code",
   "execution_count": null,
   "id": "8a2090ec-20bb-487d-9082-adbabd79266b",
   "metadata": {},
   "outputs": [],
   "source": [
    "bug_fix_1869_scls_dist = esm_tools.get_size_class_distribution(case_name='CZ2_equilibrium_040924_-17e2acb6a_FATES-1449c787',\n",
    "                                      years = list(range(1869,1870)),\n",
    "                                      model_output_root=output_root)\n",
    "\n",
    "no_bug_fix_1869_scls_dist = esm_tools.get_size_class_distribution(case_name='CZ2_equilibrium_011824_-17e2acb6a_FATES-5b076b69',\n",
    "                                      years = list(range(1869,1870)),\n",
    "                                      model_output_root=output_root,)\n",
    "\n",
    "bug_fix_1869_scls_dist['Group'] = 'bug_fix'\n",
    "no_bug_fix_1869_scls_dist['Group'] = 'no_bug_fix'\n",
    "scls_dist_df = pd.concat([bug_fix_1869_scls_dist,no_bug_fix_1869_scls_dist], axis=0)\n",
    "\n",
    "bins = [5, 20, 40, 60, 80, 100, 120, float('inf')]\n",
    "labels = ['5-20', '20-40', '40-60', '60-80', '80-100', '100-120', '>120']\n",
    "\n",
    "# Create a new column for binned size classes\n",
    "scls_dist_df['new_size_class'] = pd.cut(scls_dist_df['size_class'], bins=bins, labels=labels, right=False, include_lowest=True)\n",
    "new_scls_dist_df = scls_dist_df.groupby(['Group','inst_tag','new_size_class']).sum()['density'].reset_index()"
   ]
  },
  {
   "cell_type": "code",
   "execution_count": null,
   "id": "a4f8286e-4df5-41e7-afe0-8456183e3b43",
   "metadata": {},
   "outputs": [],
   "source": [
    "# Assuming 'bug_fix_1869_scls_dist' is your DataFrame and it includes a 'treatment' column\n",
    "# Adjusting the boxplot to fill boxes with white and borders with black, and grouping by 'treatment'\n",
    "sns.boxplot(x='new_size_class', y='density', hue='Group', data=new_scls_dist_df, linewidth=2.5)\n",
    "\n",
    "# Adding titles and labels\n",
    "plt.title('Conifer size class distribution 1869')\n",
    "plt.xlabel('Size Class [cm dbh]')\n",
    "plt.ylabel('Density [N ha-1]')\n",
    "plt.ylim(0, 150)\n",
    "\n",
    "# Adding a legend if not automatically included\n",
    "plt.legend(title='Treatment')\n",
    "\n",
    "# Display the plot\n",
    "plt.show()"
   ]
  },
  {
   "cell_type": "markdown",
   "id": "484448bb-ad82-4c1a-a496-e7ab8710b750",
   "metadata": {},
   "source": [
    "## Effect of bmort on size class distribution\n",
    "\n",
    "Setting b mort to 0 significantly improved the model's ability to create large trees"
   ]
  },
  {
   "cell_type": "code",
   "execution_count": null,
   "id": "23d22e30-c6fd-4b0c-9876-7973b27a5ec6",
   "metadata": {},
   "outputs": [],
   "source": [
    "list(range(119,129))"
   ]
  },
  {
   "cell_type": "code",
   "execution_count": null,
   "id": "a956a169-f344-475f-aa43-7483030f23eb",
   "metadata": {},
   "outputs": [],
   "source": [
    "bmort_1869_scls_dist = esm_tools.get_size_class_distribution(case_name='CZ2_equilibrium_040924_-17e2acb6a_FATES-1449c787',\n",
    "                                      years = list(range(1869,1870)),\n",
    "                                      model_output_root=output_root,tag_numbers=[2, 8, 14, 15, 22, 24, 25, 26, 30, 33])\n",
    "\n",
    "no_bmort_1869_scls_dist = esm_tools.get_size_class_distribution(case_name='CZ2_equilibrium_040924_-17e2acb6a_FATES-1449c787',\n",
    "                                      years = list(range(1869,1870)),\n",
    "                                      model_output_root=output_root, tag_numbers=list(range(109,119)))\n",
    "\n",
    "bmort_1869_scls_dist['Group'] = 'bmort'\n",
    "no_bmort_1869_scls_dist['Group'] = 'no_bmort'\n",
    "scls_dist_df_bmort_test = pd.concat([bmort_1869_scls_dist,no_bmort_1869_scls_dist], axis=0)\n",
    "\n",
    "bins = [5, 20, 40, 60, 80, 100, 120, float('inf')]\n",
    "labels = ['5-20', '20-40', '40-60', '60-80', '80-100', '100-120', '>120']\n",
    "\n",
    "# Create a new column for binned size classes\n",
    "scls_dist_df_bmort_test['new_size_class'] = pd.cut(scls_dist_df_bmort_test['size_class'], bins=bins, labels=labels, right=False, include_lowest=True)\n",
    "scls_dist_df_bmort_test_new_scls = scls_dist_df_bmort_test.groupby(['Group','inst_tag','new_size_class']).sum()['density'].reset_index()\n",
    "scls_dist_df_bmort_test_new_scls = scls_dist_df_bmort_test_new_scls.loc[scls_dist_df_bmort_test_new_scls['density'] > 0]"
   ]
  },
  {
   "cell_type": "code",
   "execution_count": null,
   "id": "df2dbac2-4be9-41f4-a5b7-6d09752eefaf",
   "metadata": {},
   "outputs": [],
   "source": [
    "sns.boxplot(x='new_size_class', y='density', hue='Group', data=scls_dist_df_bmort_test_new_scls, linewidth=2.5)\n",
    "\n",
    "# Adding titles and labels\n",
    "plt.title('Conifer size class distribution 1869')\n",
    "plt.xlabel('Size Class [cm dbh]')\n",
    "plt.ylabel('Density [N ha-1]')\n",
    "plt.ylim(0, 150)\n",
    "\n",
    "# Adding a legend if not automatically included\n",
    "plt.legend(title='Treatment')\n",
    "\n",
    "# Display the plot\n",
    "plt.show()"
   ]
  },
  {
   "cell_type": "code",
   "execution_count": null,
   "id": "817b6dbe-f00d-4d54-9696-d2c5194a4949",
   "metadata": {},
   "outputs": [],
   "source": [
    "scls_dist_df_bmort_test_new_scls_0002 = scls_dist_df_bmort_test_new_scls.loc[scls_dist_df_bmort_test_new_scls['inst_tag'].isin(['0002','0109'])]\n",
    "sns.barplot(x='new_size_class', y='density', hue='Group', data=scls_dist_df_bmort_test_new_scls_0002, linewidth=2.5)\n",
    "\n",
    "# Adding titles and labels\n",
    "plt.title('Conifer size class distribution 1869 \\n Ensemble member 0002')\n",
    "plt.xlabel('Size Class [cm dbh]')\n",
    "plt.ylabel('Density [N ha-1]')\n",
    "plt.ylim(0, 80)\n",
    "\n",
    "# Adding a legend if not automatically included\n",
    "plt.legend(title='Treatment')\n",
    "\n",
    "# Display the plot\n",
    "plt.show()"
   ]
  },
  {
   "cell_type": "code",
   "execution_count": null,
   "id": "0862007a-df51-4509-8cac-cab42c35a9e2",
   "metadata": {},
   "outputs": [],
   "source": [
    "scls_dist_df_bmort_test_new_scls_0008 = scls_dist_df_bmort_test_new_scls.loc[scls_dist_df_bmort_test_new_scls['inst_tag'].isin(['0008','0110'])]\n",
    "sns.barplot(x='new_size_class', y='density', hue='Group', data=scls_dist_df_bmort_test_new_scls_0008, linewidth=2.5)\n",
    "\n",
    "# Adding titles and labels\n",
    "plt.title('Conifer size class distribution 1869 \\n Ensemble member 0008')\n",
    "plt.xlabel('Size Class [cm dbh]')\n",
    "plt.ylabel('Density [N ha-1]')\n",
    "plt.ylim(0, 120)\n",
    "\n",
    "# Adding a legend if not automatically included\n",
    "plt.legend(title='Treatment')\n",
    "\n",
    "# Display the plot\n",
    "plt.show()"
   ]
  },
  {
   "cell_type": "code",
   "execution_count": null,
   "id": "cf6e0243-c86d-47de-817e-f72ad210a996",
   "metadata": {},
   "outputs": [],
   "source": [
    "scls_dist_df_bmort_test_new_scls_0008 = scls_dist_df_bmort_test_new_scls.loc[scls_dist_df_bmort_test_new_scls['inst_tag'].isin(['0014','0111'])]\n",
    "sns.barplot(x='new_size_class', y='density', hue='Group', data=scls_dist_df_bmort_test_new_scls_0008, linewidth=2.5)\n",
    "\n",
    "# Adding titles and labels\n",
    "plt.title('Conifer size class distribution 1869 \\n Ensemble member 0014')\n",
    "plt.xlabel('Size Class [cm dbh]')\n",
    "plt.ylabel('Density [N ha-1]')\n",
    "plt.ylim(0, 120)\n",
    "\n",
    "# Adding a legend if not automatically included\n",
    "plt.legend(title='Treatment')\n",
    "\n",
    "# Display the plot\n",
    "plt.show()"
   ]
  },
  {
   "cell_type": "code",
   "execution_count": null,
   "id": "4d9e1536-5b6b-4b1a-bbf6-eb366c8d74f5",
   "metadata": {},
   "outputs": [],
   "source": [
    "scls_dist_df_bmort_test_new_scls_0008 = scls_dist_df_bmort_test_new_scls.loc[scls_dist_df_bmort_test_new_scls['inst_tag'].isin(['0033','0118'])]\n",
    "sns.barplot(x='new_size_class', y='density', hue='Group', data=scls_dist_df_bmort_test_new_scls_0008, linewidth=2.5)\n",
    "\n",
    "# Adding titles and labels\n",
    "plt.title('Conifer size class distribution 1869 \\n Ensemble member 0033')\n",
    "plt.xlabel('Size Class [cm dbh]')\n",
    "plt.ylabel('Density [N ha-1]')\n",
    "plt.ylim(0, 120)\n",
    "\n",
    "# Adding a legend if not automatically included\n",
    "plt.legend(title='Treatment')\n",
    "\n",
    "# Display the plot\n",
    "plt.show()"
   ]
  },
  {
   "cell_type": "markdown",
   "id": "ebb51a41-1562-44a4-9115-bf634f8afbe6",
   "metadata": {},
   "source": [
    "## Effect of vcmax on GPP, NPP\n",
    "\n",
    "Could also alter leaf nitrogen per area and leaf lifespan.\n",
    "\n",
    "We were probably forced to choose parameters that had very high NPP previously because they were the only ones that could produce large trees."
   ]
  },
  {
   "cell_type": "code",
   "execution_count": null,
   "id": "15d7ef71-eb63-44da-8f71-36ddf452ce18",
   "metadata": {},
   "outputs": [],
   "source": [
    "vcmax_control_0002 = esm_tools.load_fates_output_data(model_output_root=output_root,\n",
    "                                                 case_name='CZ2_equilibrium_040924_-17e2acb6a_FATES-1449c787',\n",
    "                                                 years = list(range(1869,1870)),\n",
    "                                                 fields=fields,\n",
    "                                                 inst_tag='0002')\n",
    "vcmax_control_0008 = esm_tools.load_fates_output_data(model_output_root=output_root,\n",
    "                                                 case_name='CZ2_equilibrium_040924_-17e2acb6a_FATES-1449c787',\n",
    "                                                 years = list(range(1869,1870)),\n",
    "                                                 fields=fields,\n",
    "                                                 inst_tag='0008')\n",
    "vcmax_test_0002 = esm_tools.load_fates_output_data(model_output_root=output_root,\n",
    "                                                 case_name='CZ2_equilibrium_040924_-17e2acb6a_FATES-1449c787',\n",
    "                                                 years = list(range(1869,1870)),\n",
    "                                                 fields=fields,\n",
    "                                                 inst_tag='0119')\n",
    "vcmax_test_0008 = esm_tools.load_fates_output_data(model_output_root=output_root,\n",
    "                                                 case_name='CZ2_equilibrium_040924_-17e2acb6a_FATES-1449c787',\n",
    "                                                 years = list(range(1869,1870)),\n",
    "                                                 fields=fields,\n",
    "                                                 inst_tag='0120')"
   ]
  },
  {
   "cell_type": "code",
   "execution_count": null,
   "id": "2041e3d0-cb3f-4315-8e83-8a2ad38121aa",
   "metadata": {},
   "outputs": [],
   "source": [
    "def get_gpp_npp_df(ds,group,inst_tag):\n",
    "    out = {'Group': group,\n",
    "           'inst_tag':inst_tag,\n",
    "           'npp':esm_tools.get_total_npp(ds),\n",
    "           'gpp':esm_tools.get_total_gpp(ds)}\n",
    "    return pd.DataFrame(out,index=[0])"
   ]
  },
  {
   "cell_type": "code",
   "execution_count": null,
   "id": "388f8756-77ac-4451-a3fb-e16a670c86e4",
   "metadata": {},
   "outputs": [],
   "source": [
    "npp_obs = {'Group':['obs'] * 4, 'inst_tag':[None] * 4, 'npp': [0.636,0.675,0.54,0.42], 'gpp':[1.35,1.4,1.08,None]}\n",
    "pd.DataFrame(npp_obs)"
   ]
  },
  {
   "cell_type": "code",
   "execution_count": null,
   "id": "3d57c75d-58da-4f59-8168-1a063a720ba7",
   "metadata": {},
   "outputs": [],
   "source": [
    "vcmax_test_data_0002 = pd.concat([get_gpp_npp_df(vcmax_control_0002,group = \"control\",inst_tag = \"0002\"),\n",
    "                                  pd.DataFrame(npp_obs),\n",
    "           #get_gpp_npp_df(vcmax_control_0008,group = \"control\",inst_tag = \"0008\"),\n",
    "           get_gpp_npp_df(vcmax_test_0002,group = \"test\",inst_tag = \"0002\")])#,\n",
    "           #get_gpp_npp_df(vcmax_test_0008,group = \"test\",inst_tag = \"0008\")])\n",
    "\n",
    "vcmax_test_data_0008 = pd.concat([get_gpp_npp_df(vcmax_control_0008,group = \"control\",inst_tag = \"0008\"),\n",
    "                                  pd.DataFrame(npp_obs),\n",
    "           #get_gpp_npp_df(vcmax_control_0008,group = \"control\",inst_tag = \"0008\"),\n",
    "           #get_gpp_npp_df(vcmax_test_0002,group = \"test\",inst_tag = \"0002\")])#,\n",
    "           get_gpp_npp_df(vcmax_test_0008,group = \"test\",inst_tag = \"0008\")])"
   ]
  },
  {
   "cell_type": "code",
   "execution_count": null,
   "id": "fddf2137-e2b2-4f11-bdbf-ef6e528c6dd2",
   "metadata": {},
   "outputs": [],
   "source": [
    "import matplotlib.pyplot as plt\n",
    "import seaborn as sns\n",
    "\n",
    "# Data assumed to be in 'vcmax_test_data_0002'\n",
    "# Ensure your DataFrame is loaded and named appropriately\n",
    "\n",
    "# Create a figure and a set of subplots\n",
    "fig, axs = plt.subplots(1, 2, figsize=(12, 6), sharey=True)  # 1 row, 2 columns, share y-axis\n",
    "\n",
    "# First subplot for NPP\n",
    "sns.barplot(x='Group', y='gpp', hue='Group', data=vcmax_test_data_0002, linewidth=2.5, ax=axs[0])\n",
    "axs[0].set_title('Effect of lowering vcmax to 70% of control \\n Ensemble member 0002 - GPP')\n",
    "axs[0].set_xlabel('Group')\n",
    "axs[0].set_ylabel('GPP [g C m-2 yr-1]')\n",
    "axs[0].legend(title='Treatment')\n",
    "\n",
    "# Second subplot for GPP\n",
    "sns.barplot(x='Group', y='npp', hue='Group', data=vcmax_test_data_0002, linewidth=2.5, ax=axs[1])\n",
    "axs[1].set_title('Effect of lowering vcmax to 70% of control \\n Ensemble member 0002 - NPP')\n",
    "axs[1].set_xlabel('Group')\n",
    "axs[1].set_ylabel('NPP [g C m-2 yr-1]')\n",
    "axs[1].legend(title='Treatment')\n",
    "\n",
    "# Adjust layout\n",
    "plt.tight_layout()\n",
    "\n",
    "# Display the plot\n",
    "plt.show()\n"
   ]
  },
  {
   "cell_type": "code",
   "execution_count": null,
   "id": "476057d9-fc54-49ca-bbb6-6474b36a7427",
   "metadata": {},
   "outputs": [],
   "source": [
    "import matplotlib.pyplot as plt\n",
    "import seaborn as sns\n",
    "\n",
    "# Data assumed to be in 'vcmax_test_data_0002'\n",
    "# Ensure your DataFrame is loaded and named appropriately\n",
    "\n",
    "# Create a figure and a set of subplots\n",
    "fig, axs = plt.subplots(1, 2, figsize=(12, 6), sharey=True)  # 1 row, 2 columns, share y-axis\n",
    "\n",
    "# First subplot for NPP\n",
    "sns.barplot(x='Group', y='gpp', hue='Group', data=vcmax_test_data_0008, linewidth=2.5, ax=axs[0])\n",
    "axs[0].set_title('Effect of lowering vcmax to 70% of control \\n Ensemble member 0008 - GPP')\n",
    "axs[0].set_xlabel('Group')\n",
    "axs[0].set_ylabel('GPP [g C m-2 yr-1]')\n",
    "axs[0].legend(title='Treatment')\n",
    "\n",
    "# Second subplot for GPP\n",
    "sns.barplot(x='Group', y='npp', hue='Group', data=vcmax_test_data_0008, linewidth=2.5, ax=axs[1])\n",
    "axs[1].set_title('Effect of lowering vcmax to 70% of control \\n Ensemble member 0008 - NPP')\n",
    "axs[1].set_xlabel('Group')\n",
    "axs[1].set_ylabel('NPP [g C m-2 yr-1]')\n",
    "axs[1].legend(title='Treatment')\n",
    "\n",
    "# Adjust layout\n",
    "plt.tight_layout()\n",
    "\n",
    "# Display the plot\n",
    "plt.show()"
   ]
  },
  {
   "cell_type": "markdown",
   "id": "b1307a7b-7d7c-447c-865e-97059b951d4d",
   "metadata": {},
   "source": [
    "## Lowering VCmax makes it a bit harder for the forest to grow up\n",
    "\n",
    "Many of these instances of conifers dying out with lower vcmax values. But we could lower the lower boundaries of vcmax in the next lhs. Also, this might not be an issue. I can check with the last equilibrium ensemble to see if npp and gpp was low in any simulations."
   ]
  },
  {
   "cell_type": "code",
   "execution_count": null,
   "id": "3b802f51-d0cf-472c-9be2-6a3f55055f6e",
   "metadata": {},
   "outputs": [],
   "source": [
    "f1869_scls_dist_low_vcmax = esm_tools.get_size_class_distribution(case_name='CZ2_equilibrium_040924_-17e2acb6a_FATES-1449c787',\n",
    "                                      years = list(range(1869,1870)),\n",
    "                                      model_output_root=output_root, tag_numbers=list(range(119,129)))"
   ]
  },
  {
   "cell_type": "code",
   "execution_count": null,
   "id": "eaca4f04-d0ae-4c9a-9e9f-9f313c5045e1",
   "metadata": {},
   "outputs": [],
   "source": [
    "bug_fix_1869_scls_dist['Group'] = 'control'\n",
    "f1869_scls_dist_low_vcmax['Group'] = 'test'\n",
    "vcmax_scls_data = pd.concat([bug_fix_1869_scls_dist,f1869_scls_dist_low_vcmax],axis=0)\n",
    "\n",
    "bins = [5, 20, 40, 60, 80, 100, 120, float('inf')]\n",
    "labels = ['5-20', '20-40', '40-60', '60-80', '80-100', '100-120', '>120']\n",
    "\n",
    "# Create a new column for binned size classes\n",
    "vcmax_scls_data['new_size_class'] = pd.cut(vcmax_scls_data['size_class'], bins=bins, labels=labels, right=False, include_lowest=True)\n",
    "vcmax_scls_data = vcmax_scls_data.groupby(['Group','inst_tag','new_size_class']).sum()['density'].reset_index()"
   ]
  },
  {
   "cell_type": "code",
   "execution_count": null,
   "id": "8b972bc5-9764-4579-af3c-c64d959456fd",
   "metadata": {},
   "outputs": [],
   "source": [
    "vcmax_scls_data.groupby(['Group','new_size_class']).mean()['density']"
   ]
  },
  {
   "cell_type": "code",
   "execution_count": null,
   "id": "b978d871-afdb-4008-a989-76cddadd17d1",
   "metadata": {},
   "outputs": [],
   "source": [
    "sns.boxplot(x='new_size_class', y='density', hue='Group', data=vcmax_scls_data , linewidth=2.5)\n",
    "\n",
    "# Adding titles and labels\n",
    "plt.title('Conifer size class distribution 1869')\n",
    "plt.xlabel('Size Class [cm dbh]')\n",
    "plt.ylabel('Density [N ha-1]')\n",
    "plt.ylim(0, 150)\n",
    "\n",
    "# Adding a legend if not automatically included\n",
    "plt.legend(title='Treatment')\n",
    "\n",
    "# Display the plot\n",
    "plt.show()"
   ]
  },
  {
   "cell_type": "markdown",
   "id": "25609186-8457-4dab-b1d4-ed691354bb64",
   "metadata": {},
   "source": [
    "## Checking on equilibrium\n",
    "\n",
    "The members I checked did reach an equilbrium, but given that they both have high NPP, for the next round of simulations I want to run for 700 years to be sure."
   ]
  },
  {
   "cell_type": "code",
   "execution_count": null,
   "id": "9622eeb5-821f-4760-8c1e-7259aafef105",
   "metadata": {},
   "outputs": [],
   "source": [
    "import xarray as xr\n",
    "import glob\n",
    "\n",
    "def load_dataset(directory, pattern, concat_dim):\n",
    "    \"\"\"\n",
    "    Load multiple netCDF files from a specified directory that match a given pattern into a single xarray dataset.\n",
    "\n",
    "    Parameters:\n",
    "        directory (str): Directory to search for files.\n",
    "        pattern (str): Pattern to match files. Example: '*.nc' for all netCDF files.\n",
    "        concat_dim (str): Dimension along which to concatenate the files (commonly 'time').\n",
    "\n",
    "    Returns:\n",
    "        xr.Dataset: Combined dataset from all matched files.\n",
    "    \"\"\"\n",
    "    # Build the file path pattern\n",
    "    file_pattern = f\"{directory}/{pattern}\"\n",
    "    \n",
    "    # List all files matching the pattern\n",
    "    files = glob.glob(file_pattern)\n",
    "    #print(files)\n",
    "    \n",
    "    # Check if any files were found\n",
    "    if not files:\n",
    "        raise FileNotFoundError(f\"No files found for pattern {file_pattern}\")\n",
    "    \n",
    "    # Load and concatenate the datasets\n",
    "    dataset = xr.open_mfdataset(files)\n",
    "    \n",
    "    return dataset"
   ]
  },
  {
   "cell_type": "markdown",
   "id": "d2b2089c-d8e6-4ed4-ac65-3ef5e2842de2",
   "metadata": {},
   "source": [
    "## Equilibrium 0002"
   ]
  },
  {
   "cell_type": "code",
   "execution_count": null,
   "id": "ef5ec2dd-f573-4c9f-8034-3e37efca3f1a",
   "metadata": {},
   "outputs": [],
   "source": [
    "inst_0002_1475_1865 = load_dataset(os.path.join(output_root,'CZ2_equilibrium_040924_-17e2acb6a_FATES-1449c787/lnd/hist'),pattern=\"*0002*\",concat_dim=\"time\")\n",
    "inst_0002_1475_1865['FATES_VEGC_ABOVEGROUND'].plot()\n",
    "plt.show()"
   ]
  },
  {
   "cell_type": "markdown",
   "id": "af48544f-bec8-4c96-a8e9-2950183523c0",
   "metadata": {},
   "source": [
    "## Equilibrium 0008"
   ]
  },
  {
   "cell_type": "code",
   "execution_count": null,
   "id": "112681cd-7b18-46e6-ae7a-d6ad3ff3aff7",
   "metadata": {},
   "outputs": [],
   "source": [
    "inst_0008_1475_1865 = load_dataset(os.path.join(output_root,'CZ2_equilibrium_040924_-17e2acb6a_FATES-1449c787/lnd/hist'),pattern=\"*0008*\",concat_dim=\"time\")\n",
    "inst_0008_1475_1865['FATES_VEGC_ABOVEGROUND'].plot()"
   ]
  },
  {
   "cell_type": "markdown",
   "id": "35c7e03a-e4ff-4919-8c2a-93d6ba9a2146",
   "metadata": {},
   "source": [
    "## Looking to see if more basal area is still shifting to larger size classes"
   ]
  },
  {
   "cell_type": "code",
   "execution_count": null,
   "id": "7ceca84b-5f42-4c1a-9785-ec3a526e52de",
   "metadata": {},
   "outputs": [],
   "source": [
    "xarr = esm_tools.scpf_to_scls_by_pft(inst_0008_1475_1865['FATES_BASALAREA_SZPF'], inst_0008_1475_1865).\\\n",
    "       sel(fates_levpft = slice(0,3)).sum(dim = 'fates_levpft').sel(fates_levscls = slice(80,None)).sum(dim = \"fates_levscls\").\\\n",
    "       isel(lndgrid = 0) * m2_per_ha\n",
    "\n",
    "xarr.plot(x = \"time\")\n",
    "plt.show()"
   ]
  },
  {
   "cell_type": "code",
   "execution_count": null,
   "id": "6dc88937-f20f-41c3-bf25-41878c879c9b",
   "metadata": {},
   "outputs": [],
   "source": [
    "xarr = esm_tools.scpf_to_scls_by_pft(inst_0002_1475_1865['FATES_BASALAREA_SZPF'], inst_0002_1475_1865).\\\n",
    "       sel(fates_levpft = slice(0,3)).sum(dim = 'fates_levpft').sel(fates_levscls = slice(80,None)).sum(dim = \"fates_levscls\").\\\n",
    "       isel(lndgrid = 0) * m2_per_ha\n",
    "\n",
    "xarr.plot(x = \"time\")\n",
    "plt.show()"
   ]
  }
 ],
 "metadata": {
  "kernelspec": {
   "display_name": "env4_work",
   "language": "python",
   "name": "env4_work"
  },
  "language_info": {
   "codemirror_mode": {
    "name": "ipython",
    "version": 3
   },
   "file_extension": ".py",
   "mimetype": "text/x-python",
   "name": "python",
   "nbconvert_exporter": "python",
   "pygments_lexer": "ipython3",
   "version": "3.8.13"
  }
 },
 "nbformat": 4,
 "nbformat_minor": 5
}
