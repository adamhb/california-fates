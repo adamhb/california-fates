{
 "cells": [
  {
   "cell_type": "markdown",
   "id": "1ff243be-429e-45f8-ac57-d88469ce0369",
   "metadata": {},
   "source": [
    "# Results\n",
    "This script uses data from cases that have output in chronological order and creates a time series figure"
   ]
  },
  {
   "cell_type": "markdown",
   "id": "cb550b11-843b-40c1-895a-f884eb8c66d7",
   "metadata": {},
   "source": [
    "## Import modules\n",
    "\n",
    "Tags: 2,  8, 14, 15, 22, 24, 25, 26, 30, 33, 46, 48, 50, 51, 52"
   ]
  },
  {
   "cell_type": "code",
   "execution_count": 1,
   "id": "c8abe6dd-9542-4bb0-a559-8ac9652f3595",
   "metadata": {},
   "outputs": [],
   "source": [
    "import sys\n",
    "sys.path.append('/glade/u/home/adamhb/Earth-System-Model-Tools')\n",
    "import os\n",
    "import numpy as np\n",
    "import pandas as pd\n",
    "from matplotlib.dates import DateFormatter\n",
    "from datetime import datetime#,timedelta\n",
    "import esm_tools\n",
    "from matplotlib import pyplot as plt\n",
    "import seaborn as sns\n",
    "import xarray as xr\n",
    "pd.set_option('display.max_rows', 500)"
   ]
  },
  {
   "cell_type": "markdown",
   "id": "57e63de9-eb1c-4b9c-a692-92b30d9ebb8e",
   "metadata": {},
   "source": [
    "## Set paths and parameters"
   ]
  },
  {
   "cell_type": "code",
   "execution_count": 8,
   "id": "ca044f63-cb8b-4f87-8ceb-f1de476fd069",
   "metadata": {},
   "outputs": [],
   "source": [
    "scenarios = ['Suppression-trans-CO2','No-suppression-trans-CO2','Suppression-const-CO2','No-suppression-const-CO2']\n",
    "scen_colors = ['red','blue','red','blue']\n",
    "pft_names = ['pine','cedar','fir','shrub','oak']\n",
    "subplot_labels = ['(a)','(b)','(c)','(d)','(e)','(f)','(g)','(h)','(i)','(j)','(k)']\n",
    "#scen_linetypes = ['-','-',(0,(1,10)),(0,(1,10))]\n",
    "scen_linetypes = ['-','-','dotted','dotted']\n",
    "my_font_size = 25\n",
    "my_num_cols = 2\n",
    "\n",
    "saveFig = True\n",
    "\n",
    "# Path to where the final figures should be stored\n",
    "figOut = '/glade/u/home/adamhb/california-fates/figures'\n",
    "\n",
    "# Tags that have passed the ecological criteria\n",
    "tags = esm_tools.inst_to_tag(np.load('/glade/work/adamhb/processed_output/supIg105_020224/old/inst_supIg105_020224.npy'))\n",
    "\n",
    "######################\n",
    "#####Time Series######\n",
    "######################\n",
    "\n",
    "# Path to the suppression case time series data\n",
    "#ts_sup_data_path = '/glade/work/adamhb/processed_output/supIg105_020224/ts_supIg105_020224.csv'\n",
    "ts_sup_data_path = '/glade/work/adamhb/processed_output/supIg105_020224/ts_supIg105_031324.csv'\n",
    "\n",
    "# Constant CO2 with SSP3-7.0\n",
    "#ts_sup_SSP3_const_CO2_path = '/glade/work/adamhb/processed_output/supIg105ConstCO2_021924-2015-2098_-17e2acb6a_FATES-5b076b69/ts_supIg105_const_CO2_022024.csv'\n",
    "ts_sup_SSP3_const_CO2_path = '/glade/work/adamhb/processed_output/supIg105ConstCO2_021924-2015-2098_-17e2acb6a_FATES-5b076b69/ts_supIg105_const_CO2_031324.csv'\n",
    "\n",
    "\n",
    "# Path to the no suppression case time series\n",
    "#ts_HF_data_path = '/glade/work/adamhb/processed_output/HF_020424/ts_HF_020424.csv'\n",
    "ts_HF_data_path = '/glade/work/adamhb/processed_output/HF_020424/ts_HF_031324.csv'\n",
    "\n",
    "#ts_HF_ig105_path = '/glade/work/adamhb/processed_output/HF_ig105_021324-2015-2098_-17e2acb6a_FATES-5b076b69/ts_HF_ig105.csv'\n",
    "ts_HF_ig105_path = '/glade/work/adamhb/processed_output/HF_ig105_021324-2015-2098_-17e2acb6a_FATES-5b076b69/ts_HF_ig105_031324.csv'\n",
    "\n",
    "#ts_HF_ig105_SSP3_const_CO2_path = '/glade/work/adamhb/processed_output/HFig105ConstCO2_021924-2015-2098_-17e2acb6a_FATES-5b076b69/ts_HFIg105_const_CO2_022024.csv'\n",
    "ts_HF_ig105_SSP3_const_CO2_path = '/glade/work/adamhb/processed_output/HFig105ConstCO2_021924-2015-2098_-17e2acb6a_FATES-5b076b69/ts_HFIg105_const_CO2_031324.csv'\n",
    "\n",
    "# Test\n",
    "ts_test_path = '/glade/work/adamhb/test.csv'\n",
    "\n",
    "\n",
    "###################\n",
    "#####Metrics#######\n",
    "###################\n",
    "# Path to PEAS data\n",
    "met_peas_path = '/glade/work/adamhb/processed_output/CZ2_equilibrium_011824_-17e2acb6a_FATES-5b076b69/eq_metrics_020624.csv'\n",
    "\n",
    "\n",
    "# Path to early 21th century supression metrics\n",
    "met_early_21st_sup_path = '/glade/work/adamhb/processed_output/supIg105_020224-1951-2020_-17e2acb6a_FATES-5b076b69/supIg105_020224_1970-2010.csv'\n",
    "\n",
    "\n",
    "# Path to late 21st century suppression metrics\n",
    "# Sup\n",
    "met_late_21st_sup_path = '/glade/work/adamhb/processed_output/supIg105_020224-2015-2098_-17e2acb6a_FATES-5b076b69/supIg105_020224_2058-2098.csv'\n",
    "met_late_21st_sup_const_CO2_path = '/glade/work/adamhb/processed_output/supIg105ConstCO2_021924-2015-2098_-17e2acb6a_FATES-5b076b69/metrics_late21st_sup_const_CO2.csv'\n",
    "\n",
    "# HF\n",
    "met_early_21st_HF_path = '/glade/work/adamhb/processed_output/HF_020424-1951-2020_-17e2acb6a_FATES-5b076b69/HF_020424_1970-2010.csv'\n",
    "met_late_21st_HF_path = '/glade/work/adamhb/processed_output/HF_020424-2015-2098_-17e2acb6a_FATES-5b076b69/HF_020424_2058-2098.csv'\n",
    "met_late_21st_HF_ig105_path = '/glade/work/adamhb/processed_output/HF_ig105_021324-2015-2098_-17e2acb6a_FATES-5b076b69/HF_ig105_021324_2058-2098.csv'\n",
    "met_late_21st_HF_ig105_const_CO2_path = '/glade/work/adamhb/processed_output/HFig105ConstCO2_021924-2015-2098_-17e2acb6a_FATES-5b076b69/metrics_late21st_HF_const_CO2.csv'\n",
    "\n",
    "# Vars to plot for time series\n",
    "\n",
    "# vars = ['AGCD',\n",
    "#  'BA_conifer',\n",
    "#  'BA_pine',\n",
    "#  'BA_cedar',\n",
    "#  'BA_fir',\n",
    "#  'BA_oak',\n",
    "#  'TreeStemD',\n",
    "#  'Pct_shrub_cover_canopy',\n",
    "#  'Pct_shrub_cover',\n",
    "#  'Burned_area',\n",
    "#  'Pct_conifer_cover_canopy',\n",
    "#  'Pct_oak_cover_canopy',\n",
    "#  'Combustible_fuel',\n",
    "#  'Pct_high_severity_1700',\n",
    "#  'Pct_high_severity_3500']\n",
    "\n",
    "\n",
    "m2_per_ha = 10000"
   ]
  },
  {
   "cell_type": "markdown",
   "id": "ae45d195-d065-4b7a-943b-e84a0741c5dc",
   "metadata": {},
   "source": [
    "## Variable long names"
   ]
  },
  {
   "cell_type": "code",
   "execution_count": 3,
   "id": "82218ec0-80eb-4fe5-acf0-a2a58c62ca8a",
   "metadata": {},
   "outputs": [],
   "source": [
    "# variable long names for figure axes\n",
    "vln = {'Burned_area':'Burned area [% yr-1]',\n",
    "       'Pct_high_severity_3500':'High severity fire [% of fires > 3500 kW m-1]',\n",
    "       'Pct_high_severity_1700':'High severity fire [% of fires > 1700 kW m-1]',\n",
    "       'AGCD':'Above-ground carbon density [Kg C m-2]',\n",
    "       'BA_conifer':'Conifer basal area (dbh > 10 cm) [m-2 ha-1]',\n",
    "       'Pct_shrub_cover_canopy':'Shrub cover [%]',\n",
    "       'VCD':'Vegetation carbon density [Kg C m-2]',\n",
    "       'Pct_conifer_cover_canopy':'Conifer cover [%]',\n",
    "       'Pct_oak_cover_canopy':'Oak cover [%]',\n",
    "       'Pct_pine_cover_canopy':'Pine cover [%]',\n",
    "       'Pct_cedar_cover_canopy':'Cedar cover [%]',\n",
    "       'Pct_fir_cover_canopy':'Fir cover [%]',\n",
    "       'BA_pine':'Pine basal area (dbh > 10 cm) [m-2 ha-1]',\n",
    "       'BA_cedar':'Cedar basal area (dbh > 10 cm) [m-2 ha-1]',\n",
    "       'BA_fir':'Fir basal area (dbh > 10 cm) [m-2 ha-1]',\n",
    "       'BA_oak':'Oak  basal area (dbh > 10 cm) [m-2 ha-1]',\n",
    "       'TreeStemD':'Tree Stem Density [N ha-1] (> 10 cm dbh)',\n",
    "       'Combustible_fuel':'Combustible fuel [Kg C m-2]',\n",
    "       'NPP':'NPP',\n",
    "       'mort_pine_fire_per_cap':'Pine fire mort [per capita (%) yr-1]',\n",
    "       'mort_pine_cstarve_per_cap':'Pine cstarve mort [per capita (%) yr-1]',\n",
    "       'mort_pine_hydr_per_cap':'Pine hydr failure mort [per capita (%) yr-1]',\n",
    "       'mort_cedar_fire_per_cap':'Cedar fire mort [per capita (%) yr-1]',\n",
    "       'mort_cedar_cstarve_per_cap':'Cedar cstarve mort [per capita (%) yr-1]',\n",
    "       'mort_cedar_hydr_per_cap':'Cedar hydr failure mort [per capita (%) yr-1]',\n",
    "       'mort_fir_fire_per_cap':'Fir fire mort [per capita (%) yr-1]',\n",
    "       'mort_fir_cstarve_per_cap':'Fir cstarve mort [per capita (%) yr-1]',\n",
    "       'mort_fir_hydr_per_cap':'Fir hydr failure mort [per capita (%) yr-1]',\n",
    "       'mort_shrub_fire_per_cap':'Shrub fire mort [per capita (%) yr-1]',\n",
    "       'mort_shrub_cstarve_per_cap':'Shrub cstarve mort [per capita (%) yr-1]',\n",
    "       'mort_shrub_hydr_per_cap':'Shrub hydr failure mort [per capita (%) yr-1]',\n",
    "       'mort_oak_fire_per_cap':'Oak fire mort [per capita (%) yr-1]',\n",
    "       'mort_oak_cstarve_per_cap':'Oak cstarve mort [per capita (%) yr-1]',\n",
    "       'mort_oak_hydr_per_cap':'Oak hydr failure mort [per capita month-1]',\n",
    "       'SMP':'Soil matric potential [MPa 0.4 m depth]',\n",
    "       'StemD10_pine':'Pine stem density [N ha-1] (> 10 cm dbh)',\n",
    "       'mort_pine_fire_n_per_ha':'Pine fire mort [N ha-1 month-1]',\n",
    "       'Rec_pine':'Recruitment pine [N ha-1 yr -1]',\n",
    "       'Rec_cedar':'Recruitment cedar [N ha-1 yr -1]',\n",
    "       'Rec_fir':'Recruitment fir [N ha-1 yr -1]',\n",
    "       'Rec_shrub':'Recruitment shrub [N ha-1 yr -1]',\n",
    "       'Rec_oak':'Recruitment oak [N ha-1 yr -1]'\n",
    "       }"
   ]
  },
  {
   "cell_type": "markdown",
   "id": "c7aacbc6-85c8-4e4a-a126-4b24e8142733",
   "metadata": {},
   "source": [
    "## Functions"
   ]
  },
  {
   "cell_type": "code",
   "execution_count": 24,
   "id": "9c59de8f-1dac-49c5-8a45-92fc091b80e1",
   "metadata": {},
   "outputs": [],
   "source": [
    "def get_size_class_distribution(case_name,years,metric = \"density\", plot = True):\n",
    "    tag_numbers = [2,  8, 14, 15, 22, 24, 25, 26, 30, 33, 46, 48, 50, 51, 52]\n",
    "    inst_tags = esm_tools.inst_to_tag(tag_numbers) \n",
    "    output = pd.DataFrame()\n",
    "    \n",
    "    for inst_tag in inst_tags:\n",
    "        ds = esm_tools.load_fates_output_data(model_output_root='/glade/derecho/scratch/adamhb',\n",
    "                                    case_name = case_name,\n",
    "                                    years = years,\n",
    "                                    fields = fields,\n",
    "                                    inst_tag = inst_tag,\n",
    "                                    manual_path = None)\n",
    "\n",
    "        if metric == \"ba\":\n",
    "            fates_var = 'FATES_BASALAREA_SZPF'\n",
    "        if metric == \"density\":\n",
    "            fates_var = 'FATES_NPLANT_SZPF'\n",
    "        \n",
    "        xarr = esm_tools.scpf_to_scls_by_pft(ds[fates_var], ds).mean(dim = \"time\").\\\n",
    "                     sel(fates_levpft = slice(0,3)).sum(dim = 'fates_levpft').sel(fates_levscls = slice(10,None))\n",
    "            \n",
    "        size_class = xarr.fates_levscls\n",
    "        vals = xarr.values * m2_per_ha\n",
    "        tmp = pd.DataFrame({'size_class':size_class,'density':vals})\n",
    "        tmp['inst_tag'] = inst_tag\n",
    "        output = pd.concat([output,tmp],axis = 0)\n",
    "    \n",
    "    return output\n",
    "    if plot == True:\n",
    "        plt.rc('font', size=12)\n",
    "        # Creating the box and whisker plot\n",
    "        sns.boxplot(x='size_class', y='density', data=output)\n",
    "        \n",
    "        # Adding titles and labels (optional)\n",
    "        plt.title('Conifer size class distribution')\n",
    "        plt.xlabel('Size Class [cm dbh]')\n",
    "        plt.ylabel('Density [N ha-1]')\n",
    "        \n",
    "        # Display the plot\n",
    "        plt.show()\n",
    "        \n",
    "    \n",
    "\n",
    "def get_fire_mort(case_name,years,pft_index,dbh_min = 0, var = 'FATES_MORTALITY_FIRE_SZPF'):\n",
    "    tag_numbers = [2,  8, 14, 15, 22, 24, 25, 26, 30, 33, 46, 48, 50, 51, 52]\n",
    "    inst_tags = esm_tools.inst_to_tag(tag_numbers) \n",
    "    output = pd.DataFrame()\n",
    "    \n",
    "    for inst_tag in inst_tags:\n",
    "        ds = esm_tools.load_fates_output_data(model_output_root='/glade/derecho/scratch/adamhb',\n",
    "                                    case_name = case_name,\n",
    "                                    years = years,\n",
    "                                    fields = fields,\n",
    "                                    inst_tag = inst_tag,\n",
    "                                    manual_path = None)\n",
    "\n",
    "    \n",
    "        fire_mort_n_per_m2_yr = esm_tools.scpf_to_scls_by_pft(ds[var], ds).mean(dim = \"time\").\\\n",
    "                     isel(fates_levpft = pft_index).sel(fates_levscls = slice(dbh_min,None))\n",
    "\n",
    "        density = esm_tools.scpf_to_scls_by_pft(ds['FATES_NPLANT_SZPF'], ds).mean(dim = \"time\").\\\n",
    "                     isel(fates_levpft = pft_index).sel(fates_levscls = slice(dbh_min,None))\n",
    "\n",
    "        fire_mort_n_per_capita_per_year = fire_mort_n_per_m2_yr / density\n",
    "        \n",
    "        #.sum(dim = 'fates_levpft')\n",
    "        \n",
    "        size_class = fire_mort_n_per_capita_per_year.fates_levscls\n",
    "        vals = fire_mort_n_per_capita_per_year.values\n",
    "        tmp = pd.DataFrame({'size_class':size_class,'mort':vals})\n",
    "        tmp['inst_tag'] = inst_tag\n",
    "        output = pd.concat([output,tmp],axis = 0)\n",
    "\n",
    "    plt.rc('font', size=12)\n",
    "    # Creating the box and whisker plot\n",
    "    sns.boxplot(x='size_class', y='mort', data=output)\n",
    "\n",
    "\n",
    "    # Adding titles and labels (optional)\n",
    "    plt.title('{} fire mortality {}-{}'.format(pft_names[pft_index],years[0],years[1]))\n",
    "    plt.xlabel('Size Class [cm dbh]')\n",
    "    plt.ylabel('Mort rate [per capita yr-1]')\n",
    "    \n",
    "    # Display the plot\n",
    "    plt.show()\n",
    "    \n",
    "    #return output\n",
    "\n",
    "\n",
    "\n",
    "def date_convert(date_string):\n",
    "    date_format = \"%Y-%m-%d\"\n",
    "    # Convert the string to a datetime object\n",
    "    datetime_object = datetime.strptime(date_string, date_format)\n",
    "    return datetime_object\n",
    "\n",
    "def load_processed_data(path):    \n",
    "    \n",
    "    raw_cols = pd.read_csv(path).columns\n",
    "    if \"Date\" in raw_cols:\n",
    "        d = drop_unnamed_columns(pd.read_csv(path,parse_dates=[\"Date\"]))\n",
    "    else:\n",
    "        d = drop_unnamed_columns(pd.read_csv(path))\n",
    "        \n",
    "    if \"inst_tag\" in d.columns:\n",
    "        d['inst_tag'] = esm_tools.inst_to_tag(d['inst_tag'])\n",
    "        d = d.loc[d['inst_tag'].isin(tags)]\n",
    "\n",
    "    d['VCD'] = d['AGCD'] * 1.4\n",
    "    \n",
    "    for var in ['Burned_area','Pct_conifer_cover_canopy','Pct_shrub_cover_canopy',\n",
    "                'Pct_oak_cover_canopy','Pct_pine_cover_canopy',\n",
    "                'Pct_cedar_cover_canopy','Pct_fir_cover_canopy']:\n",
    "        d[var] = d[var] * 100\n",
    "\n",
    "    all_vars = list(d.columns)\n",
    "    for var in all_vars:\n",
    "        if (\"mort\" in var) and (\"per_cap\" in var):\n",
    "            d[var] = d[var] * 12 * 100\n",
    "    \n",
    "    return d\n",
    "\n",
    "def metrics_diff(df1,df2):\n",
    "    if df1.shape != df2.shape:\n",
    "        raise ValueError(\"Dataframe are not the same shape\")\n",
    "\n",
    "    if not list(df1['inst_tag']) == list(df2['inst_tag']):\n",
    "        raise ValueError(\"Tags are not the same\")\n",
    "\n",
    "    tags = list(df1['inst_tag'])\n",
    "    col_headers = list(df1.drop(columns = 'inst_tag').columns)\n",
    "\n",
    "    end_means = df1.select_dtypes(exclude=['object']).mean(axis = 0,skipna=True)\n",
    "    end_std = df1.select_dtypes(exclude=['object']).std(axis = 0,skipna=True)\n",
    "    start_means = df2.select_dtypes(exclude=['object']).mean(axis = 0,skipna=True)\n",
    "    start_std = df2.select_dtypes(exclude=['object']).std(axis = 0,skipna=True)\n",
    "    \n",
    "    data1 = df1.drop(columns = 'inst_tag').values\n",
    "    data2 = df2.drop(columns = 'inst_tag').values\n",
    "\n",
    "    delta = data1 - data2\n",
    "    delta = pd.DataFrame(delta,columns=col_headers)\n",
    "    delta_mean = delta.select_dtypes(exclude=['object']).mean(axis = 0,skipna=True)\n",
    "    delta_std = delta.select_dtypes(exclude=['object']).std(axis = 0,skipna=True)\n",
    "    \n",
    "    pct_change = (data1 - data2) / data2 * 100\n",
    "    threshold = 10000000\n",
    "    pct_change[pct_change > threshold] = 0 # Replace values larger than the threshold with zero\n",
    "    pct_change = np.nan_to_num(pct_change, nan=np.nan)\n",
    "    pct_change = pd.DataFrame(pct_change,columns=col_headers)\n",
    "    pct_change_mean = pct_change.select_dtypes(exclude=['object']).mean(axis = 0,skipna=True)\n",
    "    pct_change_std = pct_change.select_dtypes(exclude=['object']).std(axis = 0,skipna=True)\n",
    "\n",
    "    out = pd.DataFrame({'start':start_means,'start_sd':start_std,'end':end_means,'end_sd':end_std,\n",
    "                        'delta':delta_mean,'delta_sd':delta_std,'pct_change':pct_change_mean,'pct_change_sd':pct_change_std})\n",
    "    \n",
    "    #out['inst_tag'] = tags\n",
    "    #out = out[df1.columns]\n",
    "    \n",
    "    return out\n",
    "\n",
    "def drop_unnamed_columns(df):\n",
    "    # Get the list of column names\n",
    "    column_names = df.columns\n",
    "    \n",
    "    # Filter the column names that contain \"Unnamed\"\n",
    "    unnamed_columns = [col for col in column_names if 'Unnamed' in col]\n",
    "    \n",
    "    # Drop the unnamed columns from the DataFrame\n",
    "    df = df.drop(columns=unnamed_columns)\n",
    "    \n",
    "    return df\n",
    "\n",
    "def drop_first_col(d):\n",
    "    return d.drop(d.columns[0], axis=1)\n",
    "\n",
    "def get_basename_wo_exnt(full_path):\n",
    "    return os.path.splitext(os.path.basename(full_path))[0]\n",
    "\n",
    "def make_ts_fig(ts_sup_data,vars_to_plot,start_date = None,end_date = None):\n",
    "\n",
    "    ts_sup_data = ts_sup_data.copy()\n",
    "    ts_sup_data = ts_sup_data.loc[(ts_sup_data['Date'] >= date_convert(start_date)) & (ts_sup_data['Date'] <= date_convert(end_date))]\n",
    "    \n",
    "    # Set the number of columns for the subplots\n",
    "    num_cols = 2\n",
    "    \n",
    "    # Calculate the number of rows needed for subplots\n",
    "    num_rows = (len(vars_to_plot) + num_cols - 1) // num_cols\n",
    "    \n",
    "    # Convert the year 1870 to a datetime object\n",
    "    year_1870 = datetime(1870, 1, 1)\n",
    "    year_1822 = datetime(1822, 1, 1)\n",
    "    year_1990 = datetime(2010,1,1)\n",
    "    year_2015 = datetime(2015,1,1)\n",
    "    \n",
    "    plt.rc('font', size=25)\n",
    "    #default_font_size = 16\n",
    "    \n",
    "    # Create a figure with subplots\n",
    "    y_size_factor = 60/7\n",
    "    y_size = y_size_factor * num_rows\n",
    "    \n",
    "    fig, axes = plt.subplots(num_rows, num_cols, figsize=(30, y_size), dpi=200)\n",
    "    axes = axes.flatten()\n",
    "    \n",
    "    ts_sup_data_PHS = ts_sup_data.dropna()\n",
    "    \n",
    "    # Loop through each variable and create a subplot\n",
    "    for var_index, var in enumerate(vars_to_plot):\n",
    "        ax = axes[var_index]\n",
    "    \n",
    "        if (var == \"Pct_high_severity_1700\") | (var == \"Pct_high_severity_3500\"):\n",
    "            sns.lineplot(x=\"Date\", y=var, units=\"inst_tag\", data=ts_sup_data_PHS, ax=ax, color = \"grey\", alpha = 0.2, estimator=None)\n",
    "        else:\n",
    "            sns.lineplot(x=\"Date\", y=var, units=\"inst_tag\", data=ts_sup_data, ax=ax, color = \"grey\", alpha = 0.2, estimator=None)\n",
    "\n",
    "        if var in obs_PEAS.keys():\n",
    "            #if i == 0:\n",
    "            ax.vlines(x=year_1822, color=\"black\", linestyle=\"-\", linewidth = 10, ymin = obs_PEAS[var][0], ymax = obs_PEAS[var][1], alpha = 0.8, label = \"PEAS observations\")\n",
    "            #else:\n",
    "            #    ax.vlines(x=year_1822, color=\"black\", linestyle=\"-\", linewidth = 6, ymin = obs_PEAS[var][0], ymax = obs_PEAS[var][1])\n",
    "        if var in obs_SUP.keys():\n",
    "            #if i == 0:\n",
    "            ax.vlines(x=year_1990, color=\"skyblue\", linestyle=\"-\", linewidth = 10, ymin = obs_SUP[var][0], ymax = obs_SUP[var][1], alpha = 0.8, label = \"EAS observations\")\n",
    "            #else:\n",
    "            #    ax.vlines(x=year_1990, color=\"green\", linestyle=\"-\", linewidth = 6, ymin = obs_SUP[var][0], ymax = obs_SUP[var][1])\n",
    "        \n",
    "        ax.set_title(vln[var])\n",
    "        ax.set_ylabel(vln[var])\n",
    "        \n",
    "        # Set plot title and labels\n",
    "        if var == \"Burned_area\":\n",
    "      \n",
    "            ax.set_ylim(ymin=0)  # Set ymin for the Burned_area panel to be 0\n",
    "        \n",
    "        ax.set_xlabel(\"Year\")  # Change the x-axis label to \"Year\"\n",
    "        \n",
    "        # Add a vertical line at 1870 to all panels\n",
    "        \n",
    "        ax.axvline(x=year_1870, color=\"red\", linestyle=\"--\")\n",
    "        #ax.axvline(x=year_2015, color=\"green\", linestyle=\"--\")\n",
    "    \n",
    "        # Add a black trend line representing the mean of the groups\n",
    "    \n",
    "        if (var == \"Pct_high_severity_1700\") | (var == \"Pct_high_severity_3500\"):\n",
    "           mean_values = ts_sup_data_PHS.groupby(\"Date\")[var].mean()\n",
    "        else:\n",
    "           mean_values = ts_sup_data.groupby(\"Date\")[var].mean()\n",
    "\n",
    "       \n",
    "        ax.plot(mean_values.index, mean_values.values, color=\"black\", linestyle=\"-\", label=\"Ensemble mean\")\n",
    "        ax.text(0.05, 0.95, subplot_labels[var_index], transform=ax.transAxes, fontsize=my_font_size, fontweight='bold', va='top')\n",
    "        \n",
    "        if var_index < 1:\n",
    "            ax.legend()\n",
    "        \n",
    "        # Remove the legend\n",
    "        #ax.get_legend().remove()\n",
    "    \n",
    "    # Remove any empty subplots\n",
    "    for i in range(len(vln.keys()), num_rows * num_cols):\n",
    "        fig.delaxes(axes[var_index])\n",
    "    \n",
    "    # Adjust layout\n",
    "    plt.tight_layout()\n",
    "\n",
    "    if saveFig == True:\n",
    "        figName = os.path.join(figOut,get_basename_wo_exnt(ts_sup_data_path) + '.pdf')\n",
    "        print(figName)\n",
    "        #plt.savefig(figName)\n",
    "    \n",
    "    # Show the plot\n",
    "    plt.show()\n",
    "\n",
    "\n",
    "\n",
    "        \n",
    "   # ts_data = pd.concat(list_of_dfs,axis = 0, ignore_index=True)\n",
    "    \n",
    "   # ts1x = ts1.copy()\n",
    "   # ts2x = ts2.copy()\n",
    "   # ts3x = ts3.copy()\n",
    "   # ts4x = ts4.copy()\n",
    "\n",
    "def prep_comparison_data(input_list_of_dfs):\n",
    "\n",
    "    list_of_dfs = []\n",
    "    \n",
    "    for i in range(len(input_list_of_dfs)):\n",
    "        tmp = input_list_of_dfs[i].copy()\n",
    "        tmp['scenario'] = scenarios[i]\n",
    "        list_of_dfs.append(tmp)\n",
    "    \n",
    "    ts_data = pd.concat(list_of_dfs,axis = 0, ignore_index=True)\n",
    "    return ts_data\n",
    "\n",
    "def get_mean_and_std_ts(ts_data,var,scenario):\n",
    "        ts_data = ts_data.copy()\n",
    "        ts_data = ts_data.loc[ts_data['scenario'] == scenario]\n",
    "        mean_values = ts_data.groupby(\"Date\")[var].mean().reset_index()\n",
    "        std_values = ts_data.groupby(\"Date\")[var].std()\n",
    "        mean_values['std'] = std_values.values\n",
    "        return mean_values\n",
    "        \n",
    "\n",
    "def add_running_mean_time_window(df,time_window = 36):\n",
    "    df = df.copy()\n",
    "    df = df.set_index('Date').rolling(window = 36).mean()\n",
    "    return df.reset_index()\n",
    "\n",
    "\n",
    "def compare_ts(input_list_of_dfs, vars_to_plot, zeroto100 = False,mysharey = False):\n",
    "\n",
    "    # Import data\n",
    "    ts_data = prep_comparison_data(input_list_of_dfs)\n",
    "    ts_data_PHS = ts_data.dropna().copy()\n",
    "\n",
    "    #############\n",
    "    # Set up fig#\n",
    "    #############\n",
    "    num_cols = my_num_cols\n",
    "    num_rows = (len(vars_to_plot) + num_cols - 1) // num_cols\n",
    "    plt.rc('font', size=my_font_size)\n",
    "    y_size_factor = 60/7\n",
    "    y_size = y_size_factor * num_rows\n",
    "    fig, axes = plt.subplots(num_rows, num_cols, figsize=(30, y_size), dpi=200,sharey=mysharey)\n",
    "    axes = axes.flatten()\n",
    "    \n",
    "    \n",
    "    year_1870 = datetime(1870, 1, 1)\n",
    "    year_1822 = datetime(1822, 1, 1)\n",
    "    year_2010 = datetime(2010, 1, 1)\n",
    "    year_2015 = datetime(2015, 1, 1)\n",
    "\n",
    "    # Loop through each variable and create a subplot\n",
    "    for var_index, var in enumerate(vars_to_plot):\n",
    "        ax = axes[var_index]\n",
    "    \n",
    "        if (var == \"Pct_high_severity_1700\") | (var == \"Pct_high_severity_3500\"):\n",
    "            data_to_plot = ts_data_PHS\n",
    "        else:\n",
    "            data_to_plot = ts_data\n",
    "\n",
    "        for i,s in enumerate(scenarios):\n",
    "            plot_data = get_mean_and_std_ts(data_to_plot,var,scenarios[i])\n",
    "            if ('mort' in var) | ('SMP' in var) | ('NPP' in var) | ('Rec' in var):\n",
    "                plot_data = add_running_mean_time_window(plot_data)\n",
    "            ax.plot(plot_data['Date'], plot_data[var], color=scen_colors[i], linewidth = 3, linestyle=scen_linetypes[i],label = s)\n",
    "            if i < 2:\n",
    "                ax.fill_between(plot_data['Date'], plot_data[var] - plot_data['std'], plot_data[var] + plot_data['std'], color=scen_colors[i], alpha=0.06)\n",
    "\n",
    "        # Add PEAS obs if available\n",
    "        if var in obs_PEAS.keys():\n",
    "            if i == 0:\n",
    "                ax.vlines(x=year_1822, color=\"black\", linestyle=\"-\", linewidth = 6, ymin = obs_PEAS[var][0], ymax = obs_PEAS[var][1], label = \"PEAS observations\")\n",
    "            else:\n",
    "                ax.vlines(x=year_1822, color=\"black\", linestyle=\"-\", linewidth = 6, ymin = obs_PEAS[var][0], ymax = obs_PEAS[var][1])\n",
    "        if var in obs_SUP.keys():\n",
    "            if i == 0:\n",
    "                ax.vlines(x=year_2010, color=\"green\", linestyle=\"-\", linewidth = 6, ymin = obs_SUP[var][0], ymax = obs_SUP[var][1], label = \"EAS observations\")\n",
    "            else:\n",
    "                ax.vlines(x=year_2010, color=\"green\", linestyle=\"-\", linewidth = 6, ymin = obs_SUP[var][0], ymax = obs_SUP[var][1])\n",
    "\n",
    "        ax.set_title(vln[var])\n",
    "        ax.set_ylabel(vln[var])\n",
    "        ax.text(0.05, 0.95, subplot_labels[var_index], transform=ax.transAxes, fontsize=my_font_size, fontweight='bold', va='top')\n",
    "\n",
    "        if var_index < 1:\n",
    "            ax.legend()\n",
    "        \n",
    "        # Set plot title and labels\n",
    "        if (var == \"Burned_area\") | (\"Rec\" in var):\n",
    "            ax.set_ylim(ymin=0)  # Set ymin for the Burned_area panel to be 0\n",
    "\n",
    "        if (zeroto100 == True) & ('cover' in var):\n",
    "            ax.set_ylim(ymin=0,ymax=100)\n",
    "        \n",
    "        ax.set_xlabel(\"Year\")  # Change the x-axis label to \"Year\"\n",
    "        \n",
    "        # Add a vertical line at 1870 to all panels\n",
    "        ax.axvline(x=year_1870, color=\"red\", linestyle=\"--\")\n",
    "        ax.axvline(x=year_2015, color=\"green\", linestyle=\"--\")\n",
    "    \n",
    "    # Remove any empty subplots\n",
    "    for i in range(len(vln.keys()), num_rows * num_cols):\n",
    "        fig.delaxes(axes[i])\n",
    "    \n",
    "    # Adjust layout\n",
    "    plt.tight_layout()\n",
    "\n",
    "    if saveFig == True:\n",
    "        figName = os.path.join(figOut,get_basename_wo_exnt(ts_sup_data_path) + '.pdf')\n",
    "        print(figName)\n",
    "        #plt.savefig(figName)\n",
    "    \n",
    "    # Show the plot\n",
    "    plt.show()\n",
    "\n",
    "\n",
    "\n",
    "def HistModelObs(modData,Obs,Var):\n",
    "    '''\n",
    "    Returns a histogram comparing the model data to a range of observations\n",
    "\n",
    "    Inputs:\n",
    "    - modData: dataframe of model metrics\n",
    "    - Obs: dictionary of observations from the literature. Each list is a range of a particular observation\n",
    "    - Var: variable name to plot\n",
    "\n",
    "    Output:\n",
    "    - histogram\n",
    "    '''\n",
    "    var_data = modData[Var]\n",
    "    \n",
    "    if Var in ['Pct_shrub_cover_canopy','Burned_area']:\n",
    "        var_data = var_data * 100\n",
    "        \n",
    "    n, bins, patches = plt.hist(var_data, bins=15, alpha=0.9, color='white', edgecolor='black', label = \"Model\")\n",
    "    line1 = plt.axvline(x=Obs[Var][0], color='black', linestyle='--', linewidth=2, label = \"Obs. range\")\n",
    "    line2 = plt.axvline(x=Obs[Var][1], color='black', linestyle='--', linewidth=2)\n",
    "    plt.xlabel(vln[Var])\n",
    "    plt.ylabel(\"Number of ensemble members\")\n",
    "    plt.legend()\n",
    "    plt.tight_layout()\n",
    "    plt.show()"
   ]
  },
  {
   "cell_type": "markdown",
   "id": "3513d72d-f2f9-4fe4-8fba-7ba0ada17e96",
   "metadata": {},
   "source": [
    "## Obs: Pre-Euro-American forest structure and fire regime\n",
    "\n",
    "Sources for observed (reconstructed) range of burned area\n",
    " *  Williams et al., 2023 (3-9)\n",
    " *  In Safford and Stephens, 2017 they report that Stephens et al. (2007) found 5-15%, but lower end of the range is more reliable so we use 3 to 11.\n",
    "\n",
    "Source for observed (reconstructed range of PHS)\n",
    " * Williams et al., 2023\n",
    " * Safford and Stevens, 2017: PHS = 4-6 (Fig. 6, p39); Stephens et al., 2015 estimated 1-3 percent from timber survey records\n",
    "\n",
    "Sources for BA \n",
    " * Scholl and Taylor, 2010 (29.5)\n",
    " * USDA FS 1911 (21)\n",
    " * Collins et al., 2015 (DRY sits within the landscape analysis) (10.6)\n",
    " * Could also add Stephens et al. 2015 (if it makes sense to add together the pft-level BA\n",
    "\n",
    "Sources for shrub (add the 5 references from dry and wet)\n",
    " * Bonnicksen and Stone (1982) (19)\n",
    " * Show and Kotok, 1924 via Safford and Stephens, 2017 (11)\n",
    " * Collins et al. 2015\n",
    " * Stephens et al., 2015\n",
    " * Knapp et al., 2012\n",
    " * Wang et al., 2022"
   ]
  },
  {
   "cell_type": "markdown",
   "id": "b703d344-c75e-41d5-ab93-826d5ccf8c82",
   "metadata": {},
   "source": [
    "## Obs: Suppression-era forest structure and fire regime\n",
    "\n",
    "\n",
    "Source for burned area and PHS: Williams et al, 2023\n",
    "\n",
    "Sources for BA \n",
    "\n",
    "* CZ2, Polly's data (35)\n",
    "* SFTR, Scholl and Taylor, Table 1 2010 (69.4)\n",
    "* PP Greenhorn Mountains, Stephens et al., 2015, Table 6 (15.6)\n",
    "\n",
    "\n",
    "Sources for Shrub Cover\n",
    "* Wang et al., 2022 (22)\n",
    "* Cronemiller et al., 1959 (14)\n",
    "* Knapp et al. 2012 (2.5)"
   ]
  },
  {
   "cell_type": "code",
   "execution_count": null,
   "id": "0ac0fc5d-d7bf-4871-9053-023f92cc220c",
   "metadata": {},
   "outputs": [],
   "source": [
    "obs_PEAS = {'Burned_area':[3,11], #Range for burned area was calculated from the FRI estimates given in Table 3 of Williams et al., 2023. BurnFrac = 1/ FRI. The ranges given in Safford and Stevens, 2017 are larger.\n",
    "       'Pct_high_severity_3500':[1,6], # Williams+ 2023; Safford and Stevens, 2017, Stephens+ 2015\n",
    "       'Pct_high_severity_1700':[1,6],\n",
    "       'BA_conifer':[10.6,29.5], # 10 cm dbh\n",
    "       'Pct_shrub_cover_canopy':[9,54], # DRY and WET\n",
    "      }\n",
    "\n",
    "# Pick up here with checking if we suppressed the forest too much.\n",
    "obs_SUP = {'Burned_area':[0.53487,2],# Williams+ 2023 (low: 1980 to 2010, high: 2010 to 2020)\n",
    "           'Pct_high_severity_3500':[25,43],# Williams+ 2023 (low: 1980 to 2010, high: 2010 to 2020)\n",
    "           'BA_conifer':[15.6,69.4],\n",
    "           'Pct_shrub_cover_canopy':[2.5,22]}"
   ]
  },
  {
   "cell_type": "markdown",
   "id": "1ff542d3-b543-4bde-ba90-396dd6100013",
   "metadata": {},
   "source": [
    "## Read in and clean data"
   ]
  },
  {
   "cell_type": "code",
   "execution_count": null,
   "id": "a762a8e7-e0a4-4f0d-9bcc-ffda8b32d79c",
   "metadata": {},
   "outputs": [],
   "source": [
    "# Time series data\n",
    "ts_test_data = load_processed_data(ts_test_path)\n",
    "\n",
    "# Suppression\n",
    "ts_sup_data = load_processed_data(ts_sup_data_path)\n",
    "\n",
    "# Get sup with ig105 and const CO2 for future\n",
    "ts_supIg105_const_CO2_2015_2099 = load_processed_data(ts_sup_SSP3_const_CO2_path)\n",
    "tmp = ts_sup_data.loc[ts_sup_data['Date'] < \"2015-01-01\"]\n",
    "ts_supIg105_const_CO2_data = pd.concat([tmp,ts_supIg105_const_CO2_2015_2099],axis = 0)\n",
    "\n",
    "# No Suppression\n",
    "\n",
    "# Not using this because the ignition rate is too high\n",
    "ts_HF_data = load_processed_data(ts_HF_data_path)\n",
    "\n",
    "# Get HF with the ig105 for the future component\n",
    "ts_HFig105_data_2015_2099 = load_processed_data(ts_HF_ig105_path)\n",
    "tmp = ts_HF_data.loc[ts_HF_data['Date'] < \"2015-01-01\"]\n",
    "ts_HFig105_data = pd.concat([tmp,ts_HFig105_data_2015_2099],axis = 0,ignore_index=True)\n",
    "\n",
    "# Get HF with ig105 and const CO2 for the future component\n",
    "ts_HFig105_const_CO2_data_2015_2099 = load_processed_data(ts_HF_ig105_SSP3_const_CO2_path)\n",
    "ts_HFig105_const_CO2_data = pd.concat([tmp,ts_HFig105_const_CO2_data_2015_2099],axis = 0,ignore_index=True)\n",
    "\n",
    "# Metrics\n",
    "# Suppression\n",
    "met_early21st_sup = load_processed_data(met_early_21st_sup_path)\n",
    "sup_cols = met_early21st_sup.columns\n",
    "met_peas = load_processed_data(met_peas_path)[sup_cols]\n",
    "met_late_21st_sup = load_processed_data(met_late_21st_sup_path)\n",
    "met_late_21st_sup_const_CO2 = load_processed_data(met_late_21st_sup_const_CO2_path)\n",
    "\n",
    "\n",
    "# No Suppression\n",
    "met_early21st_HF = load_processed_data(met_early_21st_HF_path)\n",
    "met_late_21st_HF = load_processed_data(met_late_21st_HF_path)\n",
    "met_late_21st_HFig105 = load_processed_data(met_late_21st_HF_ig105_path)\n",
    "met_late_21st_HFig105_const_CO2 = load_processed_data(met_late_21st_HF_ig105_const_CO2_path)"
   ]
  },
  {
   "cell_type": "markdown",
   "id": "9aff3e96-3bcb-426c-a611-1626f03ef087",
   "metadata": {},
   "source": [
    "## Benchmarking results"
   ]
  },
  {
   "cell_type": "markdown",
   "id": "78555b4c-e0b1-464c-b573-704ec39d18f3",
   "metadata": {},
   "source": [
    "Criteria for PEAS structure\n",
    "\n",
    "* There should be at least 5 trees ha-1 larger than 40 cm dbh\n",
    "* There should be at least 5 percent total shrub cover\n",
    "* Pine should not be failing\n",
    "* There should be no more than 2 pfts failing\n",
    "* AGB should be at least 2 Kg of Carbon per m2\n",
    "* Burned area should be between 1 and 11 percent per year (this is the range in Williams+ 2023 and Mallek+ and then I added +- 2 perecnt)\n",
    "* Percent of fires burning at high severity (3500 kw m-1) should be 20% (Note the actual range is estimated to be 1-6, but using this exact range would cull too many parameters)\n",
    "\n",
    "Criteria for fire response\n",
    "\n",
    "* Less burned area\n",
    "* More severe fire\n",
    "* Increased tree stem density\n",
    "\n",
    "\n"
   ]
  },
  {
   "cell_type": "markdown",
   "id": "709c9a64-292a-453b-b344-21043af06db6",
   "metadata": {},
   "source": [
    "## There were 15 ensemble members passing the criteria"
   ]
  },
  {
   "cell_type": "code",
   "execution_count": null,
   "id": "53765be8-3557-47ff-83c7-b9b906ed91ac",
   "metadata": {},
   "outputs": [],
   "source": [
    "ninst_passing = len(ts_sup_data['inst_tag'].unique())\n",
    "print(ninst_passing)"
   ]
  },
  {
   "cell_type": "markdown",
   "id": "361a6228-4cec-4f96-8aa6-ae03e7822cb5",
   "metadata": {},
   "source": [
    "## Ensemble is within the range of PEAS observations and reconstructions, but variability is high\n",
    "* Large variation among ensemble members for fire regime and forest structural metrics\n",
    "* Ensemble is within the range of observations for burned area, PHS, conifer basal area, and shrub cover"
   ]
  },
  {
   "cell_type": "code",
   "execution_count": null,
   "id": "5ce613f9-1a83-46fa-b8df-c16e26980c63",
   "metadata": {},
   "outputs": [],
   "source": [
    "df_sup = metrics_diff(met_early21st_sup,met_peas)\n",
    "print(\"VCD\")\n",
    "df_sup.loc[['Burned_area','Pct_high_severity_3500','BA_conifer','Pct_shrub_cover_canopy',\n",
    "            'VCD','Pct_conifer_cover_canopy','TreeStemD','BA_pine','BA_cedar','BA_fir','BA_oak']]"
   ]
  },
  {
   "cell_type": "markdown",
   "id": "1e388dea-129f-4ac1-b827-1bbd3f719735",
   "metadata": {},
   "source": [
    "### Suppression"
   ]
  },
  {
   "cell_type": "code",
   "execution_count": null,
   "id": "65744556-3a59-4ff3-876b-e9d7d25439c1",
   "metadata": {},
   "outputs": [],
   "source": [
    "make_ts_fig(ts_sup_data,vars_to_plot = ['Burned_area','Pct_high_severity_3500','BA_conifer','Pct_shrub_cover_canopy'],start_date = \"1820-01-01\",end_date=\"2020-01-01\")"
   ]
  },
  {
   "cell_type": "markdown",
   "id": "033886fa-ba5d-43bf-a865-60864e03a03c",
   "metadata": {},
   "source": [
    "### Other forest responses to fire suppression"
   ]
  },
  {
   "cell_type": "code",
   "execution_count": null,
   "id": "1bbf7c8c-e7b7-4459-9541-42059b1fa4bd",
   "metadata": {},
   "outputs": [],
   "source": [
    "make_ts_fig(ts_sup_data,vars_to_plot=['BA_pine','BA_cedar','BA_fir','BA_oak','TreeStemD'],start_date = \"1820-01-01\",end_date=\"2020-01-01\")"
   ]
  },
  {
   "cell_type": "markdown",
   "id": "7efdcb85-d0e1-40d2-bb14-cdeacff72d6f",
   "metadata": {},
   "source": [
    "### No suppression with PEAS ignition rate results in too much future fire. We would never light this much fire.\n",
    "\n",
    "\n",
    "Therefore, for future scenarios we use the same ignition rate as the suppressed forest scenario (fire thresh and the forest structure are still \"restored\")"
   ]
  },
  {
   "cell_type": "code",
   "execution_count": null,
   "id": "582187a0-774b-498b-84c1-6753e86fb453",
   "metadata": {},
   "outputs": [],
   "source": [
    "make_ts_fig(ts_HF_data,vars_to_plot = ['Burned_area','Pct_high_severity_3500'],start_date = \"1820-01-01\",end_date=\"2098-01-01\")"
   ]
  },
  {
   "cell_type": "markdown",
   "id": "655ff6ec-dee0-4f40-8b5f-dc9f8b57d2d0",
   "metadata": {},
   "source": [
    "## Future changes in functional composition\n",
    "\n",
    "The suppression scenario shows a decrease in conifer cover of 13.5% +- 21 (90% cover to 77% cover) between 2015 and 2098. This corresponds to changes in basal area of 49 m2 ha-1 to 33 m2 ha-1 (delta of 16 +-11). The suppression scenario showed an increase in shrub cover 7% +- 17 (3 to 10). \n",
    "\n",
    "The restored forest scenario showed an increase in conifer cover of 16% +- 30 (62 to 78) and a decrease in shrub cover of 20% +- 29 (30 to 10). The conifer change in terms of basal area is an increase of 7.15 +- 15 m2 ha-1 of basal area."
   ]
  },
  {
   "cell_type": "markdown",
   "id": "92bbe171-7469-400a-a7be-244343bf40ca",
   "metadata": {},
   "source": [
    "### Changes in % cover"
   ]
  },
  {
   "cell_type": "code",
   "execution_count": null,
   "id": "9f883c62-553d-4176-b66d-7d552cc8a739",
   "metadata": {},
   "outputs": [],
   "source": [
    "compare_ts([ts_sup_data,ts_HFig105_data,ts_supIg105_const_CO2_data,ts_HFig105_const_CO2_data],\n",
    "           vars_to_plot = ['Pct_conifer_cover_canopy','Pct_shrub_cover_canopy','Pct_oak_cover_canopy',\n",
    "                           'Pct_pine_cover_canopy','Pct_cedar_cover_canopy','Pct_fir_cover_canopy'],zeroto100=True\n",
    "          )"
   ]
  },
  {
   "cell_type": "markdown",
   "id": "4b2d17f2-c4cd-4636-8587-0cd9f8f3c76f",
   "metadata": {},
   "source": [
    "### Changes in cover (% and basal area)"
   ]
  },
  {
   "cell_type": "code",
   "execution_count": null,
   "id": "d8301a4c-f682-4995-9f7c-f20995ce5d6b",
   "metadata": {},
   "outputs": [],
   "source": [
    "compare_ts([ts_sup_data,ts_HFig105_data,ts_supIg105_const_CO2_data,ts_HFig105_const_CO2_data],\n",
    "           vars_to_plot = ['Burned_area','Pct_high_severity_3500',\n",
    "                           'Pct_conifer_cover_canopy','BA_conifer',\n",
    "                           'Pct_shrub_cover_canopy','Pct_oak_cover_canopy'],zeroto100=True)"
   ]
  },
  {
   "cell_type": "markdown",
   "id": "5803bc46-334f-4cb7-a107-846d98860d2b",
   "metadata": {},
   "source": [
    "### Changes in tree basal area"
   ]
  },
  {
   "cell_type": "code",
   "execution_count": null,
   "id": "0db9550f-6da5-4833-9494-8ca62b685fcf",
   "metadata": {},
   "outputs": [],
   "source": [
    "compare_ts([ts_sup_data,ts_HFig105_data,ts_supIg105_const_CO2_data,ts_HFig105_const_CO2_data],\n",
    "           vars_to_plot = ['BA_pine','BA_cedar','BA_fir','BA_oak'],zeroto100=True)"
   ]
  },
  {
   "cell_type": "markdown",
   "id": "e860dbcc-efa9-4565-b516-809afb23360f",
   "metadata": {},
   "source": [
    "### Quantification of changes in functional composition"
   ]
  },
  {
   "cell_type": "markdown",
   "id": "11099217-0c94-450a-bab5-f77daefe2d78",
   "metadata": {},
   "source": [
    "##### Suppression"
   ]
  },
  {
   "cell_type": "code",
   "execution_count": null,
   "id": "9e55fd86-b318-46e6-9fbe-b454f337e70d",
   "metadata": {},
   "outputs": [],
   "source": [
    "df_sup = metrics_diff(met_late_21st_sup,met_early21st_sup)\n",
    "df_sup.loc[['VCD','Pct_conifer_cover_canopy','BA_conifer','Pct_shrub_cover_canopy']]"
   ]
  },
  {
   "cell_type": "markdown",
   "id": "6b2ecebc-09f9-42c9-b5ef-1af92c071f54",
   "metadata": {},
   "source": [
    "##### Restored"
   ]
  },
  {
   "cell_type": "code",
   "execution_count": null,
   "id": "4b3484c5-b3bc-4355-8a7e-9a5659c76db2",
   "metadata": {
    "scrolled": true
   },
   "outputs": [],
   "source": [
    "df_HF = metrics_diff(met_late_21st_HFig105,met_early21st_HF)\n",
    "df_HF.loc[['VCD','Pct_conifer_cover_canopy','BA_conifer','Pct_shrub_cover_canopy']]"
   ]
  },
  {
   "cell_type": "markdown",
   "id": "aa8bfccb-b55a-4d3c-b3f0-94a3e6bdac03",
   "metadata": {},
   "source": [
    "### The effects of increasing CO2\n",
    "The suppression scenario with future climate change but without increasing CO2 projects a net reduction in vegetation carbon of 8.5 kg C m-2 +- 3.7 (40% more vegetation carbon is lost without transient CO2). 25 m2 ha-1 of conifer basal area is lost without transient CO2 (50% more conifer basal area is lost without transient CO2).A reduction of 19 cover points (40% more conifer cover is lost). \n",
    "\n",
    "The restored forest scenario gains less carbon without CO2 fertilization. 3.5 to -12.\n",
    "The restored forest scenario with future climate change but without increasing CO2 projects a net reduction of 2 m2 ha-1 of conifer basal area (mean delta went from positive to negative; 16 to -2). Projects a mean reduction in conifer cover of 4% (reduction of 70%).\n",
    "Shrubs do better with constant CO2 in both scenarios. 7 % increase to a 15 % increase in suppression.-20 % decrease to -6 % decrease in restored forest."
   ]
  },
  {
   "cell_type": "markdown",
   "id": "bdb9f39c-8d36-465f-969e-372402e53adf",
   "metadata": {},
   "source": [
    "##### Suppression"
   ]
  },
  {
   "cell_type": "code",
   "execution_count": null,
   "id": "70c36e69-38f5-4417-9326-59fbdc5cdd81",
   "metadata": {},
   "outputs": [],
   "source": [
    "df_sup_const_CO2 = metrics_diff(met_late_21st_sup_const_CO2,met_early21st_sup)\n",
    "df_sup_const_CO2.loc[['VCD','Pct_conifer_cover_canopy','BA_conifer','Pct_shrub_cover_canopy']]"
   ]
  },
  {
   "cell_type": "markdown",
   "id": "840455e6-bfc4-4c69-9636-52ef57787de6",
   "metadata": {},
   "source": [
    "##### Restored"
   ]
  },
  {
   "cell_type": "code",
   "execution_count": null,
   "id": "a1f7af37-5f3d-433b-b3d2-8a9fe1d2d347",
   "metadata": {},
   "outputs": [],
   "source": [
    "df_HF_const_CO2 = metrics_diff(met_late_21st_HFig105_const_CO2,met_early21st_HF)\n",
    "df_HF_const_CO2.loc[['VCD','Pct_conifer_cover_canopy','BA_conifer','Pct_shrub_cover_canopy']]"
   ]
  },
  {
   "cell_type": "markdown",
   "id": "b16b1a6f-91cc-4103-a0a5-efb1d3afe58c",
   "metadata": {},
   "source": [
    "### Future changes in fire regime"
   ]
  },
  {
   "cell_type": "code",
   "execution_count": null,
   "id": "880501b2-8d32-45e8-a3c4-7f4f479c9fb6",
   "metadata": {},
   "outputs": [],
   "source": [
    "compare_ts([ts_sup_data,ts_HFig105_data,ts_supIg105_const_CO2_data,ts_HFig105_const_CO2_data],\n",
    "           vars_to_plot = ['Burned_area','Pct_high_severity_3500','Combustible_fuel']\n",
    "          )"
   ]
  },
  {
   "cell_type": "markdown",
   "id": "76d5909c-73d2-41b9-aa89-9a40c6684e39",
   "metadata": {},
   "source": [
    "## Vital rates"
   ]
  },
  {
   "cell_type": "code",
   "execution_count": null,
   "id": "532c7b57-eadb-4bd5-a87b-2e3e553b04ba",
   "metadata": {},
   "outputs": [],
   "source": [
    "per_cap_mort_vars = ['mort_pine_fire_per_cap','mort_cedar_fire_per_cap',\n",
    "                     'mort_pine_cstarve_per_cap','mort_cedar_cstarve_per_cap',\n",
    "                     'mort_pine_hydr_per_cap','mort_cedar_hydr_per_cap']\n",
    "\n",
    "per_cap_fire_mort_vars = ['mort_pine_fire_per_cap','mort_cedar_fire_per_cap',\n",
    "                     'mort_fir_fire_per_cap','mort_oak_fire_per_cap',\n",
    "                     'mort_shrub_fire_per_cap']\n",
    "\n",
    "per_cap_cstarve_mort_vars = ['mort_pine_cstarve_per_cap','mort_cedar_cstarve_per_cap',\n",
    "                     'mort_fir_cstarve_per_cap','mort_oak_cstarve_per_cap',\n",
    "                     'mort_shrub_cstarve_per_cap']\n",
    "\n",
    "per_cap_hydr_mort_vars = ['mort_pine_hydr_per_cap','mort_cedar_hydr_per_cap',\n",
    "                     'mort_fir_hydr_per_cap','mort_oak_hydr_per_cap',\n",
    "                     'mort_shrub_hydr_per_cap']"
   ]
  },
  {
   "cell_type": "markdown",
   "id": "2ef747d2-2011-4e2b-93d4-4a1b7be09bb8",
   "metadata": {},
   "source": [
    "#### Total mortality by size class"
   ]
  },
  {
   "cell_type": "code",
   "execution_count": null,
   "id": "9f16e0a1-40b9-483e-a595-770576de8c3d",
   "metadata": {},
   "outputs": [],
   "source": [
    "get_fire_mort(HF_case_early_21st,[1965,2015],1,dbh_min = 0, var = 'FATES_MORTALITY_CANOPY_SZAP')"
   ]
  },
  {
   "cell_type": "markdown",
   "id": "4995a757-8c4e-40d3-a7bf-a54389cf0344",
   "metadata": {},
   "source": [
    "#### Fire mort"
   ]
  },
  {
   "cell_type": "code",
   "execution_count": null,
   "id": "ba83b3a7-2ce2-422f-8565-919aa4ed58cc",
   "metadata": {},
   "outputs": [],
   "source": [
    "compare_ts([ts_sup_data,ts_HFig105_data,ts_supIg105_const_CO2_data,ts_HFig105_const_CO2_data], vars_to_plot = per_cap_fire_mort_vars,mysharey=True)"
   ]
  },
  {
   "cell_type": "markdown",
   "id": "20612ae4-8f5d-4d13-b9b9-dbd405e7ba47",
   "metadata": {},
   "source": [
    "#### Carbon starvation"
   ]
  },
  {
   "cell_type": "code",
   "execution_count": null,
   "id": "d21e4523-361f-4c31-93f9-50cd7463d55d",
   "metadata": {},
   "outputs": [],
   "source": []
  },
  {
   "cell_type": "code",
   "execution_count": null,
   "id": "6be5a788-d8c0-4dc3-bcb7-bf3aef1cffbf",
   "metadata": {},
   "outputs": [],
   "source": [
    "compare_ts([ts_sup_data,ts_HFig105_data,ts_supIg105_const_CO2_data,ts_HFig105_const_CO2_data], vars_to_plot = per_cap_cstarve_mort_vars,mysharey=True)"
   ]
  },
  {
   "cell_type": "markdown",
   "id": "189011d3-f7a8-4936-8b1d-82c7d23ebe0c",
   "metadata": {},
   "source": [
    "#### Hydrauilic failure"
   ]
  },
  {
   "cell_type": "code",
   "execution_count": null,
   "id": "d447c0fe-f6af-4061-965f-f1693545456f",
   "metadata": {},
   "outputs": [],
   "source": [
    "compare_ts([ts_sup_data,ts_HFig105_data,ts_supIg105_const_CO2_data,ts_HFig105_const_CO2_data], vars_to_plot = per_cap_hydr_mort_vars,mysharey=True)"
   ]
  },
  {
   "cell_type": "markdown",
   "id": "53daf2ec-e3dd-4ba6-b0b0-26aaf82b2bab",
   "metadata": {},
   "source": [
    "#### Recruitment rates"
   ]
  },
  {
   "cell_type": "code",
   "execution_count": null,
   "id": "805cd458-37cf-4570-a28b-8bf6f791a862",
   "metadata": {},
   "outputs": [],
   "source": [
    "compare_ts([ts_sup_data,ts_HFig105_data,ts_supIg105_const_CO2_data,ts_HFig105_const_CO2_data], vars_to_plot = ['Rec_pine','Rec_cedar','Rec_fir',\n",
    "                                                                                                               'Rec_shrub','Rec_oak'])"
   ]
  },
  {
   "cell_type": "markdown",
   "id": "58d7b69c-3073-4f30-9d7f-bbd8e40ee3a7",
   "metadata": {},
   "source": [
    "## Future carbon fluxes"
   ]
  },
  {
   "cell_type": "markdown",
   "id": "1f88cbdd-128e-46ea-a352-834d3dbeae58",
   "metadata": {},
   "source": [
    "FATES projects that suppressed forests will experience a net reduction in vegetation carbon density of 6.5 Kg C m-2 (+- 6.2 SD) between 2015 and 2098 under SSP3. Restored forests will experience a net gain in vegetation carbon density of 3.5 Kg C m-2 (+-8.5 SD). A mean resilience gain (flux differential) of 10 Kg (+- 10.7) C m-2. See propagation of uncertainties below for calculation of the 10.7."
   ]
  },
  {
   "cell_type": "code",
   "execution_count": null,
   "id": "d47f0b71-7399-4070-a9ba-cad3e16a1ade",
   "metadata": {},
   "outputs": [],
   "source": [
    "compare_ts([ts_sup_data,ts_HFig105_data,ts_supIg105_const_CO2_data,ts_HFig105_const_CO2_data], vars_to_plot = ['VCD'])"
   ]
  },
  {
   "cell_type": "markdown",
   "id": "bb8a9b03-eb28-4e3c-85f2-5311ebb6fe2b",
   "metadata": {},
   "source": [
    "#### Suppression"
   ]
  },
  {
   "cell_type": "code",
   "execution_count": null,
   "id": "99dea4e5-1e07-4fdc-ad9d-5f7369070827",
   "metadata": {},
   "outputs": [],
   "source": [
    "df_sup = metrics_diff(met_late_21st_sup,met_early21st_sup)\n",
    "print(\"VCD\")\n",
    "df_sup.loc['VCD']"
   ]
  },
  {
   "cell_type": "markdown",
   "id": "e75e03f3-80a4-4918-8ac6-630132aa5e1d",
   "metadata": {},
   "source": [
    "#### Restored"
   ]
  },
  {
   "cell_type": "code",
   "execution_count": null,
   "id": "2e02dccd-a1e8-4e09-8da1-fdd39ab525c5",
   "metadata": {},
   "outputs": [],
   "source": [
    "df_HF = metrics_diff(met_late_21st_HFig105,met_early21st_HF)\n",
    "print(\"VCD\")\n",
    "df_HF.loc['VCD']"
   ]
  },
  {
   "cell_type": "markdown",
   "id": "366321ae-78ab-444c-a14c-39b632548b0d",
   "metadata": {},
   "source": [
    "#### Propagation of uncertainties for resilience gain"
   ]
  },
  {
   "cell_type": "code",
   "execution_count": null,
   "id": "9d76acfc-9e1f-44ae-a534-759f0d415d76",
   "metadata": {},
   "outputs": [],
   "source": [
    "#sqrt(uncertainty1^ + uncertainty2^2)\n",
    "\n",
    "import math\n",
    "math.sqrt(6.5**2 + 8.5**2)\n",
    "\n",
    "math.sqrt(30**2 + 21**2)"
   ]
  },
  {
   "cell_type": "markdown",
   "id": "069c2f2f-490e-471b-b63d-e68c800a858a",
   "metadata": {},
   "source": [
    "## Stand structure"
   ]
  },
  {
   "cell_type": "markdown",
   "id": "5028f5ac-c881-4b82-b4b3-af883512304e",
   "metadata": {
    "jp-MarkdownHeadingCollapsed": true
   },
   "source": [
    "### Fields for stand structure"
   ]
  },
  {
   "cell_type": "code",
   "execution_count": 6,
   "id": "2bbd2669-a11e-4b63-bea8-c4ba7e2af4d3",
   "metadata": {},
   "outputs": [],
   "source": [
    "fields = [\n",
    "          #have on to import these dimensions\n",
    "          #'FATES_SEED_PROD_USTORY_SZ',\n",
    "          'FATES_VEGC_AP',\n",
    "          #patches and cohorts\n",
    "          'FATES_NPATCHES',\n",
    "          #'FATES_PATCHAREA_AP','FATES_CANOPYAREA_AP',\n",
    "          'FATES_NCOHORTS','FATES_NPATCH_AP',\n",
    "          #structure\n",
    "          #'FATES_LAI_AP',\n",
    "          #density\n",
    "          'FATES_NPLANT_PF',\n",
    "          'FATES_NPLANT_SZAPPF',\n",
    "          'FATES_NPLANT_SZPF',\n",
    "          'FATES_NPLANT_ACPF',\n",
    "          #'FATES_NPLANT_CANOPY_SZPF',\n",
    "          #'FATES_NPLANT_USTORY_SZPF',\n",
    "          #basal area\n",
    "          'FATES_BASALAREA_SZPF',\n",
    "          #crown_area\n",
    "          #'FATES_CANOPYCROWNAREA_PF',\n",
    "          #'FATES_CANOPYCROWNAREA_APPF',\n",
    "          #'FATES_CANOPYAREA_HT',\n",
    "          #'FATES_CROWNAREA_CLLL',\n",
    "          #'FATES_CROWNAREA_PF',\n",
    "          #biomass\n",
    "          #'FATES_VEGC_PF','FATES_VEGC_AP','FATES_VEGC_ABOVEGROUND','FATES_VEGC_ABOVEGROUND_SZPF',\n",
    "          #growth\n",
    "          #'FATES_DDBH_SZPF',\n",
    "          #'FATES_DDBH_CANOPY_SZAP','FATES_DDBH_USTORY_SZAP',\n",
    "          #mortality\n",
    "          #'FATES_MORTALITY_PF',\n",
    "          'FATES_MORTALITY_CANOPY_SZ',\n",
    "          #'FATES_MORTALITY_USTORY_SZAP',\n",
    "          #'FATES_MORTALITY_BACKGROUND_SZPF','FATES_MORTALITY_HYDRAULIC_SZPF','FATES_MORTALITY_CSTARV_SZPF',\n",
    "          #'FATES_MORTALITY_IMPACT_SZPF',\n",
    "          #'FATES_MORTALITY_FIRE_SZPF','FATES_MORTALITY_CROWNSCORCH_SZPF',\n",
    "          #'FATES_MORTALITY_CANOPY_SZ','FATES_MORTALITY_USTORY_SZ',\n",
    "          #'FATES_MORTALITY_SENESCENCE_SZPF',\n",
    "          #seed production and recruitment\n",
    "          #'FATES_SEED_PROD_USTORY_SZ','FATES_SEED_PROD_CANOPY_SZ',\n",
    "          #'FATES_SEEDS_IN',\n",
    "          #'FATES_SEED_BANK',\n",
    "          #'FATES_SEEDBANK_PF',\n",
    "          #'FATES_SEED_ALLOC_SZPF',\n",
    "          'FATES_RECRUITMENT_PF',\n",
    "          #GPP and NPP\n",
    "          #'FATES_GPP','FATES_GPP_SZPF',\n",
    "          #'FATES_NPP_PF','FATES_NPP_SZPF',\n",
    "          #'FATES_AUTORESP_SZPF','FATES_MAINTAR_SZPF',\n",
    "          #physical environment\n",
    "          #Light\n",
    "          # 'FATES_LAISUN_Z_CLLL','FATES_LAISHA_Z_CLLL',\n",
    "          # 'FATES_LAISUN_Z_CLLLPF','FATES_LAISHA_Z_CLLLPF',\n",
    "          # 'FATES_PARSUN_Z_CLLLPF','FATES_PARSHA_Z_CLLLPF',\n",
    "          # 'FATES_PARPROF_DIR_CLLL','FATES_PARPROF_DIF_CLLL',\n",
    "          # 'FATES_PARPROF_DIF_CLLLPF','FATES_PARPROF_DIR_CLLLPF',\n",
    "          #Litter\n",
    "          #'FATES_CWD_ABOVEGROUND_DC',\n",
    "          #'FATES_FUEL_AMOUNT',\n",
    "          #CLM\n",
    "          #'QVEGT','QVEGE','QSOIL','TLAI','TBOT','RAIN','QBOT','Q2M',\n",
    "          #'BTRAN',\n",
    "          #H20\n",
    "          'SMP'#,\n",
    "          #allocation\n",
    "          #'FATES_STOREC_CANOPY_SZPF','FATES_STOREC_USTORY_SZPF',\n",
    "          #fire\n",
    "          #'FATES_BURNFRAC','FATES_IGNITIONS','FATES_FIRE_INTENSITY_BURNFRAC',\n",
    "          #'FATES_FUEL_BULKD','FATES_FUEL_SAV',\n",
    "          # 'FATES_DISTURBANCE_RATE_FIRE',\n",
    "          # 'FATES_FUEL_AMOUNT_AP',\n",
    "          # 'FATES_FIRE_INTENSITY_BURNFRAC_AP',\n",
    "          # 'FATES_BURNFRAC_AP',\n",
    "          # 'FATES_FUEL_AMOUNT_APFC',\n",
    "          # 'FATES_FUEL_AMOUNT',\n",
    "          # 'FATES_FDI',\n",
    "          # 'FATES_FIRE_INTENSITY',\n",
    "          # 'FATES_FUELCONSUMED',\n",
    "          # 'FATES_NESTEROV_INDEX',\n",
    "          # 'FATES_MORTALITY_CROWNSCORCH_SZPF',\n",
    "          # 'FATES_SCORCH_HEIGHT_APPF','FATES_FUEL_MEF',\n",
    "          # 'FATES_FUEL_EFF_MOIST','FATES_FUEL_MOISTURE_FC','FATES_ROS'\n",
    "          # 'FATES_MORTALITY_FIRE_CFLUX_PF'\n",
    "          ]"
   ]
  },
  {
   "cell_type": "markdown",
   "id": "64ecb3c7-7e84-4d5b-8807-1f4ef7e4fc45",
   "metadata": {},
   "source": [
    "### Stand structure in 2015"
   ]
  },
  {
   "cell_type": "code",
   "execution_count": null,
   "id": "6ed3471e-139e-49be-a4dd-fa4fd2e12c4c",
   "metadata": {},
   "outputs": [],
   "source": [
    "HF_case_early_21st = 'HF_020424-1951-2020_-17e2acb6a_FATES-5b076b69'\n",
    "sup_case_early_21st = 'supIg105_020224-1951-2020_-17e2acb6a_FATES-5b076b69'\n",
    "sup_case_late_21st = 'supIg105_020224-2015-2098_-17e2acb6a_FATES-5b076b69'\n",
    "HF_case_late_21st = 'HF_ig105_021324-2015-2098_-17e2acb6a_FATES-5b076b69'"
   ]
  },
  {
   "cell_type": "markdown",
   "id": "d91bf44e-d567-4c81-8094-1439436a258f",
   "metadata": {},
   "source": [
    "#### Suppression case"
   ]
  },
  {
   "cell_type": "code",
   "execution_count": null,
   "id": "5eb118ad-761c-480c-8e88-47cfe914c679",
   "metadata": {},
   "outputs": [],
   "source": [
    "sup_2015_scls = get_size_class_distribution(sup_case_early_21st,[2014,2015])"
   ]
  },
  {
   "cell_type": "markdown",
   "id": "b966ae87-f294-40ee-9eb6-f23af8cfa92f",
   "metadata": {},
   "source": [
    "#### Restored forest case"
   ]
  },
  {
   "cell_type": "code",
   "execution_count": null,
   "id": "f7a90fb4-3541-4ab2-979e-872f0460800d",
   "metadata": {},
   "outputs": [],
   "source": [
    "HF_2015_scls = get_size_class_distribution(HF_case_early_21st,[2014,2015])"
   ]
  },
  {
   "cell_type": "markdown",
   "id": "0fe2d690-01e3-4039-8e0a-612dc8bfc416",
   "metadata": {},
   "source": [
    "### Stand structure in 2098"
   ]
  },
  {
   "cell_type": "markdown",
   "id": "ccf07b61-077b-4fdb-aa64-a391f6993972",
   "metadata": {},
   "source": [
    "#### Suppressed forest"
   ]
  },
  {
   "cell_type": "code",
   "execution_count": null,
   "id": "4637c2c0-c1b1-48f5-bd04-797a85e21f2e",
   "metadata": {},
   "outputs": [],
   "source": [
    "sup_late_21st_stand_structure = get_size_class_distribution(sup_case_late_21st,[2097,2098])"
   ]
  },
  {
   "cell_type": "markdown",
   "id": "84571ae4-ef55-4731-9096-666896e7c500",
   "metadata": {},
   "source": [
    "### Restored forest"
   ]
  },
  {
   "cell_type": "code",
   "execution_count": null,
   "id": "074c9e4b-9f6d-4599-8377-498681019b7c",
   "metadata": {},
   "outputs": [],
   "source": [
    "HF_late_21st_stand_structure = get_size_class_distribution(HF_case_late_21st,[2097,2098])"
   ]
  },
  {
   "cell_type": "markdown",
   "id": "e6219221-7553-492a-90c5-f1e7634c5865",
   "metadata": {},
   "source": [
    "#### Treatment test\n",
    "\n",
    "This test "
   ]
  },
  {
   "cell_type": "code",
   "execution_count": 21,
   "id": "0aa24ce4-1b99-44a7-98ba-204c45bb1a60",
   "metadata": {},
   "outputs": [
    {
     "name": "stdout",
     "output_type": "stream",
     "text": [
      "-- your data have been read in -- \n",
      "-- your data have been read in -- \n",
      "-- your data have been read in -- \n",
      "-- your data have been read in -- \n",
      "-- your data have been read in -- \n",
      "-- your data have been read in -- \n",
      "-- your data have been read in -- \n",
      "-- your data have been read in -- \n",
      "-- your data have been read in -- \n",
      "-- your data have been read in -- \n",
      "-- your data have been read in -- \n",
      "-- your data have been read in -- \n",
      "-- your data have been read in -- \n",
      "-- your data have been read in -- \n",
      "-- your data have been read in -- \n"
     ]
    },
    {
     "data": {
      "image/png": "[encoded data removed]",
      "text/plain": [
       "<Figure size 640x480 with 1 Axes>"
      ]
     },
     "metadata": {},
     "output_type": "display_data"
    }
   ],
   "source": [
    "untreated_case = 'supIg105_020224-2015-2098_-17e2acb6a_FATES-5b076b69'\n",
    "treated_case = 'supIg105_treated_041124-2015-2098-2015-2098_-17e2acb6a_FATES-1449c787'\n",
    "scd_untreated = get_size_class_distribution(untreated_case,[2016,2018],metric=\"ba\")\n",
    "#get_size_class_distribution(treated_case,[2016,2018])"
   ]
  },
  {
   "cell_type": "code",
   "execution_count": 25,
   "id": "5e10240e-9e97-4e33-8434-657355da05ba",
   "metadata": {},
   "outputs": [
    {
     "name": "stdout",
     "output_type": "stream",
     "text": [
      "-- your data have been read in -- \n",
      "-- your data have been read in -- \n",
      "-- your data have been read in -- \n",
      "-- your data have been read in -- \n",
      "-- your data have been read in -- \n",
      "-- your data have been read in -- \n",
      "-- your data have been read in -- \n",
      "-- your data have been read in -- \n",
      "-- your data have been read in -- \n",
      "-- your data have been read in -- \n",
      "-- your data have been read in -- \n",
      "-- your data have been read in -- \n",
      "-- your data have been read in -- \n",
      "-- your data have been read in -- \n",
      "-- your data have been read in -- \n"
     ]
    }
   ],
   "source": [
    "scd_treated = get_size_class_distribution(treated_case,[2016,2018],metric=\"ba\",plot = False)"
   ]
  },
  {
   "cell_type": "code",
   "execution_count": 28,
   "id": "4d93a7ea-0ada-460b-b0f9-9aa0d4a6c595",
   "metadata": {},
   "outputs": [
    {
     "data": {
      "image/png": "[encoded data removed]",
      "text/plain": [
       "<Figure size 640x480 with 1 Axes>"
      ]
     },
     "metadata": {},
     "output_type": "display_data"
    }
   ],
   "source": [
    "#plt.rc('font', size=12)\n",
    "# Creating the box and whisker plot\n",
    "sns.boxplot(x='size_class', y='density', data=scd_treated)\n",
    "\n",
    "# Adding titles and labels (optional)\n",
    "plt.title('Conifer basal area distribution')\n",
    "plt.xlabel('Size Class [cm dbh]')\n",
    "plt.ylabel('Basal area [m2 ha-1]')\n",
    "plt.ylim((0,30))\n",
    "\n",
    "# Display the plot\n",
    "plt.show()"
   ]
  },
  {
   "cell_type": "code",
   "execution_count": 29,
   "id": "15a88521-02bb-4d9d-9b3d-c68a49d6c88f",
   "metadata": {},
   "outputs": [
    {
     "data": {
      "image/png": "[encoded data removed]",
      "text/plain": [
       "<Figure size 640x480 with 1 Axes>"
      ]
     },
     "metadata": {},
     "output_type": "display_data"
    }
   ],
   "source": [
    "#plt.rc('font', size=12)\n",
    "# Creating the box and whisker plot\n",
    "sns.boxplot(x='size_class', y='density', data=scd_untreated)\n",
    "\n",
    "# Adding titles and labels (optional)\n",
    "plt.title('Conifer basal area distribution')\n",
    "plt.xlabel('Size Class [cm dbh]')\n",
    "plt.ylabel('Basal area [m2 ha-1]')\n",
    "plt.ylim((0,30))\n",
    "\n",
    "# Display the plot\n",
    "plt.show()"
   ]
  },
  {
   "cell_type": "code",
   "execution_count": 19,
   "id": "3d8e0b3c-7d5c-4a76-823f-67cddeb25d20",
   "metadata": {},
   "outputs": [
    {
     "data": {
      "image/png": "[encoded data removed]",
      "text/plain": [
       "<Figure size 640x480 with 1 Axes>"
      ]
     },
     "metadata": {},
     "output_type": "display_data"
    }
   ],
   "source": [
    "#plt.rc('font', size=12)\n",
    "# Creating the box and whisker plot\n",
    "sns.boxplot(x='size_class', y='density', data=scd_untreated)\n",
    "\n",
    "# Adding titles and labels (optional)\n",
    "plt.title('Conifer size class distribution')\n",
    "plt.xlabel('Size Class [cm dbh]')\n",
    "plt.ylabel('Density [N ha-1]')\n",
    "plt.ylim((0,100))\n",
    "\n",
    "# Display the plot\n",
    "plt.show()"
   ]
  },
  {
   "cell_type": "code",
   "execution_count": 11,
   "id": "40312e31-3de8-4464-9dc1-b367709947cd",
   "metadata": {},
   "outputs": [
    {
     "name": "stdout",
     "output_type": "stream",
     "text": [
      "-- your data have been read in -- \n",
      "-- your data have been read in -- \n",
      "-- your data have been read in -- \n",
      "-- your data have been read in -- \n",
      "-- your data have been read in -- \n",
      "-- your data have been read in -- \n",
      "-- your data have been read in -- \n",
      "-- your data have been read in -- \n",
      "-- your data have been read in -- \n",
      "-- your data have been read in -- \n",
      "-- your data have been read in -- \n",
      "-- your data have been read in -- \n",
      "-- your data have been read in -- \n",
      "-- your data have been read in -- \n",
      "-- your data have been read in -- \n"
     ]
    },
    {
     "data": {
      "image/png": "[encoded data removed]",
      "text/plain": [
       "<Figure size 640x480 with 1 Axes>"
      ]
     },
     "metadata": {},
     "output_type": "display_data"
    }
   ],
   "source": [
    "scd_treated = get_size_class_distribution(treated_case,[2016,2018])"
   ]
  },
  {
   "cell_type": "code",
   "execution_count": 20,
   "id": "0fd281ad-409c-4b72-970a-3dd65dee678e",
   "metadata": {},
   "outputs": [
    {
     "data": {
      "image/png": "[encoded data removed]",
      "text/plain": [
       "<Figure size 640x480 with 1 Axes>"
      ]
     },
     "metadata": {},
     "output_type": "display_data"
    }
   ],
   "source": [
    "#plt.rc('font', size=12)\n",
    "# Creating the box and whisker plot\n",
    "sns.boxplot(x='size_class', y='density', data=scd_treated)\n",
    "\n",
    "# Adding titles and labels (optional)\n",
    "plt.title('Conifer size class distribution')\n",
    "plt.xlabel('Size Class [cm dbh]')\n",
    "plt.ylabel('Density [N ha-1]')\n",
    "plt.ylim((0,100))\n",
    "\n",
    "# Display the plot\n",
    "plt.show()"
   ]
  },
  {
   "cell_type": "markdown",
   "id": "e24fd4e8-be58-4783-960c-19a030cb032f",
   "metadata": {},
   "source": [
    "## Fire mortality"
   ]
  },
  {
   "cell_type": "markdown",
   "id": "d48a5b78-df30-4daa-a204-35ae93c9332a",
   "metadata": {},
   "source": [
    "#### Successul ignitions"
   ]
  },
  {
   "cell_type": "code",
   "execution_count": null,
   "id": "2de6ff61-87b0-4ee4-9b14-489e74d04be0",
   "metadata": {},
   "outputs": [],
   "source": [
    "def get_successful_ignitions(case_name,years,var = 'FATES_IGNITIONS'):\n",
    "    tag_numbers = [2,  8, 14, 15, 22, 24, 25, 26, 30, 33, 46, 48, 50, 51, 52]\n",
    "    inst_tags = esm_tools.inst_to_tag(tag_numbers) \n",
    "    output = pd.DataFrame()\n",
    "\n",
    "    mean_successful_ignitions = []\n",
    "    for inst_tag in inst_tags:\n",
    "        ds = esm_tools.load_fates_output_data(model_output_root='/glade/derecho/scratch/adamhb',\n",
    "                                    case_name = case_name,\n",
    "                                    years = years,\n",
    "                                    fields = ['FATES_IGNITIONS'],\n",
    "                                    inst_tag = inst_tag,\n",
    "                                    manual_path = None)\n",
    "        \n",
    "        tmp = ds[var].mean(dim = \"time\").values * 3.154e13\n",
    "        mean_successful_ignitions.append(tmp)\n",
    "    return mean_successful_ignitions"
   ]
  },
  {
   "cell_type": "code",
   "execution_count": null,
   "id": "8b4c6c1b-1fe3-4707-909f-f57d03e343cc",
   "metadata": {},
   "outputs": [],
   "source": [
    "#successful_ignitions = get_successful_ignitions(sup_case_early_21st,[1960,2000],var = 'FATES_IGNITIONS')\n",
    "successful_ignitions = get_successful_ignitions('CZ2_equilibrium_011824_-17e2acb6a_FATES-5b076b69',[1800,1869],var = 'FATES_IGNITIONS')"
   ]
  },
  {
   "cell_type": "code",
   "execution_count": null,
   "id": "81c17680-6ab9-4222-b84f-9dc42be9006e",
   "metadata": {},
   "outputs": [],
   "source": [
    "successful_ignitions"
   ]
  },
  {
   "cell_type": "markdown",
   "id": "7f7315fa-9f40-4d44-971a-98357e1f6936",
   "metadata": {},
   "source": [
    "### Fields for fire mortality"
   ]
  },
  {
   "cell_type": "markdown",
   "id": "4cf24459-ec04-495f-a9fd-3f87df23a5e3",
   "metadata": {},
   "source": [
    "#### Fields"
   ]
  },
  {
   "cell_type": "code",
   "execution_count": null,
   "id": "b7bbf939-f1b2-4001-b5dd-d60913c70a85",
   "metadata": {},
   "outputs": [],
   "source": [
    "fields = [\n",
    "          #have on to import these dimensions\n",
    "          #'FATES_SEED_PROD_USTORY_SZ',\n",
    "          'FATES_VEGC_AP',\n",
    "          #patches and cohorts\n",
    "          'FATES_NPATCHES',\n",
    "          #'FATES_PATCHAREA_AP','FATES_CANOPYAREA_AP',\n",
    "          'FATES_NCOHORTS','FATES_NPATCH_AP',\n",
    "          #structure\n",
    "          #'FATES_LAI_AP',\n",
    "          #density\n",
    "          'FATES_NPLANT_PF',\n",
    "          'FATES_NPLANT_SZAPPF',\n",
    "          'FATES_NPLANT_SZPF',\n",
    "          'FATES_NPLANT_ACPF',\n",
    "          #'FATES_NPLANT_CANOPY_SZPF',\n",
    "          #'FATES_NPLANT_USTORY_SZPF',\n",
    "          #basal area\n",
    "          #'FATES_BASALAREA_SZPF',\n",
    "          #crown_area\n",
    "          #'FATES_CANOPYCROWNAREA_PF',\n",
    "          #'FATES_CANOPYCROWNAREA_APPF',\n",
    "          #'FATES_CANOPYAREA_HT',\n",
    "          #'FATES_CROWNAREA_CLLL',\n",
    "          #'FATES_CROWNAREA_PF',\n",
    "          #biomass\n",
    "          #'FATES_VEGC_PF','FATES_VEGC_AP','FATES_VEGC_ABOVEGROUND','FATES_VEGC_ABOVEGROUND_SZPF',\n",
    "          #growth\n",
    "          #'FATES_DDBH_SZPF',\n",
    "          #'FATES_DDBH_CANOPY_SZAP','FATES_DDBH_USTORY_SZAP',\n",
    "          #mortality\n",
    "          #'FATES_MORTALITY_PF',\n",
    "          'FATES_MORTALITY_CANOPY_SZ',\n",
    "          #'FATES_MORTALITY_USTORY_SZAP',\n",
    "          'FATES_MORTALITY_BACKGROUND_SZPF',\n",
    "          'FATES_MORTALITY_HYDRAULIC_SZPF',\n",
    "          'FATES_MORTALITY_CSTARV_SZPF',\n",
    "          #'FATES_MORTALITY_IMPACT_SZPF',\n",
    "          'FATES_MORTALITY_FIRE_SZPF','FATES_MORTALITY_CROWNSCORCH_SZPF','FATES_MORTALITY_CANOPY_SZAP',\n",
    "          #'FATES_MORTALITY_CAMBIALBURN_SZPF',\n",
    "          #'FATES_MORTALITY_CANOPY_SZ','FATES_MORTALITY_USTORY_SZ',\n",
    "          'FATES_MORTALITY_SENESCENCE_SZPF',\n",
    "          #seed production and recruitment\n",
    "          #'FATES_SEED_PROD_USTORY_SZ','FATES_SEED_PROD_CANOPY_SZ',\n",
    "          #'FATES_SEEDS_IN',\n",
    "          #'FATES_SEED_BANK',\n",
    "          #'FATES_SEEDBANK_PF',\n",
    "          #'FATES_SEED_ALLOC_SZPF',\n",
    "          'FATES_RECRUITMENT_PF',\n",
    "          #GPP and NPP\n",
    "          #'FATES_GPP','FATES_GPP_SZPF',\n",
    "          #'FATES_NPP_PF','FATES_NPP_SZPF',\n",
    "          #'FATES_AUTORESP_SZPF','FATES_MAINTAR_SZPF',\n",
    "          #physical environment\n",
    "          #Light\n",
    "          # 'FATES_LAISUN_Z_CLLL','FATES_LAISHA_Z_CLLL',\n",
    "          # 'FATES_LAISUN_Z_CLLLPF','FATES_LAISHA_Z_CLLLPF',\n",
    "          # 'FATES_PARSUN_Z_CLLLPF','FATES_PARSHA_Z_CLLLPF',\n",
    "          # 'FATES_PARPROF_DIR_CLLL','FATES_PARPROF_DIF_CLLL',\n",
    "          # 'FATES_PARPROF_DIF_CLLLPF','FATES_PARPROF_DIR_CLLLPF',\n",
    "          #Litter\n",
    "          #'FATES_CWD_ABOVEGROUND_DC',\n",
    "          #'FATES_FUEL_AMOUNT',\n",
    "          #CLM\n",
    "          #'QVEGT','QVEGE','QSOIL','TLAI','TBOT','RAIN','QBOT','Q2M',\n",
    "          #'BTRAN',\n",
    "          #H20\n",
    "          'SMP'#,\n",
    "          #allocation\n",
    "          #'FATES_STOREC_CANOPY_SZPF','FATES_STOREC_USTORY_SZPF',\n",
    "          #fire\n",
    "          #'FATES_BURNFRAC','FATES_IGNITIONS','FATES_FIRE_INTENSITY_BURNFRAC',\n",
    "          #'FATES_FUEL_BULKD','FATES_FUEL_SAV',\n",
    "          # 'FATES_DISTURBANCE_RATE_FIRE',\n",
    "          # 'FATES_FUEL_AMOUNT_AP',\n",
    "          # 'FATES_FIRE_INTENSITY_BURNFRAC_AP',\n",
    "          # 'FATES_BURNFRAC_AP',\n",
    "          # 'FATES_FUEL_AMOUNT_APFC',\n",
    "          # 'FATES_FUEL_AMOUNT',\n",
    "          # 'FATES_FDI',\n",
    "          # 'FATES_FIRE_INTENSITY',\n",
    "          # 'FATES_FUELCONSUMED',\n",
    "          # 'FATES_NESTEROV_INDEX',\n",
    "          # 'FATES_MORTALITY_CROWNSCORCH_SZPF',\n",
    "          # 'FATES_SCORCH_HEIGHT_APPF','FATES_FUEL_MEF',\n",
    "          # 'FATES_FUEL_EFF_MOIST','FATES_FUEL_MOISTURE_FC','FATES_ROS'\n",
    "          # 'FATES_MORTALITY_FIRE_CFLUX_PF'\n",
    "          ]"
   ]
  },
  {
   "cell_type": "code",
   "execution_count": null,
   "id": "af67c5fb-9916-40f9-9ad4-0c6303c8a9a0",
   "metadata": {},
   "outputs": [],
   "source": [
    "# HF_case_early_21st = 'HF_020424-1951-2020_-17e2acb6a_FATES-5b076b69'\n",
    "# sup_case_early_21st = 'supIg105_020224-1951-2020_-17e2acb6a_FATES-5b076b69'\n",
    "# sup_case_late_21st = 'supIg105_020224-2015-2098_-17e2acb6a_FATES-5b076b69'\n",
    "# HF_case_late_21st = 'HF_ig105_021324-2015-2098_-17e2acb6a_FATES-5b076b69'"
   ]
  },
  {
   "cell_type": "markdown",
   "id": "25fbb099-913b-49dd-b978-1200b52fca5e",
   "metadata": {},
   "source": [
    "#### Per cap mort retored forest 2015"
   ]
  },
  {
   "cell_type": "code",
   "execution_count": null,
   "id": "1cfad5df-32f7-461d-bd78-b31c7f072b4f",
   "metadata": {},
   "outputs": [],
   "source": [
    "get_fire_mort(HF_case_early_21st,[1985,2015],0,dbh_min = 0, var = 'FATES_MORTALITY_HYDRAULIC_SZPF')"
   ]
  },
  {
   "cell_type": "code",
   "execution_count": null,
   "id": "8e93bcb1-e1ac-4488-8eda-d24a4a270331",
   "metadata": {},
   "outputs": [],
   "source": [
    "get_fire_mort(HF_case_early_21st,[1985,2015],1,dbh_min = 0, var = 'FATES_MORTALITY_CSTARV_SZPF')"
   ]
  },
  {
   "cell_type": "code",
   "execution_count": null,
   "id": "44233dd3-3629-4613-a769-97f2b9a2c00b",
   "metadata": {},
   "outputs": [],
   "source": [
    "get_fire_mort(HF_case_early_21st,[1985,2015],0,dbh_min = 0, var = 'FATES_MORTALITY_FIRE_SZPF')"
   ]
  },
  {
   "cell_type": "code",
   "execution_count": null,
   "id": "7e7391c9-45c9-4895-9c6f-05c9f9cdc487",
   "metadata": {},
   "outputs": [],
   "source": [
    "get_fire_mort(HF_case_early_21st,[1985,2015],1,dbh_min = 0, var = 'FATES_MORTALITY_SENESCENCE_SZPF')"
   ]
  },
  {
   "cell_type": "markdown",
   "id": "e96450e2-df9f-41c0-b562-502a1bc09e10",
   "metadata": {},
   "source": [
    "#### per cap sup forest 2015"
   ]
  },
  {
   "cell_type": "code",
   "execution_count": null,
   "id": "0726ae6c-21a3-4440-801c-09073cd43f59",
   "metadata": {},
   "outputs": [],
   "source": [
    "get_fire_mort(sup_case_early_21st,[1985,2015],0,dbh_min = 0, var = 'FATES_MORTALITY_FIRE_SZPF')"
   ]
  },
  {
   "cell_type": "markdown",
   "id": "99efd4fb-f957-4dbf-a479-99607c79e8de",
   "metadata": {},
   "source": [
    "#### per cap sup 2098"
   ]
  },
  {
   "cell_type": "code",
   "execution_count": null,
   "id": "18ad72d5-489e-4e67-97c0-a9c62ff5897f",
   "metadata": {},
   "outputs": [],
   "source": [
    "get_fire_mort(sup_case_late_21st,[2068,2098],0,dbh_min = 0, var = 'FATES_MORTALITY_FIRE_SZPF')"
   ]
  },
  {
   "cell_type": "markdown",
   "id": "87123ef5-01d0-43ce-8733-15bdfeef169f",
   "metadata": {},
   "source": [
    "#### per cap restored 2098"
   ]
  },
  {
   "cell_type": "code",
   "execution_count": null,
   "id": "5f500461-01ca-489e-91dd-f0bae233419f",
   "metadata": {},
   "outputs": [],
   "source": [
    "get_fire_mort(HF_case_late_21st,[2068,2098],0,dbh_min = 0, var = 'FATES_MORTALITY_FIRE_SZPF')"
   ]
  },
  {
   "cell_type": "code",
   "execution_count": null,
   "id": "0df64b4e-c86c-41a5-a6e0-a0d8426959d6",
   "metadata": {},
   "outputs": [],
   "source": []
  },
  {
   "cell_type": "code",
   "execution_count": null,
   "id": "3351037b-0e5a-4f3f-89ea-9ac16a68e004",
   "metadata": {},
   "outputs": [],
   "source": []
  },
  {
   "cell_type": "code",
   "execution_count": null,
   "id": "012b5e75-7ae1-4dfa-8ef8-b96eeb589357",
   "metadata": {},
   "outputs": [],
   "source": []
  },
  {
   "cell_type": "markdown",
   "id": "bd315fcd-fc39-4ea3-98dc-448a15de18a6",
   "metadata": {},
   "source": [
    "## Physical Environment"
   ]
  },
  {
   "cell_type": "code",
   "execution_count": null,
   "id": "bcb0afea-8459-49aa-a1c8-a1062c307157",
   "metadata": {},
   "outputs": [],
   "source": [
    "compare_ts([ts_sup_data,ts_HFig105_data,ts_supIg105_const_CO2_data,ts_HFig105_const_CO2_data], vars_to_plot = ['SMP'])"
   ]
  },
  {
   "cell_type": "markdown",
   "id": "e42cd4fb-202d-44bf-a779-cfa4d24f78ca",
   "metadata": {},
   "source": [
    "#### Treatment test"
   ]
  },
  {
   "cell_type": "code",
   "execution_count": null,
   "id": "1f5459b4-2381-4a08-acd2-8079be7b08e8",
   "metadata": {},
   "outputs": [],
   "source": []
  },
  {
   "cell_type": "markdown",
   "id": "00bca72e-8d27-430c-8f49-f11afb3ae855",
   "metadata": {},
   "source": [
    "## NPP"
   ]
  },
  {
   "cell_type": "code",
   "execution_count": null,
   "id": "dd91e249-a876-4d0b-9be9-b6fa5bff7e19",
   "metadata": {},
   "outputs": [],
   "source": [
    "compare_ts([ts_sup_data,ts_HFig105_data,ts_supIg105_const_CO2_data,ts_HFig105_const_CO2_data], vars_to_plot = ['NPP'])"
   ]
  },
  {
   "cell_type": "code",
   "execution_count": null,
   "id": "53cb55ec-4229-4e77-8776-b0409a27624a",
   "metadata": {},
   "outputs": [],
   "source": [
    "compare_ts([ts_sup_data,ts_HFig105_data,ts_supIg105_const_CO2_data,ts_HFig105_const_CO2_data], vars_to_plot = ['TreeStemD'])"
   ]
  },
  {
   "cell_type": "markdown",
   "id": "74f467f9-4ae1-4ad7-926e-6c8f8ae51351",
   "metadata": {},
   "source": [
    "## GPP"
   ]
  },
  {
   "cell_type": "code",
   "execution_count": null,
   "id": "0dae1db5-3e94-4ea7-ad52-df57c146e5a7",
   "metadata": {},
   "outputs": [],
   "source": []
  },
  {
   "cell_type": "markdown",
   "id": "f8664dc0-367a-450a-ad9d-32ca86292111",
   "metadata": {},
   "source": [
    "## Ensemble histograms of PEAS metrics"
   ]
  },
  {
   "cell_type": "code",
   "execution_count": null,
   "id": "74fe1d2e-e9cf-4c29-a33d-8fb55fcae205",
   "metadata": {
    "scrolled": true
   },
   "outputs": [],
   "source": [
    "# for v in obs_PEAS.keys():\n",
    "#     HistModelObs(met_peas,obs_PEAS, v)"
   ]
  },
  {
   "cell_type": "markdown",
   "id": "edc2ba7a-1c17-433f-ad1f-cc81cc49ab19",
   "metadata": {},
   "source": [
    "## Ensemble histograms of suppression metrics"
   ]
  },
  {
   "cell_type": "code",
   "execution_count": null,
   "id": "18f25808-e31f-4eaa-b038-27c0f16ceb76",
   "metadata": {},
   "outputs": [],
   "source": [
    "# for v in obs_SUP.keys():\n",
    "#     HistModelObs(met_early21st_sup,obs_SUP, v)"
   ]
  }
 ],
 "metadata": {
  "kernelspec": {
   "display_name": "env4_work",
   "language": "python",
   "name": "env4_work"
  },
  "language_info": {
   "codemirror_mode": {
    "name": "ipython",
    "version": 3
   },
   "file_extension": ".py",
   "mimetype": "text/x-python",
   "name": "python",
   "nbconvert_exporter": "python",
   "pygments_lexer": "ipython3",
   "version": "3.8.13"
  },
  "toc": {
   "base_numbering": 1,
   "nav_menu": {},
   "number_sections": true,
   "sideBar": true,
   "skip_h1_title": false,
   "title_cell": "Table of Contents",
   "title_sidebar": "Contents",
   "toc_cell": false,
   "toc_position": {},
   "toc_section_display": true,
   "toc_window_display": false
  }
 },
 "nbformat": 4,
 "nbformat_minor": 5
}
