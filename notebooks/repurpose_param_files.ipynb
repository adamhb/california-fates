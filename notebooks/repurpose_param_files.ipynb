{
 "cells": [
  {
   "cell_type": "markdown",
   "id": "7e8e5d48-e9f7-40ca-a3a3-d593f316b0cd",
   "metadata": {},
   "source": [
    "## Send parameter files to new case\n",
    "\n",
    "This script sends a subset of parameter files from an existing case, or cases, to a new case or cases.\n",
    "\n",
    "It sends just the parameter sets that are flags as \"promising\"."
   ]
  },
  {
   "cell_type": "code",
   "execution_count": 18,
   "id": "96c440ed-a446-4148-a977-8e36c36390f7",
   "metadata": {},
   "outputs": [],
   "source": [
    "import pandas as pd\n",
    "import glob\n",
    "import os\n",
    "import netCDF4 as nc4\n",
    "import sys\n",
    "sys.path.append('/glade/u/home/adamhb/Earth-System-Model-Tools')\n",
    "import esm_tools\n",
    "import re\n",
    "import math\n",
    "import shutil\n",
    "import numpy as np\n",
    "from matplotlib import pyplot as plt\n",
    "pd.set_option('display.max_rows', 1000)\n",
    "pd.set_option('display.max_columns', 1000)\n",
    "np.set_printoptions(threshold=1000)\n",
    "import seaborn as sns"
   ]
  },
  {
   "cell_type": "code",
   "execution_count": 15,
   "id": "6af0be80-5be3-4eeb-be1e-912d7824f349",
   "metadata": {},
   "outputs": [],
   "source": [
    "path_to_aggreagated_data = '/glade/work/adamhb/processed_output/CZ2_equilibrium_700yrs_042524_01_-17e2acb6a_FATES-1449c787/equilibrium_700yrs_042524_metrics_and_params.csv'"
   ]
  },
  {
   "cell_type": "markdown",
   "id": "0a6a27c3-f009-4b61-8059-7f23bc6785c2",
   "metadata": {},
   "source": [
    "## Functions"
   ]
  },
  {
   "cell_type": "code",
   "execution_count": 16,
   "id": "62541958-ccb7-4967-864a-f71b5cd27088",
   "metadata": {},
   "outputs": [],
   "source": [
    "def copy_and_rename_param_files(param_file_paths,inst_per_new_case, new_param_subdir_base_name,\n",
    "                                param_subdir_root = '/glade/u/home/adamhb/ahb_params/fates_api_25/ensembles'):\n",
    "    '''\n",
    "    This is a function that takes a list of successful ensemble members, read's the file path to the parameter file of each successful ensemble member,\n",
    "    and moves these old param files into new param file subdirs then creates a new param file subdir\n",
    "    '''\n",
    "    param_file_paths = np.array(param_file_paths)\n",
    "    inst_per_new_case = min(inst_per_new_case,len(param_file_paths))\n",
    "\n",
    "    path_to_ensemble_prov = '/glade/u/home/adamhb/ensemble_provenance_logs'\n",
    "    n_cases = math.ceil(len(param_file_paths) / inst_per_new_case)\n",
    "    case_numbers = [str(i).zfill(2) for i in range(1,n_cases + 1)]\n",
    "    new_param_subdir_base_path = os.path.join(param_subdir_root,new_param_subdir_base_name)\n",
    "    new_param_subdir_paths = [new_param_subdir_base_path + \"_\" + case_number for case_number in case_numbers]\n",
    "    [os.mkdir(p) for p in new_param_subdir_paths if os.path.exists(p) == False]\n",
    "\n",
    "    dst_file_paths = []\n",
    "    for case_number in case_numbers:\n",
    "        for inst_tag in [str(i).zfill(4) for i in range(1,inst_per_new_case + 1)]:\n",
    "            dst_file_paths.append(f'{param_subdir_root}/{new_param_subdir_base_name}_{case_number}/ca_5pfts_100523_{inst_tag}.nc')\n",
    "\n",
    "    if len(dst_file_paths) != len(param_file_paths):\n",
    "        print(\"srcn\",len(param_file_paths))\n",
    "        print(\"dstn\",len(dst_file_paths))\n",
    "        print(\"Error in number of dst files\")\n",
    "        return\n",
    "\n",
    "    pd.DataFrame({'src':param_file_paths,'dst':dst_file_paths}).to_csv(f'{path_to_ensemble_prov}/{new_param_subdir_base_name}_provenence.csv')\n",
    "\n",
    "    for i in range(len(param_file_paths)):\n",
    "        print(\"Copying\",param_file_paths[i],\"to\",dst_file_paths[i])\n",
    "        shutil.copy(param_file_paths[i],dst_file_paths[i])"
   ]
  },
  {
   "cell_type": "code",
   "execution_count": 19,
   "id": "b9436bd4-a9dc-4c55-bb84-930d52b51f5f",
   "metadata": {},
   "outputs": [
    {
     "name": "stdout",
     "output_type": "stream",
     "text": [
      "['/glade/u/home/adamhb/ahb_params/fates_api_25/ensembles/equilibrium_700yrs_042524_01/ca_5pfts_100523_0011.nc', '/glade/u/home/adamhb/ahb_params/fates_api_25/ensembles/equilibrium_700yrs_042524_01/ca_5pfts_100523_0024.nc', '/glade/u/home/adamhb/ahb_params/fates_api_25/ensembles/equilibrium_700yrs_042524_01/ca_5pfts_100523_0048.nc', '/glade/u/home/adamhb/ahb_params/fates_api_25/ensembles/equilibrium_700yrs_042524_01/ca_5pfts_100523_0054.nc', '/glade/u/home/adamhb/ahb_params/fates_api_25/ensembles/equilibrium_700yrs_042524_01/ca_5pfts_100523_0064.nc', '/glade/u/home/adamhb/ahb_params/fates_api_25/ensembles/equilibrium_700yrs_042524_01/ca_5pfts_100523_0065.nc', '/glade/u/home/adamhb/ahb_params/fates_api_25/ensembles/equilibrium_700yrs_042524_01/ca_5pfts_100523_0067.nc', '/glade/u/home/adamhb/ahb_params/fates_api_25/ensembles/equilibrium_700yrs_042524_01/ca_5pfts_100523_0092.nc']\n",
      "Copying /glade/u/home/adamhb/ahb_params/fates_api_25/ensembles/equilibrium_700yrs_042524_01/ca_5pfts_100523_0011.nc to /glade/u/home/adamhb/ahb_params/fates_api_25/ensembles/test_700yrs_043024_01/ca_5pfts_100523_0001.nc\n",
      "Copying /glade/u/home/adamhb/ahb_params/fates_api_25/ensembles/equilibrium_700yrs_042524_01/ca_5pfts_100523_0024.nc to /glade/u/home/adamhb/ahb_params/fates_api_25/ensembles/test_700yrs_043024_01/ca_5pfts_100523_0002.nc\n",
      "Copying /glade/u/home/adamhb/ahb_params/fates_api_25/ensembles/equilibrium_700yrs_042524_01/ca_5pfts_100523_0048.nc to /glade/u/home/adamhb/ahb_params/fates_api_25/ensembles/test_700yrs_043024_01/ca_5pfts_100523_0003.nc\n",
      "Copying /glade/u/home/adamhb/ahb_params/fates_api_25/ensembles/equilibrium_700yrs_042524_01/ca_5pfts_100523_0054.nc to /glade/u/home/adamhb/ahb_params/fates_api_25/ensembles/test_700yrs_043024_01/ca_5pfts_100523_0004.nc\n",
      "Copying /glade/u/home/adamhb/ahb_params/fates_api_25/ensembles/equilibrium_700yrs_042524_01/ca_5pfts_100523_0064.nc to /glade/u/home/adamhb/ahb_params/fates_api_25/ensembles/test_700yrs_043024_01/ca_5pfts_100523_0005.nc\n",
      "Copying /glade/u/home/adamhb/ahb_params/fates_api_25/ensembles/equilibrium_700yrs_042524_01/ca_5pfts_100523_0065.nc to /glade/u/home/adamhb/ahb_params/fates_api_25/ensembles/test_700yrs_043024_01/ca_5pfts_100523_0006.nc\n",
      "Copying /glade/u/home/adamhb/ahb_params/fates_api_25/ensembles/equilibrium_700yrs_042524_01/ca_5pfts_100523_0067.nc to /glade/u/home/adamhb/ahb_params/fates_api_25/ensembles/test_700yrs_043024_01/ca_5pfts_100523_0007.nc\n",
      "Copying /glade/u/home/adamhb/ahb_params/fates_api_25/ensembles/equilibrium_700yrs_042524_01/ca_5pfts_100523_0092.nc to /glade/u/home/adamhb/ahb_params/fates_api_25/ensembles/test_700yrs_043024_01/ca_5pfts_100523_0008.nc\n"
     ]
    }
   ],
   "source": [
    "df = pd.read_csv(path_to_aggreagated_data)\n",
    "params_for_next_sim = esm_tools.inst_to_tag(np.array(df.loc[df['promising'] == True]['param_file_path']))\n",
    "print(params_for_next_sim)\n",
    "copy_and_rename_param_files(params_for_next_sim,128, \"test_700yrs_043024\",\n",
    "                                param_subdir_root = '/glade/u/home/adamhb/ahb_params/fates_api_25/ensembles')"
   ]
  }
 ],
 "metadata": {
  "kernelspec": {
   "display_name": "env4_work",
   "language": "python",
   "name": "env4_work"
  },
  "language_info": {
   "codemirror_mode": {
    "name": "ipython",
    "version": 3
   },
   "file_extension": ".py",
   "mimetype": "text/x-python",
   "name": "python",
   "nbconvert_exporter": "python",
   "pygments_lexer": "ipython3",
   "version": "3.8.13"
  }
 },
 "nbformat": 4,
 "nbformat_minor": 5
}
