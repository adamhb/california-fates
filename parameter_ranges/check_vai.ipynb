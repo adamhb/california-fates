{
 "cells": [
  {
   "cell_type": "code",
   "execution_count": 7,
   "id": "cbc90e5a-cdba-4ac4-ac34-011f8b905e39",
   "metadata": {},
   "outputs": [],
   "source": [
    "import numpy as np\n",
    "import math"
   ]
  },
  {
   "cell_type": "code",
   "execution_count": 8,
   "id": "180591b3-2a7b-4df7-bace-bd9b3409a2e9",
   "metadata": {},
   "outputs": [],
   "source": [
    "def d2blmax_2pwr(d,p1,p2,c2b,dbh_maxh):\n",
    "    '''input dbh [cm]\n",
    "    output: plant leaf biomass [kg C]'''\n",
    "    blmax = []\n",
    "    for i in d:\n",
    "        blmax.append((p1*min(i,dbh_maxh)**p2) / c2b)   \n",
    "    return blmax\n",
    "\n",
    "def d_to_crown_area_fates(ds,d2bl_p2,d2bl_ediff,spread,d2ca_max,d2ca_min, dbh_maxh):\n",
    "    \n",
    "    '''Input dbh (cm)\n",
    "    Output: crown area (m2)'''\n",
    "    \n",
    "    ca = []\n",
    "    cd = []\n",
    "    \n",
    "    for d in ds:\n",
    "        #from fates\n",
    "        \n",
    "        if d > dbh_maxh:\n",
    "            d = dbh_maxh\n",
    "        \n",
    "        crown_area_to_dbh_exponent = d2bl_p2 + d2bl_ediff\n",
    "        spreadterm = spread * d2ca_max + (1.0 - spread) * d2ca_min\n",
    "        tmp_ca = spreadterm * d ** crown_area_to_dbh_exponent\n",
    "        ca.append(tmp_ca)\n",
    "\n",
    "        #convert to crown diameter\n",
    "        cd.append(2 * math.sqrt(tmp_ca/math.pi))\n",
    "\n",
    "    return ca,cd"
   ]
  },
  {
   "cell_type": "code",
   "execution_count": 21,
   "id": "66239bc9-63be-4520-9d6d-c61619b7f908",
   "metadata": {},
   "outputs": [],
   "source": [
    "def vai_check(diams,d2bl1,d2bl2,d2ca,ediff,sai_per_lai,dbh_maxh,slamax,c2b,vai_max=30,print_leaf_area = False):\n",
    "    '''\n",
    "    Returns the total vai of a tree and a warning of the vai is greater than the allowed maximum.\n",
    "    \n",
    "    \n",
    "    Params\n",
    "    diams = range of dbh to check vai for,\n",
    "    d2bl1 = dbh to leaf biomass p1\n",
    "    d2bl2 = dbh to leaf biomass p2\n",
    "    d2ca = diameter to crown area parameter (base of the d2ca 2pwr function)\n",
    "    ediff = exponent different for the d2ca function\n",
    "    sai_per_lai = how much stem area index per lai\n",
    "    dbh_maxh = dbh at maximum height\n",
    "    slamax = maximum specific leaf area (m2 per g of carbon)\n",
    "    c2b = grams of biomass per g of carbon\n",
    "    vai_max = the allowed maximum vai for a tree\n",
    "    '''\n",
    "    \n",
    "    print(\"Using the following parameters:\\n\")\n",
    "    print(\"d2bl1\",d2bl1)\n",
    "    print(\"d2bl2\",d2bl2)\n",
    "    print(\"d2ca\",d2ca)\n",
    "    print(\"ediff\",ediff)\n",
    "    print(\"sai_per_lai\",sai_per_lai)\n",
    "    print(\"dbh_maxh\",dbh_maxh)\n",
    "    print(\"slamax\",slamax)\n",
    "    print(\"c2b\",c2b)\n",
    "    \n",
    "    \n",
    "    # Calculate total tree leaf area (m2)\n",
    "    leaf_biomass = d2blmax_2pwr(d = diams,\n",
    "                            p1 = d2bl1,\n",
    "                            p2 = d2bl2,\n",
    "                            c2b=c2b,\n",
    "                            dbh_maxh = dbh_maxh)\n",
    "    leaf_biomass_g = np.array(leaf_biomass) * 1000\n",
    "    leaf_area_m2 = leaf_biomass_g * slamax\n",
    "    \n",
    "    if print_leaf_area == True:\n",
    "        print(\"leaf_area_m2\",leaf_area_m2)\n",
    "    \n",
    "    \n",
    "    # Calculate tree projected crown area (ca) and diameter (cd)\n",
    "    ca,cd = d_to_crown_area_fates(ds=diams,\n",
    "                              d2bl_p2=d2bl2,\n",
    "                              d2bl_ediff=ediff,\n",
    "                              d2ca_max=d2ca,\n",
    "                              d2ca_min=d2ca,\n",
    "                              spread=0.5,\n",
    "                              dbh_maxh=dbh_maxh)\n",
    "\n",
    "    print(\"ca\",ca)\n",
    "    tree_vai = (np.array(leaf_area_m2) / np.array(ca)) * (1 + sai_per_lai)\n",
    "    print(\"vai\",tree_vai)\n",
    "    \n",
    "    max_tree_vai = np.max(tree_vai)\n",
    "    \n",
    "    print(\"\\nVAI check:\")\n",
    "    \n",
    "    if max_tree_vai > vai_max:\n",
    "        print(\"Warning: tree vai of\",max_tree_vai,\"exceeds vai max of\",vai_max)\n",
    "    else:\n",
    "        print(\"Max vai\",max_tree_vai,\"is OK\")"
   ]
  },
  {
   "cell_type": "code",
   "execution_count": 33,
   "id": "6bb91460-da51-4355-b227-d4e053e210cf",
   "metadata": {},
   "outputs": [
    {
     "name": "stdout",
     "output_type": "stream",
     "text": [
      "Using the following parameters:\n",
      "\n",
      "d2bl1 0.020336868\n",
      "d2bl2 2.01121055798523\n",
      "d2ca 0.284979607940355\n",
      "ediff -0.793196\n",
      "sai_per_lai 0.1\n",
      "dbh_maxh 388.8\n",
      "slamax 0.0165065166847673\n",
      "c2b 2\n",
      "leaf_area_m2 [ 1429.89015889 27126.53346144]\n",
      "ca [68.40842805834286, 406.57256155300405]\n",
      "vai [22.9924765  73.39203288]\n",
      "\n",
      "VAI check:\n",
      "Warning: tree vai of 73.39203288487181 exceeds vai max of 50\n"
     ]
    }
   ],
   "source": [
    "vai_check(diams = [90,388.807],\n",
    "          d2bl1 = 0.020336868,\n",
    "          d2bl2 = 2.01121055798523,\n",
    "          d2ca = 0.284979607940355,\n",
    "          ediff = -0.793196,\n",
    "          sai_per_lai = 0.1,\n",
    "          dbh_maxh = 388.80,\n",
    "          slamax = 0.0165065166847673,\n",
    "          c2b = 2,\n",
    "          vai_max=50,\n",
    "          print_leaf_area = True)"
   ]
  },
  {
   "cell_type": "code",
   "execution_count": 32,
   "id": "54648006-7059-419e-9fda-61ac61266931",
   "metadata": {},
   "outputs": [
    {
     "data": {
      "text/plain": [
       "2.5"
      ]
     },
     "execution_count": 32,
     "metadata": {},
     "output_type": "execute_result"
    }
   ],
   "source": [
    "1/.4"
   ]
  },
  {
   "cell_type": "code",
   "execution_count": 18,
   "id": "4a9aed80-d351-4e64-926d-48320a375167",
   "metadata": {},
   "outputs": [
    {
     "data": {
      "text/plain": [
       "66.72002989533658"
      ]
     },
     "execution_count": 18,
     "metadata": {},
     "output_type": "execute_result"
    }
   ],
   "source": [
    "27126.53346144/406.57256155300405"
   ]
  },
  {
   "cell_type": "code",
   "execution_count": null,
   "id": "4615baaf-4272-46e5-a14e-2418597b8cf1",
   "metadata": {},
   "outputs": [],
   "source": []
  }
 ],
 "metadata": {
  "kernelspec": {
   "display_name": "env4",
   "language": "python",
   "name": "env4"
  },
  "language_info": {
   "codemirror_mode": {
    "name": "ipython",
    "version": 3
   },
   "file_extension": ".py",
   "mimetype": "text/x-python",
   "name": "python",
   "nbconvert_exporter": "python",
   "pygments_lexer": "ipython3",
   "version": "3.8.13"
  }
 },
 "nbformat": 4,
 "nbformat_minor": 5
}
