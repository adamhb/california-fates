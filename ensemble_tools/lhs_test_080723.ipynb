{
 "cells": [
  {
   "cell_type": "markdown",
   "id": "dba0b46c-95c9-4ece-9eb8-9df72f995937",
   "metadata": {},
   "source": [
    "### Script to generate FATES parameters using LHS"
   ]
  },
  {
   "cell_type": "code",
   "execution_count": 6,
   "id": "6b4b7a37-1801-4033-bfbd-4de9eebc4c55",
   "metadata": {},
   "outputs": [],
   "source": [
    "from scipy.stats import qmc\n",
    "import numpy as np\n",
    "import csv\n",
    "import pandas as pd\n",
    "import os\n",
    "import netCDF4 as nc4\n",
    "import sys\n",
    "import shutil\n",
    "from tempfile import TemporaryFile                                                                                                                                 \n",
    "import argparse                                                                                                                                                                                                                                                                                                       \n",
    "import tempfile \n",
    "import random\n",
    "import re\n",
    "import modp as mp"
   ]
  },
  {
   "cell_type": "code",
   "execution_count": 5,
   "id": "168bc2f6-3403-45ad-9a0f-40617907f584",
   "metadata": {},
   "outputs": [],
   "source": [
    "random.seed(32)"
   ]
  },
  {
   "cell_type": "markdown",
   "id": "f41f01ef-feb3-4ce0-87c4-474f2cf11e15",
   "metadata": {},
   "source": [
    "#### Read in min and max values for each parameter and pft \n",
    "- Adapted from work by Rachel Ward (parameter ranges and inequalities). \n",
    "- Where there are inequalities between PFTx and PFTy, sample PFTx parameter and then use a scalar to generate PFTy parameter. -- If parameter ranges are the same ignore the inequality\n",
    "- Add some noise to the inequalities so that inter-PFT trait correlations are not too strict"
   ]
  },
  {
   "cell_type": "markdown",
   "id": "be8d4a7d-c197-4549-986a-2bfc2e5bc4d7",
   "metadata": {},
   "source": [
    "### Some parameters are help equal for all conifers\n",
    "\n",
    "There are some parameters that we keep equal among the conifers. We want the value pulled for pine from the Latin hypercube to apply to all conifers."
   ]
  },
  {
   "cell_type": "code",
   "execution_count": 7,
   "id": "1782958f-d285-4b9a-9de4-c70716ffd759",
   "metadata": {},
   "outputs": [],
   "source": [
    "equal_among_conifers = [\"fates_recruit_seed_alloc\",\"fates_recruit_seed_alloc_mature\"]"
   ]
  },
  {
   "cell_type": "code",
   "execution_count": 3,
   "id": "c1b2c9aa-8737-4a7c-bd0d-6806290128b0",
   "metadata": {},
   "outputs": [
    {
     "name": "stdout",
     "output_type": "stream",
     "text": [
      "                               param  value_min  value_max  pft  organ\n",
      "0   fates_maintresp_nonleaf_baserate   0.000002   0.000003    0    NaN\n",
      "1       fates_mort_understorey_death   0.000000   1.000000    0    NaN\n",
      "2       fates_phen_drought_threshold  -2.500000  -1.200000    0    NaN\n",
      "3                   fates_mort_bmort   0.010000   0.060000    1    NaN\n",
      "4                       fates_grperc   0.110000   0.610000    1    NaN\n",
      "5                       fates_grperc   0.110000   0.610000    2    NaN\n",
      "6                 fates_wood_density   0.300000   0.500000    1    NaN\n",
      "7              fates_leaf_vcmax25top  30.000000  80.000000    1    NaN\n",
      "8              fates_leaf_vcmax25top  30.000000  80.000000    3    NaN\n",
      "9        fates_alloc_storage_cushion   1.400000   2.400000    3    NaN\n",
      "10                 fates_leaf_slatop   0.010000   0.040000    3    NaN\n",
      "11                fates_wood_density   0.200000   0.900000    3    NaN\n"
     ]
    }
   ],
   "source": [
    "param_ranges_full = pd.read_csv('/global/homes/j/jneedham/DBEN/Parameter_files/BCI_ensemble_params_trimmed.csv')\n",
    "param_ranges = param_ranges_full[['param', 'value_min', 'value_max', 'pft', 'organ']]\n",
    "\n",
    "# number of parameters\n",
    "n_params = len(param_ranges)\n",
    "\n",
    "# number of PFTs - some are global so subtract one\n",
    "n_pfts = len(pd.unique(param_ranges['pft'])) - 1\n",
    "\n",
    "param_names = list(param_ranges.param)\n",
    "pfts = list(param_ranges.pft)\n",
    "organs = list(param_ranges.organ)\n",
    "\n",
    "print(param_ranges)"
   ]
  },
  {
   "cell_type": "code",
   "execution_count": 4,
   "id": "5751d5a4-d040-43da-bdde-feb479677f12",
   "metadata": {},
   "outputs": [
    {
     "name": "stdout",
     "output_type": "stream",
     "text": [
      "[ 2.83999314e-06  1.00621538e-01 -2.19663466e+00  4.69569138e-02\n",
      "  5.58045138e-01  5.59912500e-01  4.68706896e-01  7.57234584e+01\n",
      "  5.12462969e+01  2.35008616e+00  3.07512111e-02  2.99398720e-01]\n"
     ]
    }
   ],
   "source": [
    "n_inst = 120\n",
    "\n",
    "sampler = qmc.LatinHypercube(d=n_params)\n",
    "sample = sampler.random(n=n_inst)\n",
    "\n",
    "# scale to parameter ranges\n",
    "l_bounds = param_ranges['value_min']\n",
    "u_bounds = param_ranges['value_max']\n",
    "\n",
    "scaled_sample = qmc.scale(sample, l_bounds, u_bounds)\n",
    "\n",
    "print(scaled_sample[0,:])"
   ]
  },
  {
   "cell_type": "code",
   "execution_count": 5,
   "id": "4e351416-8bc9-47a2-b13e-1f6731086e95",
   "metadata": {},
   "outputs": [],
   "source": [
    "## Read in defaut FATES file - note that this is the default for FATES but with:\n",
    "# - updated allometries for tropical PFTs\n",
    "# - size bins that are consistent with the DBEN protocol. \n",
    "# - supplemental seed rain\n",
    "# - updated vai bins\n",
    "# - atkin respiration \n",
    "# - size dependent mortality \n",
    "\n",
    "input_fname = '/global/homes/j/jneedham/DBEN/Parameter_files/fates_params_bci_base.nc'\n",
    "\n",
    "# for each sample \n",
    "for i in range(0,n_inst) :\n",
    "    \n",
    "    # final parameter file name\n",
    "    fout = '/global/homes/j/jneedham/DBEN/Parameter_files/Ensemble_params/BCI/fates_params_bci_ens_{0}.nc'.format(i)\n",
    "    \n",
    "    shutil.copyfile(input_fname, fout)                                                                                                                             \n",
    "   \n",
    "    # loop through each parameter and apply either to the correct pft or globally\n",
    "    for j in range(0, n_params) : \n",
    "        \n",
    "        var = param_names[j]\n",
    "        pft = pfts[j]\n",
    "        organ = organs[j]\n",
    "        \n",
    "        val = scaled_sample[i, j]\n",
    "        \n",
    "        mp.main(var = var, pft = pft, fin = fout, val = val, \n",
    "                    fout = fout, O = 1, organ = organ)\n",
    "        \n",
    "        if var == 'fates_mort_bmort' and pft == 1 : \n",
    "            pft = pft + 1\n",
    "            val = val * 0.75\n",
    "            mp.main(var = var, pft = pft, fin = fout, val = val, \n",
    "                    fout = fout, O = 1, organ = organ)\n",
    "            \n",
    "        if var == 'fates_wood_density' and pft == 1 : \n",
    "            pft = pft + 1\n",
    "            val = val * 1.5\n",
    "            mp.main(var = var, pft = pft, fin = fout, val = val, \n",
    "                    fout = fout, O = 1, organ = organ)\n",
    "            \n",
    "        if var == 'fates_leaf_vcmax25top' and pft == 1 : \n",
    "            pft = pft + 1\n",
    "            val = val * 0.9\n",
    "            mp.main(var = var, pft = pft, fin = fout, val = val, \n",
    "                    fout = fout, O = 1, organ = organ)\n",
    "            \n",
    "            \n",
    "        #parameters that vary as a group (i.e. conifers)\n",
    "        # if var == 'fates_recruit_seed_alloc' and pft == 0 :\n",
    "        #     for p in [1,2]:\n",
    "        #         pft = p\n",
    "        #         mp.main(var = var, pft = p, fin = fout, val = val, \n",
    "        #             fout = fout, O = 1, organ = organ)\n",
    "\n",
    "            \n",
    "    "
   ]
  },
  {
   "cell_type": "code",
   "execution_count": 6,
   "id": "647188cd-9ac2-494a-91d6-e7f84a2b4415",
   "metadata": {},
   "outputs": [
    {
     "name": "stdout",
     "output_type": "stream",
     "text": [
      "(120, 12)\n"
     ]
    }
   ],
   "source": [
    "print(scaled_sample.shape)"
   ]
  },
  {
   "cell_type": "code",
   "execution_count": 7,
   "id": "51ac4959-6fa3-4f37-a90b-bf720756cbca",
   "metadata": {},
   "outputs": [],
   "source": [
    "tmp = scaled_sample[0:50,:]\n",
    "\n",
    "df  = pd.DataFrame(data=tmp, columns = param_names)\n",
    "\n"
   ]
  },
  {
   "cell_type": "code",
   "execution_count": null,
   "id": "a616bcc4-0606-4880-a6f7-04e3984082da",
   "metadata": {},
   "outputs": [],
   "source": []
  },
  {
   "cell_type": "code",
   "execution_count": null,
   "id": "6608bf0a-7545-48d5-9f07-01f969da1ada",
   "metadata": {},
   "outputs": [],
   "source": []
  },
  {
   "cell_type": "code",
   "execution_count": null,
   "id": "48386163-b1bd-4b6c-8eac-d7fc0c639e38",
   "metadata": {},
   "outputs": [],
   "source": []
  }
 ],
 "metadata": {
  "kernelspec": {
   "display_name": "env4_work",
   "language": "python",
   "name": "env4_work"
  },
  "language_info": {
   "codemirror_mode": {
    "name": "ipython",
    "version": 3
   },
   "file_extension": ".py",
   "mimetype": "text/x-python",
   "name": "python",
   "nbconvert_exporter": "python",
   "pygments_lexer": "ipython3",
   "version": "3.8.13"
  }
 },
 "nbformat": 4,
 "nbformat_minor": 5
}
