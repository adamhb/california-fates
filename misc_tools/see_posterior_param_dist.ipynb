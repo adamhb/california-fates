{
 "cells": [
  {
   "cell_type": "markdown",
   "id": "15bfb5a0-efea-4088-92dd-e27a69518234",
   "metadata": {},
   "source": [
    "### Compare posterior param range distribution to prior\n",
    "\n",
    "The purpose of this script is to see if the aprior param ranges should be updated in the LHS to increase sampling density in the range of param values that result in success."
   ]
  },
  {
   "cell_type": "code",
   "execution_count": 1,
   "id": "f7a29bf1-d9e1-4067-8c13-3a98140639dc",
   "metadata": {},
   "outputs": [],
   "source": [
    "import pandas as pd\n",
    "from matplotlib import pyplot as plt\n",
    "import re"
   ]
  },
  {
   "cell_type": "code",
   "execution_count": 2,
   "id": "ae5c4f19-1bae-45a9-8859-273b075bca5c",
   "metadata": {},
   "outputs": [],
   "source": [
    "PEAS_members = pd.read_csv('/home/adamhb/gdrive/postdoc/simulation_output/passsing_CZ2_equilibrium_110323_and_110523_with_fire.csv')\n",
    "param_ranges = pd.read_csv('/home/adamhb/gdrive/postdoc/california-fates/parameter_ranges/param_range_archive/param_ranges_100223.csv')            "
   ]
  },
  {
   "cell_type": "code",
   "execution_count": 3,
   "id": "0ef5a938-ea14-446e-97ad-1ff906aed58e",
   "metadata": {},
   "outputs": [],
   "source": [
    "PEAS_members = PEAS_members.loc[PEAS_members['inst'].isin([2, 8, 14, 15, 22, 24, 25, 26, 30, 33, 46, 48, 50, 51, 52])]"
   ]
  },
  {
   "cell_type": "code",
   "execution_count": 4,
   "id": "2f57eb7d-593f-446f-8d30-6ffa40834312",
   "metadata": {},
   "outputs": [
    {
     "data": {
      "text/plain": [
       "[2, 4, 7, 19, 30, 43, 44, 49, 51]"
      ]
     },
     "execution_count": 4,
     "metadata": {},
     "output_type": "execute_result"
    }
   ],
   "source": [
    "list(PEAS_members['fates_fire_nignitions_0'].reset_index()['index'] - 1)"
   ]
  },
  {
   "cell_type": "code",
   "execution_count": 5,
   "id": "81028d39-2b0f-409e-b60a-34462e345312",
   "metadata": {},
   "outputs": [
    {
     "data": {
      "text/plain": [
       "[2.50288919296338,\n",
       " 0.136548100249566,\n",
       " 0.711298623200441,\n",
       " 0.835443985502639,\n",
       " 0.262196914182938,\n",
       " 0.428518562275885,\n",
       " 1.43964184982846,\n",
       " 1.54531759296711,\n",
       " 0.757860616193905]"
      ]
     },
     "execution_count": 5,
     "metadata": {},
     "output_type": "execute_result"
    }
   ],
   "source": [
    "list(PEAS_members['fates_fire_nignitions_0'])"
   ]
  },
  {
   "cell_type": "code",
   "execution_count": 6,
   "id": "f9f5b04a-a29e-431e-a538-36e1bae12ca7",
   "metadata": {},
   "outputs": [
    {
     "data": {
      "text/plain": [
       "['fates_recruit_seed_alloc_mature',\n",
       " 'fates_recruit_seed_dbh_repro_threshold',\n",
       " 'fates_fire_alpha_SH',\n",
       " 'fates_fire_bark_scaler',\n",
       " 'fates_fire_crown_kill',\n",
       " 'fates_fire_drying_ratio',\n",
       " 'fates_fire_nignitions',\n",
       " 'fates_fire_threshold',\n",
       " 'fates_mort_bmort',\n",
       " 'fates_leaf_slatop',\n",
       " 'fates_leaf_slamax',\n",
       " 'fates_leaf_vcmax25top',\n",
       " 'fates_mort_scalar_cstarvation',\n",
       " 'fates_fire_frac_resprout',\n",
       " 'fates_frag_seed_decay_rate',\n",
       " 'fates_recruit_seed_germination_rate',\n",
       " 'fates_disturbance_germ',\n",
       " 'fates_turnover_branch',\n",
       " 'fates_turnover_leaf',\n",
       " 'fates_nonhydro_smpsc',\n",
       " 'fates_mort_hf_sm_threshold',\n",
       " 'fates_recruit_inter_patch_disp_frac',\n",
       " 'fates_frag_maxdecomp',\n",
       " 'fates_alloc_storage_cushion',\n",
       " 'fates_grperc',\n",
       " 'fates_stoich_nitr',\n",
       " 'fates_mort_ip_size_senescence',\n",
       " 'fates_mort_ip_age_senescence',\n",
       " 'fates_allom_d2ca_coefficient_max',\n",
       " 'fates_allom_d2ca_coefficient_min',\n",
       " 'fates_allom_agb1']"
      ]
     },
     "execution_count": 6,
     "metadata": {},
     "output_type": "execute_result"
    }
   ],
   "source": [
    "list(param_ranges['param'].unique())"
   ]
  },
  {
   "cell_type": "code",
   "execution_count": 7,
   "id": "9389b25e-88ed-444d-b4a5-f20067b0effa",
   "metadata": {},
   "outputs": [
    {
     "name": "stdout",
     "output_type": "stream",
     "text": [
      "<class 'pandas.core.frame.DataFrame'>\n",
      "RangeIndex: 101 entries, 0 to 100\n",
      "Data columns (total 13 columns):\n",
      " #   Column             Non-Null Count  Dtype  \n",
      "---  ------             --------------  -----  \n",
      " 0   pft_ineq           101 non-null    object \n",
      " 1   param              101 non-null    object \n",
      " 2   pft                101 non-null    int64  \n",
      " 3   organ              9 non-null      float64\n",
      " 4   value_min          92 non-null     float64\n",
      " 5   value_max          95 non-null     float64\n",
      " 6   apriori_value      66 non-null     object \n",
      " 7   source_min         91 non-null     object \n",
      " 8   source_max         88 non-null     object \n",
      " 9   source_apriori     55 non-null     object \n",
      " 10  comments           27 non-null     object \n",
      " 11  link               5 non-null      object \n",
      " 12  additional_values  0 non-null      float64\n",
      "dtypes: float64(4), int64(1), object(8)\n",
      "memory usage: 10.4+ KB\n"
     ]
    }
   ],
   "source": [
    "param_ranges.info()"
   ]
  },
  {
   "cell_type": "code",
   "execution_count": 8,
   "id": "3015fdcd-9f1a-4122-af40-762e89f5f19a",
   "metadata": {},
   "outputs": [],
   "source": [
    "\n",
    "\n",
    "def split_string_before_integer(s):\n",
    "    # This pattern looks for an underscore that is immediately followed by one or more digits\n",
    "    # and splits the string at this underscore.\n",
    "    pattern = r'_(?=\\d+)'\n",
    "    return re.split(pattern, s)\n",
    "    \n",
    "def HistModelObs(PEAS_members,param_ranges,var):\n",
    "    '''\n",
    "    Returns a histogram comparing the model data to a range\n",
    "\n",
    "    Inputs:\n",
    "    - modData: dataframe of model metrics\n",
    "    - Obs: dictionary of observations from the literature. Each list is a range of a particular observation\n",
    "    - Var: variable name to plot\n",
    "\n",
    "    Output:\n",
    "    - histogram\n",
    "    '''\n",
    "\n",
    "    var_name = split_string_before_integer(var)[0]\n",
    "    print(var_name)\n",
    "    \n",
    "    pft = split_string_before_integer(var)[1]\n",
    "    #print(pft)\n",
    "    # Get min and max ranges\n",
    "    param_filter = param_ranges['param'] == var_name\n",
    "    #print(sum(param_filter))\n",
    "    \n",
    "    pft_filter = param_ranges['pft'] == int(pft)\n",
    "    #print(sum(pft_filter))\n",
    "    param_data = param_ranges.loc[param_filter & pft_filter]\n",
    "    #print(param_data)\n",
    "    \n",
    "    \n",
    "    min_val = list(param_data['value_min'])[0]\n",
    "    max_val = list(param_data['value_max'])[0]\n",
    "\n",
    "    var_data = PEAS_members[var]\n",
    "    \n",
    "    n, bins, patches = plt.hist(var_data, bins=15, alpha=0.9, color='white', edgecolor='black', label = \"Param\")\n",
    "    line1 = plt.axvline(x=min_val, color='black', linestyle='--', linewidth=2, label = \"Obs. range\")\n",
    "    line2 = plt.axvline(x=max_val, color='black', linestyle='--', linewidth=2)\n",
    "    \n",
    "    plt.ylabel(\"Number of ensemble members\")\n",
    "    plt.legend()\n",
    "    plt.title(var)\n",
    "    plt.tight_layout()\n",
    "    plt.show()"
   ]
  },
  {
   "cell_type": "code",
   "execution_count": 23,
   "id": "6bf746ab-3848-4594-a67d-058947e247ef",
   "metadata": {},
   "outputs": [],
   "source": [
    "vars = ['fates_fire_alpha_SH_1','fates_fire_alpha_SH_2','fates_allom_d2ca_coefficient_max_5','fates_leaf_vcmax25top_5',\n",
    "        'fates_mort_hf_sm_threshold_0','fates_fire_nignitions_0','fates_fire_threshold_0','fates_fire_frac_resprout_4',\n",
    "        'fates_fire_frac_resprout_5','fates_disturbance_germ_4','fates_recruit_seed_germination_rate_4',\n",
    "        'fates_mort_bmort_1']\n",
    "\n",
    "vars = ['fates_mort_scalar_cstarvation_2']"
   ]
  },
  {
   "cell_type": "code",
   "execution_count": 24,
   "id": "9f732fc0-fd7e-4b60-a773-e161ced7ad05",
   "metadata": {},
   "outputs": [
    {
     "name": "stdout",
     "output_type": "stream",
     "text": [
      "fates_mort_scalar_cstarvation\n"
     ]
    },
    {
     "data": {
      "image/png": "[encoded data removed]",
      "text/plain": [
       "<Figure size 640x480 with 1 Axes>"
      ]
     },
     "metadata": {},
     "output_type": "display_data"
    }
   ],
   "source": [
    "for var in vars:\n",
    "    HistModelObs(PEAS_members,param_ranges,var)"
   ]
  },
  {
   "cell_type": "code",
   "execution_count": null,
   "id": "85208ac7-4ee3-41dd-bcc3-b17974bb791b",
   "metadata": {},
   "outputs": [],
   "source": []
  }
 ],
 "metadata": {
  "kernelspec": {
   "display_name": "env4",
   "language": "python",
   "name": "env4"
  },
  "language_info": {
   "codemirror_mode": {
    "name": "ipython",
    "version": 3
   },
   "file_extension": ".py",
   "mimetype": "text/x-python",
   "name": "python",
   "nbconvert_exporter": "python",
   "pygments_lexer": "ipython3",
   "version": "3.8.13"
  }
 },
 "nbformat": 4,
 "nbformat_minor": 5
}
