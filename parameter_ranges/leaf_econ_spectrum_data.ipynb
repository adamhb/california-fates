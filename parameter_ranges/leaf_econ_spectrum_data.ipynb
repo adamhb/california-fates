{
 "cells": [
  {
   "cell_type": "code",
   "execution_count": 1,
   "id": "7d7d6c4f-c69d-40a3-aa06-ba685b8f1132",
   "metadata": {},
   "outputs": [
    {
     "name": "stdout",
     "output_type": "stream",
     "text": [
      "<class 'pandas.core.frame.DataFrame'>\n",
      "RangeIndex: 2548 entries, 0 to 2547\n",
      "Data columns (total 21 columns):\n",
      " #   Column           Non-Null Count  Dtype  \n",
      "---  ------           --------------  -----  \n",
      " 0   Code             2548 non-null   int64  \n",
      " 1   Dataset          2548 non-null   object \n",
      " 2   BIOME            2548 non-null   object \n",
      " 3   Species          2548 non-null   object \n",
      " 4   GF               2548 non-null   object \n",
      " 5   Decid/E'green    1606 non-null   object \n",
      " 6   Needle/Broad lf  1680 non-null   object \n",
      " 7   C3C4             1344 non-null   object \n",
      " 8   N2-fixer         2276 non-null   object \n",
      " 9   log LL           749 non-null    float64\n",
      " 10  log LMA          2370 non-null   float64\n",
      " 11  log Nmass        2061 non-null   float64\n",
      " 12  log Narea        1975 non-null   float64\n",
      " 13  log Pmass        752 non-null    float64\n",
      " 14  log Parea        756 non-null    float64\n",
      " 15  log Amass        770 non-null    float64\n",
      " 16  log Aarea        825 non-null    float64\n",
      " 17  log Gs           500 non-null    float64\n",
      " 18  log Rdmass       274 non-null    float64\n",
      " 19  log Rdarea       274 non-null    float64\n",
      " 20  Ca - Ci          371 non-null    float64\n",
      "dtypes: float64(12), int64(1), object(8)\n",
      "memory usage: 418.2+ KB\n"
     ]
    }
   ],
   "source": [
    "import pandas as pd\n",
    "import numpy as np\n",
    "df = pd.read_csv('Wright_et_al_leaf_economics_data.csv')\n",
    "df.info()"
   ]
  },
  {
   "cell_type": "code",
   "execution_count": 2,
   "id": "19f0da96-22e7-419a-b4b5-54f06c3bbc15",
   "metadata": {},
   "outputs": [],
   "source": [
    "def get_LL_yrs(logLL_months):\n",
    "    return (10**(logLL_months))/12\n",
    "\n",
    "def getNtoCratio(logNmass_pct):\n",
    "    mass_frac = (10**logNmass_pct) / 100\n",
    "    N_frac_of_C_mass = mass_frac * 2\n",
    "    return N_frac_of_C_mass"
   ]
  },
  {
   "cell_type": "markdown",
   "id": "1b8aab1c-1cb1-45e7-97bf-8f676d32f807",
   "metadata": {},
   "source": [
    "## Leaf lifespan"
   ]
  },
  {
   "cell_type": "code",
   "execution_count": 3,
   "id": "4a460d96-a307-497f-b9d7-4db11cb09fb8",
   "metadata": {},
   "outputs": [
    {
     "name": "stdout",
     "output_type": "stream",
     "text": [
      "Fir LL [yrs]: [7.95827155 8.14364351]\n",
      "Thuja LL [yrs]: [3.9885841  1.51641738]\n",
      "Pinus LL [yrs]: [       nan        nan        nan        nan        nan        nan\n",
      " 3.02565046 2.75942601 1.74108011 5.50577873 2.69661381 2.24294567\n",
      " 2.24294567 3.02565046 1.74108011 2.24294567 1.51641738        nan\n",
      "        nan 3.80906825 2.40335959]\n"
     ]
    }
   ],
   "source": [
    "print(\"Fir LL [yrs]:\",get_LL_yrs(np.array(df.loc[df['Species'].str.contains('Abies')]['log LL'])))\n",
    "print(\"Thuja LL [yrs]:\",get_LL_yrs(np.array(df.loc[df['Species'].str.contains('Thuja|Thujopsis|Libocedrus')]['log LL'])))\n",
    "print(\"Pinus LL [yrs]:\",get_LL_yrs(np.array(df.loc[df['Species'].str.contains('Pinus')]['log LL'])))"
   ]
  },
  {
   "cell_type": "markdown",
   "id": "2fe243ec-d5e1-4833-97ac-f9ac05e407b1",
   "metadata": {},
   "source": [
    "## Leaf Nitrogen"
   ]
  },
  {
   "cell_type": "code",
   "execution_count": 4,
   "id": "7538817f-2003-43c4-bd31-83029172ebed",
   "metadata": {},
   "outputs": [
    {
     "name": "stdout",
     "output_type": "stream",
     "text": [
      "Fir Nmass [yrs]: [0.02060772 0.03443737]\n",
      "Thuja Nmass [yrs]: [0.01520653 0.02558763]\n",
      "Pinus Nmass [yrs]: [0.03349886 0.02157893 0.0179073  0.01932102 0.02600339 0.01888122\n",
      " 0.02238876 0.02317555 0.02697926 0.02118507 0.01640703 0.01640703\n",
      " 0.02477593 0.02338999 0.03396487 0.02779905 0.02437979 0.02489029\n",
      " 0.0138048  0.02360641 0.02642591]\n",
      "Pinus ponderosa Nmass [yrs]: [0.01932102]\n",
      "Pinus min Nmass 0.01380479607680484\n",
      "Pinus max Nmass 0.03396487304923489\n",
      "suber Nmass [yrs]: [0.03899689 0.03802157]\n",
      "ilex Nmass: [       nan 0.04688458 0.03303924 0.02600339]\n",
      "agrifolia Nmass: [      nan 0.0217786]\n",
      "wislizeni Nmass: []\n"
     ]
    }
   ],
   "source": [
    "print(\"Fir Nmass [yrs]:\",getNtoCratio(np.array(df.loc[df['Species'].str.contains('Abies')]['log Nmass'])))\n",
    "print(\"Thuja Nmass [yrs]:\",getNtoCratio(np.array(df.loc[df['Species'].str.contains('Thuja|Thujopsis|Libocedrus')]['log Nmass'])))\n",
    "print(\"Pinus Nmass [yrs]:\",getNtoCratio(np.array(df.loc[df['Species'].str.contains('Pinus')]['log Nmass'])))\n",
    "print(\"Pinus ponderosa Nmass [yrs]:\",getNtoCratio(np.array(df.loc[df['Species'].str.contains('Pinus ponderosa')]['log Nmass'])))\n",
    "pineNmass = getNtoCratio(np.array(df.loc[df['Species'].str.contains('Pinus')]['log Nmass']))\n",
    "print(\"Pinus min Nmass\",pineNmass.min())\n",
    "print(\"Pinus max Nmass\",pineNmass.max())\n",
    "print(\"suber Nmass [yrs]:\",getNtoCratio(np.array(df.loc[df['Species'].str.contains('Quercus suber')]['log Nmass'])))\n",
    "print(\"ilex Nmass:\",getNtoCratio(np.array(df.loc[df['Species'].str.contains('Quercus ilex')]['log Nmass'])))\n",
    "print(\"agrifolia Nmass:\",getNtoCratio(np.array(df.loc[df['Species'].str.contains('Quercus agrifolia')]['log Nmass'])))\n",
    "print(\"wislizeni Nmass:\",getNtoCratio(np.array(df.loc[df['Species'].str.contains('Quercus wislizeni')]['log Nmass'])))"
   ]
  },
  {
   "cell_type": "code",
   "execution_count": 5,
   "id": "97626978-97b2-4feb-8751-0dac44fa8360",
   "metadata": {},
   "outputs": [
    {
     "data": {
      "text/plain": [
       "Pinus sylvestris     4\n",
       "Pinus strobus        3\n",
       "Pinus jeffreyi       1\n",
       "Pinus monophylla     1\n",
       "Pinus ponderosa      1\n",
       "Pinus halepensis     1\n",
       "Pinus flexilis       1\n",
       "Pinus rigida         1\n",
       "Pinus edulis         1\n",
       "Pinus palustris      1\n",
       "Pinus serotina       1\n",
       "Pinus banksiana      1\n",
       "Pinus resinosa       1\n",
       "Pinus canariensis    1\n",
       "Pinus pinaster       1\n",
       "Pinus nigra          1\n",
       "Name: Species, dtype: int64"
      ]
     },
     "execution_count": 5,
     "metadata": {},
     "output_type": "execute_result"
    }
   ],
   "source": [
    "df.loc[df['Species'].str.contains('Pinus')]['Species'].value_counts()"
   ]
  },
  {
   "cell_type": "code",
   "execution_count": null,
   "id": "9a9d029f-ea41-4e9a-a36d-f5efdf3e8b90",
   "metadata": {},
   "outputs": [],
   "source": []
  },
  {
   "cell_type": "code",
   "execution_count": 6,
   "id": "e18e6e35-0f9a-4bd4-86dc-3ced8b341fbb",
   "metadata": {},
   "outputs": [
    {
     "data": {
      "text/plain": [
       "array([ 0.224,  0.033, -0.048, -0.015,  0.114, -0.025,  0.049,  0.064,\n",
       "        0.13 ,  0.025, -0.086, -0.086,  0.093,  0.068,  0.23 ,  0.143,\n",
       "        0.086,  0.095, -0.161,  0.072,  0.121])"
      ]
     },
     "execution_count": 6,
     "metadata": {},
     "output_type": "execute_result"
    }
   ],
   "source": [
    "np.array(df.loc[df['Species'].str.contains('Pinus')]['log Nmass'])"
   ]
  },
  {
   "cell_type": "code",
   "execution_count": 7,
   "id": "fd35a76a-efca-4e2e-9ebc-e9a00a14f6c7",
   "metadata": {},
   "outputs": [
    {
     "data": {
      "text/plain": [
       "1.6749428760264373"
      ]
     },
     "execution_count": 7,
     "metadata": {},
     "output_type": "execute_result"
    }
   ],
   "source": [
    "10**0.224"
   ]
  },
  {
   "cell_type": "code",
   "execution_count": null,
   "id": "0046a14c-921c-41ab-bba1-3de31c759b7f",
   "metadata": {},
   "outputs": [],
   "source": []
  }
 ],
 "metadata": {
  "kernelspec": {
   "display_name": "env4",
   "language": "python",
   "name": "env4"
  },
  "language_info": {
   "codemirror_mode": {
    "name": "ipython",
    "version": 3
   },
   "file_extension": ".py",
   "mimetype": "text/x-python",
   "name": "python",
   "nbconvert_exporter": "python",
   "pygments_lexer": "ipython3",
   "version": "3.8.13"
  }
 },
 "nbformat": 4,
 "nbformat_minor": 5
}
