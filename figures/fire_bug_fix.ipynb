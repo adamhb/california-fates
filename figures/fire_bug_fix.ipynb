{
 "cells": [
  {
   "cell_type": "markdown",
   "id": "076da8fc-373c-4c34-88d5-89f1896f0516",
   "metadata": {},
   "source": [
    "# Results of 1470 to 1869 simulation with fire bug fix"
   ]
  },
  {
   "cell_type": "code",
   "execution_count": null,
   "id": "ddab555a-04d8-43f9-839a-828eaef302f3",
   "metadata": {},
   "outputs": [],
   "source": [
    "import sys\n",
    "sys.path.append('/home/adamhb/gdrive/FATES/Earth-System-Model-Tools')\n",
    "import os\n",
    "import numpy as np\n",
    "import pandas as pd\n",
    "from matplotlib.dates import DateFormatter\n",
    "from datetime import datetime#,timedelta\n",
    "import esm_tools\n",
    "from matplotlib import pyplot as plt\n",
    "import seaborn as sns\n",
    "import xarray as xr\n",
    "pd.set_option('display.max_rows', 500)\n",
    "from fields import fields\n",
    "import importlib\n",
    "importlib.reload(esm_tools)"
   ]
  },
  {
   "cell_type": "code",
   "execution_count": null,
   "id": "c79f88fc-fa19-4570-9c2b-1f2a4a598926",
   "metadata": {},
   "outputs": [],
   "source": [
    "output_root = '/home/adamhb/gdrive/postdoc/simulation_output'\n",
    "m2_per_ha = 1e4"
   ]
  },
  {
   "cell_type": "markdown",
   "id": "83687e38-4929-481b-bdde-a32a12d22c85",
   "metadata": {},
   "source": [
    "## Bug fix helps size class distribution in 1869\n",
    "\n",
    "Size class distributions with the bug fix are very close to observations shown in Figs. 16,17 (p. 103) in Safford and Stevens, 2017"
   ]
  },
  {
   "cell_type": "code",
   "execution_count": null,
   "id": "8a2090ec-20bb-487d-9082-adbabd79266b",
   "metadata": {},
   "outputs": [],
   "source": [
    "bug_fix_1869_scls_dist = esm_tools.get_size_class_distribution(case_name='CZ2_equilibrium_040924_-17e2acb6a_FATES-1449c787',\n",
    "                                      years = list(range(1869,1870)),\n",
    "                                      model_output_root=output_root)\n",
    "\n",
    "no_bug_fix_1869_scls_dist = esm_tools.get_size_class_distribution(case_name='CZ2_equilibrium_011824_-17e2acb6a_FATES-5b076b69',\n",
    "                                      years = list(range(1869,1870)),\n",
    "                                      model_output_root=output_root,)\n",
    "\n",
    "bug_fix_1869_scls_dist['Group'] = 'bug_fix'\n",
    "no_bug_fix_1869_scls_dist['Group'] = 'no_bug_fix'\n",
    "scls_dist_df = pd.concat([bug_fix_1869_scls_dist,no_bug_fix_1869_scls_dist], axis=0)\n",
    "\n",
    "bins = [5, 20, 40, 60, 80, 100, 120, float('inf')]\n",
    "labels = ['5-20', '20-40', '40-60', '60-80', '80-100', '100-120', '>120']\n",
    "\n",
    "# Create a new column for binned size classes\n",
    "scls_dist_df['new_size_class'] = pd.cut(scls_dist_df['size_class'], bins=bins, labels=labels, right=False, include_lowest=True)\n",
    "new_scls_dist_df = scls_dist_df.groupby(['Group','inst_tag','new_size_class']).sum()['density'].reset_index()"
   ]
  },
  {
   "cell_type": "code",
   "execution_count": null,
   "id": "a4f8286e-4df5-41e7-afe0-8456183e3b43",
   "metadata": {},
   "outputs": [],
   "source": [
    "# Assuming 'bug_fix_1869_scls_dist' is your DataFrame and it includes a 'treatment' column\n",
    "# Adjusting the boxplot to fill boxes with white and borders with black, and grouping by 'treatment'\n",
    "sns.boxplot(x='new_size_class', y='density', hue='Group', data=new_scls_dist_df, linewidth=2.5)\n",
    "\n",
    "# Adding titles and labels\n",
    "plt.title('Conifer size class distribution 1869')\n",
    "plt.xlabel('Size Class [cm dbh]')\n",
    "plt.ylabel('Density [N ha-1]')\n",
    "plt.ylim(0, 150)\n",
    "\n",
    "# Adding a legend if not automatically included\n",
    "plt.legend(title='Treatment')\n",
    "\n",
    "# Display the plot\n",
    "plt.show()"
   ]
  },
  {
   "cell_type": "markdown",
   "id": "484448bb-ad82-4c1a-a496-e7ab8710b750",
   "metadata": {},
   "source": [
    "## Effect of bmort on size class distribution\n",
    "\n",
    "Setting b mort to 0 significantly improved the model's ability to create large trees"
   ]
  },
  {
   "cell_type": "code",
   "execution_count": null,
   "id": "23d22e30-c6fd-4b0c-9876-7973b27a5ec6",
   "metadata": {},
   "outputs": [],
   "source": [
    "list(range(119,129))"
   ]
  },
  {
   "cell_type": "code",
   "execution_count": null,
   "id": "a956a169-f344-475f-aa43-7483030f23eb",
   "metadata": {},
   "outputs": [],
   "source": [
    "bmort_1869_scls_dist = esm_tools.get_size_class_distribution(case_name='CZ2_equilibrium_040924_-17e2acb6a_FATES-1449c787',\n",
    "                                      years = list(range(1869,1870)),\n",
    "                                      model_output_root=output_root,tag_numbers=[2, 8, 14, 15, 22, 24, 25, 26, 30, 33])\n",
    "\n",
    "no_bmort_1869_scls_dist = esm_tools.get_size_class_distribution(case_name='CZ2_equilibrium_040924_-17e2acb6a_FATES-1449c787',\n",
    "                                      years = list(range(1869,1870)),\n",
    "                                      model_output_root=output_root, tag_numbers=list(range(109,119)))\n",
    "\n",
    "bmort_1869_scls_dist['Group'] = 'bmort'\n",
    "no_bmort_1869_scls_dist['Group'] = 'no_bmort'\n",
    "scls_dist_df_bmort_test = pd.concat([bmort_1869_scls_dist,no_bmort_1869_scls_dist], axis=0)\n",
    "\n",
    "bins = [5, 20, 40, 60, 80, 100, 120, float('inf')]\n",
    "labels = ['5-20', '20-40', '40-60', '60-80', '80-100', '100-120', '>120']\n",
    "\n",
    "# Create a new column for binned size classes\n",
    "scls_dist_df_bmort_test['new_size_class'] = pd.cut(scls_dist_df_bmort_test['size_class'], bins=bins, labels=labels, right=False, include_lowest=True)\n",
    "scls_dist_df_bmort_test_new_scls = scls_dist_df_bmort_test.groupby(['Group','inst_tag','new_size_class']).sum()['density'].reset_index()\n",
    "scls_dist_df_bmort_test_new_scls = scls_dist_df_bmort_test_new_scls.loc[scls_dist_df_bmort_test_new_scls['density'] > 0]"
   ]
  },
  {
   "cell_type": "code",
   "execution_count": null,
   "id": "df2dbac2-4be9-41f4-a5b7-6d09752eefaf",
   "metadata": {},
   "outputs": [],
   "source": [
    "sns.boxplot(x='new_size_class', y='density', hue='Group', data=scls_dist_df_bmort_test_new_scls, linewidth=2.5)\n",
    "\n",
    "# Adding titles and labels\n",
    "plt.title('Conifer size class distribution 1869')\n",
    "plt.xlabel('Size Class [cm dbh]')\n",
    "plt.ylabel('Density [N ha-1]')\n",
    "plt.ylim(0, 150)\n",
    "\n",
    "# Adding a legend if not automatically included\n",
    "plt.legend(title='Treatment')\n",
    "\n",
    "# Display the plot\n",
    "plt.show()"
   ]
  },
  {
   "cell_type": "code",
   "execution_count": null,
   "id": "817b6dbe-f00d-4d54-9696-d2c5194a4949",
   "metadata": {},
   "outputs": [],
   "source": [
    "scls_dist_df_bmort_test_new_scls_0002 = scls_dist_df_bmort_test_new_scls.loc[scls_dist_df_bmort_test_new_scls['inst_tag'].isin(['0002','0109'])]\n",
    "sns.barplot(x='new_size_class', y='density', hue='Group', data=scls_dist_df_bmort_test_new_scls_0002, linewidth=2.5)\n",
    "\n",
    "# Adding titles and labels\n",
    "plt.title('Conifer size class distribution 1869 \\n Ensemble member 0002')\n",
    "plt.xlabel('Size Class [cm dbh]')\n",
    "plt.ylabel('Density [N ha-1]')\n",
    "plt.ylim(0, 80)\n",
    "\n",
    "# Adding a legend if not automatically included\n",
    "plt.legend(title='Treatment')\n",
    "\n",
    "# Display the plot\n",
    "plt.show()"
   ]
  },
  {
   "cell_type": "code",
   "execution_count": null,
   "id": "0862007a-df51-4509-8cac-cab42c35a9e2",
   "metadata": {},
   "outputs": [],
   "source": [
    "scls_dist_df_bmort_test_new_scls_0008 = scls_dist_df_bmort_test_new_scls.loc[scls_dist_df_bmort_test_new_scls['inst_tag'].isin(['0008','0110'])]\n",
    "sns.barplot(x='new_size_class', y='density', hue='Group', data=scls_dist_df_bmort_test_new_scls_0008, linewidth=2.5)\n",
    "\n",
    "# Adding titles and labels\n",
    "plt.title('Conifer size class distribution 1869 \\n Ensemble member 0008')\n",
    "plt.xlabel('Size Class [cm dbh]')\n",
    "plt.ylabel('Density [N ha-1]')\n",
    "plt.ylim(0, 120)\n",
    "\n",
    "# Adding a legend if not automatically included\n",
    "plt.legend(title='Treatment')\n",
    "\n",
    "# Display the plot\n",
    "plt.show()"
   ]
  },
  {
   "cell_type": "code",
   "execution_count": null,
   "id": "cf6e0243-c86d-47de-817e-f72ad210a996",
   "metadata": {},
   "outputs": [],
   "source": [
    "scls_dist_df_bmort_test_new_scls_0008 = scls_dist_df_bmort_test_new_scls.loc[scls_dist_df_bmort_test_new_scls['inst_tag'].isin(['0014','0111'])]\n",
    "sns.barplot(x='new_size_class', y='density', hue='Group', data=scls_dist_df_bmort_test_new_scls_0008, linewidth=2.5)\n",
    "\n",
    "# Adding titles and labels\n",
    "plt.title('Conifer size class distribution 1869 \\n Ensemble member 0014')\n",
    "plt.xlabel('Size Class [cm dbh]')\n",
    "plt.ylabel('Density [N ha-1]')\n",
    "plt.ylim(0, 120)\n",
    "\n",
    "# Adding a legend if not automatically included\n",
    "plt.legend(title='Treatment')\n",
    "\n",
    "# Display the plot\n",
    "plt.show()"
   ]
  },
  {
   "cell_type": "code",
   "execution_count": null,
   "id": "4d9e1536-5b6b-4b1a-bbf6-eb366c8d74f5",
   "metadata": {},
   "outputs": [],
   "source": [
    "scls_dist_df_bmort_test_new_scls_0008 = scls_dist_df_bmort_test_new_scls.loc[scls_dist_df_bmort_test_new_scls['inst_tag'].isin(['0033','0118'])]\n",
    "sns.barplot(x='new_size_class', y='density', hue='Group', data=scls_dist_df_bmort_test_new_scls_0008, linewidth=2.5)\n",
    "\n",
    "# Adding titles and labels\n",
    "plt.title('Conifer size class distribution 1869 \\n Ensemble member 0033')\n",
    "plt.xlabel('Size Class [cm dbh]')\n",
    "plt.ylabel('Density [N ha-1]')\n",
    "plt.ylim(0, 120)\n",
    "\n",
    "# Adding a legend if not automatically included\n",
    "plt.legend(title='Treatment')\n",
    "\n",
    "# Display the plot\n",
    "plt.show()"
   ]
  },
  {
   "cell_type": "markdown",
   "id": "ebb51a41-1562-44a4-9115-bf634f8afbe6",
   "metadata": {},
   "source": [
    "## Effect of vcmax on GPP, NPP\n",
    "\n",
    "Could also alter leaf nitrogen per area and leaf lifespan.\n",
    "\n",
    "We were probably forced to choose parameters that had very high NPP previously because they were the only ones that could produce large trees."
   ]
  },
  {
   "cell_type": "code",
   "execution_count": null,
   "id": "15d7ef71-eb63-44da-8f71-36ddf452ce18",
   "metadata": {},
   "outputs": [],
   "source": [
    "vcmax_control_0002 = esm_tools.load_fates_output_data(model_output_root=output_root,\n",
    "                                                 case_name='CZ2_equilibrium_040924_-17e2acb6a_FATES-1449c787',\n",
    "                                                 years = list(range(1869,1870)),\n",
    "                                                 fields=fields,\n",
    "                                                 inst_tag='0002')\n",
    "vcmax_control_0008 = esm_tools.load_fates_output_data(model_output_root=output_root,\n",
    "                                                 case_name='CZ2_equilibrium_040924_-17e2acb6a_FATES-1449c787',\n",
    "                                                 years = list(range(1869,1870)),\n",
    "                                                 fields=fields,\n",
    "                                                 inst_tag='0008')\n",
    "vcmax_test_0002 = esm_tools.load_fates_output_data(model_output_root=output_root,\n",
    "                                                 case_name='CZ2_equilibrium_040924_-17e2acb6a_FATES-1449c787',\n",
    "                                                 years = list(range(1869,1870)),\n",
    "                                                 fields=fields,\n",
    "                                                 inst_tag='0119')\n",
    "vcmax_test_0008 = esm_tools.load_fates_output_data(model_output_root=output_root,\n",
    "                                                 case_name='CZ2_equilibrium_040924_-17e2acb6a_FATES-1449c787',\n",
    "                                                 years = list(range(1869,1870)),\n",
    "                                                 fields=fields,\n",
    "                                                 inst_tag='0120')"
   ]
  },
  {
   "cell_type": "code",
   "execution_count": null,
   "id": "2041e3d0-cb3f-4315-8e83-8a2ad38121aa",
   "metadata": {},
   "outputs": [],
   "source": [
    "def get_gpp_npp_df(ds,group,inst_tag):\n",
    "    out = {'Group': group,\n",
    "           'inst_tag':inst_tag,\n",
    "           'npp':esm_tools.get_total_npp(ds),\n",
    "           'gpp':esm_tools.get_total_gpp(ds)}\n",
    "    return pd.DataFrame(out,index=[0])"
   ]
  },
  {
   "cell_type": "code",
   "execution_count": null,
   "id": "388f8756-77ac-4451-a3fb-e16a670c86e4",
   "metadata": {},
   "outputs": [],
   "source": [
    "npp_obs = {'Group':['obs'] * 4, 'inst_tag':[None] * 4, 'npp': [0.636,0.675,0.54,0.42], 'gpp':[1.35,1.4,1.08,None]}\n",
    "pd.DataFrame(npp_obs)"
   ]
  },
  {
   "cell_type": "code",
   "execution_count": null,
   "id": "3d57c75d-58da-4f59-8168-1a063a720ba7",
   "metadata": {},
   "outputs": [],
   "source": [
    "vcmax_test_data_0002 = pd.concat([get_gpp_npp_df(vcmax_control_0002,group = \"control\",inst_tag = \"0002\"),\n",
    "                                  pd.DataFrame(npp_obs),\n",
    "           #get_gpp_npp_df(vcmax_control_0008,group = \"control\",inst_tag = \"0008\"),\n",
    "           get_gpp_npp_df(vcmax_test_0002,group = \"test\",inst_tag = \"0002\")])#,\n",
    "           #get_gpp_npp_df(vcmax_test_0008,group = \"test\",inst_tag = \"0008\")])\n",
    "\n",
    "vcmax_test_data_0008 = pd.concat([get_gpp_npp_df(vcmax_control_0008,group = \"control\",inst_tag = \"0008\"),\n",
    "                                  pd.DataFrame(npp_obs),\n",
    "           #get_gpp_npp_df(vcmax_control_0008,group = \"control\",inst_tag = \"0008\"),\n",
    "           #get_gpp_npp_df(vcmax_test_0002,group = \"test\",inst_tag = \"0002\")])#,\n",
    "           get_gpp_npp_df(vcmax_test_0008,group = \"test\",inst_tag = \"0008\")])"
   ]
  },
  {
   "cell_type": "code",
   "execution_count": null,
   "id": "fddf2137-e2b2-4f11-bdbf-ef6e528c6dd2",
   "metadata": {},
   "outputs": [],
   "source": [
    "import matplotlib.pyplot as plt\n",
    "import seaborn as sns\n",
    "\n",
    "# Data assumed to be in 'vcmax_test_data_0002'\n",
    "# Ensure your DataFrame is loaded and named appropriately\n",
    "\n",
    "# Create a figure and a set of subplots\n",
    "fig, axs = plt.subplots(1, 2, figsize=(12, 6), sharey=True)  # 1 row, 2 columns, share y-axis\n",
    "\n",
    "# First subplot for NPP\n",
    "sns.barplot(x='Group', y='gpp', hue='Group', data=vcmax_test_data_0002, linewidth=2.5, ax=axs[0])\n",
    "axs[0].set_title('Effect of lowering vcmax to 70% of control \\n Ensemble member 0002 - GPP')\n",
    "axs[0].set_xlabel('Group')\n",
    "axs[0].set_ylabel('GPP [g C m-2 yr-1]')\n",
    "axs[0].legend(title='Treatment')\n",
    "\n",
    "# Second subplot for GPP\n",
    "sns.barplot(x='Group', y='npp', hue='Group', data=vcmax_test_data_0002, linewidth=2.5, ax=axs[1])\n",
    "axs[1].set_title('Effect of lowering vcmax to 70% of control \\n Ensemble member 0002 - NPP')\n",
    "axs[1].set_xlabel('Group')\n",
    "axs[1].set_ylabel('NPP [g C m-2 yr-1]')\n",
    "axs[1].legend(title='Treatment')\n",
    "\n",
    "# Adjust layout\n",
    "plt.tight_layout()\n",
    "\n",
    "# Display the plot\n",
    "plt.show()\n"
   ]
  },
  {
   "cell_type": "code",
   "execution_count": null,
   "id": "476057d9-fc54-49ca-bbb6-6474b36a7427",
   "metadata": {},
   "outputs": [],
   "source": [
    "import matplotlib.pyplot as plt\n",
    "import seaborn as sns\n",
    "\n",
    "# Data assumed to be in 'vcmax_test_data_0002'\n",
    "# Ensure your DataFrame is loaded and named appropriately\n",
    "\n",
    "# Create a figure and a set of subplots\n",
    "fig, axs = plt.subplots(1, 2, figsize=(12, 6), sharey=True)  # 1 row, 2 columns, share y-axis\n",
    "\n",
    "# First subplot for NPP\n",
    "sns.barplot(x='Group', y='gpp', hue='Group', data=vcmax_test_data_0008, linewidth=2.5, ax=axs[0])\n",
    "axs[0].set_title('Effect of lowering vcmax to 70% of control \\n Ensemble member 0008 - GPP')\n",
    "axs[0].set_xlabel('Group')\n",
    "axs[0].set_ylabel('GPP [g C m-2 yr-1]')\n",
    "axs[0].legend(title='Treatment')\n",
    "\n",
    "# Second subplot for GPP\n",
    "sns.barplot(x='Group', y='npp', hue='Group', data=vcmax_test_data_0008, linewidth=2.5, ax=axs[1])\n",
    "axs[1].set_title('Effect of lowering vcmax to 70% of control \\n Ensemble member 0008 - NPP')\n",
    "axs[1].set_xlabel('Group')\n",
    "axs[1].set_ylabel('NPP [g C m-2 yr-1]')\n",
    "axs[1].legend(title='Treatment')\n",
    "\n",
    "# Adjust layout\n",
    "plt.tight_layout()\n",
    "\n",
    "# Display the plot\n",
    "plt.show()"
   ]
  },
  {
   "cell_type": "markdown",
   "id": "b1307a7b-7d7c-447c-865e-97059b951d4d",
   "metadata": {},
   "source": [
    "## Lowering VCmax makes it a bit harder for the forest to grow up\n",
    "\n",
    "Many of these instances of conifers dying out with lower vcmax values. But we could lower the lower boundaries of vcmax in the next lhs. Also, this might not be an issue. I can check with the last equilibrium ensemble to see if npp and gpp was low in any simulations."
   ]
  },
  {
   "cell_type": "code",
   "execution_count": null,
   "id": "3b802f51-d0cf-472c-9be2-6a3f55055f6e",
   "metadata": {},
   "outputs": [],
   "source": [
    "f1869_scls_dist_low_vcmax = esm_tools.get_size_class_distribution(case_name='CZ2_equilibrium_040924_-17e2acb6a_FATES-1449c787',\n",
    "                                      years = list(range(1869,1870)),\n",
    "                                      model_output_root=output_root, tag_numbers=list(range(119,129)))"
   ]
  },
  {
   "cell_type": "code",
   "execution_count": null,
   "id": "eaca4f04-d0ae-4c9a-9e9f-9f313c5045e1",
   "metadata": {},
   "outputs": [],
   "source": [
    "bug_fix_1869_scls_dist['Group'] = 'control'\n",
    "f1869_scls_dist_low_vcmax['Group'] = 'test'\n",
    "vcmax_scls_data = pd.concat([bug_fix_1869_scls_dist,f1869_scls_dist_low_vcmax],axis=0)\n",
    "\n",
    "bins = [5, 20, 40, 60, 80, 100, 120, float('inf')]\n",
    "labels = ['5-20', '20-40', '40-60', '60-80', '80-100', '100-120', '>120']\n",
    "\n",
    "# Create a new column for binned size classes\n",
    "vcmax_scls_data['new_size_class'] = pd.cut(vcmax_scls_data['size_class'], bins=bins, labels=labels, right=False, include_lowest=True)\n",
    "vcmax_scls_data = vcmax_scls_data.groupby(['Group','inst_tag','new_size_class']).sum()['density'].reset_index()"
   ]
  },
  {
   "cell_type": "code",
   "execution_count": null,
   "id": "8b972bc5-9764-4579-af3c-c64d959456fd",
   "metadata": {},
   "outputs": [],
   "source": [
    "vcmax_scls_data.groupby(['Group','new_size_class']).mean()['density']"
   ]
  },
  {
   "cell_type": "code",
   "execution_count": null,
   "id": "b978d871-afdb-4008-a989-76cddadd17d1",
   "metadata": {},
   "outputs": [],
   "source": [
    "sns.boxplot(x='new_size_class', y='density', hue='Group', data=vcmax_scls_data , linewidth=2.5)\n",
    "\n",
    "# Adding titles and labels\n",
    "plt.title('Conifer size class distribution 1869')\n",
    "plt.xlabel('Size Class [cm dbh]')\n",
    "plt.ylabel('Density [N ha-1]')\n",
    "plt.ylim(0, 150)\n",
    "\n",
    "# Adding a legend if not automatically included\n",
    "plt.legend(title='Treatment')\n",
    "\n",
    "# Display the plot\n",
    "plt.show()"
   ]
  },
  {
   "cell_type": "markdown",
   "id": "25609186-8457-4dab-b1d4-ed691354bb64",
   "metadata": {},
   "source": [
    "## Checking on equilibrium\n",
    "\n",
    "The members I checked did reach an equilbrium, but given that they both have high NPP, for the next round of simulations I want to run for 700 years to be sure."
   ]
  },
  {
   "cell_type": "code",
   "execution_count": null,
   "id": "9622eeb5-821f-4760-8c1e-7259aafef105",
   "metadata": {},
   "outputs": [],
   "source": [
    "import xarray as xr\n",
    "import glob\n",
    "\n",
    "def load_dataset(directory, pattern, concat_dim):\n",
    "    \"\"\"\n",
    "    Load multiple netCDF files from a specified directory that match a given pattern into a single xarray dataset.\n",
    "\n",
    "    Parameters:\n",
    "        directory (str): Directory to search for files.\n",
    "        pattern (str): Pattern to match files. Example: '*.nc' for all netCDF files.\n",
    "        concat_dim (str): Dimension along which to concatenate the files (commonly 'time').\n",
    "\n",
    "    Returns:\n",
    "        xr.Dataset: Combined dataset from all matched files.\n",
    "    \"\"\"\n",
    "    # Build the file path pattern\n",
    "    file_pattern = f\"{directory}/{pattern}\"\n",
    "    \n",
    "    # List all files matching the pattern\n",
    "    files = glob.glob(file_pattern)\n",
    "    #print(files)\n",
    "    \n",
    "    # Check if any files were found\n",
    "    if not files:\n",
    "        raise FileNotFoundError(f\"No files found for pattern {file_pattern}\")\n",
    "    \n",
    "    # Load and concatenate the datasets\n",
    "    dataset = xr.open_mfdataset(files)\n",
    "    \n",
    "    return dataset"
   ]
  },
  {
   "cell_type": "markdown",
   "id": "d2b2089c-d8e6-4ed4-ac65-3ef5e2842de2",
   "metadata": {},
   "source": [
    "## Equilibrium 0002"
   ]
  },
  {
   "cell_type": "code",
   "execution_count": null,
   "id": "ef5ec2dd-f573-4c9f-8034-3e37efca3f1a",
   "metadata": {},
   "outputs": [],
   "source": [
    "inst_0002_1475_1865 = load_dataset(os.path.join(output_root,'CZ2_equilibrium_040924_-17e2acb6a_FATES-1449c787/lnd/hist'),pattern=\"*0002*\",concat_dim=\"time\")\n",
    "inst_0002_1475_1865['FATES_VEGC_ABOVEGROUND'].plot()\n",
    "plt.show()"
   ]
  },
  {
   "cell_type": "markdown",
   "id": "af48544f-bec8-4c96-a8e9-2950183523c0",
   "metadata": {},
   "source": [
    "## Equilibrium 0008"
   ]
  },
  {
   "cell_type": "code",
   "execution_count": null,
   "id": "112681cd-7b18-46e6-ae7a-d6ad3ff3aff7",
   "metadata": {},
   "outputs": [
    {
     "data": {
      "text/plain": [
       "[<matplotlib.lines.Line2D at 0x7a45241a0b20>]"
      ]
     },
     "execution_count": 24,
     "metadata": {},
     "output_type": "execute_result"
    },
    {
     "data": {
      "image/png": "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\n",
      "text/plain": [
       "<Figure size 640x480 with 1 Axes>"
      ]
     },
     "metadata": {},
     "output_type": "display_data"
    }
   ],
>>>>>>> bc5c5b9ccbf7a723fcd27a46ffbd1a4c850b3b55
   "source": [
    "inst_0008_1475_1865 = load_dataset(os.path.join(output_root,'CZ2_equilibrium_040924_-17e2acb6a_FATES-1449c787/lnd/hist'),pattern=\"*0008*\",concat_dim=\"time\")\n",
    "inst_0008_1475_1865['FATES_VEGC_ABOVEGROUND'].plot()"
   ]
  },
  {
   "cell_type": "markdown",
   "id": "35c7e03a-e4ff-4919-8c2a-93d6ba9a2146",
   "metadata": {},
   "source": [
    "## Looking to see if more basal area is still shifting to larger size classes"
   ]
  },
  {
   "cell_type": "code",
   "execution_count": 25,
   "id": "7ceca84b-5f42-4c1a-9785-ec3a526e52de",
   "metadata": {},
   "outputs": [],
   "source": [
    "xarr = esm_tools.scpf_to_scls_by_pft(inst_0008_1475_1865['FATES_BASALAREA_SZPF'], inst_0008_1475_1865).\\\n",
    "       sel(fates_levpft = slice(0,3)).sum(dim = 'fates_levpft').sel(fates_levscls = slice(80,None)).sum(dim = \"fates_levscls\").\\\n",
    "       isel(lndgrid = 0) * m2_per_ha\n",
    "\n",
    "xarr.plot(x = \"time\")\n",
    "plt.show()"
   ]
  },
  {
   "cell_type": "code",
   "execution_count": 26,
   "id": "6dc88937-f20f-41c3-bf25-41878c879c9b",
   "metadata": {},
   "outputs": [],
   "source": [
    "xarr = esm_tools.scpf_to_scls_by_pft(inst_0002_1475_1865['FATES_BASALAREA_SZPF'], inst_0002_1475_1865).\\\n",
    "       sel(fates_levpft = slice(0,3)).sum(dim = 'fates_levpft').sel(fates_levscls = slice(80,None)).sum(dim = \"fates_levscls\").\\\n",
    "       isel(lndgrid = 0) * m2_per_ha\n",
    "\n",
    "xarr.plot(x = \"time\")\n",
    "plt.show()"
   ]
  }
 ],
 "metadata": {
  "kernelspec": {
   "display_name": "env4_work",
   "language": "python",
   "name": "env4_work"
  },
  "language_info": {
   "codemirror_mode": {
    "name": "ipython",
    "version": 3
   },
   "file_extension": ".py",
   "mimetype": "text/x-python",
   "name": "python",
   "nbconvert_exporter": "python",
   "pygments_lexer": "ipython3",
   "version": "3.8.13"
  }
 },
 "nbformat": 4,
 "nbformat_minor": 5
}
