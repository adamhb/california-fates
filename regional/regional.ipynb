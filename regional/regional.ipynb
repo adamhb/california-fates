{
 "cells": [
  {
   "cell_type": "code",
   "execution_count": 1,
   "id": "3f70e35d",
   "metadata": {},
   "outputs": [],
   "source": [
    "import xarray as xr\n",
    "import matplotlib.pyplot as plt\n",
    "import cartopy.crs as ccrs\n",
    "from cartopy.feature import NaturalEarthFeature, LAND, COASTLINE\n",
    "import numpy as np\n",
    "import geopandas as gpd\n",
    "from shapely.geometry import Point\n",
    "import pandas as pd\n",
    "import pygeos"
   ]
  },
  {
   "cell_type": "markdown",
   "id": "4a6e3b87",
   "metadata": {},
   "source": [
    "## Load target domain"
   ]
  },
  {
   "cell_type": "code",
   "execution_count": 2,
   "id": "1cc76c19",
   "metadata": {},
   "outputs": [
    {
     "name": "stdout",
     "output_type": "stream",
     "text": [
      "EPSG:4326\n"
     ]
    },
    {
     "data": {
      "image/png": "[encoded data removed]",
      "text/plain": [
       "<Figure size 640x480 with 1 Axes>"
      ]
     },
     "metadata": {},
     "output_type": "display_data"
    }
   ],
   "source": [
    "path_to_ca = '/home/adam/cloud/gdrive/fire_project/local_data/ca-state-boundary/CA_State_TIGER2016.shp'\n",
    "target_domain = gpd.read_file(\"target_domain_111623.shp\")\n",
    "target_domain.plot()\n",
    "print(target_domain.crs)"
   ]
  },
  {
   "cell_type": "markdown",
   "id": "f86ac4c2",
   "metadata": {},
   "source": [
    "## Load template data"
   ]
  },
  {
   "cell_type": "code",
   "execution_count": 3,
   "id": "080547e8",
   "metadata": {},
   "outputs": [],
   "source": [
    "mesh = xr.open_dataset('wrf_CA_unstruct.nc')\n",
    "mask = xr.open_dataset('oakgrass-strip.nc')"
   ]
  },
  {
   "cell_type": "code",
   "execution_count": 4,
   "id": "e860dcf5",
   "metadata": {},
   "outputs": [
    {
     "data": {
      "text/html": [
       "<div><svg style=\"position: absolute; width: 0; height: 0; overflow: hidden\">\n",
       "<defs>\n",
       "<symbol id=\"icon-database\" viewBox=\"0 0 32 32\">\n",
       "<path d=\"M16 0c-8.837 0-16 2.239-16 5v4c0 2.761 7.163 5 16 5s16-2.239 16-5v-4c0-2.761-7.163-5-16-5z\"></path>\n",
       "<path d=\"M16 17c-8.837 0-16-2.239-16-5v6c0 2.761 7.163 5 16 5s16-2.239 16-5v-6c0 2.761-7.163 5-16 5z\"></path>\n",
       "<path d=\"M16 26c-8.837 0-16-2.239-16-5v6c0 2.761 7.163 5 16 5s16-2.239 16-5v-6c0 2.761-7.163 5-16 5z\"></path>\n",
       "</symbol>\n",
       "<symbol id=\"icon-file-text2\" viewBox=\"0 0 32 32\">\n",
       "<path d=\"M28.681 7.159c-0.694-0.947-1.662-2.053-2.724-3.116s-2.169-2.030-3.116-2.724c-1.612-1.182-2.393-1.319-2.841-1.319h-15.5c-1.378 0-2.5 1.121-2.5 2.5v27c0 1.378 1.122 2.5 2.5 2.5h23c1.378 0 2.5-1.122 2.5-2.5v-19.5c0-0.448-0.137-1.23-1.319-2.841zM24.543 5.457c0.959 0.959 1.712 1.825 2.268 2.543h-4.811v-4.811c0.718 0.556 1.584 1.309 2.543 2.268zM28 29.5c0 0.271-0.229 0.5-0.5 0.5h-23c-0.271 0-0.5-0.229-0.5-0.5v-27c0-0.271 0.229-0.5 0.5-0.5 0 0 15.499-0 15.5 0v7c0 0.552 0.448 1 1 1h7v19.5z\"></path>\n",
       "<path d=\"M23 26h-14c-0.552 0-1-0.448-1-1s0.448-1 1-1h14c0.552 0 1 0.448 1 1s-0.448 1-1 1z\"></path>\n",
       "<path d=\"M23 22h-14c-0.552 0-1-0.448-1-1s0.448-1 1-1h14c0.552 0 1 0.448 1 1s-0.448 1-1 1z\"></path>\n",
       "<path d=\"M23 18h-14c-0.552 0-1-0.448-1-1s0.448-1 1-1h14c0.552 0 1 0.448 1 1s-0.448 1-1 1z\"></path>\n",
       "</symbol>\n",
       "</defs>\n",
       "</svg>\n",
       "<style>/* CSS stylesheet for displaying xarray objects in jupyterlab.\n",
       " *\n",
       " */\n",
       "\n",
       ":root {\n",
       "  --xr-font-color0: var(--jp-content-font-color0, rgba(0, 0, 0, 1));\n",
       "  --xr-font-color2: var(--jp-content-font-color2, rgba(0, 0, 0, 0.54));\n",
       "  --xr-font-color3: var(--jp-content-font-color3, rgba(0, 0, 0, 0.38));\n",
       "  --xr-border-color: var(--jp-border-color2, #e0e0e0);\n",
       "  --xr-disabled-color: var(--jp-layout-color3, #bdbdbd);\n",
       "  --xr-background-color: var(--jp-layout-color0, white);\n",
       "  --xr-background-color-row-even: var(--jp-layout-color1, white);\n",
       "  --xr-background-color-row-odd: var(--jp-layout-color2, #eeeeee);\n",
       "}\n",
       "\n",
       "html[theme=dark],\n",
       "body[data-theme=dark],\n",
       "body.vscode-dark {\n",
       "  --xr-font-color0: rgba(255, 255, 255, 1);\n",
       "  --xr-font-color2: rgba(255, 255, 255, 0.54);\n",
       "  --xr-font-color3: rgba(255, 255, 255, 0.38);\n",
       "  --xr-border-color: #1F1F1F;\n",
       "  --xr-disabled-color: #515151;\n",
       "  --xr-background-color: #111111;\n",
       "  --xr-background-color-row-even: #111111;\n",
       "  --xr-background-color-row-odd: #313131;\n",
       "}\n",
       "\n",
       ".xr-wrap {\n",
       "  display: block !important;\n",
       "  min-width: 300px;\n",
       "  max-width: 700px;\n",
       "}\n",
       "\n",
       ".xr-text-repr-fallback {\n",
       "  /* fallback to plain text repr when CSS is not injected (untrusted notebook) */\n",
       "  display: none;\n",
       "}\n",
       "\n",
       ".xr-header {\n",
       "  padding-top: 6px;\n",
       "  padding-bottom: 6px;\n",
       "  margin-bottom: 4px;\n",
       "  border-bottom: solid 1px var(--xr-border-color);\n",
       "}\n",
       "\n",
       ".xr-header > div,\n",
       ".xr-header > ul {\n",
       "  display: inline;\n",
       "  margin-top: 0;\n",
       "  margin-bottom: 0;\n",
       "}\n",
       "\n",
       ".xr-obj-type,\n",
       ".xr-array-name {\n",
       "  margin-left: 2px;\n",
       "  margin-right: 10px;\n",
       "}\n",
       "\n",
       ".xr-obj-type {\n",
       "  color: var(--xr-font-color2);\n",
       "}\n",
       "\n",
       ".xr-sections {\n",
       "  padding-left: 0 !important;\n",
       "  display: grid;\n",
       "  grid-template-columns: 150px auto auto 1fr 20px 20px;\n",
       "}\n",
       "\n",
       ".xr-section-item {\n",
       "  display: contents;\n",
       "}\n",
       "\n",
       ".xr-section-item input {\n",
       "  display: none;\n",
       "}\n",
       "\n",
       ".xr-section-item input + label {\n",
       "  color: var(--xr-disabled-color);\n",
       "}\n",
       "\n",
       ".xr-section-item input:enabled + label {\n",
       "  cursor: pointer;\n",
       "  color: var(--xr-font-color2);\n",
       "}\n",
       "\n",
       ".xr-section-item input:enabled + label:hover {\n",
       "  color: var(--xr-font-color0);\n",
       "}\n",
       "\n",
       ".xr-section-summary {\n",
       "  grid-column: 1;\n",
       "  color: var(--xr-font-color2);\n",
       "  font-weight: 500;\n",
       "}\n",
       "\n",
       ".xr-section-summary > span {\n",
       "  display: inline-block;\n",
       "  padding-left: 0.5em;\n",
       "}\n",
       "\n",
       ".xr-section-summary-in:disabled + label {\n",
       "  color: var(--xr-font-color2);\n",
       "}\n",
       "\n",
       ".xr-section-summary-in + label:before {\n",
       "  display: inline-block;\n",
       "  content: '►';\n",
       "  font-size: 11px;\n",
       "  width: 15px;\n",
       "  text-align: center;\n",
       "}\n",
       "\n",
       ".xr-section-summary-in:disabled + label:before {\n",
       "  color: var(--xr-disabled-color);\n",
       "}\n",
       "\n",
       ".xr-section-summary-in:checked + label:before {\n",
       "  content: '▼';\n",
       "}\n",
       "\n",
       ".xr-section-summary-in:checked + label > span {\n",
       "  display: none;\n",
       "}\n",
       "\n",
       ".xr-section-summary,\n",
       ".xr-section-inline-details {\n",
       "  padding-top: 4px;\n",
       "  padding-bottom: 4px;\n",
       "}\n",
       "\n",
       ".xr-section-inline-details {\n",
       "  grid-column: 2 / -1;\n",
       "}\n",
       "\n",
       ".xr-section-details {\n",
       "  display: none;\n",
       "  grid-column: 1 / -1;\n",
       "  margin-bottom: 5px;\n",
       "}\n",
       "\n",
       ".xr-section-summary-in:checked ~ .xr-section-details {\n",
       "  display: contents;\n",
       "}\n",
       "\n",
       ".xr-array-wrap {\n",
       "  grid-column: 1 / -1;\n",
       "  display: grid;\n",
       "  grid-template-columns: 20px auto;\n",
       "}\n",
       "\n",
       ".xr-array-wrap > label {\n",
       "  grid-column: 1;\n",
       "  vertical-align: top;\n",
       "}\n",
       "\n",
       ".xr-preview {\n",
       "  color: var(--xr-font-color3);\n",
       "}\n",
       "\n",
       ".xr-array-preview,\n",
       ".xr-array-data {\n",
       "  padding: 0 5px !important;\n",
       "  grid-column: 2;\n",
       "}\n",
       "\n",
       ".xr-array-data,\n",
       ".xr-array-in:checked ~ .xr-array-preview {\n",
       "  display: none;\n",
       "}\n",
       "\n",
       ".xr-array-in:checked ~ .xr-array-data,\n",
       ".xr-array-preview {\n",
       "  display: inline-block;\n",
       "}\n",
       "\n",
       ".xr-dim-list {\n",
       "  display: inline-block !important;\n",
       "  list-style: none;\n",
       "  padding: 0 !important;\n",
       "  margin: 0;\n",
       "}\n",
       "\n",
       ".xr-dim-list li {\n",
       "  display: inline-block;\n",
       "  padding: 0;\n",
       "  margin: 0;\n",
       "}\n",
       "\n",
       ".xr-dim-list:before {\n",
       "  content: '(';\n",
       "}\n",
       "\n",
       ".xr-dim-list:after {\n",
       "  content: ')';\n",
       "}\n",
       "\n",
       ".xr-dim-list li:not(:last-child):after {\n",
       "  content: ',';\n",
       "  padding-right: 5px;\n",
       "}\n",
       "\n",
       ".xr-has-index {\n",
       "  font-weight: bold;\n",
       "}\n",
       "\n",
       ".xr-var-list,\n",
       ".xr-var-item {\n",
       "  display: contents;\n",
       "}\n",
       "\n",
       ".xr-var-item > div,\n",
       ".xr-var-item label,\n",
       ".xr-var-item > .xr-var-name span {\n",
       "  background-color: var(--xr-background-color-row-even);\n",
       "  margin-bottom: 0;\n",
       "}\n",
       "\n",
       ".xr-var-item > .xr-var-name:hover span {\n",
       "  padding-right: 5px;\n",
       "}\n",
       "\n",
       ".xr-var-list > li:nth-child(odd) > div,\n",
       ".xr-var-list > li:nth-child(odd) > label,\n",
       ".xr-var-list > li:nth-child(odd) > .xr-var-name span {\n",
       "  background-color: var(--xr-background-color-row-odd);\n",
       "}\n",
       "\n",
       ".xr-var-name {\n",
       "  grid-column: 1;\n",
       "}\n",
       "\n",
       ".xr-var-dims {\n",
       "  grid-column: 2;\n",
       "}\n",
       "\n",
       ".xr-var-dtype {\n",
       "  grid-column: 3;\n",
       "  text-align: right;\n",
       "  color: var(--xr-font-color2);\n",
       "}\n",
       "\n",
       ".xr-var-preview {\n",
       "  grid-column: 4;\n",
       "}\n",
       "\n",
       ".xr-index-preview {\n",
       "  grid-column: 2 / 5;\n",
       "  color: var(--xr-font-color2);\n",
       "}\n",
       "\n",
       ".xr-var-name,\n",
       ".xr-var-dims,\n",
       ".xr-var-dtype,\n",
       ".xr-preview,\n",
       ".xr-attrs dt {\n",
       "  white-space: nowrap;\n",
       "  overflow: hidden;\n",
       "  text-overflow: ellipsis;\n",
       "  padding-right: 10px;\n",
       "}\n",
       "\n",
       ".xr-var-name:hover,\n",
       ".xr-var-dims:hover,\n",
       ".xr-var-dtype:hover,\n",
       ".xr-attrs dt:hover {\n",
       "  overflow: visible;\n",
       "  width: auto;\n",
       "  z-index: 1;\n",
       "}\n",
       "\n",
       ".xr-var-attrs,\n",
       ".xr-var-data,\n",
       ".xr-index-data {\n",
       "  display: none;\n",
       "  background-color: var(--xr-background-color) !important;\n",
       "  padding-bottom: 5px !important;\n",
       "}\n",
       "\n",
       ".xr-var-attrs-in:checked ~ .xr-var-attrs,\n",
       ".xr-var-data-in:checked ~ .xr-var-data,\n",
       ".xr-index-data-in:checked ~ .xr-index-data {\n",
       "  display: block;\n",
       "}\n",
       "\n",
       ".xr-var-data > table {\n",
       "  float: right;\n",
       "}\n",
       "\n",
       ".xr-var-name span,\n",
       ".xr-var-data,\n",
       ".xr-index-name div,\n",
       ".xr-index-data,\n",
       ".xr-attrs {\n",
       "  padding-left: 25px !important;\n",
       "}\n",
       "\n",
       ".xr-attrs,\n",
       ".xr-var-attrs,\n",
       ".xr-var-data,\n",
       ".xr-index-data {\n",
       "  grid-column: 1 / -1;\n",
       "}\n",
       "\n",
       "dl.xr-attrs {\n",
       "  padding: 0;\n",
       "  margin: 0;\n",
       "  display: grid;\n",
       "  grid-template-columns: 125px auto;\n",
       "}\n",
       "\n",
       ".xr-attrs dt,\n",
       ".xr-attrs dd {\n",
       "  padding: 0;\n",
       "  margin: 0;\n",
       "  float: left;\n",
       "  padding-right: 10px;\n",
       "  width: auto;\n",
       "}\n",
       "\n",
       ".xr-attrs dt {\n",
       "  font-weight: normal;\n",
       "  grid-column: 1;\n",
       "}\n",
       "\n",
       ".xr-attrs dt:hover span {\n",
       "  display: inline-block;\n",
       "  background: var(--xr-background-color);\n",
       "  padding-right: 10px;\n",
       "}\n",
       "\n",
       ".xr-attrs dd {\n",
       "  grid-column: 2;\n",
       "  white-space: pre-wrap;\n",
       "  word-break: break-all;\n",
       "}\n",
       "\n",
       ".xr-icon-database,\n",
       ".xr-icon-file-text2,\n",
       ".xr-no-icon {\n",
       "  display: inline-block;\n",
       "  vertical-align: middle;\n",
       "  width: 1em;\n",
       "  height: 1.5em !important;\n",
       "  stroke-width: 0;\n",
       "  stroke: currentColor;\n",
       "  fill: currentColor;\n",
       "}\n",
       "</style><pre class='xr-text-repr-fallback'>&lt;xarray.Dataset&gt;\n",
       "Dimensions:         (origGridRank: 2, nodeCount: 22496, coordDim: 2,\n",
       "                     elementCount: 22197, maxNodePElement: 4)\n",
       "Dimensions without coordinates: origGridRank, nodeCount, coordDim,\n",
       "                                elementCount, maxNodePElement\n",
       "Data variables:\n",
       "    origGridDims    (origGridRank) int32 ...\n",
       "    nodeCoords      (nodeCount, coordDim) float64 ...\n",
       "    elementConn     (elementCount, maxNodePElement) float64 ...\n",
       "    numElementConn  (elementCount) int32 ...\n",
       "    centerCoords    (elementCount, coordDim) float64 ...\n",
       "    elementArea     (elementCount) float64 ...\n",
       "    elementMask     (elementCount) int32 ...\n",
       "Attributes:\n",
       "    gridType:       unstructured mesh\n",
       "    version:        0.9\n",
       "    inputFile:      wrf_CA_scrip.nc\n",
       "    timeGenerated:  Tue Jun 28 21:52:15 2022</pre><div class='xr-wrap' style='display:none'><div class='xr-header'><div class='xr-obj-type'>xarray.Dataset</div></div><ul class='xr-sections'><li class='xr-section-item'><input id='section-41669024-7908-47d6-b9a9-f056b2acebec' class='xr-section-summary-in' type='checkbox' disabled ><label for='section-41669024-7908-47d6-b9a9-f056b2acebec' class='xr-section-summary'  title='Expand/collapse section'>Dimensions:</label><div class='xr-section-inline-details'><ul class='xr-dim-list'><li><span>origGridRank</span>: 2</li><li><span>nodeCount</span>: 22496</li><li><span>coordDim</span>: 2</li><li><span>elementCount</span>: 22197</li><li><span>maxNodePElement</span>: 4</li></ul></div><div class='xr-section-details'></div></li><li class='xr-section-item'><input id='section-e0610ee3-152f-4bd6-83a0-37071c0e6fcf' class='xr-section-summary-in' type='checkbox' disabled ><label for='section-e0610ee3-152f-4bd6-83a0-37071c0e6fcf' class='xr-section-summary'  title='Expand/collapse section'>Coordinates: <span>(0)</span></label><div class='xr-section-inline-details'></div><div class='xr-section-details'><ul class='xr-var-list'></ul></div></li><li class='xr-section-item'><input id='section-e99c205e-f471-43f3-a63a-465441dd6bc1' class='xr-section-summary-in' type='checkbox'  checked><label for='section-e99c205e-f471-43f3-a63a-465441dd6bc1' class='xr-section-summary' >Data variables: <span>(7)</span></label><div class='xr-section-inline-details'></div><div class='xr-section-details'><ul class='xr-var-list'><li class='xr-var-item'><div class='xr-var-name'><span>origGridDims</span></div><div class='xr-var-dims'>(origGridRank)</div><div class='xr-var-dtype'>int32</div><div class='xr-var-preview xr-preview'>...</div><input id='attrs-ac808b3e-5ba0-4c43-bfcb-d5b10d88bb0f' class='xr-var-attrs-in' type='checkbox' disabled><label for='attrs-ac808b3e-5ba0-4c43-bfcb-d5b10d88bb0f' title='Show/Hide attributes'><svg class='icon xr-icon-file-text2'><use xlink:href='#icon-file-text2'></use></svg></label><input id='data-b1750c0e-6f29-4ec8-933a-d1ec2aae2c1b' class='xr-var-data-in' type='checkbox'><label for='data-b1750c0e-6f29-4ec8-933a-d1ec2aae2c1b' title='Show/Hide data repr'><svg class='icon xr-icon-database'><use xlink:href='#icon-database'></use></svg></label><div class='xr-var-attrs'><dl class='xr-attrs'></dl></div><div class='xr-var-data'><pre>[2 values with dtype=int32]</pre></div></li><li class='xr-var-item'><div class='xr-var-name'><span>nodeCoords</span></div><div class='xr-var-dims'>(nodeCount, coordDim)</div><div class='xr-var-dtype'>float64</div><div class='xr-var-preview xr-preview'>...</div><input id='attrs-81f2caa6-6f42-4a82-af58-ece216dc1439' class='xr-var-attrs-in' type='checkbox' ><label for='attrs-81f2caa6-6f42-4a82-af58-ece216dc1439' title='Show/Hide attributes'><svg class='icon xr-icon-file-text2'><use xlink:href='#icon-file-text2'></use></svg></label><input id='data-bb6133e2-5889-420a-85a4-2046fdcab070' class='xr-var-data-in' type='checkbox'><label for='data-bb6133e2-5889-420a-85a4-2046fdcab070' title='Show/Hide data repr'><svg class='icon xr-icon-database'><use xlink:href='#icon-database'></use></svg></label><div class='xr-var-attrs'><dl class='xr-attrs'><dt><span>units :</span></dt><dd>degrees</dd></dl></div><div class='xr-var-data'><pre>[44992 values with dtype=float64]</pre></div></li><li class='xr-var-item'><div class='xr-var-name'><span>elementConn</span></div><div class='xr-var-dims'>(elementCount, maxNodePElement)</div><div class='xr-var-dtype'>float64</div><div class='xr-var-preview xr-preview'>...</div><input id='attrs-0cc57822-be51-4731-99ef-5d2cd8f93b12' class='xr-var-attrs-in' type='checkbox' ><label for='attrs-0cc57822-be51-4731-99ef-5d2cd8f93b12' title='Show/Hide attributes'><svg class='icon xr-icon-file-text2'><use xlink:href='#icon-file-text2'></use></svg></label><input id='data-9dbaa148-9f2b-45d2-80c2-9705109333fa' class='xr-var-data-in' type='checkbox'><label for='data-9dbaa148-9f2b-45d2-80c2-9705109333fa' title='Show/Hide data repr'><svg class='icon xr-icon-database'><use xlink:href='#icon-database'></use></svg></label><div class='xr-var-attrs'><dl class='xr-attrs'><dt><span>long_name :</span></dt><dd>Node indices that define the element connectivity</dd></dl></div><div class='xr-var-data'><pre>[88788 values with dtype=float64]</pre></div></li><li class='xr-var-item'><div class='xr-var-name'><span>numElementConn</span></div><div class='xr-var-dims'>(elementCount)</div><div class='xr-var-dtype'>int32</div><div class='xr-var-preview xr-preview'>...</div><input id='attrs-2c1e6fac-29e4-4efd-973a-a17d65f2483a' class='xr-var-attrs-in' type='checkbox' ><label for='attrs-2c1e6fac-29e4-4efd-973a-a17d65f2483a' title='Show/Hide attributes'><svg class='icon xr-icon-file-text2'><use xlink:href='#icon-file-text2'></use></svg></label><input id='data-bc0479c0-01aa-47b8-9d60-b4e9955a3d77' class='xr-var-data-in' type='checkbox'><label for='data-bc0479c0-01aa-47b8-9d60-b4e9955a3d77' title='Show/Hide data repr'><svg class='icon xr-icon-database'><use xlink:href='#icon-database'></use></svg></label><div class='xr-var-attrs'><dl class='xr-attrs'><dt><span>long_name :</span></dt><dd>Number of nodes per element</dd></dl></div><div class='xr-var-data'><pre>[22197 values with dtype=int32]</pre></div></li><li class='xr-var-item'><div class='xr-var-name'><span>centerCoords</span></div><div class='xr-var-dims'>(elementCount, coordDim)</div><div class='xr-var-dtype'>float64</div><div class='xr-var-preview xr-preview'>...</div><input id='attrs-ccdabe41-2be8-4208-ad1f-2de37ea820de' class='xr-var-attrs-in' type='checkbox' ><label for='attrs-ccdabe41-2be8-4208-ad1f-2de37ea820de' title='Show/Hide attributes'><svg class='icon xr-icon-file-text2'><use xlink:href='#icon-file-text2'></use></svg></label><input id='data-53a4dab7-a78d-4e62-84f2-2b01a3d08069' class='xr-var-data-in' type='checkbox'><label for='data-53a4dab7-a78d-4e62-84f2-2b01a3d08069' title='Show/Hide data repr'><svg class='icon xr-icon-database'><use xlink:href='#icon-database'></use></svg></label><div class='xr-var-attrs'><dl class='xr-attrs'><dt><span>units :</span></dt><dd>degrees</dd></dl></div><div class='xr-var-data'><pre>[44394 values with dtype=float64]</pre></div></li><li class='xr-var-item'><div class='xr-var-name'><span>elementArea</span></div><div class='xr-var-dims'>(elementCount)</div><div class='xr-var-dtype'>float64</div><div class='xr-var-preview xr-preview'>...</div><input id='attrs-23f2bbb5-60e2-476a-a20e-8c89c6981160' class='xr-var-attrs-in' type='checkbox' ><label for='attrs-23f2bbb5-60e2-476a-a20e-8c89c6981160' title='Show/Hide attributes'><svg class='icon xr-icon-file-text2'><use xlink:href='#icon-file-text2'></use></svg></label><input id='data-56f241ce-48de-4fde-8e5b-b726ed20c6f9' class='xr-var-data-in' type='checkbox'><label for='data-56f241ce-48de-4fde-8e5b-b726ed20c6f9' title='Show/Hide data repr'><svg class='icon xr-icon-database'><use xlink:href='#icon-database'></use></svg></label><div class='xr-var-attrs'><dl class='xr-attrs'><dt><span>units :</span></dt><dd>steradian</dd><dt><span>long_name :</span></dt><dd>Solid Angle Subtended on Source Grid</dd></dl></div><div class='xr-var-data'><pre>[22197 values with dtype=float64]</pre></div></li><li class='xr-var-item'><div class='xr-var-name'><span>elementMask</span></div><div class='xr-var-dims'>(elementCount)</div><div class='xr-var-dtype'>int32</div><div class='xr-var-preview xr-preview'>...</div><input id='attrs-a442e810-d8af-4198-a1e5-a30b2785378c' class='xr-var-attrs-in' type='checkbox' ><label for='attrs-a442e810-d8af-4198-a1e5-a30b2785378c' title='Show/Hide attributes'><svg class='icon xr-icon-file-text2'><use xlink:href='#icon-file-text2'></use></svg></label><input id='data-218a4290-03ef-41aa-9fdc-4d13a3510f10' class='xr-var-data-in' type='checkbox'><label for='data-218a4290-03ef-41aa-9fdc-4d13a3510f10' title='Show/Hide data repr'><svg class='icon xr-icon-database'><use xlink:href='#icon-database'></use></svg></label><div class='xr-var-attrs'><dl class='xr-attrs'><dt><span>units :</span></dt><dd>none</dd></dl></div><div class='xr-var-data'><pre>[22197 values with dtype=int32]</pre></div></li></ul></div></li><li class='xr-section-item'><input id='section-7c0b4b04-2033-4fbb-8e80-8fa649d71036' class='xr-section-summary-in' type='checkbox' disabled ><label for='section-7c0b4b04-2033-4fbb-8e80-8fa649d71036' class='xr-section-summary'  title='Expand/collapse section'>Indexes: <span>(0)</span></label><div class='xr-section-inline-details'></div><div class='xr-section-details'><ul class='xr-var-list'></ul></div></li><li class='xr-section-item'><input id='section-dd6a8259-71e5-475c-8617-4efcc9501ac1' class='xr-section-summary-in' type='checkbox'  checked><label for='section-dd6a8259-71e5-475c-8617-4efcc9501ac1' class='xr-section-summary' >Attributes: <span>(4)</span></label><div class='xr-section-inline-details'></div><div class='xr-section-details'><dl class='xr-attrs'><dt><span>gridType :</span></dt><dd>unstructured mesh</dd><dt><span>version :</span></dt><dd>0.9</dd><dt><span>inputFile :</span></dt><dd>wrf_CA_scrip.nc</dd><dt><span>timeGenerated :</span></dt><dd>Tue Jun 28 21:52:15 2022</dd></dl></div></li></ul></div></div>"
      ],
      "text/plain": [
       "<xarray.Dataset>\n",
       "Dimensions:         (origGridRank: 2, nodeCount: 22496, coordDim: 2,\n",
       "                     elementCount: 22197, maxNodePElement: 4)\n",
       "Dimensions without coordinates: origGridRank, nodeCount, coordDim,\n",
       "                                elementCount, maxNodePElement\n",
       "Data variables:\n",
       "    origGridDims    (origGridRank) int32 ...\n",
       "    nodeCoords      (nodeCount, coordDim) float64 ...\n",
       "    elementConn     (elementCount, maxNodePElement) float64 ...\n",
       "    numElementConn  (elementCount) int32 ...\n",
       "    centerCoords    (elementCount, coordDim) float64 ...\n",
       "    elementArea     (elementCount) float64 ...\n",
       "    elementMask     (elementCount) int32 ...\n",
       "Attributes:\n",
       "    gridType:       unstructured mesh\n",
       "    version:        0.9\n",
       "    inputFile:      wrf_CA_scrip.nc\n",
       "    timeGenerated:  Tue Jun 28 21:52:15 2022"
      ]
     },
     "execution_count": 4,
     "metadata": {},
     "output_type": "execute_result"
    }
   ],
   "source": [
    "mesh"
   ]
  },
  {
   "cell_type": "markdown",
   "id": "e32b883e",
   "metadata": {},
   "source": [
    "## Explore template data"
   ]
  },
  {
   "cell_type": "code",
   "execution_count": 5,
   "id": "14313192",
   "metadata": {},
   "outputs": [
    {
     "name": "stdout",
     "output_type": "stream",
     "text": [
      "[0 1 2 3 4]\n"
     ]
    }
   ],
   "source": [
    "print(mask.elementCount.values[:5])"
   ]
  },
  {
   "cell_type": "code",
   "execution_count": 6,
   "id": "a618e9d7",
   "metadata": {},
   "outputs": [
    {
     "name": "stdout",
     "output_type": "stream",
     "text": [
      "origGridDims 147\n",
      "nodeCoords [-120.86460876   28.56402874]\n",
      "elementConn [1. 2. 3. 4.]\n",
      "numElementConn 4\n",
      "centerCoords [-120.85491943   28.62024307]\n",
      "elementArea 1.9724853410590253e-06\n",
      "elementMask 1\n"
     ]
    },
    {
     "data": {
      "text/plain": [
       "[None, None, None, None, None, None, None]"
      ]
     },
     "execution_count": 6,
     "metadata": {},
     "output_type": "execute_result"
    }
   ],
   "source": [
    "[print(key,mask[key].values[0]) for key in list(mask.keys())]"
   ]
  },
  {
   "cell_type": "code",
   "execution_count": 7,
   "id": "a70719c4",
   "metadata": {},
   "outputs": [],
   "source": [
    "data_to_map = mask['elementMask'].values\n",
    "latitude = mask['centerCoords'].values[:,1]\n",
    "longitude = mask['centerCoords'].values[:,0]\n",
    "\n",
    "# Template ones and zeros\n",
    "ones = [d == 1 for d in data_to_map]\n",
    "zeros = [d != 1 for d in data_to_map]"
   ]
  },
  {
   "cell_type": "markdown",
   "id": "7f166623",
   "metadata": {},
   "source": [
    "## Make new mask based on if the coordinates are inside the domain I want to run in"
   ]
  },
  {
   "cell_type": "markdown",
   "id": "43129cbf",
   "metadata": {},
   "source": [
    "### Create geodataframe of the wrf coordinates"
   ]
  },
  {
   "cell_type": "code",
   "execution_count": 8,
   "id": "e502abd5",
   "metadata": {},
   "outputs": [],
   "source": [
    "#make spatal object from pixel x y\n",
    "wrf_points = gpd.points_from_xy(longitude, latitude, z=None, crs=\"EPSG:4326\")\n",
    "\n",
    "wrf_points_df = pd.DataFrame({'element_count':mask.elementCount.values,'xiulin_mask':mask.elementMask.values,'lat':latitude,'lon':longitude})\n",
    "wrf_points_df\n",
    "#create geodataframe\n",
    "\n",
    "gdf = gpd.GeoDataFrame(wrf_points_df, geometry=wrf_points)"
   ]
  },
  {
   "cell_type": "markdown",
   "id": "d3a89024",
   "metadata": {},
   "source": [
    "### Create new mask"
   ]
  },
  {
   "cell_type": "code",
   "execution_count": 9,
   "id": "56e450c3",
   "metadata": {},
   "outputs": [],
   "source": [
    "wrf_points_in_target_domain = gpd.sjoin(gdf, target_domain, predicate='within')\n",
    "\n",
    "# Select 71 points so that it only uses 2 nodes on Cheyenne\n",
    "wrf_points_in_target_domain = wrf_points_in_target_domain[:-4]"
   ]
  },
  {
   "cell_type": "markdown",
   "id": "39da1576",
   "metadata": {},
   "source": [
    "### Plot template mask and target mask"
   ]
  },
  {
   "cell_type": "code",
   "execution_count": 10,
   "id": "b7ec4008",
   "metadata": {},
   "outputs": [
    {
     "data": {
      "text/plain": [
       "<Axes: >"
      ]
     },
     "execution_count": 10,
     "metadata": {},
     "output_type": "execute_result"
    },
    {
     "data": {
      "image/png": "[encoded data removed]",
      "text/plain": [
       "<Figure size 1500x1500 with 1 Axes>"
      ]
     },
     "metadata": {},
     "output_type": "display_data"
    }
   ],
   "source": [
    "ca = gpd.read_file(path_to_ca).to_crs(target_domain.crs)\n",
    "\n",
    "fig, ax = plt.subplots(figsize=(15, 15))\n",
    "\n",
    "# Add california\n",
    "ca.plot(ax = ax, facecolor=\"none\", edgecolor='black', lw=0.7)\n",
    "\n",
    "# Add template mask\n",
    "gdf.loc[gdf['xiulin_mask'] == 0].plot(ax = ax)\n",
    "\n",
    "# Add target domain\n",
    "target_domain.plot(ax = ax, facecolor=\"none\", edgecolor='black', lw=0.7)\n",
    "\n",
    "# Add target wrf points\n",
    "wrf_points_in_target_domain.plot(ax = ax)"
   ]
  },
  {
   "cell_type": "markdown",
   "id": "d72af551",
   "metadata": {},
   "source": [
    "### Get indices of mask file that I want to run"
   ]
  },
  {
   "cell_type": "code",
   "execution_count": 16,
   "id": "f40b3282",
   "metadata": {},
   "outputs": [
    {
     "data": {
      "text/plain": [
       "71"
      ]
     },
     "execution_count": 16,
     "metadata": {},
     "output_type": "execute_result"
    }
   ],
   "source": [
    "target_element_count_vals = list(wrf_points_in_target_domain['element_count'])\n",
    "target_indices = [el in target_element_count_vals for el in mask.elementCount.values]\n",
    "np.sum(target_indices)"
   ]
  },
  {
   "cell_type": "markdown",
   "id": "d914ac02",
   "metadata": {},
   "source": [
    "## Create mask where 0 indicates where we want to run FATES"
   ]
  },
  {
   "cell_type": "code",
   "execution_count": 17,
   "id": "ed2a490b",
   "metadata": {},
   "outputs": [
    {
     "data": {
      "text/plain": [
       "array([1., 1., 1., ..., 1., 1., 1.])"
      ]
     },
     "execution_count": 17,
     "metadata": {},
     "output_type": "execute_result"
    }
   ],
   "source": [
    "new_mask = np.ones(len(mask.elementCount.values))\n",
    "new_mask[target_indices] = 0\n",
    "new_mask"
   ]
  },
  {
   "cell_type": "markdown",
   "id": "44fb182d",
   "metadata": {},
   "source": [
    "## Put the new mask in a copy of the template mask xarray data array"
   ]
  },
  {
   "cell_type": "code",
   "execution_count": 18,
   "id": "f354bcb7",
   "metadata": {},
   "outputs": [
    {
     "name": "stderr",
     "output_type": "stream",
     "text": [
      "/tmp/ipykernel_5208/2398578088.py:8: SerializationWarning: saving variable elementMask with floating point data as an integer dtype without any _FillValue to use for NaNs\n",
      "  new_mask_ds.to_netcdf(\"CZ_mask_111623.nc\", format = \"NETCDF3_64BIT\", mode = \"w\")\n"
     ]
    }
   ],
   "source": [
    "# Copy into new xarray dataset\n",
    "new_mask_ds = mask.copy()\n",
    "\n",
    "# Add new mask data to the dataset\n",
    "new_mask_ds['elementMask'].values = new_mask\n",
    "\n",
    "# Write the new mask file to a netcdf file\n",
    "new_mask_ds.to_netcdf(\"CZ_mask_111623.nc\", format = \"NETCDF3_64BIT\", mode = \"w\")"
   ]
  },
  {
   "cell_type": "code",
   "execution_count": 19,
   "id": "b02f8e8f",
   "metadata": {},
   "outputs": [],
   "source": [
    "points_in = [el == 0 for el in new_mask_ds['elementMask'].values]"
   ]
  },
  {
   "cell_type": "code",
   "execution_count": 20,
   "id": "e083437c",
   "metadata": {},
   "outputs": [
    {
     "data": {
      "text/plain": [
       "array([[-119.38523865,   36.67720413],\n",
       "       [-119.30090332,   36.72508621],\n",
       "       [-119.4450531 ,   36.74477768],\n",
       "       [-119.360672  ,   36.79272461],\n",
       "       [-119.27618408,   36.84059906],\n",
       "       [-119.19155884,   36.8884201 ],\n",
       "       [-119.10681152,   36.93617249],\n",
       "       [-119.50498962,   36.81232834],\n",
       "       [-119.420578  ,   36.86032867],\n",
       "       [-119.33602905,   36.90826797],\n",
       "       [-119.25135803,   36.95614243],\n",
       "       [-119.16656494,   37.00394821],\n",
       "       [-119.08163452,   37.05168533],\n",
       "       [-118.99659729,   37.0993576 ],\n",
       "       [-119.56506348,   36.87984467],\n",
       "       [-119.48059082,   36.92790604],\n",
       "       [-119.39599609,   36.97589874],\n",
       "       [-119.3112793 ,   37.02383804],\n",
       "       [-119.22645569,   37.07170105],\n",
       "       [-119.14147949,   37.11949921],\n",
       "       [-119.05638123,   37.16722488],\n",
       "       [-118.97116089,   37.21489716],\n",
       "       [-118.88580322,   37.26249313],\n",
       "       [-118.80032349,   37.31002808],\n",
       "       [-119.70962524,   36.89916229],\n",
       "       [-119.62524414,   36.94734192],\n",
       "       [-119.54074097,   36.99546814],\n",
       "       [-119.45610046,   37.04352188],\n",
       "       [-119.37135315,   37.09151077],\n",
       "       [-119.28645325,   37.139431  ],\n",
       "       [-119.20144653,   37.18729401],\n",
       "       [-119.11630249,   37.23508835],\n",
       "       [-119.03103638,   37.28281021],\n",
       "       [-118.94564819,   37.33046722],\n",
       "       [-118.86010742,   37.37805557],\n",
       "       [-119.76998901,   36.96657181],\n",
       "       [-119.68556213,   37.01481247],\n",
       "       [-119.60101318,   37.0629921 ],\n",
       "       [-119.5163269 ,   37.11111069],\n",
       "       [-119.43153381,   37.15916061],\n",
       "       [-119.34660339,   37.20714569],\n",
       "       [-119.26153564,   37.25505447],\n",
       "       [-119.17636108,   37.30290604],\n",
       "       [-119.09103394,   37.35068893],\n",
       "       [-119.00559998,   37.39840698],\n",
       "       [-118.92002869,   37.44606018],\n",
       "       [-119.83047485,   37.03395462],\n",
       "       [-119.7460022 ,   37.08225632],\n",
       "       [-119.66140747,   37.13049698],\n",
       "       [-119.57669067,   37.17866516],\n",
       "       [-119.49185181,   37.22677994],\n",
       "       [-119.40687561,   37.27482224],\n",
       "       [-119.32176208,   37.3228035 ],\n",
       "       [-119.23652649,   37.37070465],\n",
       "       [-119.15116882,   37.41854477],\n",
       "       [-119.06567383,   37.46632004],\n",
       "       [-118.98007202,   37.51403046],\n",
       "       [-119.72193909,   37.19797897],\n",
       "       [-119.63717651,   37.24621201],\n",
       "       [-119.55229187,   37.294384  ],\n",
       "       [-119.46725464,   37.34248352],\n",
       "       [-119.3821106 ,   37.39051437],\n",
       "       [-119.29684448,   37.43847656],\n",
       "       [-119.21142578,   37.48638153],\n",
       "       [-119.12590027,   37.53421402],\n",
       "       [-119.04023743,   37.58197784],\n",
       "       [-119.52778625,   37.41011047],\n",
       "       [-119.44259644,   37.45819473],\n",
       "       [-119.35726929,   37.50622559],\n",
       "       [-119.27182007,   37.55419159],\n",
       "       [-119.18623352,   37.60207748]])"
      ]
     },
     "execution_count": 20,
     "metadata": {},
     "output_type": "execute_result"
    }
   ],
   "source": [
    "new_mask_ds['centerCoords'].values[points_in,:]"
   ]
  },
  {
   "cell_type": "code",
   "execution_count": 23,
   "id": "36e3b3cc",
   "metadata": {},
   "outputs": [
    {
     "data": {
      "text/plain": [
       "-119.83047485351562"
      ]
     },
     "execution_count": 23,
     "metadata": {},
     "output_type": "execute_result"
    }
   ],
   "source": [
    "np.min(new_mask_ds['centerCoords'].values[points_in,0])"
   ]
  },
  {
   "cell_type": "code",
   "execution_count": null,
   "id": "d5aa6485",
   "metadata": {},
   "outputs": [],
   "source": []
  }
 ],
 "metadata": {
  "kernelspec": {
   "display_name": "Python [conda env:la-veg]",
   "language": "python",
   "name": "conda-env-la-veg-py"
  },
  "language_info": {
   "codemirror_mode": {
    "name": "ipython",
    "version": 3
   },
   "file_extension": ".py",
   "mimetype": "text/x-python",
   "name": "python",
   "nbconvert_exporter": "python",
   "pygments_lexer": "ipython3",
   "version": "3.10.13"
  },
  "toc": {
   "base_numbering": 1,
   "nav_menu": {},
   "number_sections": true,
   "sideBar": true,
   "skip_h1_title": false,
   "title_cell": "Table of Contents",
   "title_sidebar": "Contents",
   "toc_cell": false,
   "toc_position": {},
   "toc_section_display": true,
   "toc_window_display": false
  }
 },
 "nbformat": 4,
 "nbformat_minor": 5
}
