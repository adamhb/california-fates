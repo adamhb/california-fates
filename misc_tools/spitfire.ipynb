{
 "cells": [
  {
   "cell_type": "code",
   "execution_count": 1,
   "id": "41d61f6a-9d31-4a94-94c3-32cb612a4be7",
   "metadata": {},
   "outputs": [],
   "source": [
    "import math\n",
    "import numpy as np"
   ]
  },
  {
   "cell_type": "code",
   "execution_count": 5,
   "id": "47aee485-a86a-4299-948f-504d536a84ae",
   "metadata": {},
   "outputs": [
    {
     "name": "stdout",
     "output_type": "stream",
     "text": [
      "bottom of crown: 2.0\n",
      "sh 15.874010519681992\n",
      "frac_crown_burn: 77.07783622045551 %\n",
      "mort rate from crown damage 0.4579188728330477\n"
     ]
    }
   ],
   "source": [
    "h = 20\n",
    "cl_frac = 0.9\n",
    "alpha_sh = 0.1\n",
    "f_ck = 1\n",
    "\n",
    "cl = h * cl_frac\n",
    "sh = 2000**(2/3) * alpha_sh\n",
    "print(\"bottom of crown:\",h - cl)\n",
    "print(\"sh\",sh)\n",
    "ck = (sh - (h - cl))/cl\n",
    "ck = min(max(0,ck),1)\n",
    "print(\"frac_crown_burn:\",ck * 100,\"%\")\n",
    "cmort = f_ck * ck**3.0\n",
    "print(\"mort rate from crown damage\", cmort)"
   ]
  },
  {
   "cell_type": "code",
   "execution_count": 26,
   "id": "f732d071-fdd9-4c19-af07-b4b329a516e3",
   "metadata": {},
   "outputs": [],
   "source": [
    "\n",
    "def bark_thickness(a,b,dbh):\n",
    "    '''\n",
    "    dbh in cm\n",
    "    return bark thickness in cm\n",
    "    '''\n",
    "    return (((a * math.sqrt(dbh)**b)**2)/10) / dbh\n",
    "\n",
    "ABCO_down = np.array([bark_thickness(1.005-0.031,0.888-0.016,dbh) for dbh in list(range(10,80))]).mean()\n",
    "ABCO_up = np.array([bark_thickness(1.005+0.031,0.888+0.016,dbh) for dbh in list(range(10,80))]).mean()\n",
    "ABCO = np.array([bark_thickness(1.005,0.888,dbh) for dbh in list(range(10,80))]).mean()\n",
    "\n",
    "PILA = np.array([bark_thickness(1.521,0.718,dbh) for dbh in list(range(10,80))]).mean()\n",
    "PILA_down = np.array([bark_thickness(1.521-0.116,0.718-0.034,dbh) for dbh in list(range(10,80))]).mean()\n",
    "PILA_up = np.array([bark_thickness(1.521+0.116,0.718+0.034,dbh) for dbh in list(range(10,80))]).mean()\n",
    "\n",
    "CADE_down = np.array([bark_thickness(0.946-0.009,1,dbh) for dbh in list(range(10,80))]).mean()\n",
    "CADE_up = np.array([bark_thickness(0.946+0.009,1,dbh) for dbh in list(range(10,80))]).mean()\n",
    "CADE = np.array([bark_thickness(0.946,1,dbh) for dbh in list(range(10,80))]).mean()"
   ]
  },
  {
   "cell_type": "code",
   "execution_count": 27,
   "id": "abb6abbc-af6a-4733-a17e-53de5f7e52b3",
   "metadata": {},
   "outputs": [
    {
     "name": "stdout",
     "output_type": "stream",
     "text": [
      "0.08949159999999998 0.09120249999999996 0.08779689999999997\n",
      "0.08335859118585016 0.06300265025005064 0.10905451425957262\n",
      "0.06713449882402626 0.07560836632112279 0.059501800691962856\n"
     ]
    }
   ],
   "source": [
    "print(CADE, CADE_up, CADE_down)\n",
    "print(PILA, PILA_down, PILA_up)\n",
    "print(ABCO, ABCO_up, ABCO_down)\n"
   ]
  },
  {
   "cell_type": "code",
   "execution_count": 31,
   "id": "0c0b40ca-a4b1-4a75-869d-93c1c1f751b7",
   "metadata": {},
   "outputs": [],
   "source": [
    "def time_to_kill(dbh, t_ratio):\n",
    "    bt = t_ratio * dbh\n",
    "    tau_c = 2.9 * bt**2.0\n",
    "    return tau_c"
   ]
  },
  {
   "cell_type": "code",
   "execution_count": 36,
   "id": "358dc44c-d8de-41d1-904d-b59487a8e2cd",
   "metadata": {},
   "outputs": [
    {
     "data": {
      "text/plain": [
       "2.015109870102012"
      ]
     },
     "execution_count": 36,
     "metadata": {},
     "output_type": "execute_result"
    }
   ],
   "source": [
    "time_to_kill(10,PILA)"
   ]
  }
 ],
 "metadata": {
  "kernelspec": {
   "display_name": "env4",
   "language": "python",
   "name": "env4"
  },
  "language_info": {
   "codemirror_mode": {
    "name": "ipython",
    "version": 3
   },
   "file_extension": ".py",
   "mimetype": "text/x-python",
   "name": "python",
   "nbconvert_exporter": "python",
   "pygments_lexer": "ipython3",
   "version": "3.8.13"
  }
 },
 "nbformat": 4,
 "nbformat_minor": 5
}
