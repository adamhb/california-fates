{
 "cells": [
  {
   "cell_type": "markdown",
   "id": "28ba2dc5-8488-4a96-843a-853ca6220d2e",
   "metadata": {},
   "source": [
    "# Aggregate single-site data for checking pft responses to fire and climate"
   ]
  },
  {
   "cell_type": "code",
   "execution_count": 43,
   "id": "a1e23c58-dbde-42e8-a337-2cc5f46434d0",
   "metadata": {},
   "outputs": [],
   "source": [
    "import pandas as pd"
   ]
  },
  {
   "cell_type": "markdown",
   "id": "efa049c6-b424-4621-a7ff-27555313c261",
   "metadata": {},
   "source": [
    "## Get CZ2 PEAS metrics into one df"
   ]
  },
  {
   "cell_type": "code",
   "execution_count": 49,
   "id": "6ecd48c7-e3ff-4b0e-b35d-132320ca8e79",
   "metadata": {},
   "outputs": [],
   "source": [
    "CZ2_metrics_with_fire = pd.read_csv('/glade/scratch/adamhb/processed_output/CZ2_equilibrium_passing/passsing_CZ2_equilibrium_110323_and_110523_with_fire.csv')\n",
    "CZ2_metrics_with_first_rmse_score = pd.read_csv('/glade/scratch/adamhb/processed_output/CZ2_equilibrium_passing/CZ2-PEAS_passing_110923.csv')"
   ]
  },
  {
   "cell_type": "code",
   "execution_count": 50,
   "id": "0bcc98a8-d01a-4ab2-9074-db03130dcb92",
   "metadata": {},
   "outputs": [],
   "source": [
    "cols_no_fire = [\"inst_id\",\"CZ2-trans-id\",\"rmse\",\"AGB\",\"FailedPFTs\",\"ShannonE\",\n",
    " \"BA\",\"BA_pine\",\"BA_cedar\",\"BA_fir\",\"BA_oak\",\n",
    " \"Pct_shrub_cover\",\"Pct_shrub_cover_canopy\",\n",
    " \"TreeStemD\",\"TreeStemD_40\",\"TreeStemD_60\",\"TreeStemD_80\",\"TreeStemD_100\",\n",
    " \"ResproutD_oak\",\"ResproutD_shrub\",\"BA_shrub\",\"NPP\",\"Combustible_fuel\",\n",
    " \"param_file_path\",\"fates_leaf_vcmax25top_1\"]\n",
    "\n",
    "cols_fire = ['inst_id','Burned_area','Pct_high_severity_1700','Pct_high_severity_3500']\n",
    "\n",
    "CZ2_trans_metrics_cols = [\"inst_id\",\"AGB\",\"FailedPFTs\",\"ShannonE\",\n",
    " \"BA\",\"BA_pine\",\"BA_cedar\",\"BA_fir\",\"BA_oak\",\n",
    " \"Pct_shrub_cover\",\"Pct_shrub_cover_canopy\",\n",
    " \"TreeStemD\",\"TreeStemD_40\",\"TreeStemD_60\",\"TreeStemD_80\",\"TreeStemD_100\",\n",
    " \"ResproutD_oak\",\"ResproutD_shrub\",\"BA_shrub\",\"NPP\",\"Combustible_fuel\",\n",
    " \"Burned_area\",\"Pct_high_severity_1700\",\"Pct_high_severity_3500\",\n",
    " \"param_file_path\",\"fates_leaf_vcmax25top_1\"]"
   ]
  },
  {
   "cell_type": "code",
   "execution_count": 51,
   "id": "889cb045-4f71-4684-ab42-35a8307c8346",
   "metadata": {},
   "outputs": [],
   "source": [
    "CZ2_fire = CZ2_metrics_with_fire[cols_fire]\n",
    "CZ2 = CZ2_metrics_with_first_rmse_score[cols_no_fire]\n",
    "CZ2_PEAS = pd.merge(CZ2,CZ2_fire,on=\"inst_id\",how=\"inner\").sort_values(\"CZ2-trans-id\")\n",
    "CZ2_PEAS.to_csv('CZ2_PEAS_metrics.csv')"
   ]
  },
  {
   "cell_type": "markdown",
   "id": "05e1f1f7-2ddc-4936-a020-17e32b7f9292",
   "metadata": {},
   "source": [
    "## Clean CZ2 1951 to 2019 metrics"
   ]
  },
  {
   "cell_type": "code",
   "execution_count": 52,
   "id": "f0f8d868-3789-42b5-8f7c-053b759e63a7",
   "metadata": {},
   "outputs": [],
   "source": [
    "CZ2_metrics_1951_to_2019 = pd.read_csv('/glade/scratch/adamhb/processed_output/CZ2_trans_1950_2020_111223_-17e2acb6a_FATES-8a054a12/ensemble_output_CZ2_trans_1950_2020_111223_-17e2acb6a_FATES-8a054a12_with_fire_metrics.csv')\n",
    "CZ2_metrics_1951_to_2019 = CZ2_metrics_1951_to_2019.sort_values(\"inst_id\")[CZ2_trans_metrics_cols]\n",
    "CZ2_metrics_1951_to_2019.to_csv('CZ2_metrics_1951_to_2019.csv')"
   ]
  },
  {
   "cell_type": "code",
   "execution_count": null,
   "id": "3e281a84-8f55-4c8c-8863-f3376523f076",
   "metadata": {},
   "outputs": [],
   "source": []
  }
 ],
 "metadata": {
  "kernelspec": {
   "display_name": "Python [conda env:miniconda-la-veg]",
   "language": "python",
   "name": "conda-env-miniconda-la-veg-py"
  },
  "language_info": {
   "codemirror_mode": {
    "name": "ipython",
    "version": 3
   },
   "file_extension": ".py",
   "mimetype": "text/x-python",
   "name": "python",
   "nbconvert_exporter": "python",
   "pygments_lexer": "ipython3",
   "version": "3.10.13"
  }
 },
 "nbformat": 4,
 "nbformat_minor": 5
}
