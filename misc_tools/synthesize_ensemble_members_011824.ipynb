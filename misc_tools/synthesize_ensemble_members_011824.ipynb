{
 "cells": [
  {
   "cell_type": "markdown",
   "id": "c3302eac-62cb-400a-ab91-e70a664bfb6d",
   "metadata": {},
   "source": [
    "# Synthesize land model output from perturbed parameter ensemble\n",
    "\n",
    "This script evaluates model output from a set of ensemble members in a perturbed parameter experiment. It identifies the best-performing ensemble members"
   ]
  },
  {
   "cell_type": "markdown",
   "id": "66f1106e-fa29-4c54-8875-27acd052b973",
   "metadata": {},
   "source": [
    "## Import modules"
   ]
  },
  {
   "cell_type": "code",
   "execution_count": 2,
   "id": "e13aeea6-caa4-4148-89fc-1ee3398f3672",
   "metadata": {},
   "outputs": [],
   "source": [
    "import sys\n",
    "#Path to the esm_tools.py script\n",
    "sys.path.append('/glade/u/home/adamhb/Earth-System-Model-Tools')\n",
    "import os\n",
    "import datetime\n",
    "import xarray as xr\n",
    "import pandas as pd\n",
    "import numpy as np\n",
    "import matplotlib.pyplot as plt\n",
    "import functools\n",
    "import netCDF4 as nc4\n",
    "import importlib\n",
    "import esm_tools\n",
    "import esm_viz\n",
    "importlib.reload(esm_tools)\n",
    "importlib.reload(esm_viz)\n",
    "import math\n",
    "pd.set_option('display.max_rows', 500)\n",
    "import re\n",
    "import numpy as np"
   ]
  },
  {
   "cell_type": "markdown",
   "id": "165d0fee-c5fa-4441-9ce9-656ba0a0e33b",
   "metadata": {},
   "source": [
    "## User-defined parameters"
   ]
  },
  {
   "cell_type": "code",
   "execution_count": 3,
   "id": "c2977bee-4e4b-4b98-91be-643a44e41c2f",
   "metadata": {},
   "outputs": [
    {
     "name": "stdout",
     "output_type": "stream",
     "text": [
      "Synthesizing output from this case: CZ2_trans_1951_2020_012824_-17e2acb6a_FATES-5b076b69\n",
      "CZ2_equilibrium_011824_-17e2acb6a_FATES-5b076b69_0001\n",
      "CZ2_equilibrium_011824_-17e2acb6a_FATES-5b076b69_0002\n",
      "CZ2_equilibrium_011824_-17e2acb6a_FATES-5b076b69_0003\n",
      "CZ2_equilibrium_011824_-17e2acb6a_FATES-5b076b69_0004\n",
      "CZ2_equilibrium_011824_-17e2acb6a_FATES-5b076b69_0005\n",
      "CZ2_equilibrium_011824_-17e2acb6a_FATES-5b076b69_0008\n",
      "CZ2_equilibrium_011824_-17e2acb6a_FATES-5b076b69_0009\n",
      "CZ2_equilibrium_011824_-17e2acb6a_FATES-5b076b69_0013\n",
      "CZ2_equilibrium_011824_-17e2acb6a_FATES-5b076b69_0014\n",
      "CZ2_equilibrium_011824_-17e2acb6a_FATES-5b076b69_0015\n",
      "CZ2_equilibrium_011824_-17e2acb6a_FATES-5b076b69_0017\n",
      "CZ2_equilibrium_011824_-17e2acb6a_FATES-5b076b69_0021\n",
      "CZ2_equilibrium_011824_-17e2acb6a_FATES-5b076b69_0022\n",
      "CZ2_equilibrium_011824_-17e2acb6a_FATES-5b076b69_0023\n",
      "CZ2_equilibrium_011824_-17e2acb6a_FATES-5b076b69_0024\n",
      "CZ2_equilibrium_011824_-17e2acb6a_FATES-5b076b69_0025\n",
      "CZ2_equilibrium_011824_-17e2acb6a_FATES-5b076b69_0026\n",
      "CZ2_equilibrium_011824_-17e2acb6a_FATES-5b076b69_0027\n",
      "CZ2_equilibrium_011824_-17e2acb6a_FATES-5b076b69_0029\n",
      "CZ2_equilibrium_011824_-17e2acb6a_FATES-5b076b69_0030\n",
      "CZ2_equilibrium_011824_-17e2acb6a_FATES-5b076b69_0031\n",
      "CZ2_equilibrium_011824_-17e2acb6a_FATES-5b076b69_0033\n",
      "CZ2_equilibrium_011824_-17e2acb6a_FATES-5b076b69_0037\n",
      "CZ2_equilibrium_011824_-17e2acb6a_FATES-5b076b69_0038\n",
      "CZ2_equilibrium_011824_-17e2acb6a_FATES-5b076b69_0041\n",
      "CZ2_equilibrium_011824_-17e2acb6a_FATES-5b076b69_0042\n",
      "CZ2_equilibrium_011824_-17e2acb6a_FATES-5b076b69_0045\n",
      "CZ2_equilibrium_011824_-17e2acb6a_FATES-5b076b69_0046\n",
      "CZ2_equilibrium_011824_-17e2acb6a_FATES-5b076b69_0048\n",
      "CZ2_equilibrium_011824_-17e2acb6a_FATES-5b076b69_0050\n",
      "CZ2_equilibrium_011824_-17e2acb6a_FATES-5b076b69_0051\n",
      "CZ2_equilibrium_011824_-17e2acb6a_FATES-5b076b69_0052\n",
      "CZ2_equilibrium_011824_-17e2acb6a_FATES-5b076b69_0053\n"
     ]
    }
   ],
   "source": [
    "# Do you want to create a shortlist of the instances to process?\n",
    "short_list_instances = True\n",
    "\n",
    "# Just testing script?\n",
    "test=False\n",
    "\n",
    "# Make figures?\n",
    "visualize = False\n",
    "\n",
    "# How many years of data to average over for the structure variables\n",
    "last_n_years=3\n",
    "\n",
    "#Do you want last n years to count back from a particular year? If this is set to \"None\" then it will count back from the \n",
    "#last year in the archive directory. (integer)\n",
    "end_year = None\n",
    "\n",
    "# For tree stem density\n",
    "dbh_min = 10\n",
    "\n",
    "# Calculate variables that require loading much more data (e.g. fire regime?)\n",
    "decadal_scale_metrics=True\n",
    "\n",
    "# How many years of data to average over for the fire variables\n",
    "decadal_n_years=50\n",
    "\n",
    "# File name of the file that stores the parameter ranges for the ensemble\n",
    "param_range_file_name = 'param_ranges_100223.csv'\n",
    "\n",
    "# Single case or multi case?\n",
    "apply_to_one_case = True\n",
    "\n",
    "\n",
    "##################\n",
    "# If single case #\n",
    "##################\n",
    "\n",
    "if apply_to_one_case == True:\n",
    "\n",
    "    case_name = 'CZ2_trans_1951_2020_012824_-17e2acb6a_FATES-5b076b69'\n",
    "\n",
    "    # Subdirectory where the parameter file for each ensemble member is stored\n",
    "    param_sub_dir=\"CZ2_trans_012524\"\n",
    "    \n",
    "    print(\"Synthesizing output from this case:\",case_name)\n",
    "\n",
    "#################\n",
    "# For multicase #\n",
    "#################\n",
    "\n",
    "if apply_to_one_case == False:\n",
    "\n",
    "    case_name_prefix = 'CZ2_equilibrium_110323_'\n",
    "    case_name_suffix = '_-17e2acb6a_FATES-8a054a12'\n",
    "    param_sub_dir_prefix = \"CZ2_equilibrium_110323_\" # with underscore\n",
    "\n",
    "    # Which cases in the group do you want to run?\n",
    "    case_numbers = [1,2,3,4] # without leading zero\n",
    "    case_tags = [str(case_num).rjust(2, '0') for case_num in case_numbers]\n",
    "    case_names = [case_name_prefix + case_tag + case_name_suffix for case_tag in case_tags]\n",
    "    print(\"Running from these cases:\",case_names)\n",
    "\n",
    "\n",
    "\n",
    "inst_check = None\n",
    "if short_list_instances == True:\n",
    "    \n",
    "    # If so, then provide lists of the case tag and the instance number (within lead zeroes) for each instance \n",
    "    def extract_four_digit_numbers(input_string):\n",
    "        # Define a regular expression pattern to match a four-digit number after an underscore\n",
    "        pattern = r'_\\d{4}'\n",
    "\n",
    "        # Use re.findall to find all matches of the pattern in the input string\n",
    "        matches = re.findall(pattern, input_string)\n",
    "\n",
    "        # Extract the four-digit numbers from the matches\n",
    "        four_digit_numbers = [match.strip('_') for match in matches]\n",
    "\n",
    "        return four_digit_numbers[-1]\n",
    "\n",
    "    def extract_two_digit_numbers(input_string):\n",
    "        # Define a regular expression pattern to match a four-digit number after an underscore\n",
    "        pattern = r'_\\d{2}_'\n",
    "\n",
    "        # Use re.findall to find all matches of the pattern in the input string\n",
    "        matches = re.findall(pattern, input_string)\n",
    "\n",
    "        # Extract the four-digit numbers from the matches\n",
    "        four_digit_numbers = [match.strip('_') for match in matches]\n",
    "\n",
    "        return four_digit_numbers[-1]\n",
    "\n",
    "    shortlist_df = pd.read_csv('/glade/work/adamhb/processed_output/CZ2-PEAS_passing_no_fire_011924.csv')\n",
    "    list(shortlist_df.columns)\n",
    "    short_list_inst_ids = shortlist_df['inst_id']\n",
    "\n",
    "\n",
    "    #case_tags_short_list = []\n",
    "    inst_short_list = []\n",
    "\n",
    "    for i in short_list_inst_ids:\n",
    "        print(i)\n",
    "        #case_tags_short_list.append(extract_two_digit_numbers(i))\n",
    "        inst_short_list.append(extract_four_digit_numbers(i))\n",
    "    \n",
    "     \n",
    "    inst_check = pd.DataFrame(inst_short_list)\n",
    "    #inst_check['case_tags'] = case_tags_short_list\n",
    "    inst_check.columns = ['inst']\n",
    "    \n",
    "    \n",
    "# Optional\n",
    "case_path = None\n",
    "manual_case_path = None"
   ]
  },
  {
   "cell_type": "markdown",
   "id": "fd33c036-c080-4dac-95dd-831313c262e0",
   "metadata": {},
   "source": [
    "## Define paths and script parameters"
   ]
  },
  {
   "cell_type": "code",
   "execution_count": 4,
   "id": "63b5914f-86eb-4d3c-b1b5-44e7cd24a581",
   "metadata": {},
   "outputs": [
    {
     "name": "stdout",
     "output_type": "stream",
     "text": [
      "Calculating the following variables: ['BA', 'AGB', 'TreeStemD', 'TreeStemD_40', 'TreeStemD_60', 'TreeStemD_80', 'TreeStemD_100', 'ResproutD_oak', 'ResproutD_shrub', 'ShannonE', 'NPP', 'FailedPFTs', 'Pct_shrub_cover_canopy', 'Pct_shrub_cover', 'Combustible_fuel', 'Burned_area', 'Pct_high_severity_1700', 'Pct_high_severity_3500']\n"
     ]
    }
   ],
   "source": [
    "pft_names = [\"pine\",\"cedar\",\"fir\",\"shrub\",\"oak\"]\n",
    "\n",
    "# Benchmarking metrics\n",
    "my_metrics = [\"BA\",\"AGB\",\"TreeStemD\",\"TreeStemD_40\",\"TreeStemD_60\",\"TreeStemD_80\",\"TreeStemD_100\",\"ResproutD_oak\",\"ResproutD_shrub\",\"ShannonE\",\"NPP\",\"FailedPFTs\",\n",
    "              \"Pct_shrub_cover_canopy\",\"Pct_shrub_cover\",\n",
    "              \"Combustible_fuel\"]\n",
    "\n",
    "if decadal_scale_metrics == True:\n",
    "    my_metrics.extend([\"Burned_area\",\"Pct_high_severity_1700\",\"Pct_high_severity_3500\"])\n",
    "\n",
    "# Path where case output lives\n",
    "case_output_root = '/glade/derecho/scratch/adamhb/'\n",
    "\n",
    "# Path to ensemble params\n",
    "params_root = '/glade/u/home/adamhb/ahb_params/fates_api_25/ensembles'\n",
    "\n",
    "# Path to put any processed output\n",
    "processed_output_root = '/glade/work/adamhb/processed_output'\n",
    "\n",
    "# Path to param range files\n",
    "param_range_root = '/glade/u/home/adamhb/california-fates/parameter_ranges/param_range_archive'\n",
    "\n",
    "print(\"Calculating the following variables:\",my_metrics)"
   ]
  },
  {
   "cell_type": "markdown",
   "id": "95d544df-ca1e-4557-bb1a-65f92ea096b6",
   "metadata": {},
   "source": [
    "## Variables to import"
   ]
  },
  {
   "cell_type": "code",
   "execution_count": 5,
   "id": "3d772d3f-227a-476f-a725-676fd16068b6",
   "metadata": {},
   "outputs": [],
   "source": [
    "# Keep first two no matter what. They are needed to unravel multi-plexed dimensions\n",
    "fields = ['FATES_SEED_PROD_USTORY_SZ','FATES_VEGC_AP','FATES_BURNFRAC',\n",
    "          'FATES_NPLANT_PF','FATES_NPLANT_SZPF','FATES_NPLANT_RESPROUT_PF','FATES_FIRE_INTENSITY_BURNFRAC','FATES_IGNITIONS',\n",
    "          'FATES_MORTALITY_FIRE_SZPF','FATES_BASALAREA_SZPF','FATES_CANOPYCROWNAREA_APPF','FATES_CANOPYCROWNAREA_PF','FATES_CROWNAREA_PF',\n",
    "          'FATES_CROWNAREA_APPF','FATES_FUEL_AMOUNT_APFC','FATES_NPLANT_SZPF','FATES_FUEL_AMOUNT_APFC',\n",
    "          'FATES_PATCHAREA_AP','FATES_CROWNAREA_PF','FATES_VEGC_ABOVEGROUND','FATES_NPP_PF']"
   ]
  },
  {
   "cell_type": "markdown",
   "id": "3911a4dd-d88a-41d0-ba89-e19aae9073cf",
   "metadata": {
    "tags": []
   },
   "source": [
    "## Benchmarking functions"
   ]
  },
  {
   "cell_type": "code",
   "execution_count": 6,
   "id": "34267b85-8ada-49ce-a587-2870208d966d",
   "metadata": {},
   "outputs": [],
   "source": [
    "def setup_benchmarking_data_structure(metrics,parameters,pft_names):\n",
    "    \n",
    "    metrics_out = metrics.copy()\n",
    "    \n",
    "    # add pft-specific vars\n",
    "    pft_specific_ba_metrics = [\"BA_\" + pft for pft in pft_names]  \n",
    "    metrics_out.extend(pft_specific_ba_metrics)\n",
    "    \n",
    "    # add inst tag\n",
    "    metrics_out.append(\"inst\")\n",
    "    metrics_out.append(\"inst_id\")\n",
    "    metrics_out.append(\"param_file_path\")\n",
    "    metrics_out.extend(parameters)\n",
    "    \n",
    "    benchmarking_dict = {}\n",
    "    for i in metrics_out:\n",
    "        benchmarking_dict[i] = []\n",
    "    return benchmarking_dict\n",
    "\n",
    "def skip_inst(inst_check,case_tag,inst):\n",
    "    qualifying_inst_tags = inst_check.loc[inst_check['case_tag'] == case_tag]['inst']\n",
    "    if inst in list(qualifying_inst_tags):\n",
    "        return False\n",
    "    else:\n",
    "        return True\n",
    "\n",
    "def skip_inst_no_case_tag(inst_check,inst):\n",
    "    qualifying_inst_tags = inst_check.loc[inst_check['inst'] == inst]['inst']\n",
    "    if inst in list(qualifying_inst_tags):\n",
    "        return False\n",
    "    else:\n",
    "        return True\n",
    "\n",
    "def get_benchmarks(case_name,metrics,last_n_years,param_sub_dir,param_range_file_name,\n",
    "                   test = False, pft_names = np.array([\"pine\",\"cedar\",\"fir\",\"shrub\",\"oak\"]),\n",
    "                   pft_colors = ['gold','darkorange','darkolivegreen','brown','springgreen'],\n",
    "                   param_range_root = param_range_root,\n",
    "                   params_root = params_root,\n",
    "                   manual_case_path = None, decadal_scale_metrics = False, decadal_n_years = 50,\n",
    "                   inst_check = inst_check, end_year = end_year):\n",
    "    \n",
    "    \n",
    "    print(\"Processing case:\",case_name)\n",
    "    \n",
    "    # 1. Get info about the case\n",
    "    if manual_case_path != None:\n",
    "        full_case_path = manual_case_path\n",
    "    \n",
    "    else:\n",
    "        full_case_path = esm_tools.get_path_to_sim(case_name,case_output_root)\n",
    "    \n",
    "    inst_tags = esm_tools.get_unique_inst_tags(full_case_path)\n",
    "    \n",
    "    if test == True:\n",
    "        inst_tags = inst_tags[:3]\n",
    "    \n",
    "    n_inst = len(inst_tags)\n",
    "    print(\"ninst:\",n_inst)\n",
    "    \n",
    "    # 2. Set up the benchmarking data structure\n",
    "    perturbed_params_df = pd.read_csv(os.path.join(param_range_root,param_range_file_name))\n",
    "    perturbed_params = []\n",
    "    for i in range(len(perturbed_params_df)):\n",
    "        perturbed_params.append(perturbed_params_df['param'][i] + \"_\" + str(perturbed_params_df['pft'][i]))\n",
    "    \n",
    "    bench_dict = setup_benchmarking_data_structure(metrics,perturbed_params,pft_names)  \n",
    "                                 \n",
    "    # 3. Add param values to the data structure\n",
    "    for inst in inst_tags:\n",
    "        \n",
    "        if short_list_instances == True:\n",
    "            skip = skip_inst_no_case_tag(inst_check,inst)\n",
    "            \n",
    "\n",
    "            if skip == True:\n",
    "                print(\"Skipping instance\",inst)\n",
    "                continue\n",
    "        \n",
    "        param_file_path = esm_tools.get_parameter_file_of_inst(params_root,param_sub_dir,inst)\n",
    "        \n",
    "        # Keep track of the parameter file path and the instance id for later use\n",
    "        bench_dict['param_file_path'].append(param_file_path)\n",
    "        bench_dict['inst_id'].append(case_name + \"_\" + inst)\n",
    "        \n",
    "        \n",
    "        for i in perturbed_params_df.index:\n",
    "            \n",
    "            d = perturbed_params_df.loc[i]\n",
    "            param = d['param']\n",
    "            pft_index = max(0,int(d['pft'] - 1))\n",
    "            organ = d['organ']\n",
    "            \n",
    "            if (param == \"fates_frag_maxdecomp\") & (organ > 1):\n",
    "                continue\n",
    "                \n",
    "            if math.isnan(organ):\n",
    "                organ_index = None\n",
    "            else:\n",
    "                organ_index = int(organ - 1)\n",
    "           \n",
    "            bench_dict[perturbed_params[i]].append(esm_tools.extract_variable_from_netcdf_specify_organ(\n",
    "                                                           param_file_path,param,pft_index,organ_index))\n",
    "    \n",
    "    # 4. Add the model output to the data structure\n",
    "    for inst in inst_tags:\n",
    "        \n",
    "        if short_list_instances == True:\n",
    "            skip = skip_inst_no_case_tag(inst_check,inst)\n",
    "\n",
    "            if skip == True:\n",
    "                continue\n",
    "        \n",
    "        print(\"Working on ensemble member\",inst,\"of\",len(inst_tags),\"members\")\n",
    "        \n",
    "        # Import the model output data for one ensemble member\n",
    "        inst_files_last_n_years = esm_tools.get_files_of_inst(full_case_path,\n",
    "                                                 inst,\n",
    "                                                 last_n_years, end_year=end_year)\n",
    "        \n",
    "        ds = esm_tools.multiple_netcdf_to_xarray(inst_files_last_n_years,fields)\n",
    "         \n",
    "        bench_dict['inst'].append(inst)\n",
    "        \n",
    "        ## Basal area [m2 ha-1] ##\n",
    "        if \"BA\" in bench_dict.keys():\n",
    "            \n",
    "            ## Pft-specific BA\n",
    "            pft_level_ba = esm_tools.get_pft_level_basal_area(ds)\n",
    "            \n",
    "            for i in range(len(pft_names)):\n",
    "                pft_name = pft_names[i]\n",
    "                bench_dict['BA_' + pft_name].append(pft_level_ba[i])\n",
    "            \n",
    "            ## Shannon equitability index (wrt BA) ##\n",
    "            bench_dict['ShannonE'].append(esm_tools.shannon_equitability(pft_level_ba))\n",
    "            \n",
    "            ## Number of failed pfts ##\n",
    "            bench_dict['FailedPFTs'].append(esm_tools.get_n_failed_pfts(pft_level_ba,ba_thresh=0.1))\n",
    "            \n",
    "            ## Total BA\n",
    "            pft_level_ba_no_shrub = np.delete(pft_level_ba,3)\n",
    "            bench_dict['BA'].append(pft_level_ba_no_shrub.sum())\n",
    "                  \n",
    "        ## Stem density [N ha-1] ##\n",
    "        if \"TreeStemD\" in bench_dict.keys():\n",
    "            \n",
    "            ## Total tree stem density >10 cm\n",
    "            bench_dict[\"TreeStemD\"].append(esm_tools.get_total_stem_den(ds,trees_only=True,dbh_min=dbh_min))\n",
    "            bench_dict[\"TreeStemD_40\"].append(esm_tools.get_total_stem_den(ds,trees_only=True,dbh_min=40))\n",
    "            bench_dict[\"TreeStemD_60\"].append(esm_tools.get_total_stem_den(ds,trees_only=True,dbh_min=60))\n",
    "            bench_dict[\"TreeStemD_80\"].append(esm_tools.get_total_stem_den(ds,trees_only=True,dbh_min=80))\n",
    "            bench_dict[\"TreeStemD_100\"].append(esm_tools.get_total_stem_den(ds,trees_only=True,dbh_min=100))\n",
    "        \n",
    "        if \"ResproutD_oak\" in bench_dict.keys():\n",
    "            bench_dict[\"ResproutD_oak\"].append(esm_tools.get_resprout_stem_den(ds,4))\n",
    "            \n",
    "        if \"ResproutD_shrub\" in bench_dict.keys():\n",
    "            bench_dict[\"ResproutD_shrub\"].append(esm_tools.get_resprout_stem_den(ds,3))\n",
    "        \n",
    "        ## AGB [kg C m-2]\n",
    "        if \"AGB\" in bench_dict.keys():\n",
    "            bench_dict[\"AGB\"].append(esm_tools.get_AGB(ds))\n",
    "        \n",
    "        ## Total NPP [kg C m-2]\n",
    "        if \"NPP\" in bench_dict.keys():\n",
    "            bench_dict[\"NPP\"].append(esm_tools.get_total_npp(ds))\n",
    "        \n",
    "        ## Shrub canopy layer cover [m2 m-2]\n",
    "        if \"Pct_shrub_cover_canopy\" in bench_dict.keys():\n",
    "            bench_dict[\"Pct_shrub_cover_canopy\"].append(esm_tools.get_pft_level_crown_area(ds,pft_index = 3))\n",
    "            \n",
    "        if \"Pct_shrub_cover\" in bench_dict.keys():    \n",
    "            bench_dict[\"Pct_shrub_cover\"].append(esm_tools.get_pft_level_crown_area(ds,pft_index = 3,canopy_area_only = False))\n",
    "        \n",
    "        ## Fuel Load\n",
    "        if \"Combustible_fuel\" in bench_dict.keys():\n",
    "            bench_dict[\"Combustible_fuel\"].append(esm_tools.get_combustible_fuel(ds))\n",
    "        \n",
    "        if decadal_scale_metrics == True:\n",
    "            inst_files_decadal = esm_tools.get_files_of_inst(full_case_path,\n",
    "                                                 inst,\n",
    "                                                 decadal_n_years, end_year = end_year)\n",
    "            ds_decadal = esm_tools.multiple_netcdf_to_xarray(inst_files_decadal,fields)\n",
    "            \n",
    "            if \"Burned_area\" in bench_dict.keys():\n",
    "                bench_dict[\"Burned_area\"].append(esm_tools.get_mean_annual_burn_frac(ds_decadal))\n",
    "                \n",
    "            if \"Pct_high_severity_1700\" in bench_dict.keys():\n",
    "                bench_dict[\"Pct_high_severity_1700\"].append(esm_tools.get_PHS_FLI_thresh(ds_decadal,1700))\n",
    "            \n",
    "            if \"Pct_high_severity_3500\" in bench_dict.keys():\n",
    "                bench_dict[\"Pct_high_severity_3500\"].append(esm_tools.get_PHS_FLI_thresh(ds_decadal,3500))\n",
    "            \n",
    "        \n",
    "    return bench_dict"
   ]
  },
  {
   "cell_type": "code",
   "execution_count": 7,
   "id": "f15e168e-34e5-4dac-a373-3200c88a8395",
   "metadata": {},
   "outputs": [],
   "source": [
    "# #sorted(filter_files('/glade/scratch/adamhb/archive/CZ2_trans_1950_2020_111223_-17e2acb6a_FATES-8a054a12/lnd/hist',1990))\n",
    "# esm_tools.get_files_of_inst(full_case_path = '/glade/scratch/adamhb/archive/CZ2_trans_1950_2020_111223_-17e2acb6a_FATES-8a054a12/lnd/hist',\n",
    "#                   inst_tag = \"0001\",\n",
    "#                   last_n_years = 5,\n",
    "#                   output_period = \"monthly\",\n",
    "#                   end_year = 2010)"
   ]
  },
  {
   "cell_type": "markdown",
   "id": "0f5e3542-debf-4a43-a670-f6bbbdb92d71",
   "metadata": {},
   "source": [
    "## Apply to case"
   ]
  },
  {
   "cell_type": "code",
   "execution_count": 8,
   "id": "d00493ef-523a-4bec-bc97-d57736c7f778",
   "metadata": {},
   "outputs": [
    {
     "name": "stdout",
     "output_type": "stream",
     "text": [
      "Processing case: CZ2_trans_1951_2020_012824_-17e2acb6a_FATES-5b076b69\n",
      "ninst: 54\n",
      "Skipping instance 0006\n",
      "Skipping instance 0007\n",
      "Skipping instance 0010\n",
      "Skipping instance 0011\n",
      "Skipping instance 0012\n",
      "Skipping instance 0016\n",
      "Skipping instance 0018\n",
      "Skipping instance 0019\n",
      "Skipping instance 0020\n",
      "Skipping instance 0028\n",
      "Skipping instance 0032\n",
      "Skipping instance 0034\n",
      "Skipping instance 0035\n",
      "Skipping instance 0036\n",
      "Skipping instance 0039\n",
      "Skipping instance 0040\n",
      "Skipping instance 0043\n",
      "Skipping instance 0044\n",
      "Skipping instance 0047\n",
      "Skipping instance 0049\n",
      "Skipping instance 0054\n",
      "Working on ensemble member 0001 of 54 members\n"
     ]
    },
    {
     "name": "stderr",
     "output_type": "stream",
     "text": [
      "/glade/work/adamhb/opt/miniconda/envs/env4/lib/python3.8/site-packages/dask/core.py:119: RuntimeWarning: invalid value encountered in divide\n",
      "  return func(*(_execute_task(a, cache) for a in args))\n",
      "/glade/work/adamhb/opt/miniconda/envs/env4/lib/python3.8/site-packages/dask/core.py:119: RuntimeWarning: invalid value encountered in divide\n",
      "  return func(*(_execute_task(a, cache) for a in args))\n",
      "/glade/work/adamhb/opt/miniconda/envs/env4/lib/python3.8/site-packages/dask/core.py:119: RuntimeWarning: invalid value encountered in divide\n",
      "  return func(*(_execute_task(a, cache) for a in args))\n",
      "/glade/work/adamhb/opt/miniconda/envs/env4/lib/python3.8/site-packages/dask/core.py:119: RuntimeWarning: invalid value encountered in divide\n",
      "  return func(*(_execute_task(a, cache) for a in args))\n",
      "/glade/work/adamhb/opt/miniconda/envs/env4/lib/python3.8/site-packages/dask/core.py:119: RuntimeWarning: invalid value encountered in divide\n",
      "  return func(*(_execute_task(a, cache) for a in args))\n",
      "/glade/work/adamhb/opt/miniconda/envs/env4/lib/python3.8/site-packages/dask/core.py:119: RuntimeWarning: invalid value encountered in divide\n",
      "  return func(*(_execute_task(a, cache) for a in args))\n"
     ]
    },
    {
     "name": "stdout",
     "output_type": "stream",
     "text": [
      "Working on ensemble member 0002 of 54 members\n"
     ]
    },
    {
     "name": "stderr",
     "output_type": "stream",
     "text": [
      "/glade/work/adamhb/opt/miniconda/envs/env4/lib/python3.8/site-packages/dask/core.py:119: RuntimeWarning: invalid value encountered in divide\n",
      "  return func(*(_execute_task(a, cache) for a in args))\n",
      "/glade/work/adamhb/opt/miniconda/envs/env4/lib/python3.8/site-packages/dask/core.py:119: RuntimeWarning: invalid value encountered in divide\n",
      "  return func(*(_execute_task(a, cache) for a in args))\n",
      "/glade/work/adamhb/opt/miniconda/envs/env4/lib/python3.8/site-packages/dask/core.py:119: RuntimeWarning: invalid value encountered in divide\n",
      "  return func(*(_execute_task(a, cache) for a in args))\n",
      "/glade/work/adamhb/opt/miniconda/envs/env4/lib/python3.8/site-packages/dask/core.py:119: RuntimeWarning: invalid value encountered in divide\n",
      "  return func(*(_execute_task(a, cache) for a in args))\n",
      "/glade/work/adamhb/opt/miniconda/envs/env4/lib/python3.8/site-packages/dask/core.py:119: RuntimeWarning: invalid value encountered in divide\n",
      "  return func(*(_execute_task(a, cache) for a in args))\n",
      "/glade/work/adamhb/opt/miniconda/envs/env4/lib/python3.8/site-packages/dask/core.py:119: RuntimeWarning: invalid value encountered in divide\n",
      "  return func(*(_execute_task(a, cache) for a in args))\n"
     ]
    },
    {
     "name": "stdout",
     "output_type": "stream",
     "text": [
      "Working on ensemble member 0003 of 54 members\n"
     ]
    },
    {
     "name": "stderr",
     "output_type": "stream",
     "text": [
      "/glade/work/adamhb/opt/miniconda/envs/env4/lib/python3.8/site-packages/dask/core.py:119: RuntimeWarning: invalid value encountered in divide\n",
      "  return func(*(_execute_task(a, cache) for a in args))\n",
      "/glade/work/adamhb/opt/miniconda/envs/env4/lib/python3.8/site-packages/dask/core.py:119: RuntimeWarning: invalid value encountered in divide\n",
      "  return func(*(_execute_task(a, cache) for a in args))\n",
      "/glade/work/adamhb/opt/miniconda/envs/env4/lib/python3.8/site-packages/dask/core.py:119: RuntimeWarning: invalid value encountered in divide\n",
      "  return func(*(_execute_task(a, cache) for a in args))\n",
      "/glade/work/adamhb/opt/miniconda/envs/env4/lib/python3.8/site-packages/dask/core.py:119: RuntimeWarning: invalid value encountered in divide\n",
      "  return func(*(_execute_task(a, cache) for a in args))\n",
      "/glade/work/adamhb/opt/miniconda/envs/env4/lib/python3.8/site-packages/dask/core.py:119: RuntimeWarning: invalid value encountered in divide\n",
      "  return func(*(_execute_task(a, cache) for a in args))\n",
      "/glade/work/adamhb/opt/miniconda/envs/env4/lib/python3.8/site-packages/dask/core.py:119: RuntimeWarning: invalid value encountered in divide\n",
      "  return func(*(_execute_task(a, cache) for a in args))\n"
     ]
    },
    {
     "name": "stdout",
     "output_type": "stream",
     "text": [
      "Working on ensemble member 0004 of 54 members\n"
     ]
    },
    {
     "name": "stderr",
     "output_type": "stream",
     "text": [
      "/glade/work/adamhb/opt/miniconda/envs/env4/lib/python3.8/site-packages/dask/core.py:119: RuntimeWarning: invalid value encountered in divide\n",
      "  return func(*(_execute_task(a, cache) for a in args))\n",
      "/glade/work/adamhb/opt/miniconda/envs/env4/lib/python3.8/site-packages/dask/core.py:119: RuntimeWarning: invalid value encountered in divide\n",
      "  return func(*(_execute_task(a, cache) for a in args))\n",
      "/glade/work/adamhb/opt/miniconda/envs/env4/lib/python3.8/site-packages/dask/core.py:119: RuntimeWarning: invalid value encountered in divide\n",
      "  return func(*(_execute_task(a, cache) for a in args))\n",
      "/glade/work/adamhb/opt/miniconda/envs/env4/lib/python3.8/site-packages/dask/core.py:119: RuntimeWarning: invalid value encountered in divide\n",
      "  return func(*(_execute_task(a, cache) for a in args))\n",
      "/glade/work/adamhb/opt/miniconda/envs/env4/lib/python3.8/site-packages/dask/core.py:119: RuntimeWarning: invalid value encountered in divide\n",
      "  return func(*(_execute_task(a, cache) for a in args))\n",
      "/glade/work/adamhb/opt/miniconda/envs/env4/lib/python3.8/site-packages/dask/core.py:119: RuntimeWarning: invalid value encountered in divide\n",
      "  return func(*(_execute_task(a, cache) for a in args))\n"
     ]
    },
    {
     "name": "stdout",
     "output_type": "stream",
     "text": [
      "Working on ensemble member 0005 of 54 members\n"
     ]
    },
    {
     "name": "stderr",
     "output_type": "stream",
     "text": [
      "/glade/work/adamhb/opt/miniconda/envs/env4/lib/python3.8/site-packages/dask/core.py:119: RuntimeWarning: invalid value encountered in divide\n",
      "  return func(*(_execute_task(a, cache) for a in args))\n",
      "/glade/work/adamhb/opt/miniconda/envs/env4/lib/python3.8/site-packages/dask/core.py:119: RuntimeWarning: invalid value encountered in divide\n",
      "  return func(*(_execute_task(a, cache) for a in args))\n",
      "/glade/work/adamhb/opt/miniconda/envs/env4/lib/python3.8/site-packages/dask/core.py:119: RuntimeWarning: invalid value encountered in divide\n",
      "  return func(*(_execute_task(a, cache) for a in args))\n",
      "/glade/work/adamhb/opt/miniconda/envs/env4/lib/python3.8/site-packages/dask/core.py:119: RuntimeWarning: invalid value encountered in divide\n",
      "  return func(*(_execute_task(a, cache) for a in args))\n",
      "/glade/work/adamhb/opt/miniconda/envs/env4/lib/python3.8/site-packages/dask/core.py:119: RuntimeWarning: invalid value encountered in divide\n",
      "  return func(*(_execute_task(a, cache) for a in args))\n",
      "/glade/work/adamhb/opt/miniconda/envs/env4/lib/python3.8/site-packages/dask/core.py:119: RuntimeWarning: invalid value encountered in divide\n",
      "  return func(*(_execute_task(a, cache) for a in args))\n"
     ]
    },
    {
     "name": "stdout",
     "output_type": "stream",
     "text": [
      "Working on ensemble member 0008 of 54 members\n"
     ]
    },
    {
     "name": "stderr",
     "output_type": "stream",
     "text": [
      "/glade/work/adamhb/opt/miniconda/envs/env4/lib/python3.8/site-packages/dask/core.py:119: RuntimeWarning: invalid value encountered in divide\n",
      "  return func(*(_execute_task(a, cache) for a in args))\n",
      "/glade/work/adamhb/opt/miniconda/envs/env4/lib/python3.8/site-packages/dask/core.py:119: RuntimeWarning: invalid value encountered in divide\n",
      "  return func(*(_execute_task(a, cache) for a in args))\n",
      "/glade/work/adamhb/opt/miniconda/envs/env4/lib/python3.8/site-packages/dask/core.py:119: RuntimeWarning: invalid value encountered in divide\n",
      "  return func(*(_execute_task(a, cache) for a in args))\n",
      "/glade/work/adamhb/opt/miniconda/envs/env4/lib/python3.8/site-packages/dask/core.py:119: RuntimeWarning: invalid value encountered in divide\n",
      "  return func(*(_execute_task(a, cache) for a in args))\n",
      "/glade/work/adamhb/opt/miniconda/envs/env4/lib/python3.8/site-packages/dask/core.py:119: RuntimeWarning: invalid value encountered in divide\n",
      "  return func(*(_execute_task(a, cache) for a in args))\n",
      "/glade/work/adamhb/opt/miniconda/envs/env4/lib/python3.8/site-packages/dask/core.py:119: RuntimeWarning: invalid value encountered in divide\n",
      "  return func(*(_execute_task(a, cache) for a in args))\n"
     ]
    },
    {
     "name": "stdout",
     "output_type": "stream",
     "text": [
      "Working on ensemble member 0009 of 54 members\n"
     ]
    },
    {
     "name": "stderr",
     "output_type": "stream",
     "text": [
      "/glade/work/adamhb/opt/miniconda/envs/env4/lib/python3.8/site-packages/dask/core.py:119: RuntimeWarning: invalid value encountered in divide\n",
      "  return func(*(_execute_task(a, cache) for a in args))\n",
      "/glade/work/adamhb/opt/miniconda/envs/env4/lib/python3.8/site-packages/dask/core.py:119: RuntimeWarning: invalid value encountered in divide\n",
      "  return func(*(_execute_task(a, cache) for a in args))\n",
      "/glade/work/adamhb/opt/miniconda/envs/env4/lib/python3.8/site-packages/dask/core.py:119: RuntimeWarning: invalid value encountered in divide\n",
      "  return func(*(_execute_task(a, cache) for a in args))\n",
      "/glade/work/adamhb/opt/miniconda/envs/env4/lib/python3.8/site-packages/dask/core.py:119: RuntimeWarning: invalid value encountered in divide\n",
      "  return func(*(_execute_task(a, cache) for a in args))\n",
      "/glade/work/adamhb/opt/miniconda/envs/env4/lib/python3.8/site-packages/dask/core.py:119: RuntimeWarning: invalid value encountered in divide\n",
      "  return func(*(_execute_task(a, cache) for a in args))\n",
      "/glade/work/adamhb/opt/miniconda/envs/env4/lib/python3.8/site-packages/dask/core.py:119: RuntimeWarning: invalid value encountered in divide\n",
      "  return func(*(_execute_task(a, cache) for a in args))\n"
     ]
    },
    {
     "name": "stdout",
     "output_type": "stream",
     "text": [
      "Working on ensemble member 0013 of 54 members\n"
     ]
    },
    {
     "name": "stderr",
     "output_type": "stream",
     "text": [
      "/glade/work/adamhb/opt/miniconda/envs/env4/lib/python3.8/site-packages/dask/core.py:119: RuntimeWarning: invalid value encountered in divide\n",
      "  return func(*(_execute_task(a, cache) for a in args))\n",
      "/glade/work/adamhb/opt/miniconda/envs/env4/lib/python3.8/site-packages/dask/core.py:119: RuntimeWarning: invalid value encountered in divide\n",
      "  return func(*(_execute_task(a, cache) for a in args))\n",
      "/glade/work/adamhb/opt/miniconda/envs/env4/lib/python3.8/site-packages/dask/core.py:119: RuntimeWarning: invalid value encountered in divide\n",
      "  return func(*(_execute_task(a, cache) for a in args))\n",
      "/glade/work/adamhb/opt/miniconda/envs/env4/lib/python3.8/site-packages/dask/core.py:119: RuntimeWarning: invalid value encountered in divide\n",
      "  return func(*(_execute_task(a, cache) for a in args))\n",
      "/glade/work/adamhb/opt/miniconda/envs/env4/lib/python3.8/site-packages/dask/core.py:119: RuntimeWarning: invalid value encountered in divide\n",
      "  return func(*(_execute_task(a, cache) for a in args))\n",
      "/glade/work/adamhb/opt/miniconda/envs/env4/lib/python3.8/site-packages/dask/core.py:119: RuntimeWarning: invalid value encountered in divide\n",
      "  return func(*(_execute_task(a, cache) for a in args))\n"
     ]
    },
    {
     "name": "stdout",
     "output_type": "stream",
     "text": [
      "Working on ensemble member 0014 of 54 members\n"
     ]
    },
    {
     "name": "stderr",
     "output_type": "stream",
     "text": [
      "/glade/work/adamhb/opt/miniconda/envs/env4/lib/python3.8/site-packages/dask/core.py:119: RuntimeWarning: invalid value encountered in divide\n",
      "  return func(*(_execute_task(a, cache) for a in args))\n",
      "/glade/work/adamhb/opt/miniconda/envs/env4/lib/python3.8/site-packages/dask/core.py:119: RuntimeWarning: invalid value encountered in divide\n",
      "  return func(*(_execute_task(a, cache) for a in args))\n",
      "/glade/work/adamhb/opt/miniconda/envs/env4/lib/python3.8/site-packages/dask/core.py:119: RuntimeWarning: invalid value encountered in divide\n",
      "  return func(*(_execute_task(a, cache) for a in args))\n",
      "/glade/work/adamhb/opt/miniconda/envs/env4/lib/python3.8/site-packages/dask/core.py:119: RuntimeWarning: invalid value encountered in divide\n",
      "  return func(*(_execute_task(a, cache) for a in args))\n",
      "/glade/work/adamhb/opt/miniconda/envs/env4/lib/python3.8/site-packages/dask/core.py:119: RuntimeWarning: invalid value encountered in divide\n",
      "  return func(*(_execute_task(a, cache) for a in args))\n",
      "/glade/work/adamhb/opt/miniconda/envs/env4/lib/python3.8/site-packages/dask/core.py:119: RuntimeWarning: invalid value encountered in divide\n",
      "  return func(*(_execute_task(a, cache) for a in args))\n"
     ]
    },
    {
     "name": "stdout",
     "output_type": "stream",
     "text": [
      "Working on ensemble member 0015 of 54 members\n"
     ]
    },
    {
     "name": "stderr",
     "output_type": "stream",
     "text": [
      "/glade/work/adamhb/opt/miniconda/envs/env4/lib/python3.8/site-packages/dask/core.py:119: RuntimeWarning: invalid value encountered in divide\n",
      "  return func(*(_execute_task(a, cache) for a in args))\n",
      "/glade/work/adamhb/opt/miniconda/envs/env4/lib/python3.8/site-packages/dask/core.py:119: RuntimeWarning: invalid value encountered in divide\n",
      "  return func(*(_execute_task(a, cache) for a in args))\n",
      "/glade/work/adamhb/opt/miniconda/envs/env4/lib/python3.8/site-packages/dask/core.py:119: RuntimeWarning: invalid value encountered in divide\n",
      "  return func(*(_execute_task(a, cache) for a in args))\n",
      "/glade/work/adamhb/opt/miniconda/envs/env4/lib/python3.8/site-packages/dask/core.py:119: RuntimeWarning: invalid value encountered in divide\n",
      "  return func(*(_execute_task(a, cache) for a in args))\n",
      "/glade/work/adamhb/opt/miniconda/envs/env4/lib/python3.8/site-packages/dask/core.py:119: RuntimeWarning: invalid value encountered in divide\n",
      "  return func(*(_execute_task(a, cache) for a in args))\n",
      "/glade/work/adamhb/opt/miniconda/envs/env4/lib/python3.8/site-packages/dask/core.py:119: RuntimeWarning: invalid value encountered in divide\n",
      "  return func(*(_execute_task(a, cache) for a in args))\n"
     ]
    },
    {
     "name": "stdout",
     "output_type": "stream",
     "text": [
      "Working on ensemble member 0017 of 54 members\n"
     ]
    },
    {
     "name": "stderr",
     "output_type": "stream",
     "text": [
      "/glade/work/adamhb/opt/miniconda/envs/env4/lib/python3.8/site-packages/dask/core.py:119: RuntimeWarning: invalid value encountered in divide\n",
      "  return func(*(_execute_task(a, cache) for a in args))\n",
      "/glade/work/adamhb/opt/miniconda/envs/env4/lib/python3.8/site-packages/dask/core.py:119: RuntimeWarning: invalid value encountered in divide\n",
      "  return func(*(_execute_task(a, cache) for a in args))\n",
      "/glade/work/adamhb/opt/miniconda/envs/env4/lib/python3.8/site-packages/dask/core.py:119: RuntimeWarning: invalid value encountered in divide\n",
      "  return func(*(_execute_task(a, cache) for a in args))\n",
      "/glade/work/adamhb/opt/miniconda/envs/env4/lib/python3.8/site-packages/dask/core.py:119: RuntimeWarning: invalid value encountered in divide\n",
      "  return func(*(_execute_task(a, cache) for a in args))\n",
      "/glade/work/adamhb/opt/miniconda/envs/env4/lib/python3.8/site-packages/dask/core.py:119: RuntimeWarning: invalid value encountered in divide\n",
      "  return func(*(_execute_task(a, cache) for a in args))\n",
      "/glade/work/adamhb/opt/miniconda/envs/env4/lib/python3.8/site-packages/dask/core.py:119: RuntimeWarning: invalid value encountered in divide\n",
      "  return func(*(_execute_task(a, cache) for a in args))\n"
     ]
    },
    {
     "name": "stdout",
     "output_type": "stream",
     "text": [
      "Working on ensemble member 0021 of 54 members\n"
     ]
    },
    {
     "name": "stderr",
     "output_type": "stream",
     "text": [
      "/glade/work/adamhb/opt/miniconda/envs/env4/lib/python3.8/site-packages/dask/core.py:119: RuntimeWarning: invalid value encountered in divide\n",
      "  return func(*(_execute_task(a, cache) for a in args))\n",
      "/glade/work/adamhb/opt/miniconda/envs/env4/lib/python3.8/site-packages/dask/core.py:119: RuntimeWarning: invalid value encountered in divide\n",
      "  return func(*(_execute_task(a, cache) for a in args))\n",
      "/glade/work/adamhb/opt/miniconda/envs/env4/lib/python3.8/site-packages/dask/core.py:119: RuntimeWarning: invalid value encountered in divide\n",
      "  return func(*(_execute_task(a, cache) for a in args))\n",
      "/glade/work/adamhb/opt/miniconda/envs/env4/lib/python3.8/site-packages/dask/core.py:119: RuntimeWarning: invalid value encountered in divide\n",
      "  return func(*(_execute_task(a, cache) for a in args))\n",
      "/glade/work/adamhb/opt/miniconda/envs/env4/lib/python3.8/site-packages/dask/core.py:119: RuntimeWarning: invalid value encountered in divide\n",
      "  return func(*(_execute_task(a, cache) for a in args))\n",
      "/glade/work/adamhb/opt/miniconda/envs/env4/lib/python3.8/site-packages/dask/core.py:119: RuntimeWarning: invalid value encountered in divide\n",
      "  return func(*(_execute_task(a, cache) for a in args))\n"
     ]
    },
    {
     "name": "stdout",
     "output_type": "stream",
     "text": [
      "Working on ensemble member 0022 of 54 members\n"
     ]
    },
    {
     "name": "stderr",
     "output_type": "stream",
     "text": [
      "/glade/work/adamhb/opt/miniconda/envs/env4/lib/python3.8/site-packages/dask/core.py:119: RuntimeWarning: invalid value encountered in divide\n",
      "  return func(*(_execute_task(a, cache) for a in args))\n",
      "/glade/work/adamhb/opt/miniconda/envs/env4/lib/python3.8/site-packages/dask/core.py:119: RuntimeWarning: invalid value encountered in divide\n",
      "  return func(*(_execute_task(a, cache) for a in args))\n",
      "/glade/work/adamhb/opt/miniconda/envs/env4/lib/python3.8/site-packages/dask/core.py:119: RuntimeWarning: invalid value encountered in divide\n",
      "  return func(*(_execute_task(a, cache) for a in args))\n",
      "/glade/work/adamhb/opt/miniconda/envs/env4/lib/python3.8/site-packages/dask/core.py:119: RuntimeWarning: invalid value encountered in divide\n",
      "  return func(*(_execute_task(a, cache) for a in args))\n",
      "/glade/work/adamhb/opt/miniconda/envs/env4/lib/python3.8/site-packages/dask/core.py:119: RuntimeWarning: invalid value encountered in divide\n",
      "  return func(*(_execute_task(a, cache) for a in args))\n",
      "/glade/work/adamhb/opt/miniconda/envs/env4/lib/python3.8/site-packages/dask/core.py:119: RuntimeWarning: invalid value encountered in divide\n",
      "  return func(*(_execute_task(a, cache) for a in args))\n"
     ]
    },
    {
     "name": "stdout",
     "output_type": "stream",
     "text": [
      "Working on ensemble member 0023 of 54 members\n"
     ]
    },
    {
     "name": "stderr",
     "output_type": "stream",
     "text": [
      "/glade/work/adamhb/opt/miniconda/envs/env4/lib/python3.8/site-packages/dask/core.py:119: RuntimeWarning: invalid value encountered in divide\n",
      "  return func(*(_execute_task(a, cache) for a in args))\n",
      "/glade/work/adamhb/opt/miniconda/envs/env4/lib/python3.8/site-packages/dask/core.py:119: RuntimeWarning: invalid value encountered in divide\n",
      "  return func(*(_execute_task(a, cache) for a in args))\n",
      "/glade/work/adamhb/opt/miniconda/envs/env4/lib/python3.8/site-packages/dask/core.py:119: RuntimeWarning: invalid value encountered in divide\n",
      "  return func(*(_execute_task(a, cache) for a in args))\n",
      "/glade/work/adamhb/opt/miniconda/envs/env4/lib/python3.8/site-packages/dask/core.py:119: RuntimeWarning: invalid value encountered in divide\n",
      "  return func(*(_execute_task(a, cache) for a in args))\n",
      "/glade/work/adamhb/opt/miniconda/envs/env4/lib/python3.8/site-packages/dask/core.py:119: RuntimeWarning: invalid value encountered in divide\n",
      "  return func(*(_execute_task(a, cache) for a in args))\n",
      "/glade/work/adamhb/opt/miniconda/envs/env4/lib/python3.8/site-packages/dask/core.py:119: RuntimeWarning: invalid value encountered in divide\n",
      "  return func(*(_execute_task(a, cache) for a in args))\n"
     ]
    },
    {
     "name": "stdout",
     "output_type": "stream",
     "text": [
      "Working on ensemble member 0024 of 54 members\n"
     ]
    },
    {
     "name": "stderr",
     "output_type": "stream",
     "text": [
      "/glade/work/adamhb/opt/miniconda/envs/env4/lib/python3.8/site-packages/dask/core.py:119: RuntimeWarning: invalid value encountered in divide\n",
      "  return func(*(_execute_task(a, cache) for a in args))\n",
      "/glade/work/adamhb/opt/miniconda/envs/env4/lib/python3.8/site-packages/dask/core.py:119: RuntimeWarning: invalid value encountered in divide\n",
      "  return func(*(_execute_task(a, cache) for a in args))\n",
      "/glade/work/adamhb/opt/miniconda/envs/env4/lib/python3.8/site-packages/dask/core.py:119: RuntimeWarning: invalid value encountered in divide\n",
      "  return func(*(_execute_task(a, cache) for a in args))\n",
      "/glade/work/adamhb/opt/miniconda/envs/env4/lib/python3.8/site-packages/dask/core.py:119: RuntimeWarning: invalid value encountered in divide\n",
      "  return func(*(_execute_task(a, cache) for a in args))\n",
      "/glade/work/adamhb/opt/miniconda/envs/env4/lib/python3.8/site-packages/dask/core.py:119: RuntimeWarning: invalid value encountered in divide\n",
      "  return func(*(_execute_task(a, cache) for a in args))\n",
      "/glade/work/adamhb/opt/miniconda/envs/env4/lib/python3.8/site-packages/dask/core.py:119: RuntimeWarning: invalid value encountered in divide\n",
      "  return func(*(_execute_task(a, cache) for a in args))\n"
     ]
    },
    {
     "name": "stdout",
     "output_type": "stream",
     "text": [
      "Working on ensemble member 0025 of 54 members\n"
     ]
    },
    {
     "name": "stderr",
     "output_type": "stream",
     "text": [
      "/glade/work/adamhb/opt/miniconda/envs/env4/lib/python3.8/site-packages/dask/core.py:119: RuntimeWarning: invalid value encountered in divide\n",
      "  return func(*(_execute_task(a, cache) for a in args))\n",
      "/glade/work/adamhb/opt/miniconda/envs/env4/lib/python3.8/site-packages/dask/core.py:119: RuntimeWarning: invalid value encountered in divide\n",
      "  return func(*(_execute_task(a, cache) for a in args))\n",
      "/glade/work/adamhb/opt/miniconda/envs/env4/lib/python3.8/site-packages/dask/core.py:119: RuntimeWarning: invalid value encountered in divide\n",
      "  return func(*(_execute_task(a, cache) for a in args))\n",
      "/glade/work/adamhb/opt/miniconda/envs/env4/lib/python3.8/site-packages/dask/core.py:119: RuntimeWarning: invalid value encountered in divide\n",
      "  return func(*(_execute_task(a, cache) for a in args))\n",
      "/glade/work/adamhb/opt/miniconda/envs/env4/lib/python3.8/site-packages/dask/core.py:119: RuntimeWarning: invalid value encountered in divide\n",
      "  return func(*(_execute_task(a, cache) for a in args))\n",
      "/glade/work/adamhb/opt/miniconda/envs/env4/lib/python3.8/site-packages/dask/core.py:119: RuntimeWarning: invalid value encountered in divide\n",
      "  return func(*(_execute_task(a, cache) for a in args))\n"
     ]
    },
    {
     "name": "stdout",
     "output_type": "stream",
     "text": [
      "Working on ensemble member 0026 of 54 members\n"
     ]
    },
    {
     "name": "stderr",
     "output_type": "stream",
     "text": [
      "/glade/work/adamhb/opt/miniconda/envs/env4/lib/python3.8/site-packages/dask/core.py:119: RuntimeWarning: invalid value encountered in divide\n",
      "  return func(*(_execute_task(a, cache) for a in args))\n",
      "/glade/work/adamhb/opt/miniconda/envs/env4/lib/python3.8/site-packages/dask/core.py:119: RuntimeWarning: invalid value encountered in divide\n",
      "  return func(*(_execute_task(a, cache) for a in args))\n",
      "/glade/work/adamhb/opt/miniconda/envs/env4/lib/python3.8/site-packages/dask/core.py:119: RuntimeWarning: invalid value encountered in divide\n",
      "  return func(*(_execute_task(a, cache) for a in args))\n",
      "/glade/work/adamhb/opt/miniconda/envs/env4/lib/python3.8/site-packages/dask/core.py:119: RuntimeWarning: invalid value encountered in divide\n",
      "  return func(*(_execute_task(a, cache) for a in args))\n",
      "/glade/work/adamhb/opt/miniconda/envs/env4/lib/python3.8/site-packages/dask/core.py:119: RuntimeWarning: invalid value encountered in divide\n",
      "  return func(*(_execute_task(a, cache) for a in args))\n",
      "/glade/work/adamhb/opt/miniconda/envs/env4/lib/python3.8/site-packages/dask/core.py:119: RuntimeWarning: invalid value encountered in divide\n",
      "  return func(*(_execute_task(a, cache) for a in args))\n"
     ]
    },
    {
     "name": "stdout",
     "output_type": "stream",
     "text": [
      "Working on ensemble member 0027 of 54 members\n"
     ]
    },
    {
     "name": "stderr",
     "output_type": "stream",
     "text": [
      "/glade/work/adamhb/opt/miniconda/envs/env4/lib/python3.8/site-packages/dask/core.py:119: RuntimeWarning: invalid value encountered in divide\n",
      "  return func(*(_execute_task(a, cache) for a in args))\n",
      "/glade/work/adamhb/opt/miniconda/envs/env4/lib/python3.8/site-packages/dask/core.py:119: RuntimeWarning: invalid value encountered in divide\n",
      "  return func(*(_execute_task(a, cache) for a in args))\n",
      "/glade/work/adamhb/opt/miniconda/envs/env4/lib/python3.8/site-packages/dask/core.py:119: RuntimeWarning: invalid value encountered in divide\n",
      "  return func(*(_execute_task(a, cache) for a in args))\n",
      "/glade/work/adamhb/opt/miniconda/envs/env4/lib/python3.8/site-packages/dask/core.py:119: RuntimeWarning: invalid value encountered in divide\n",
      "  return func(*(_execute_task(a, cache) for a in args))\n",
      "/glade/work/adamhb/opt/miniconda/envs/env4/lib/python3.8/site-packages/dask/core.py:119: RuntimeWarning: invalid value encountered in divide\n",
      "  return func(*(_execute_task(a, cache) for a in args))\n",
      "/glade/work/adamhb/opt/miniconda/envs/env4/lib/python3.8/site-packages/dask/core.py:119: RuntimeWarning: invalid value encountered in divide\n",
      "  return func(*(_execute_task(a, cache) for a in args))\n"
     ]
    },
    {
     "name": "stdout",
     "output_type": "stream",
     "text": [
      "Working on ensemble member 0029 of 54 members\n"
     ]
    },
    {
     "name": "stderr",
     "output_type": "stream",
     "text": [
      "/glade/work/adamhb/opt/miniconda/envs/env4/lib/python3.8/site-packages/dask/core.py:119: RuntimeWarning: invalid value encountered in divide\n",
      "  return func(*(_execute_task(a, cache) for a in args))\n",
      "/glade/work/adamhb/opt/miniconda/envs/env4/lib/python3.8/site-packages/dask/core.py:119: RuntimeWarning: invalid value encountered in divide\n",
      "  return func(*(_execute_task(a, cache) for a in args))\n",
      "/glade/work/adamhb/opt/miniconda/envs/env4/lib/python3.8/site-packages/dask/core.py:119: RuntimeWarning: invalid value encountered in divide\n",
      "  return func(*(_execute_task(a, cache) for a in args))\n",
      "/glade/work/adamhb/opt/miniconda/envs/env4/lib/python3.8/site-packages/dask/core.py:119: RuntimeWarning: invalid value encountered in divide\n",
      "  return func(*(_execute_task(a, cache) for a in args))\n",
      "/glade/work/adamhb/opt/miniconda/envs/env4/lib/python3.8/site-packages/dask/core.py:119: RuntimeWarning: invalid value encountered in divide\n",
      "  return func(*(_execute_task(a, cache) for a in args))\n",
      "/glade/work/adamhb/opt/miniconda/envs/env4/lib/python3.8/site-packages/dask/core.py:119: RuntimeWarning: invalid value encountered in divide\n",
      "  return func(*(_execute_task(a, cache) for a in args))\n"
     ]
    },
    {
     "name": "stdout",
     "output_type": "stream",
     "text": [
      "Working on ensemble member 0030 of 54 members\n"
     ]
    },
    {
     "name": "stderr",
     "output_type": "stream",
     "text": [
      "/glade/work/adamhb/opt/miniconda/envs/env4/lib/python3.8/site-packages/dask/core.py:119: RuntimeWarning: invalid value encountered in divide\n",
      "  return func(*(_execute_task(a, cache) for a in args))\n",
      "/glade/work/adamhb/opt/miniconda/envs/env4/lib/python3.8/site-packages/dask/core.py:119: RuntimeWarning: invalid value encountered in divide\n",
      "  return func(*(_execute_task(a, cache) for a in args))\n",
      "/glade/work/adamhb/opt/miniconda/envs/env4/lib/python3.8/site-packages/dask/core.py:119: RuntimeWarning: invalid value encountered in divide\n",
      "  return func(*(_execute_task(a, cache) for a in args))\n",
      "/glade/work/adamhb/opt/miniconda/envs/env4/lib/python3.8/site-packages/dask/core.py:119: RuntimeWarning: invalid value encountered in divide\n",
      "  return func(*(_execute_task(a, cache) for a in args))\n",
      "/glade/work/adamhb/opt/miniconda/envs/env4/lib/python3.8/site-packages/dask/core.py:119: RuntimeWarning: invalid value encountered in divide\n",
      "  return func(*(_execute_task(a, cache) for a in args))\n",
      "/glade/work/adamhb/opt/miniconda/envs/env4/lib/python3.8/site-packages/dask/core.py:119: RuntimeWarning: invalid value encountered in divide\n",
      "  return func(*(_execute_task(a, cache) for a in args))\n"
     ]
    },
    {
     "name": "stdout",
     "output_type": "stream",
     "text": [
      "Working on ensemble member 0031 of 54 members\n"
     ]
    },
    {
     "name": "stderr",
     "output_type": "stream",
     "text": [
      "/glade/work/adamhb/opt/miniconda/envs/env4/lib/python3.8/site-packages/dask/core.py:119: RuntimeWarning: invalid value encountered in divide\n",
      "  return func(*(_execute_task(a, cache) for a in args))\n",
      "/glade/work/adamhb/opt/miniconda/envs/env4/lib/python3.8/site-packages/dask/core.py:119: RuntimeWarning: invalid value encountered in divide\n",
      "  return func(*(_execute_task(a, cache) for a in args))\n",
      "/glade/work/adamhb/opt/miniconda/envs/env4/lib/python3.8/site-packages/dask/core.py:119: RuntimeWarning: invalid value encountered in divide\n",
      "  return func(*(_execute_task(a, cache) for a in args))\n",
      "/glade/work/adamhb/opt/miniconda/envs/env4/lib/python3.8/site-packages/dask/core.py:119: RuntimeWarning: invalid value encountered in divide\n",
      "  return func(*(_execute_task(a, cache) for a in args))\n",
      "/glade/work/adamhb/opt/miniconda/envs/env4/lib/python3.8/site-packages/dask/core.py:119: RuntimeWarning: invalid value encountered in divide\n",
      "  return func(*(_execute_task(a, cache) for a in args))\n",
      "/glade/work/adamhb/opt/miniconda/envs/env4/lib/python3.8/site-packages/dask/core.py:119: RuntimeWarning: invalid value encountered in divide\n",
      "  return func(*(_execute_task(a, cache) for a in args))\n"
     ]
    },
    {
     "name": "stdout",
     "output_type": "stream",
     "text": [
      "Working on ensemble member 0033 of 54 members\n"
     ]
    },
    {
     "name": "stderr",
     "output_type": "stream",
     "text": [
      "/glade/work/adamhb/opt/miniconda/envs/env4/lib/python3.8/site-packages/dask/core.py:119: RuntimeWarning: invalid value encountered in divide\n",
      "  return func(*(_execute_task(a, cache) for a in args))\n",
      "/glade/work/adamhb/opt/miniconda/envs/env4/lib/python3.8/site-packages/dask/core.py:119: RuntimeWarning: invalid value encountered in divide\n",
      "  return func(*(_execute_task(a, cache) for a in args))\n",
      "/glade/work/adamhb/opt/miniconda/envs/env4/lib/python3.8/site-packages/dask/core.py:119: RuntimeWarning: invalid value encountered in divide\n",
      "  return func(*(_execute_task(a, cache) for a in args))\n",
      "/glade/work/adamhb/opt/miniconda/envs/env4/lib/python3.8/site-packages/dask/core.py:119: RuntimeWarning: invalid value encountered in divide\n",
      "  return func(*(_execute_task(a, cache) for a in args))\n",
      "/glade/work/adamhb/opt/miniconda/envs/env4/lib/python3.8/site-packages/dask/core.py:119: RuntimeWarning: invalid value encountered in divide\n",
      "  return func(*(_execute_task(a, cache) for a in args))\n",
      "/glade/work/adamhb/opt/miniconda/envs/env4/lib/python3.8/site-packages/dask/core.py:119: RuntimeWarning: invalid value encountered in divide\n",
      "  return func(*(_execute_task(a, cache) for a in args))\n"
     ]
    },
    {
     "name": "stdout",
     "output_type": "stream",
     "text": [
      "Working on ensemble member 0037 of 54 members\n"
     ]
    },
    {
     "name": "stderr",
     "output_type": "stream",
     "text": [
      "/glade/work/adamhb/opt/miniconda/envs/env4/lib/python3.8/site-packages/dask/core.py:119: RuntimeWarning: invalid value encountered in divide\n",
      "  return func(*(_execute_task(a, cache) for a in args))\n",
      "/glade/work/adamhb/opt/miniconda/envs/env4/lib/python3.8/site-packages/dask/core.py:119: RuntimeWarning: invalid value encountered in divide\n",
      "  return func(*(_execute_task(a, cache) for a in args))\n",
      "/glade/work/adamhb/opt/miniconda/envs/env4/lib/python3.8/site-packages/dask/core.py:119: RuntimeWarning: invalid value encountered in divide\n",
      "  return func(*(_execute_task(a, cache) for a in args))\n",
      "/glade/work/adamhb/opt/miniconda/envs/env4/lib/python3.8/site-packages/dask/core.py:119: RuntimeWarning: invalid value encountered in divide\n",
      "  return func(*(_execute_task(a, cache) for a in args))\n",
      "/glade/work/adamhb/opt/miniconda/envs/env4/lib/python3.8/site-packages/dask/core.py:119: RuntimeWarning: invalid value encountered in divide\n",
      "  return func(*(_execute_task(a, cache) for a in args))\n",
      "/glade/work/adamhb/opt/miniconda/envs/env4/lib/python3.8/site-packages/dask/core.py:119: RuntimeWarning: invalid value encountered in divide\n",
      "  return func(*(_execute_task(a, cache) for a in args))\n"
     ]
    },
    {
     "name": "stdout",
     "output_type": "stream",
     "text": [
      "Working on ensemble member 0038 of 54 members\n"
     ]
    },
    {
     "name": "stderr",
     "output_type": "stream",
     "text": [
      "/glade/work/adamhb/opt/miniconda/envs/env4/lib/python3.8/site-packages/dask/core.py:119: RuntimeWarning: invalid value encountered in divide\n",
      "  return func(*(_execute_task(a, cache) for a in args))\n",
      "/glade/work/adamhb/opt/miniconda/envs/env4/lib/python3.8/site-packages/dask/core.py:119: RuntimeWarning: invalid value encountered in divide\n",
      "  return func(*(_execute_task(a, cache) for a in args))\n",
      "/glade/work/adamhb/opt/miniconda/envs/env4/lib/python3.8/site-packages/dask/core.py:119: RuntimeWarning: invalid value encountered in divide\n",
      "  return func(*(_execute_task(a, cache) for a in args))\n",
      "/glade/work/adamhb/opt/miniconda/envs/env4/lib/python3.8/site-packages/dask/core.py:119: RuntimeWarning: invalid value encountered in divide\n",
      "  return func(*(_execute_task(a, cache) for a in args))\n",
      "/glade/work/adamhb/opt/miniconda/envs/env4/lib/python3.8/site-packages/dask/core.py:119: RuntimeWarning: invalid value encountered in divide\n",
      "  return func(*(_execute_task(a, cache) for a in args))\n",
      "/glade/work/adamhb/opt/miniconda/envs/env4/lib/python3.8/site-packages/dask/core.py:119: RuntimeWarning: invalid value encountered in divide\n",
      "  return func(*(_execute_task(a, cache) for a in args))\n"
     ]
    },
    {
     "name": "stdout",
     "output_type": "stream",
     "text": [
      "Working on ensemble member 0041 of 54 members\n"
     ]
    },
    {
     "name": "stderr",
     "output_type": "stream",
     "text": [
      "/glade/work/adamhb/opt/miniconda/envs/env4/lib/python3.8/site-packages/dask/core.py:119: RuntimeWarning: invalid value encountered in divide\n",
      "  return func(*(_execute_task(a, cache) for a in args))\n",
      "/glade/work/adamhb/opt/miniconda/envs/env4/lib/python3.8/site-packages/dask/core.py:119: RuntimeWarning: invalid value encountered in divide\n",
      "  return func(*(_execute_task(a, cache) for a in args))\n",
      "/glade/work/adamhb/opt/miniconda/envs/env4/lib/python3.8/site-packages/dask/core.py:119: RuntimeWarning: invalid value encountered in divide\n",
      "  return func(*(_execute_task(a, cache) for a in args))\n",
      "/glade/work/adamhb/opt/miniconda/envs/env4/lib/python3.8/site-packages/dask/core.py:119: RuntimeWarning: invalid value encountered in divide\n",
      "  return func(*(_execute_task(a, cache) for a in args))\n",
      "/glade/work/adamhb/opt/miniconda/envs/env4/lib/python3.8/site-packages/dask/core.py:119: RuntimeWarning: invalid value encountered in divide\n",
      "  return func(*(_execute_task(a, cache) for a in args))\n",
      "/glade/work/adamhb/opt/miniconda/envs/env4/lib/python3.8/site-packages/dask/core.py:119: RuntimeWarning: invalid value encountered in divide\n",
      "  return func(*(_execute_task(a, cache) for a in args))\n"
     ]
    },
    {
     "name": "stdout",
     "output_type": "stream",
     "text": [
      "Working on ensemble member 0042 of 54 members\n"
     ]
    },
    {
     "name": "stderr",
     "output_type": "stream",
     "text": [
      "/glade/work/adamhb/opt/miniconda/envs/env4/lib/python3.8/site-packages/dask/core.py:119: RuntimeWarning: invalid value encountered in divide\n",
      "  return func(*(_execute_task(a, cache) for a in args))\n",
      "/glade/work/adamhb/opt/miniconda/envs/env4/lib/python3.8/site-packages/dask/core.py:119: RuntimeWarning: invalid value encountered in divide\n",
      "  return func(*(_execute_task(a, cache) for a in args))\n",
      "/glade/work/adamhb/opt/miniconda/envs/env4/lib/python3.8/site-packages/dask/core.py:119: RuntimeWarning: invalid value encountered in divide\n",
      "  return func(*(_execute_task(a, cache) for a in args))\n",
      "/glade/work/adamhb/opt/miniconda/envs/env4/lib/python3.8/site-packages/dask/core.py:119: RuntimeWarning: invalid value encountered in divide\n",
      "  return func(*(_execute_task(a, cache) for a in args))\n",
      "/glade/work/adamhb/opt/miniconda/envs/env4/lib/python3.8/site-packages/dask/core.py:119: RuntimeWarning: invalid value encountered in divide\n",
      "  return func(*(_execute_task(a, cache) for a in args))\n",
      "/glade/work/adamhb/opt/miniconda/envs/env4/lib/python3.8/site-packages/dask/core.py:119: RuntimeWarning: invalid value encountered in divide\n",
      "  return func(*(_execute_task(a, cache) for a in args))\n"
     ]
    },
    {
     "name": "stdout",
     "output_type": "stream",
     "text": [
      "Working on ensemble member 0045 of 54 members\n"
     ]
    },
    {
     "name": "stderr",
     "output_type": "stream",
     "text": [
      "/glade/work/adamhb/opt/miniconda/envs/env4/lib/python3.8/site-packages/dask/core.py:119: RuntimeWarning: invalid value encountered in divide\n",
      "  return func(*(_execute_task(a, cache) for a in args))\n",
      "/glade/work/adamhb/opt/miniconda/envs/env4/lib/python3.8/site-packages/dask/core.py:119: RuntimeWarning: invalid value encountered in divide\n",
      "  return func(*(_execute_task(a, cache) for a in args))\n",
      "/glade/work/adamhb/opt/miniconda/envs/env4/lib/python3.8/site-packages/dask/core.py:119: RuntimeWarning: invalid value encountered in divide\n",
      "  return func(*(_execute_task(a, cache) for a in args))\n",
      "/glade/work/adamhb/opt/miniconda/envs/env4/lib/python3.8/site-packages/dask/core.py:119: RuntimeWarning: invalid value encountered in divide\n",
      "  return func(*(_execute_task(a, cache) for a in args))\n",
      "/glade/work/adamhb/opt/miniconda/envs/env4/lib/python3.8/site-packages/dask/core.py:119: RuntimeWarning: invalid value encountered in divide\n",
      "  return func(*(_execute_task(a, cache) for a in args))\n",
      "/glade/work/adamhb/opt/miniconda/envs/env4/lib/python3.8/site-packages/dask/core.py:119: RuntimeWarning: invalid value encountered in divide\n",
      "  return func(*(_execute_task(a, cache) for a in args))\n"
     ]
    },
    {
     "name": "stdout",
     "output_type": "stream",
     "text": [
      "Working on ensemble member 0046 of 54 members\n"
     ]
    },
    {
     "name": "stderr",
     "output_type": "stream",
     "text": [
      "/glade/work/adamhb/opt/miniconda/envs/env4/lib/python3.8/site-packages/dask/core.py:119: RuntimeWarning: invalid value encountered in divide\n",
      "  return func(*(_execute_task(a, cache) for a in args))\n",
      "/glade/work/adamhb/opt/miniconda/envs/env4/lib/python3.8/site-packages/dask/core.py:119: RuntimeWarning: invalid value encountered in divide\n",
      "  return func(*(_execute_task(a, cache) for a in args))\n",
      "/glade/work/adamhb/opt/miniconda/envs/env4/lib/python3.8/site-packages/dask/core.py:119: RuntimeWarning: invalid value encountered in divide\n",
      "  return func(*(_execute_task(a, cache) for a in args))\n",
      "/glade/work/adamhb/opt/miniconda/envs/env4/lib/python3.8/site-packages/dask/core.py:119: RuntimeWarning: invalid value encountered in divide\n",
      "  return func(*(_execute_task(a, cache) for a in args))\n",
      "/glade/work/adamhb/opt/miniconda/envs/env4/lib/python3.8/site-packages/dask/core.py:119: RuntimeWarning: invalid value encountered in divide\n",
      "  return func(*(_execute_task(a, cache) for a in args))\n",
      "/glade/work/adamhb/opt/miniconda/envs/env4/lib/python3.8/site-packages/dask/core.py:119: RuntimeWarning: invalid value encountered in divide\n",
      "  return func(*(_execute_task(a, cache) for a in args))\n"
     ]
    },
    {
     "name": "stdout",
     "output_type": "stream",
     "text": [
      "Working on ensemble member 0048 of 54 members\n"
     ]
    },
    {
     "name": "stderr",
     "output_type": "stream",
     "text": [
      "/glade/work/adamhb/opt/miniconda/envs/env4/lib/python3.8/site-packages/dask/core.py:119: RuntimeWarning: invalid value encountered in divide\n",
      "  return func(*(_execute_task(a, cache) for a in args))\n",
      "/glade/work/adamhb/opt/miniconda/envs/env4/lib/python3.8/site-packages/dask/core.py:119: RuntimeWarning: invalid value encountered in divide\n",
      "  return func(*(_execute_task(a, cache) for a in args))\n",
      "/glade/work/adamhb/opt/miniconda/envs/env4/lib/python3.8/site-packages/dask/core.py:119: RuntimeWarning: invalid value encountered in divide\n",
      "  return func(*(_execute_task(a, cache) for a in args))\n",
      "/glade/work/adamhb/opt/miniconda/envs/env4/lib/python3.8/site-packages/dask/core.py:119: RuntimeWarning: invalid value encountered in divide\n",
      "  return func(*(_execute_task(a, cache) for a in args))\n",
      "/glade/work/adamhb/opt/miniconda/envs/env4/lib/python3.8/site-packages/dask/core.py:119: RuntimeWarning: invalid value encountered in divide\n",
      "  return func(*(_execute_task(a, cache) for a in args))\n",
      "/glade/work/adamhb/opt/miniconda/envs/env4/lib/python3.8/site-packages/dask/core.py:119: RuntimeWarning: invalid value encountered in divide\n",
      "  return func(*(_execute_task(a, cache) for a in args))\n"
     ]
    },
    {
     "name": "stdout",
     "output_type": "stream",
     "text": [
      "Working on ensemble member 0050 of 54 members\n"
     ]
    },
    {
     "name": "stderr",
     "output_type": "stream",
     "text": [
      "/glade/work/adamhb/opt/miniconda/envs/env4/lib/python3.8/site-packages/dask/core.py:119: RuntimeWarning: invalid value encountered in divide\n",
      "  return func(*(_execute_task(a, cache) for a in args))\n",
      "/glade/work/adamhb/opt/miniconda/envs/env4/lib/python3.8/site-packages/dask/core.py:119: RuntimeWarning: invalid value encountered in divide\n",
      "  return func(*(_execute_task(a, cache) for a in args))\n",
      "/glade/work/adamhb/opt/miniconda/envs/env4/lib/python3.8/site-packages/dask/core.py:119: RuntimeWarning: invalid value encountered in divide\n",
      "  return func(*(_execute_task(a, cache) for a in args))\n",
      "/glade/work/adamhb/opt/miniconda/envs/env4/lib/python3.8/site-packages/dask/core.py:119: RuntimeWarning: invalid value encountered in divide\n",
      "  return func(*(_execute_task(a, cache) for a in args))\n",
      "/glade/work/adamhb/opt/miniconda/envs/env4/lib/python3.8/site-packages/dask/core.py:119: RuntimeWarning: invalid value encountered in divide\n",
      "  return func(*(_execute_task(a, cache) for a in args))\n",
      "/glade/work/adamhb/opt/miniconda/envs/env4/lib/python3.8/site-packages/dask/core.py:119: RuntimeWarning: invalid value encountered in divide\n",
      "  return func(*(_execute_task(a, cache) for a in args))\n"
     ]
    },
    {
     "name": "stdout",
     "output_type": "stream",
     "text": [
      "Working on ensemble member 0051 of 54 members\n"
     ]
    },
    {
     "name": "stderr",
     "output_type": "stream",
     "text": [
      "/glade/work/adamhb/opt/miniconda/envs/env4/lib/python3.8/site-packages/dask/core.py:119: RuntimeWarning: invalid value encountered in divide\n",
      "  return func(*(_execute_task(a, cache) for a in args))\n",
      "/glade/work/adamhb/opt/miniconda/envs/env4/lib/python3.8/site-packages/dask/core.py:119: RuntimeWarning: invalid value encountered in divide\n",
      "  return func(*(_execute_task(a, cache) for a in args))\n",
      "/glade/work/adamhb/opt/miniconda/envs/env4/lib/python3.8/site-packages/dask/core.py:119: RuntimeWarning: invalid value encountered in divide\n",
      "  return func(*(_execute_task(a, cache) for a in args))\n",
      "/glade/work/adamhb/opt/miniconda/envs/env4/lib/python3.8/site-packages/dask/core.py:119: RuntimeWarning: invalid value encountered in divide\n",
      "  return func(*(_execute_task(a, cache) for a in args))\n",
      "/glade/work/adamhb/opt/miniconda/envs/env4/lib/python3.8/site-packages/dask/core.py:119: RuntimeWarning: invalid value encountered in divide\n",
      "  return func(*(_execute_task(a, cache) for a in args))\n",
      "/glade/work/adamhb/opt/miniconda/envs/env4/lib/python3.8/site-packages/dask/core.py:119: RuntimeWarning: invalid value encountered in divide\n",
      "  return func(*(_execute_task(a, cache) for a in args))\n"
     ]
    },
    {
     "name": "stdout",
     "output_type": "stream",
     "text": [
      "Working on ensemble member 0052 of 54 members\n"
     ]
    },
    {
     "name": "stderr",
     "output_type": "stream",
     "text": [
      "/glade/work/adamhb/opt/miniconda/envs/env4/lib/python3.8/site-packages/dask/core.py:119: RuntimeWarning: invalid value encountered in divide\n",
      "  return func(*(_execute_task(a, cache) for a in args))\n",
      "/glade/work/adamhb/opt/miniconda/envs/env4/lib/python3.8/site-packages/dask/core.py:119: RuntimeWarning: invalid value encountered in divide\n",
      "  return func(*(_execute_task(a, cache) for a in args))\n",
      "/glade/work/adamhb/opt/miniconda/envs/env4/lib/python3.8/site-packages/dask/core.py:119: RuntimeWarning: invalid value encountered in divide\n",
      "  return func(*(_execute_task(a, cache) for a in args))\n",
      "/glade/work/adamhb/opt/miniconda/envs/env4/lib/python3.8/site-packages/dask/core.py:119: RuntimeWarning: invalid value encountered in divide\n",
      "  return func(*(_execute_task(a, cache) for a in args))\n",
      "/glade/work/adamhb/opt/miniconda/envs/env4/lib/python3.8/site-packages/dask/core.py:119: RuntimeWarning: invalid value encountered in divide\n",
      "  return func(*(_execute_task(a, cache) for a in args))\n",
      "/glade/work/adamhb/opt/miniconda/envs/env4/lib/python3.8/site-packages/dask/core.py:119: RuntimeWarning: invalid value encountered in divide\n",
      "  return func(*(_execute_task(a, cache) for a in args))\n"
     ]
    },
    {
     "name": "stdout",
     "output_type": "stream",
     "text": [
      "Working on ensemble member 0053 of 54 members\n"
     ]
    },
    {
     "name": "stderr",
     "output_type": "stream",
     "text": [
      "/glade/work/adamhb/opt/miniconda/envs/env4/lib/python3.8/site-packages/dask/core.py:119: RuntimeWarning: invalid value encountered in divide\n",
      "  return func(*(_execute_task(a, cache) for a in args))\n",
      "/glade/work/adamhb/opt/miniconda/envs/env4/lib/python3.8/site-packages/dask/core.py:119: RuntimeWarning: invalid value encountered in divide\n",
      "  return func(*(_execute_task(a, cache) for a in args))\n",
      "/glade/work/adamhb/opt/miniconda/envs/env4/lib/python3.8/site-packages/dask/core.py:119: RuntimeWarning: invalid value encountered in divide\n",
      "  return func(*(_execute_task(a, cache) for a in args))\n",
      "/glade/work/adamhb/opt/miniconda/envs/env4/lib/python3.8/site-packages/dask/core.py:119: RuntimeWarning: invalid value encountered in divide\n",
      "  return func(*(_execute_task(a, cache) for a in args))\n",
      "/glade/work/adamhb/opt/miniconda/envs/env4/lib/python3.8/site-packages/dask/core.py:119: RuntimeWarning: invalid value encountered in divide\n",
      "  return func(*(_execute_task(a, cache) for a in args))\n",
      "/glade/work/adamhb/opt/miniconda/envs/env4/lib/python3.8/site-packages/dask/core.py:119: RuntimeWarning: invalid value encountered in divide\n",
      "  return func(*(_execute_task(a, cache) for a in args))\n"
     ]
    },
    {
     "name": "stdout",
     "output_type": "stream",
     "text": [
      "Directory '/glade/work/adamhb/processed_output/CZ2_trans_1951_2020_012824_-17e2acb6a_FATES-5b076b69' created successfully!\n"
     ]
    }
   ],
   "source": [
    "if apply_to_one_case == True:\n",
    "    output_dict = get_benchmarks(case_name=case_name,\n",
    "                                  metrics = my_metrics,\n",
    "                                  last_n_years=last_n_years,\n",
    "                                  param_sub_dir=param_sub_dir,\n",
    "                                  param_range_file_name = param_range_file_name,\n",
    "                                  pft_names = pft_names,\n",
    "                                  test=test,\n",
    "                                  decadal_n_years=decadal_n_years,\n",
    "                                  decadal_scale_metrics=decadal_scale_metrics,\n",
    "                                  end_year = end_year)#,\n",
    "                                  #manual_case_path = manual_case_path)\n",
    "    df = pd.DataFrame(output_dict)\n",
    "    if decadal_scale_metrics == True:\n",
    "        file_name = case_name + \"_with_fire_metrics\"\n",
    "    else:\n",
    "        file_name = case_name + \"_structure_metrics_last\" + str(last_n_years) + \"_years\" \n",
    "    \n",
    "    esm_tools.store_output_csv(case_name,file_name,df,processed_output_root = processed_output_root)"
   ]
  },
  {
   "cell_type": "markdown",
   "id": "4aa6286d-ff5d-4f52-b341-797ccafb723e",
   "metadata": {},
   "source": [
    "## View synthesized ensemble data"
   ]
  },
  {
   "cell_type": "code",
   "execution_count": 9,
   "id": "00e3b715-7569-42d0-9e6e-5a84f13d8960",
   "metadata": {},
   "outputs": [],
   "source": [
    "#list(df.columns)"
   ]
  },
  {
   "cell_type": "code",
   "execution_count": 10,
   "id": "7f1aac06-767d-4d9b-b9d0-44e8f6990063",
   "metadata": {},
   "outputs": [],
   "source": [
    "# cols = list(df.columns)[:17]\n",
    "# df[cols]"
   ]
  },
  {
   "cell_type": "code",
   "execution_count": null,
   "id": "99af2f30-cc69-4d5d-ae63-962331ff39a5",
   "metadata": {},
   "outputs": [],
   "source": []
  },
  {
   "cell_type": "markdown",
   "id": "80c8530a-38c5-43f0-95da-0afe08ddf757",
   "metadata": {},
   "source": [
    "## Apply to multiple cases"
   ]
  },
  {
   "cell_type": "code",
   "execution_count": 11,
   "id": "d601763e-fc5c-4792-ae2e-62d54c2b2ca5",
   "metadata": {},
   "outputs": [],
   "source": [
    "if apply_to_one_case == False:\n",
    "    df = pd.DataFrame()\n",
    "    for case_tag in case_tags: \n",
    "        \n",
    "        case_name = case_name_prefix + case_tag + case_name_suffix\n",
    "        \n",
    "        # Subdirectory where the parameter file for each ensemble member is stored\n",
    "        param_sub_dir=param_sub_dir_prefix + case_tag\n",
    "        output_dict = get_benchmarks(case_name=case_name,\n",
    "                                  metrics = my_metrics,\n",
    "                                  last_n_years=last_n_years,\n",
    "                                  param_sub_dir=param_sub_dir,\n",
    "                                  param_range_file_name = param_range_file_name,\n",
    "                                  pft_names = pft_names,\n",
    "                                  test=test,\n",
    "                                  decadal_n_years=decadal_n_years,\n",
    "                                  decadal_scale_metrics=decadal_scale_metrics)#,\n",
    "                                  #manual_case_path = manual_case_path)\n",
    "        \n",
    "        \n",
    "        \n",
    "        df_tmp = pd.DataFrame(output_dict)\n",
    "        df = pd.concat([df,df_tmp],axis = 0)\n",
    "    \n",
    "    time_stamp = esm_tools.print_current_datetime_no_spaces()\n",
    "    processed_output_folder_name = case_name_prefix + \"XX\" + case_name_suffix + \"_\" + time_stamp\n",
    "    \n",
    "    if decadal_scale_metrics == True:\n",
    "        file_name = processed_output_folder_name + \"_with_fire_metrics\"\n",
    "    else:\n",
    "        file_name = processed_output_folder_name + \"_structure_metrics_last\" + str(last_n_years) + \"_years\"\n",
    "    \n",
    "    time_stamp = esm_tools.print_current_datetime_no_spaces()\n",
    "    processed_output_folder_name = case_name_prefix + \"XX\" + case_name_suffix + \"_\" + time_stamp\n",
    "    esm_tools.store_output_csv(processed_output_folder_name,file_name,df,processed_output_root = processed_output_root)"
   ]
  },
  {
   "cell_type": "markdown",
   "id": "d5f3f846-fae1-471c-9cfc-c3ce61cb028d",
   "metadata": {},
   "source": [
    "## Visualize"
   ]
  },
  {
   "cell_type": "code",
   "execution_count": 12,
   "id": "23122e11-9496-495a-90e6-88a5507a6dcf",
   "metadata": {},
   "outputs": [],
   "source": [
    "# if visualize == True:\n",
    "#     col_selector = [\"fates\" in i for i in df.columns]\n",
    "#     perturbed_params = df.columns[col_selector]\n",
    "\n",
    "\n",
    "#     for p in perturbed_params:\n",
    "#         esm_viz.plot_multi_panel(df = df, x_col = p,\n",
    "#                                  y_cols = my_metrics, figsize=(12, 16),\n",
    "#                                  save_fig=True,\n",
    "#                                  output_path_for_case=output_path_for_case)"
   ]
  },
  {
   "cell_type": "code",
   "execution_count": 13,
   "id": "8b994719-0dd5-4915-ac5e-689dd4e1c4d4",
   "metadata": {},
   "outputs": [],
   "source": [
    "#a = pd.read_csv('/glade/scratch/adamhb/processed_output/CZ2_equilibrium_110523_XX_-17e2acb6a_FATES-8a054a12_20231109154111/ensemble_output_CZ2_equilibrium_110523_XX_-17e2acb6a_FATES-8a054a12_20231109154111_with_fire_metrics.csv')"
   ]
  },
  {
   "cell_type": "code",
   "execution_count": 14,
   "id": "beefef9e-129b-410a-8182-09056e1ad55a",
   "metadata": {},
   "outputs": [],
   "source": [
    "#a[['Burned_area','Pct_high_severity_1700','Pct_high_severity_3500']]"
   ]
  }
 ],
 "metadata": {
  "kernelspec": {
   "display_name": "env4_work",
   "language": "python",
   "name": "env4_work"
  },
  "language_info": {
   "codemirror_mode": {
    "name": "ipython",
    "version": 3
   },
   "file_extension": ".py",
   "mimetype": "text/x-python",
   "name": "python",
   "nbconvert_exporter": "python",
   "pygments_lexer": "ipython3",
   "version": "3.8.13"
  },
  "toc": {
   "base_numbering": 1,
   "nav_menu": {},
   "number_sections": true,
   "sideBar": true,
   "skip_h1_title": false,
   "title_cell": "Table of Contents",
   "title_sidebar": "Contents",
   "toc_cell": false,
   "toc_position": {},
   "toc_section_display": true,
   "toc_window_display": false
  }
 },
 "nbformat": 4,
 "nbformat_minor": 5
}
