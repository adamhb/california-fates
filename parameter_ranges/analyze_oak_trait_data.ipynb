{
 "cells": [
  {
   "cell_type": "markdown",
   "id": "70c39f83",
   "metadata": {},
   "source": [
    "# Oak parameter data from TRY"
   ]
  },
  {
   "cell_type": "code",
   "execution_count": 19,
   "id": "ba823db8",
   "metadata": {},
   "outputs": [],
   "source": [
    "import pandas as pd\n",
    "import os\n",
    "#import myfuncs\n",
    "from datetime import datetime\n",
    "pd.set_option('display.max_rows', 400)\n",
    "pd.set_option('display.min_rows', 400)\n",
    "import numpy as np\n",
    "\n",
    "#define constants\n",
    "m2_per_cm2 = 1e-4\n",
    "g_biomass_per_g_C = 2\n",
    "m2_per_mm2 = 1e-6\n",
    "mg_per_g = 1e3\n",
    "g_per_kg = 1000\n",
    "mm2_per_cm2 = 100\n",
    "g_per_mg = 1e-3\n",
    "write_csv = True"
   ]
  },
  {
   "cell_type": "code",
   "execution_count": 5,
   "id": "d8fbcb27",
   "metadata": {},
   "outputs": [],
   "source": [
    "path_to_trait_obs = \"/home/adam/cloud/gdrive/postdoc/parameters/param_data/trait_observations\"\n",
    "write_QUKE_data_avail = False\n",
    "write_to_csv = False"
   ]
  },
  {
   "cell_type": "code",
   "execution_count": 6,
   "id": "28669341",
   "metadata": {},
   "outputs": [],
   "source": [
    "QUCH_try_data = os.path.join(path_to_trait_obs,\"QUCH/TRY/TRY_obs_QUCH.txt\")\n",
    "QUKE_try_data = os.path.join(path_to_trait_obs,\"QUKE/TRY/QUKE_TRYdata.txt\")\n",
    "CA_oak_try_data = os.path.join(path_to_trait_obs,\"CA_oaks/TRY/CA_oak_try_data.txt\")"
   ]
  },
  {
   "cell_type": "markdown",
   "id": "9a23c279",
   "metadata": {},
   "source": [
    "### Functions"
   ]
  },
  {
   "cell_type": "code",
   "execution_count": 7,
   "id": "a7b322b2",
   "metadata": {},
   "outputs": [],
   "source": [
    "def convert_to_fates_units(trait_name,input_units,input_value):\n",
    "\n",
    "    \n",
    "    if (\"SLA\" in trait_name) | (\"Specific leaf area\" in trait_name) and input_units == \"mm2 mg-1\":  \n",
    "        output_value = input_value * m2_per_mm2 * mg_per_g * g_biomass_per_g_C\n",
    "        return output_value\n",
    "\n",
    "    elif \"Leaf nitrogen\" in trait_name and input_units == \"mg/g\":\n",
    "        output_value = input_value * g_per_mg * g_biomass_per_g_C\n",
    "        return output_value\n",
    "\n",
    "    elif \"Stem specific density\" in trait_name and input_units == \"g/cm3\":\n",
    "        output_value = input_value\n",
    "        return output_value\n",
    "    \n",
    "    # Anaker conversions\n",
    "    elif trait_name == \"log(SLA cm2 g-1)\":\n",
    "        output_value = np.exp(input_value) * m2_per_cm2 * g_biomass_per_g_C\n",
    "        return output_value\n",
    "        \n",
    "    elif trait_name == 'log(wood density g ml-1)':\n",
    "        output_value = np.exp(input_value)\n",
    "        return output_value\n",
    "        \n",
    "    elif trait_name == 'log(N %)':\n",
    "        output_value = np.exp(input_value) * 1e-2 * g_biomass_per_g_C\n",
    "        return output_value\n",
    "    \n",
    "    #Jepson leaf N\n",
    "    elif trait_name == \"Leaf Nmass\":\n",
    "    \n",
    "        # muliplying by 1e-2 is to reverse the \"per cent\"  \n",
    "        output_value = input_value * 1e-2 * g_biomass_per_g_C\n",
    "        return output_value\n",
    "    \n",
    "    elif \"Wood density\" in trait_name:\n",
    "        output_value = input_value\n",
    "        return output_value\n",
    "    \n",
    "    elif trait_name == \"Leaf area to sapwood area\" and input_units == \"mm2 mm-2\":\n",
    "        output_value = input_value * 1e-4\n",
    "        return output_value\n",
    "    \n",
    "    elif \"Vcmax\" in trait_name and input_units == \"micro mol m-2 s-1\":\n",
    "        output_value = input_value\n",
    "        return output_value\n",
    "    \n",
    "    else:\n",
    "        #print(\"No unit conversion known for:\", trait_name)\n",
    "        return None\n",
    "    \n",
    "def convert_to_fates_param_name(input_trait_name):\n",
    "    if (\"SLA\" in input_trait_name) | ('Specific leaf area' in input_trait_name):\n",
    "        return \"fates_leaf_slatop\"\n",
    "    \n",
    "    elif (\"wood density\" in input_trait_name) |  (\"Wood density\" in input_trait_name):\n",
    "        return \"fates_wood_density\"\n",
    "    \n",
    "    elif (\"N %\" in input_trait_name) | (\"Leaf Nmass\" in input_trait_name):\n",
    "        return \"fates_stoich_nitr\"\n",
    "    \n",
    "    elif \"Leaf nitrogen (N) content per leaf dry mass\" in input_trait_name:\n",
    "        return \"fates_stoich_nitr\"\n",
    "    \n",
    "    elif \"Leaf area to sapwood area\" in input_trait_name:\n",
    "        return \"fates_allom_la_per_sa_int\"\n",
    "    \n",
    "    elif \"Vcmax\" in input_trait_name:\n",
    "        return \"fates_leaf_vcmax25top\"\n",
    "    \n",
    "    else:\n",
    "        return None\n",
    "    \n",
    "def get_sources(df,variable):\n",
    "    return df.loc[df.fates_name == variable].source.unique()\n",
    "\n",
    "def get_range_data(df,subset_name):\n",
    "\n",
    "    summary_stats = df.groupby('fates_name')['fates_value'].agg(\n",
    "        min_value='min',\n",
    "        max_value='max',\n",
    "        mean='mean',\n",
    "        median='median',\n",
    "        sample_size='size'\n",
    "    )\n",
    "\n",
    "    summary_stats['subset_name'] = subset_name\n",
    "    \n",
    "    return summary_stats"
   ]
  },
  {
   "cell_type": "markdown",
   "id": "28b33fb4",
   "metadata": {},
   "source": [
    "### View TRY data availability for black oak\n",
    "\n",
    "Note: to view the data availability for QUKE look at the csv exported in this code block"
   ]
  },
  {
   "cell_type": "code",
   "execution_count": 8,
   "id": "bb930a7a",
   "metadata": {},
   "outputs": [],
   "source": [
    "#clean data\n",
    "QUKE_data_avail = os.path.join(path_to_trait_obs,\"QUKE/TRY/QUKE_TRY_obs_availability.txt\")\n",
    "QUKE_df = pd.read_csv(QUKE_data_avail, sep=\"\\t\", encoding='latin1')[[\"Trait\",\"TraitID\",\".Quercus kelloggii.\"]]\n",
    "QUKE_df = QUKE_df.rename(columns={\"Trait\": \"trait\", \"TraitID\": \"trait_id\", \".Quercus kelloggii.\": \"n\"})\n",
    "QUKE_df = QUKE_df.sort_values([\"n\"],ascending=False)\n",
    "\n",
    "if write_QUKE_data_avail == True:\n",
    "    QUKE_df.to_csv(os.path.join(path_to_trait_obs,\"QUKE/TRY/QUKE_TRY_obs_availability_clean.csv\"))\n",
    "\n",
    "    #get trait IDs available for QUKE\n",
    "    print(list(QUKE_df.trait_id))\n",
    "\n",
    "    print(QUKE_df)"
   ]
  },
  {
   "cell_type": "markdown",
   "id": "64f813af",
   "metadata": {},
   "source": [
    "### Load, clean, and view oak trait data"
   ]
  },
  {
   "cell_type": "code",
   "execution_count": 9,
   "id": "4a4ffcf4",
   "metadata": {},
   "outputs": [],
   "source": [
    "# Load and join QUCH and QUKE data\n",
    "try_df_raw_QUCH = pd.read_csv(QUCH_try_data, sep=\"\\t\", encoding='latin1')[['ObservationID','SpeciesName','AccSpeciesName','TraitID','TraitName','OrigValueStr','OrigUnitStr','StdValue','UnitName','ErrorRisk']]\n",
    "try_df_raw_QUKE = pd.read_csv(QUKE_try_data, sep=\"\\t\", encoding='latin1')[['ObservationID','SpeciesName','AccSpeciesName','TraitID','TraitName','OrigValueStr','OrigUnitStr','StdValue','UnitName','ErrorRisk']]\n",
    "try_df_raw_CA_oak = pd.read_csv(CA_oak_try_data, sep=\"\\t\", encoding='latin1')[['ObservationID','SpeciesName','AccSpeciesName','TraitID','TraitName','OrigValueStr','OrigUnitStr','StdValue','UnitName','ErrorRisk']]\n",
    "\n",
    "try_df_raw = pd.concat([try_df_raw_QUCH,try_df_raw_QUKE,try_df_raw_CA_oak])\n",
    "\n",
    "try_df_raw = try_df_raw[['AccSpeciesName','TraitName','OrigValueStr','OrigUnitStr','StdValue','UnitName']]\n",
    "\n",
    "#print(\"Available trait observations\")\n",
    "#print(try_df_raw.TraitName.value_counts())\n",
    "#print(\"\\n\")\n",
    "#print(try_df_raw.info())"
   ]
  },
  {
   "cell_type": "code",
   "execution_count": 10,
   "id": "d3f5f7dc",
   "metadata": {},
   "outputs": [],
   "source": [
    "try_df_raw = pd.DataFrame.drop_duplicates(try_df_raw)"
   ]
  },
  {
   "cell_type": "markdown",
   "id": "fc66e691",
   "metadata": {},
   "source": [
    "### Filter to relevant traits"
   ]
  },
  {
   "cell_type": "code",
   "execution_count": 11,
   "id": "64ca42aa",
   "metadata": {},
   "outputs": [
    {
     "name": "stdout",
     "output_type": "stream",
     "text": [
      "<class 'pandas.core.frame.DataFrame'>\n",
      "Index: 368 entries, 16 to 53806\n",
      "Data columns (total 6 columns):\n",
      " #   Column          Non-Null Count  Dtype  \n",
      "---  ------          --------------  -----  \n",
      " 0   AccSpeciesName  368 non-null    object \n",
      " 1   TraitName       368 non-null    object \n",
      " 2   OrigValueStr    368 non-null    object \n",
      " 3   OrigUnitStr     368 non-null    object \n",
      " 4   StdValue        368 non-null    float64\n",
      " 5   UnitName        368 non-null    object \n",
      "dtypes: float64(1), object(5)\n",
      "memory usage: 20.1+ KB\n"
     ]
    }
   ],
   "source": [
    "# Filter to get traits of interest\n",
    "fates_relevant_traits = ['Stem specific density (SSD, stem dry mass per stem fresh volume) or wood density',\n",
    "                         'Leaf nitrogen (N) content per leaf dry mass',\n",
    "                         'Leaf area per leaf dry mass (specific leaf area, SLA or 1/LMA): undefined if petiole is in- or excluded',\n",
    "                         'Leaf area per leaf dry mass (specific leaf area, SLA or 1/LMA): petiole excluded',\n",
    "                         'Photosynthesis carboxylation capacity (Vcmax) per leaf area (Farquhar model)']\n",
    "\n",
    "try_df = try_df_raw[try_df_raw.TraitName.isin(fates_relevant_traits)]\n",
    "try_df.info()"
   ]
  },
  {
   "cell_type": "code",
   "execution_count": 12,
   "id": "5301932e",
   "metadata": {},
   "outputs": [],
   "source": [
    "#try_df.loc[try_df.TraitName == \"Photosynthesis carboxylation capacity (Vcmax) per leaf area (Farquhar model)\"]"
   ]
  },
  {
   "cell_type": "markdown",
   "id": "b4cf1003",
   "metadata": {},
   "source": [
    "### Apply unit conversions and fates parameter names"
   ]
  },
  {
   "cell_type": "code",
   "execution_count": 13,
   "id": "7066073c",
   "metadata": {},
   "outputs": [
    {
     "name": "stderr",
     "output_type": "stream",
     "text": [
      "/tmp/ipykernel_8277/4023397515.py:3: SettingWithCopyWarning: \n",
      "A value is trying to be set on a copy of a slice from a DataFrame.\n",
      "Try using .loc[row_indexer,col_indexer] = value instead\n",
      "\n",
      "See the caveats in the documentation: https://pandas.pydata.org/pandas-docs/stable/user_guide/indexing.html#returning-a-view-versus-a-copy\n",
      "  try_df['fates_value'] = fates_values\n",
      "/tmp/ipykernel_8277/4023397515.py:7: SettingWithCopyWarning: \n",
      "A value is trying to be set on a copy of a slice from a DataFrame.\n",
      "Try using .loc[row_indexer,col_indexer] = value instead\n",
      "\n",
      "See the caveats in the documentation: https://pandas.pydata.org/pandas-docs/stable/user_guide/indexing.html#returning-a-view-versus-a-copy\n",
      "  try_df[\"fates_name\"] = fates_names\n"
     ]
    }
   ],
   "source": [
    "# Unit convertion to fates units\n",
    "fates_values = try_df.apply(lambda x: convert_to_fates_units(x['TraitName'], x['UnitName'], x[\"StdValue\"]), axis=1)\n",
    "try_df['fates_value'] = fates_values\n",
    "\n",
    "# Convert variable names to fates names\n",
    "fates_names = try_df.apply(lambda x: convert_to_fates_param_name(x[\"TraitName\"]),axis = 1)\n",
    "try_df[\"fates_name\"] = fates_names\n"
   ]
  },
  {
   "cell_type": "markdown",
   "id": "2eb52d2f",
   "metadata": {},
   "source": [
    "### Get percentiles for oak vcmax"
   ]
  },
  {
   "cell_type": "code",
   "execution_count": 17,
   "id": "ad7fc41d",
   "metadata": {},
   "outputs": [],
   "source": [
    "def calculate_percentiles(data, percentiles):\n",
    "    \"\"\"\n",
    "    Calculate the specified percentiles of a dataset.\n",
    "\n",
    "    :param data: list or ndarray, the dataset\n",
    "    :param percentiles: list of floats, the percentiles to compute, e.g., [25, 50, 75]\n",
    "    :return: dictionary of percentiles and their corresponding values\n",
    "    \"\"\"\n",
    "    results = {}\n",
    "    for p in percentiles:\n",
    "        value = np.percentile(data, p)\n",
    "        results[p] = value\n",
    "    return results"
   ]
  },
  {
   "cell_type": "code",
   "execution_count": 14,
   "id": "1bed2673",
   "metadata": {},
   "outputs": [
    {
     "data": {
      "text/html": [
       "<div>\n",
       "<style scoped>\n",
       "    .dataframe tbody tr th:only-of-type {\n",
       "        vertical-align: middle;\n",
       "    }\n",
       "\n",
       "    .dataframe tbody tr th {\n",
       "        vertical-align: top;\n",
       "    }\n",
       "\n",
       "    .dataframe thead th {\n",
       "        text-align: right;\n",
       "    }\n",
       "</style>\n",
       "<table border=\"1\" class=\"dataframe\">\n",
       "  <thead>\n",
       "    <tr style=\"text-align: right;\">\n",
       "      <th></th>\n",
       "      <th>StdValue</th>\n",
       "      <th>fates_value</th>\n",
       "    </tr>\n",
       "  </thead>\n",
       "  <tbody>\n",
       "    <tr>\n",
       "      <th>count</th>\n",
       "      <td>56.000000</td>\n",
       "      <td>56.000000</td>\n",
       "    </tr>\n",
       "    <tr>\n",
       "      <th>mean</th>\n",
       "      <td>65.111867</td>\n",
       "      <td>65.111867</td>\n",
       "    </tr>\n",
       "    <tr>\n",
       "      <th>std</th>\n",
       "      <td>28.269910</td>\n",
       "      <td>28.269910</td>\n",
       "    </tr>\n",
       "    <tr>\n",
       "      <th>min</th>\n",
       "      <td>13.630628</td>\n",
       "      <td>13.630628</td>\n",
       "    </tr>\n",
       "    <tr>\n",
       "      <th>25%</th>\n",
       "      <td>45.051047</td>\n",
       "      <td>45.051047</td>\n",
       "    </tr>\n",
       "    <tr>\n",
       "      <th>50%</th>\n",
       "      <td>64.207770</td>\n",
       "      <td>64.207770</td>\n",
       "    </tr>\n",
       "    <tr>\n",
       "      <th>75%</th>\n",
       "      <td>83.319989</td>\n",
       "      <td>83.319989</td>\n",
       "    </tr>\n",
       "    <tr>\n",
       "      <th>max</th>\n",
       "      <td>127.296133</td>\n",
       "      <td>127.296133</td>\n",
       "    </tr>\n",
       "  </tbody>\n",
       "</table>\n",
       "</div>"
      ],
      "text/plain": [
       "         StdValue  fates_value\n",
       "count   56.000000    56.000000\n",
       "mean    65.111867    65.111867\n",
       "std     28.269910    28.269910\n",
       "min     13.630628    13.630628\n",
       "25%     45.051047    45.051047\n",
       "50%     64.207770    64.207770\n",
       "75%     83.319989    83.319989\n",
       "max    127.296133   127.296133"
      ]
     },
     "execution_count": 14,
     "metadata": {},
     "output_type": "execute_result"
    }
   ],
   "source": [
    "try_df.loc[try_df[\"fates_name\"] == \"fates_leaf_vcmax25top\"].describe()"
   ]
  },
  {
   "cell_type": "markdown",
   "id": "4d4a117b",
   "metadata": {},
   "source": [
    "#### Low-end percentiles"
   ]
  },
  {
   "cell_type": "code",
   "execution_count": 23,
   "id": "3c7b6707",
   "metadata": {},
   "outputs": [
    {
     "data": {
      "text/plain": [
       "{1: 14.906282625171244,\n",
       " 2: 16.36395350384018,\n",
       " 3: 18.64069777496117,\n",
       " 5: 24.680039042699,\n",
       " 10: 31.475380780524404}"
      ]
     },
     "execution_count": 23,
     "metadata": {},
     "output_type": "execute_result"
    }
   ],
   "source": [
    "calculate_percentiles(try_df.loc[try_df[\"fates_name\"] == \"fates_leaf_vcmax25top\"][\"fates_value\"],[1,2,3,5,10])"
   ]
  },
  {
   "cell_type": "markdown",
   "id": "bde81d77",
   "metadata": {},
   "source": [
    "### Get low-end percentiles for oak slatop"
   ]
  },
  {
   "cell_type": "code",
   "execution_count": 24,
   "id": "1213586b",
   "metadata": {},
   "outputs": [
    {
     "data": {
      "text/plain": [
       "{1: 0.008158152,\n",
       " 2: 0.00991634399996065,\n",
       " 3: 0.01021009999950812,\n",
       " 5: 0.010993779999999998,\n",
       " 10: 0.01179225806452}"
      ]
     },
     "execution_count": 24,
     "metadata": {},
     "output_type": "execute_result"
    }
   ],
   "source": [
    "calculate_percentiles(try_df.loc[try_df[\"fates_name\"] == \"fates_leaf_slatop\"][\"fates_value\"],[1,2,3,5,10])"
   ]
  },
  {
   "cell_type": "markdown",
   "id": "104d8bda",
   "metadata": {},
   "source": [
    "### Organize and write csv"
   ]
  },
  {
   "cell_type": "code",
   "execution_count": 15,
   "id": "ea1aba4c",
   "metadata": {},
   "outputs": [],
   "source": [
    "QUKE_df = try_df.loc[try_df.AccSpeciesName == \"Quercus kelloggii\"]\n",
    "QUCH_df = try_df.loc[try_df.AccSpeciesName == \"Quercus chrysolepis\"]\n",
    "QUDO_df = try_df.loc[try_df.AccSpeciesName == \"Quercus douglasii\"]\n",
    "\n",
    "param_range_oak_df = pd.concat([get_range_data(QUKE_df,\"QUKE\"),get_range_data(QUCH_df,\"QUCH\"),get_range_data(QUDO_df,\"QUDO\")]).reset_index()\n",
    "param_range_oak_df['sources'] = \"try\"\n",
    "param_range_oak_df['pft'] = \"oak\""
   ]
  },
  {
   "cell_type": "code",
   "execution_count": 16,
   "id": "ac06e5b2",
   "metadata": {},
   "outputs": [],
   "source": [
    "# Write CSV\n",
    "if write_to_csv == True:\n",
    "\n",
    "    now = datetime.now()\n",
    "    dt_string = now.strftime(\"%m-%d-%Y-%H-%M-%S\")\n",
    "    file_path = \"oak_param_ranges_data_derived_\" + dt_string + \".csv\"\n",
    "    param_range_oak_df.to_csv(file_path, index=False)"
   ]
  }
 ],
 "metadata": {
  "kernelspec": {
   "display_name": "Python [conda env:la-veg]",
   "language": "python",
   "name": "conda-env-la-veg-py"
  },
  "language_info": {
   "codemirror_mode": {
    "name": "ipython",
    "version": 3
   },
   "file_extension": ".py",
   "mimetype": "text/x-python",
   "name": "python",
   "nbconvert_exporter": "python",
   "pygments_lexer": "ipython3",
   "version": "3.10.12"
  },
  "toc": {
   "base_numbering": 1,
   "nav_menu": {},
   "number_sections": true,
   "sideBar": true,
   "skip_h1_title": false,
   "title_cell": "Table of Contents",
   "title_sidebar": "Contents",
   "toc_cell": false,
   "toc_position": {
    "height": "calc(100% - 180px)",
    "left": "10px",
    "top": "150px",
    "width": "363.993px"
   },
   "toc_section_display": true,
   "toc_window_display": true
  }
 },
 "nbformat": 4,
 "nbformat_minor": 5
}
