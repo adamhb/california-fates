{
 "cells": [
  {
   "cell_type": "code",
   "execution_count": null,
   "id": "7591b53d-a0f7-4557-b757-2572f70da32d",
   "metadata": {},
   "outputs": [],
   "source": [
    "import netCDF4 as nc4\n",
    "import xarray as xr\n",
    "import numpy as np\n",
    "import pandas as pd\n",
    "import warnings\n",
    "import sys\n",
    "warnings.filterwarnings('ignore')\n",
    "sys.path.append('/glade/u/home/adamhb/Earth-System-Model-Tools/')\n",
    "import esm_tools\n",
    "from matplotlib import pyplot as plt"
   ]
  },
  {
   "cell_type": "markdown",
   "id": "04793ef1-26ea-4f0b-a696-fcbfe67b5b40",
   "metadata": {},
   "source": [
    "## Paths to data"
   ]
  },
  {
   "cell_type": "code",
   "execution_count": null,
   "id": "56e4ded2-eb4a-41ec-9226-a6f11e77f6c6",
   "metadata": {},
   "outputs": [],
   "source": [
    "late20th = 'supIg105_020224-1951-2020_-17e2acb6a_FATES-5b076b69'\n",
    "untreated_case = 'supIg105_020224-2015-2098_-17e2acb6a_FATES-5b076b69'\n",
    "treated_case = 'supIg105_treated_041124-2015-2098-2015-2098_-17e2acb6a_FATES-1449c787'"
   ]
  },
  {
   "cell_type": "markdown",
   "id": "415946ea-7d58-456b-9039-6e9e7899055e",
   "metadata": {},
   "source": [
    "## Fields"
   ]
  },
  {
   "cell_type": "code",
   "execution_count": null,
   "id": "588fa670-5061-4985-ab96-49112885a516",
   "metadata": {},
   "outputs": [],
   "source": [
    "fields = [\n",
    "          #have on to import these dimensions\n",
    "          #'FATES_SEED_PROD_USTORY_SZ',\n",
    "          'FATES_VEGC_AP',\n",
    "          #patches and cohorts\n",
    "          'FATES_NPATCHES',\n",
    "          #'FATES_PATCHAREA_AP','FATES_CANOPYAREA_AP',\n",
    "          'FATES_NCOHORTS','FATES_NPATCH_AP',\n",
    "          #structure\n",
    "          #'FATES_LAI_AP',\n",
    "          #density\n",
    "          'FATES_NPLANT_PF',\n",
    "          'FATES_NPLANT_SZAPPF',\n",
    "          'FATES_NPLANT_SZPF',\n",
    "          'FATES_NPLANT_ACPF',\n",
    "          #'FATES_NPLANT_CANOPY_SZPF',\n",
    "          #'FATES_NPLANT_USTORY_SZPF',\n",
    "          #basal area\n",
    "          'FATES_BASALAREA_SZPF',\n",
    "          #crown_area\n",
    "          #'FATES_CANOPYCROWNAREA_PF',\n",
    "          #'FATES_CANOPYCROWNAREA_APPF',\n",
    "          #'FATES_CANOPYAREA_HT',\n",
    "          #'FATES_CROWNAREA_CLLL',\n",
    "          #'FATES_CROWNAREA_PF',\n",
    "          #biomass\n",
    "          'FATES_VEGC_PF','FATES_VEGC_AP','FATES_VEGC_ABOVEGROUND','FATES_VEGC_ABOVEGROUND_SZPF',\n",
    "          #growth\n",
    "          'FATES_DDBH_SZPF',\n",
    "          'FATES_DDBH_CANOPY_SZAP','FATES_DDBH_USTORY_SZAP',\n",
    "          #mortality\n",
    "          'FATES_MORTALITY_PF',\n",
    "          'FATES_MORTALITY_CANOPY_SZ',\n",
    "          #'FATES_MORTALITY_USTORY_SZAP',\n",
    "          'FATES_MORTALITY_BACKGROUND_SZPF','FATES_MORTALITY_HYDRAULIC_SZPF','FATES_MORTALITY_CSTARV_SZPF',\n",
    "          'FATES_MORTALITY_IMPACT_SZPF',\n",
    "          'FATES_MORTALITY_FIRE_SZPF','FATES_MORTALITY_CROWNSCORCH_SZPF',\n",
    "          'FATES_MORTALITY_CANOPY_SZ','FATES_MORTALITY_USTORY_SZ',\n",
    "          'FATES_MORTALITY_SENESCENCE_SZPF',\n",
    "          #seed production and recruitment\n",
    "          #'FATES_SEED_PROD_USTORY_SZ','FATES_SEED_PROD_CANOPY_SZ',\n",
    "          #'FATES_SEEDS_IN',\n",
    "          #'FATES_SEED_BANK',\n",
    "          #'FATES_SEEDBANK_PF',\n",
    "          #'FATES_SEED_ALLOC_SZPF',\n",
    "          'FATES_RECRUITMENT_PF',\n",
    "          #GPP and NPP\n",
    "          'FATES_GPP','FATES_GPP_SZPF',\n",
    "          'FATES_NPP_PF','FATES_NPP_SZPF',\n",
    "          'FATES_AUTORESP_SZPF','FATES_MAINTAR_SZPF',\n",
    "          #physical environment\n",
    "          #Light\n",
    "          # 'FATES_LAISUN_Z_CLLL','FATES_LAISHA_Z_CLLL',\n",
    "          # 'FATES_LAISUN_Z_CLLLPF','FATES_LAISHA_Z_CLLLPF',\n",
    "          # 'FATES_PARSUN_Z_CLLLPF','FATES_PARSHA_Z_CLLLPF',\n",
    "          # 'FATES_PARPROF_DIR_CLLL','FATES_PARPROF_DIF_CLLL',\n",
    "          # 'FATES_PARPROF_DIF_CLLLPF','FATES_PARPROF_DIR_CLLLPF',\n",
    "          #Litter\n",
    "          #'FATES_CWD_ABOVEGROUND_DC',\n",
    "          #'FATES_FUEL_AMOUNT',\n",
    "          #CLM\n",
    "          #'QVEGT','QVEGE','QSOIL','TLAI','TBOT','RAIN','QBOT','Q2M',\n",
    "          #'BTRAN',\n",
    "          #H20\n",
    "          'SMP',#,\n",
    "          #allocation\n",
    "          #'FATES_STOREC_CANOPY_SZPF','FATES_STOREC_USTORY_SZPF',\n",
    "          #fire\n",
    "          'FATES_BURNFRAC','FATES_IGNITIONS','FATES_FIRE_INTENSITY_BURNFRAC',\n",
    "          #'FATES_FUEL_BULKD','FATES_FUEL_SAV',\n",
    "           'FATES_DISTURBANCE_RATE_FIRE',\n",
    "           'FATES_FUEL_AMOUNT_AP',\n",
    "           'FATES_FIRE_INTENSITY_BURNFRAC_AP',\n",
    "           'FATES_BURNFRAC_AP',\n",
    "           'FATES_FUEL_AMOUNT_APFC',\n",
    "           'FATES_FUEL_AMOUNT',\n",
    "           'FATES_FDI',\n",
    "           'FATES_FIRE_INTENSITY',\n",
    "           'FATES_FUELCONSUMED',\n",
    "           'FATES_NESTEROV_INDEX',\n",
    "           'FATES_MORTALITY_CROWNSCORCH_SZPF',\n",
    "           'FATES_SCORCH_HEIGHT_APPF','FATES_FUEL_MEF',\n",
    "           'FATES_FUEL_EFF_MOIST','FATES_FUEL_MOISTURE_FC','FATES_ROS'\n",
    "          ]"
   ]
  },
  {
   "cell_type": "markdown",
   "id": "a8ad1ad7-3fa0-45a8-aac6-57e699508fad",
   "metadata": {},
   "source": [
    "## Load data"
   ]
  },
  {
   "cell_type": "code",
   "execution_count": null,
   "id": "d594476b-5678-4b4f-bfaf-96b4219ff8ea",
   "metadata": {},
   "outputs": [],
   "source": [
    "untreated = esm_tools.load_fates_output_data(model_output_root='/glade/derecho/scratch/adamhb',\n",
    "                                 case_name=untreated_case,years = list(range(2015,2030)),fields=fields,inst_tag='0002')"
   ]
  },
  {
   "cell_type": "code",
   "execution_count": null,
   "id": "0211a622-c0cd-4c65-a5b1-04611718302f",
   "metadata": {},
   "outputs": [],
   "source": [
    "treated = esm_tools.load_fates_output_data(model_output_root='/glade/derecho/scratch/adamhb',\n",
    "                                 case_name=treated_case,years = list(range(2015,2030)),fields=fields,inst_tag='0002')"
   ]
  },
  {
   "cell_type": "code",
   "execution_count": null,
   "id": "53341dda-c44d-410e-b602-6ede4909bd55",
   "metadata": {},
   "outputs": [],
   "source": [
    "import matplotlib.pyplot as plt\n",
    "import numpy as np\n",
    "\n",
    "# Generate x values\n",
    "x = untreated.time\n",
    "\n",
    "# Generate y values for two functions\n",
    "y1 = esm_tools.get_combustible_fuel(treated,timeseries=True)\n",
    "y2 = esm_tools.get_combustible_fuel(untreated,timeseries=True)\n",
    "\n",
    "# Create the plot\n",
    "plt.figure(figsize=(8, 6))\n",
    "plt.plot(x, y1, label='treated', color='blue')  # Plot the first line\n",
    "plt.plot(x, y2, label='untreated', color='red')   # Plot the second line\n",
    "\n",
    "# Add a title and labels\n",
    "plt.title('Effect of treatment on fuel load')\n",
    "plt.xlabel('x')\n",
    "plt.ylabel('Combustible fuel Load [Kg m-2]')\n",
    "\n",
    "# Add a legend\n",
    "plt.legend()\n",
    "\n",
    "# Show the plot\n",
    "plt.show()"
   ]
  },
  {
   "cell_type": "code",
   "execution_count": null,
   "id": "a04a5e2f-f8c8-45c5-93db-2df5e4031256",
   "metadata": {},
   "outputs": [],
   "source": [
    "import matplotlib.pyplot as plt\n",
    "import numpy as np\n",
    "\n",
    "# Generate x values\n",
    "x = untreated.time\n",
    "\n",
    "# Generate y values for two functions\n",
    "y1 = esm_tools.get_mean_annual_burn_frac(treated,over_time=True)\n",
    "y2 = esm_tools.get_mean_annual_burn_frac(untreated,over_time = True)\n",
    "\n",
    "# Create the plot\n",
    "plt.figure(figsize=(8, 6))\n",
    "plt.plot(x, y1, label='treated', color='blue')  # Plot the first line\n",
    "plt.plot(x, y2, label='untreated', color='red')   # Plot the second line\n",
    "\n",
    "# Add a title and labels\n",
    "plt.title('Plot of Two Lines')\n",
    "plt.xlabel('x')\n",
    "plt.ylabel('Burned area')\n",
    "\n",
    "# Add a legend\n",
    "plt.legend()\n",
    "\n",
    "# Show the plot\n",
    "plt.show()"
   ]
  },
  {
   "cell_type": "code",
   "execution_count": null,
   "id": "728396fd-253e-4693-936d-ea23d61edd22",
   "metadata": {},
   "outputs": [],
   "source": [
    "# Generate y values for two functions\n",
    "y1 = esm_tools.get_PHS_FLI_thresh(treated,3500)\n",
    "y2 = esm_tools.get_PHS_FLI_thresh(untreated,3500)\n",
    "\n",
    "print(y1)\n",
    "print(y2)"
   ]
  },
  {
   "cell_type": "markdown",
   "id": "fe5df075-c7e2-46f2-afce-699764a5bcbb",
   "metadata": {},
   "source": [
    "## Total basal area"
   ]
  },
  {
   "cell_type": "code",
   "execution_count": null,
   "id": "d17e740a-5b44-43ca-8604-60da84b71a06",
   "metadata": {},
   "outputs": [],
   "source": [
    "conifer_ba_untreated = esm_tools.get_tree_basal_area_over_time(untreated)\n",
    "conifer_ba_treated = esm_tools.get_tree_basal_area_over_time(treated)\n",
    "print(conifer_ba_untreated)\n",
    "print(conifer_ba_treated)"
   ]
  },
  {
   "cell_type": "markdown",
   "id": "7db7f144-99df-458e-9d3b-24fc47596704",
   "metadata": {},
   "source": [
    "### GPP in 20th century"
   ]
  },
  {
   "cell_type": "code",
   "execution_count": null,
   "id": "aca37319-c49a-422c-b0fc-ca7eebf6973a",
   "metadata": {},
   "outputs": [],
   "source": [
    "tags = esm_tools.inst_to_tag(np.load('/glade/work/adamhb/processed_output/supIg105_020224/old/inst_supIg105_020224.npy'))\n",
    "GPP_full = []\n",
    "for i in tags:\n",
    "    GPP_xr = esm_tools.load_fates_output_data(model_output_root='/glade/derecho/scratch/adamhb',\n",
    "                                     case_name=late20th,years = list(range(1960,2010)),fields=['FATES_GPP'],inst_tag=i)\n",
    "    \n",
    "    tmp = GPP_xr['FATES_GPP'].mean(dim=\"time\").values * 3.154e+7\n",
    "    GPP_full.append(tmp)\n",
    "\n",
    "print(np.array(GPP_full).mean())\n",
    "print(np.array(GPP_full).std())"
   ]
  },
  {
   "cell_type": "code",
   "execution_count": null,
   "id": "aeddc771-098a-4bed-92dd-9110b0cb6342",
   "metadata": {},
   "outputs": [],
   "source": []
  }
 ],
 "metadata": {
  "kernelspec": {
   "display_name": "env4_work",
   "language": "python",
   "name": "env4_work"
  },
  "language_info": {
   "codemirror_mode": {
    "name": "ipython",
    "version": 3
   },
   "file_extension": ".py",
   "mimetype": "text/x-python",
   "name": "python",
   "nbconvert_exporter": "python",
   "pygments_lexer": "ipython3",
   "version": "3.8.13"
  }
 },
 "nbformat": 4,
 "nbformat_minor": 5
}
