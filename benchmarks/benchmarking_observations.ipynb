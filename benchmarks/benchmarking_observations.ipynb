{
 "cells": [
  {
   "cell_type": "markdown",
   "id": "2b9bb350",
   "metadata": {},
   "source": [
    "This script needs to produce a range and site-level mean for:\n",
    "* Total basal area\n",
    "* Shrub cover\n",
    "* PFT-level basal area\n",
    "\n",
    "Broken up by forest type and fire regime"
   ]
  },
  {
   "cell_type": "code",
   "execution_count": 129,
   "id": "a87bea1c",
   "metadata": {},
   "outputs": [],
   "source": [
    "import pandas as pd\n",
    "import numpy as np\n",
    "import os\n",
    "pd.set_option('display.max_rows', 500) \n",
    "import shutil"
   ]
  },
  {
   "cell_type": "markdown",
   "id": "e44e07d2",
   "metadata": {},
   "source": [
    "## Functions"
   ]
  },
  {
   "cell_type": "code",
   "execution_count": 158,
   "id": "9e33be9a",
   "metadata": {},
   "outputs": [],
   "source": [
    "def summarize_and_melt(df, var_name, output_stat_name):\n",
    "    \n",
    "    df = df.loc[df['Var'] == var_name]\n",
    "    \n",
    "    # Group by and aggregate\n",
    "    mean_name = output_stat_name + \"_mean\"\n",
    "    std_name = output_stat_name + \"_std\"\n",
    "    \n",
    "    grouped = df.groupby(['Tree','Pft','Time_period','Forest_type']).agg(\n",
    "        **{mean_name: (\"Value\", 'mean'),\n",
    "           std_name: (\"Value\", 'std')}\n",
    "    ).reset_index()\n",
    "    #return grouped\n",
    "    \n",
    "    # Melt the DataFrame\n",
    "    melted = pd.melt(grouped, id_vars=['Tree','Pft','Time_period','Forest_type'], value_vars=[mean_name, std_name], \n",
    "                     var_name='Statistic', value_name='Value')\n",
    "    \n",
    "    return melted\n",
    "\n",
    "def get_total_ba(df):\n",
    "    tmp_df = df.loc[df['Var'] == \"BA_total_mean\"].copy()\n",
    "    tmp_df[\"Statistic\"] = \"BA_total_mean\"\n",
    "    tmp_df = tmp_df[[\"Tree\",\"Pft\",\"Time_period\",\"Forest_type\",\"Site\",\"Statistic\",\"Value\"]]\n",
    "    return tmp_df"
   ]
  },
  {
   "cell_type": "markdown",
   "id": "83781b71",
   "metadata": {},
   "source": [
    "## Import data"
   ]
  },
  {
   "cell_type": "code",
   "execution_count": 171,
   "id": "75b5534b",
   "metadata": {},
   "outputs": [],
   "source": [
    "path_to_observations = '/home/adam/cloud/gdrive/postdoc/benchmarking/Structure_data.csv'\n",
    "obs = pd.read_csv(path_to_observations)"
   ]
  },
  {
   "cell_type": "code",
   "execution_count": 155,
   "id": "de0c48c6",
   "metadata": {},
   "outputs": [
    {
     "name": "stdout",
     "output_type": "stream",
     "text": [
      "Sites ['CZ2' 'STAN' 'GREEN' 'YOSE_SFTR' 'Tahoe_Basin' 'Teakettle'\n",
      " 'YOSE_SFTR_Scholl_Taylor' 'YOSE_SFTR_USDAFS' 'YOSE_WEST_DRY'\n",
      " 'YOSE_WEST_WET' 'YOSE_WEST' 'YPMC']\n"
     ]
    }
   ],
   "source": [
    "print(\"Sites\",obs.Site.unique())"
   ]
  },
  {
   "cell_type": "code",
   "execution_count": null,
   "id": "d0f4e2fe",
   "metadata": {},
   "outputs": [],
   "source": []
  },
  {
   "cell_type": "markdown",
   "id": "f60313b2",
   "metadata": {},
   "source": [
    "## CZ2"
   ]
  },
  {
   "cell_type": "code",
   "execution_count": 133,
   "id": "a17683da",
   "metadata": {},
   "outputs": [
    {
     "name": "stdout",
     "output_type": "stream",
     "text": [
      "   Tree    Pft Time_period Forest_type    Statistic      Value\n",
      "0  ABCO    Fir         EAS         DMC  BA_pft_mean   2.612354\n",
      "1  CADE  Cedar         EAS         DMC  BA_pft_mean   8.976104\n",
      "2  PIPO   Pine         EAS         DMC  BA_pft_mean  12.490061\n",
      "3  QUCH    Oak         EAS         DMC  BA_pft_mean   2.676712\n",
      "4  QUKE    Oak         EAS         DMC  BA_pft_mean   4.477936\n",
      "5  ABCO    Fir         EAS         DMC   BA_pft_std   3.516711\n",
      "6  CADE  Cedar         EAS         DMC   BA_pft_std   6.024802\n",
      "7  PIPO   Pine         EAS         DMC   BA_pft_std  12.241175\n",
      "8  QUCH    Oak         EAS         DMC   BA_pft_std   2.276173\n",
      "9  QUKE    Oak         EAS         DMC   BA_pft_std   2.973403\n"
     ]
    }
   ],
   "source": [
    "CZ2 = obs.loc[obs.Site == \"CZ2\"]\n",
    "CZ2_BA_pft = summarize_and_melt(CZ2,var_name = \"BA\", output_stat_name=\"BA_pft\")\n",
    "print(CZ2_BA_pft)"
   ]
  },
  {
   "cell_type": "markdown",
   "id": "05145dca",
   "metadata": {},
   "source": [
    "## STAN"
   ]
  },
  {
   "cell_type": "code",
   "execution_count": 134,
   "id": "021bd4c4",
   "metadata": {},
   "outputs": [
    {
     "name": "stdout",
     "output_type": "stream",
     "text": [
      "['BA' 'ShrubCov' 'ShrubCovSE']\n",
      "    Tree    Pft Time_period Forest_type    Statistic      Value\n",
      "0   ABCO    Fir         EAS         MMC  BA_pft_mean  33.866667\n",
      "1   ABCO    Fir        PEAS         MMC  BA_pft_mean  22.233333\n",
      "2   CADE  Cedar         EAS         MMC  BA_pft_mean  21.166667\n",
      "3   CADE  Cedar        PEAS         MMC  BA_pft_mean  11.766667\n",
      "4   PIPO   Pine         EAS         MMC  BA_pft_mean   7.150000\n",
      "5   PIPO   Pine        PEAS         MMC  BA_pft_mean   9.983333\n",
      "6   ABCO    Fir         EAS         MMC   BA_pft_std   2.830783\n",
      "7   ABCO    Fir        PEAS         MMC   BA_pft_std   4.196824\n",
      "8   CADE  Cedar         EAS         MMC   BA_pft_std   2.362908\n",
      "9   CADE  Cedar        PEAS         MMC   BA_pft_std   2.565801\n",
      "10  PIPO   Pine         EAS         MMC   BA_pft_std   3.269709\n",
      "11  PIPO   Pine        PEAS         MMC   BA_pft_std   4.379688\n",
      "    Tree    Pft Time_period Forest_type      Statistic     Value\n",
      "0  Shrub  Shrub         EAS         MMC  ShrubCov_mean  0.025333\n",
      "1  Shrub  Shrub        PEAS         MMC  ShrubCov_mean  0.286667\n",
      "2  Shrub  Shrub         EAS         MMC   ShrubCov_std  0.031374\n",
      "3  Shrub  Shrub        PEAS         MMC   ShrubCov_std  0.040415\n"
     ]
    }
   ],
   "source": [
    "STAN = obs.loc[obs.Site == \"STAN\"]\n",
    "print(STAN.Var.unique())\n",
    "STAN_BA_pft = summarize_and_melt(STAN,var_name = \"BA\", output_stat_name=\"BA_pft\")\n",
    "print(STAN_BA_pft)\n",
    "STAN_ShrubCov = summarize_and_melt(STAN,var_name = \"ShrubCov\", output_stat_name=\"ShrubCov\")\n",
    "print(STAN_ShrubCov)"
   ]
  },
  {
   "cell_type": "markdown",
   "id": "df45faae",
   "metadata": {},
   "source": [
    "## Yosemite South Fork Tuolumne River"
   ]
  },
  {
   "cell_type": "code",
   "execution_count": 159,
   "id": "0de5c4b7",
   "metadata": {},
   "outputs": [
    {
     "name": "stdout",
     "output_type": "stream",
     "text": [
      "['BA_mean' 'BA_SD' 'Stem_density' 'Stem_density_SD']\n",
      "    Tree    Pft Time_period Forest_type    Statistic      Value\n",
      "0   ABCO    Fir         EAS         DMC  BA_pft_mean  17.500000\n",
      "1   ABCO    Fir        PEAS         DMC  BA_pft_mean   1.800000\n",
      "2   CADE  Cedar         EAS         DMC  BA_pft_mean  18.000000\n",
      "3   CADE  Cedar        PEAS         DMC  BA_pft_mean   9.000000\n",
      "4   PIPO   Pine         EAS         DMC  BA_pft_mean  14.100000\n",
      "5   PIPO   Pine        PEAS         DMC  BA_pft_mean   8.600000\n",
      "6   QUKE    Oak         EAS         DMC  BA_pft_mean   2.900000\n",
      "7   QUKE    Oak        PEAS         DMC  BA_pft_mean   0.700000\n",
      "8   ABCO    Fir         EAS         DMC   BA_pft_std        NaN\n",
      "9   ABCO    Fir        PEAS         DMC   BA_pft_std        NaN\n",
      "10  CADE  Cedar         EAS         DMC   BA_pft_std        NaN\n",
      "11  CADE  Cedar        PEAS         DMC   BA_pft_std        NaN\n",
      "12  PIPO   Pine         EAS         DMC   BA_pft_std   3.818377\n",
      "13  PIPO   Pine        PEAS         DMC   BA_pft_std   2.545584\n",
      "14  QUKE    Oak         EAS         DMC   BA_pft_std        NaN\n",
      "15  QUKE    Oak        PEAS         DMC   BA_pft_std        NaN\n",
      "    Tree  Pft Time_period Forest_type                     Site      Statistic  \\\n",
      "133  NaN  NaN        PEAS         DMC  YOSE_SFTR_Scholl_Taylor  BA_total_mean   \n",
      "\n",
      "     Value  \n",
      "133   29.5  \n",
      "    Tree  Pft Time_period Forest_type              Site      Statistic  Value\n",
      "134  NaN  NaN        PEAS         DMC  YOSE_SFTR_USDAFS  BA_total_mean   21.0\n",
      "    Tree    Pft Time_period Forest_type         Statistic       Value\n",
      "0   ABCO    Fir         EAS         DMC  StemDen_pft_mean  248.900000\n",
      "1   ABCO    Fir        PEAS         DMC  StemDen_pft_mean   25.300000\n",
      "2   CADE  Cedar         EAS         DMC  StemDen_pft_mean  128.100000\n",
      "3   CADE  Cedar        PEAS         DMC  StemDen_pft_mean   57.500000\n",
      "4   PIPO   Pine         EAS         DMC  StemDen_pft_mean   46.450000\n",
      "5   PIPO   Pine        PEAS         DMC  StemDen_pft_mean   27.650000\n",
      "6   QUKE    Oak         EAS         DMC  StemDen_pft_mean   33.500000\n",
      "7   QUKE    Oak        PEAS         DMC  StemDen_pft_mean   18.000000\n",
      "8   ABCO    Fir         EAS         DMC   StemDen_pft_std         NaN\n",
      "9   ABCO    Fir        PEAS         DMC   StemDen_pft_std         NaN\n",
      "10  CADE  Cedar         EAS         DMC   StemDen_pft_std         NaN\n",
      "11  CADE  Cedar        PEAS         DMC   StemDen_pft_std         NaN\n",
      "12  PIPO   Pine         EAS         DMC   StemDen_pft_std    3.181981\n",
      "13  PIPO   Pine        PEAS         DMC   StemDen_pft_std   13.788582\n",
      "14  QUKE    Oak         EAS         DMC   StemDen_pft_std         NaN\n",
      "15  QUKE    Oak        PEAS         DMC   StemDen_pft_std         NaN\n"
     ]
    }
   ],
   "source": [
    "YOSE_SFTR = obs.loc[obs.Site == \"YOSE_SFTR\"]\n",
    "YOSE_SFTR_ST = obs.loc[obs.Site == \"YOSE_SFTR_Scholl_Taylor\"]\n",
    "YOSE_SFTR_USDA = obs.loc[obs.Site == \"YOSE_SFTR_USDAFS\"]\n",
    "\n",
    "print(YOSE_SFTR.Var.unique())\n",
    "\n",
    "YOSE_SFTR_BA_pft = summarize_and_melt(YOSE_SFTR,var_name = \"BA_mean\", output_stat_name=\"BA_pft\")\n",
    "print(YOSE_SFTR_BA_pft)\n",
    "\n",
    "\n",
    "YOSE_SFTR_total_ba_ST = get_total_ba(YOSE_SFTR_ST)\n",
    "print(YOSE_SFTR_total_ba_ST)\n",
    "\n",
    "YOSE_SFTR_total_ba_USDA = get_total_ba(YOSE_SFTR_USDA)\n",
    "print(YOSE_SFTR_total_ba_USDA)\n",
    "\n",
    "\n",
    "YOSE_SFTR_stemDen_pft = summarize_and_melt(YOSE_SFTR,var_name = \"Stem_density\", output_stat_name=\"StemDen_pft\")\n",
    "print(YOSE_SFTR_stemDen_pft)"
   ]
  },
  {
   "cell_type": "markdown",
   "id": "ec789605",
   "metadata": {},
   "source": [
    "## Tahoe Basin"
   ]
  },
  {
   "cell_type": "code",
   "execution_count": 166,
   "id": "5ff8ab46",
   "metadata": {},
   "outputs": [
    {
     "name": "stdout",
     "output_type": "stream",
     "text": [
      "['BA_total_mean']\n",
      "    Tree  Pft Time_period Forest_type         Site      Statistic  Value\n",
      "131  NaN  NaN        PEAS         MMC  Tahoe_Basin  BA_total_mean   27.0\n"
     ]
    }
   ],
   "source": [
    "Tahoe = obs.loc[obs.Site == \"Tahoe_Basin\"]\n",
    "print(Tahoe.Var.unique())\n",
    "Tahoe_total_ba = get_total_ba(Tahoe)\n",
    "print(Tahoe_total_ba)"
   ]
  },
  {
   "cell_type": "code",
   "execution_count": 137,
   "id": "91d4d510",
   "metadata": {},
   "outputs": [
    {
     "name": "stdout",
     "output_type": "stream",
     "text": [
      "Sites ['CZ2' 'STAN' 'GREEN' 'YOSE_SFTR' 'Tahoe_Basin' 'Teakettle' 'YOSE_WEST'\n",
      " 'YPMC']\n"
     ]
    }
   ],
   "source": [
    "print(\"Sites\",obs.Site.unique())"
   ]
  },
  {
   "cell_type": "markdown",
   "id": "a47fd843",
   "metadata": {},
   "source": [
    "## Teakettle"
   ]
  },
  {
   "cell_type": "code",
   "execution_count": 165,
   "id": "ca283127",
   "metadata": {},
   "outputs": [
    {
     "name": "stdout",
     "output_type": "stream",
     "text": [
      "['BA_total_mean']\n",
      "    Tree  Pft Time_period Forest_type       Site      Statistic  Value\n",
      "132  NaN  NaN        PEAS         MMC  Teakettle  BA_total_mean   51.0\n"
     ]
    }
   ],
   "source": [
    "Tk = obs.loc[obs.Site == \"Teakettle\"]\n",
    "print(Tk.Var.unique())\n",
    "Tk_total_ba = get_total_ba(Tk)\n",
    "print(Tk_total_ba)"
   ]
  },
  {
   "cell_type": "markdown",
   "id": "57d9848f",
   "metadata": {},
   "source": [
    "## Western Yosemite"
   ]
  },
  {
   "cell_type": "code",
   "execution_count": 172,
   "id": "86a25283",
   "metadata": {},
   "outputs": [
    {
     "name": "stdout",
     "output_type": "stream",
     "text": [
      "['BA_total_mean']\n",
      "    Tree  Pft Time_period Forest_type           Site      Statistic      Value\n",
      "135  NaN  NaN        PEAS         DMC  YOSE_WEST_DRY  BA_total_mean  10.633333\n",
      "['BA_total_mean']\n",
      "    Tree  Pft Time_period Forest_type           Site      Statistic      Value\n",
      "136  NaN  NaN        PEAS         MMC  YOSE_WEST_WET  BA_total_mean  22.833333\n",
      "    Tree    Pft Time_period Forest_type      Statistic     Value\n",
      "0  Shrub  Shrub        PEAS        Both  ShrubCov_mean  0.090000\n",
      "1  Shrub  Shrub        PEAS         DMC  ShrubCov_mean  0.324500\n",
      "2  Shrub  Shrub        PEAS         MMC  ShrubCov_mean  0.195500\n",
      "3  Shrub  Shrub        PEAS        Both   ShrubCov_std       NaN\n",
      "4  Shrub  Shrub        PEAS         DMC   ShrubCov_std  0.309006\n",
      "5  Shrub  Shrub        PEAS         MMC   ShrubCov_std  0.030406\n",
      "    Tree    Pft Time_period Forest_type    Statistic     Value\n",
      "0   ABCO    Fir        PEAS         DMC  BA_pft_mean  0.333333\n",
      "1   ABCO    Fir        PEAS         MMC  BA_pft_mean  3.820000\n",
      "2   CADE  Cedar        PEAS         DMC  BA_pft_mean  3.133333\n",
      "3   CADE  Cedar        PEAS         MMC  BA_pft_mean  5.080000\n",
      "4   PIPO   Pine        PEAS         DMC  BA_pft_mean  3.300000\n",
      "5   PIPO   Pine        PEAS         MMC  BA_pft_mean  4.850000\n",
      "6   ABCO    Fir        PEAS         DMC   BA_pft_std       NaN\n",
      "7   ABCO    Fir        PEAS         MMC   BA_pft_std       NaN\n",
      "8   CADE  Cedar        PEAS         DMC   BA_pft_std       NaN\n",
      "9   CADE  Cedar        PEAS         MMC   BA_pft_std       NaN\n",
      "10  PIPO   Pine        PEAS         DMC   BA_pft_std  3.016989\n",
      "11  PIPO   Pine        PEAS         MMC   BA_pft_std  3.747666\n"
     ]
    }
   ],
   "source": [
    "YW = obs.loc[obs.Site == \"YOSE_WEST\"]\n",
    "YW_DRY = obs.loc[obs.Site == \"YOSE_WEST_DRY\"]\n",
    "YW_WET = obs.loc[obs.Site == \"YOSE_WEST_WET\"]\n",
    "\n",
    "print(YW_DRY.Var.unique())\n",
    "YW_total_ba_dry = get_total_ba(YW_DRY)\n",
    "print(YW_total_ba_dry)\n",
    "\n",
    "print(YW_WET.Var.unique())\n",
    "YW_total_ba_wet = get_total_ba(YW_WET)\n",
    "print(YW_total_ba_wet)\n",
    "\n",
    "#Shrub Cover\n",
    "YOSE_WEST_ShrubCov = summarize_and_melt(YW,var_name = \"ShrubCov\", output_stat_name=\"ShrubCov\")\n",
    "print(YOSE_WEST_ShrubCov)\n",
    "\n",
    "#BA per pft\n",
    "YOSE_WEST_BA_pft = summarize_and_melt(YW ,var_name = \"BA\", output_stat_name=\"BA_pft\")\n",
    "print(YOSE_WEST_BA_pft)"
   ]
  },
  {
   "cell_type": "markdown",
   "id": "8f8a2d96",
   "metadata": {},
   "source": [
    "## Greenhorn Mountains"
   ]
  },
  {
   "cell_type": "code",
   "execution_count": 176,
   "id": "0508cf64",
   "metadata": {},
   "outputs": [
    {
     "name": "stdout",
     "output_type": "stream",
     "text": [
      "['BA_mean' 'BA_SD' 'ShrubCovMean' 'ShrubCovSE']\n",
      "    Tree    Pft Time_period Forest_type      Statistic     Value\n",
      "0  Shrub  Shrub        PEAS         DMC  ShrubCov_mean  0.138000\n",
      "1  Shrub  Shrub        PEAS         MMC  ShrubCov_mean  0.404333\n",
      "2  Shrub  Shrub        PEAS         DMC   ShrubCov_std       NaN\n",
      "3  Shrub  Shrub        PEAS         MMC   ShrubCov_std       NaN\n"
     ]
    }
   ],
   "source": [
    "GREEN = obs.loc[obs.Site == \"GREEN\"]\n",
    "print(GREEN.Var.unique())\n",
    "#Shrub Cover\n",
    "GREEN_ShrubCov = summarize_and_melt(GREEN,var_name = \"ShrubCovMean\", output_stat_name=\"ShrubCov\")\n",
    "print(GREEN_ShrubCov)"
   ]
  },
  {
   "cell_type": "markdown",
   "id": "d93a7d53",
   "metadata": {},
   "source": [
    "## Safford and Stevens, 2017"
   ]
  },
  {
   "cell_type": "code",
   "execution_count": 140,
   "id": "19b7c683",
   "metadata": {},
   "outputs": [
    {
     "name": "stdout",
     "output_type": "stream",
     "text": [
      "['Stem_density_max' 'Stem_density_mean' 'Stem_density_min']\n"
     ]
    }
   ],
   "source": [
    "YPMC = obs.loc[obs.Site == \"YPMC\"]\n",
    "print(YPMC.Var.unique())"
   ]
  },
  {
   "cell_type": "markdown",
   "id": "e1377eba",
   "metadata": {},
   "source": [
    "## Get stats for pft-specific basal area\n",
    "\n",
    "dbh min = 10 except for YOSE_WEST which is 15.2"
   ]
  },
  {
   "cell_type": "code",
   "execution_count": 148,
   "id": "0c305258",
   "metadata": {},
   "outputs": [
    {
     "data": {
      "text/html": [
       "<div>\n",
       "<style scoped>\n",
       "    .dataframe tbody tr th:only-of-type {\n",
       "        vertical-align: middle;\n",
       "    }\n",
       "\n",
       "    .dataframe tbody tr th {\n",
       "        vertical-align: top;\n",
       "    }\n",
       "\n",
       "    .dataframe thead th {\n",
       "        text-align: right;\n",
       "    }\n",
       "</style>\n",
       "<table border=\"1\" class=\"dataframe\">\n",
       "  <thead>\n",
       "    <tr style=\"text-align: right;\">\n",
       "      <th></th>\n",
       "      <th>Pft</th>\n",
       "      <th>Time_period</th>\n",
       "      <th>Forest_type</th>\n",
       "      <th>BA_pft_mean</th>\n",
       "      <th>BA_pft_std</th>\n",
       "      <th>BA_pft_n</th>\n",
       "      <th>BA_pft_min</th>\n",
       "      <th>BA_pft_max</th>\n",
       "    </tr>\n",
       "  </thead>\n",
       "  <tbody>\n",
       "    <tr>\n",
       "      <th>0</th>\n",
       "      <td>Cedar</td>\n",
       "      <td>EAS</td>\n",
       "      <td>DMC</td>\n",
       "      <td>13.488052</td>\n",
       "      <td>6.380858</td>\n",
       "      <td>2</td>\n",
       "      <td>8.976104</td>\n",
       "      <td>18.000000</td>\n",
       "    </tr>\n",
       "    <tr>\n",
       "      <th>4</th>\n",
       "      <td>Fir</td>\n",
       "      <td>EAS</td>\n",
       "      <td>DMC</td>\n",
       "      <td>10.056177</td>\n",
       "      <td>10.527156</td>\n",
       "      <td>2</td>\n",
       "      <td>2.612354</td>\n",
       "      <td>17.500000</td>\n",
       "    </tr>\n",
       "    <tr>\n",
       "      <th>8</th>\n",
       "      <td>Oak</td>\n",
       "      <td>EAS</td>\n",
       "      <td>DMC</td>\n",
       "      <td>3.351549</td>\n",
       "      <td>0.981847</td>\n",
       "      <td>3</td>\n",
       "      <td>2.676712</td>\n",
       "      <td>4.477936</td>\n",
       "    </tr>\n",
       "    <tr>\n",
       "      <th>10</th>\n",
       "      <td>Pine</td>\n",
       "      <td>EAS</td>\n",
       "      <td>DMC</td>\n",
       "      <td>13.295031</td>\n",
       "      <td>1.138399</td>\n",
       "      <td>2</td>\n",
       "      <td>12.490061</td>\n",
       "      <td>14.100000</td>\n",
       "    </tr>\n",
       "    <tr>\n",
       "      <th>1</th>\n",
       "      <td>Cedar</td>\n",
       "      <td>EAS</td>\n",
       "      <td>MMC</td>\n",
       "      <td>21.166667</td>\n",
       "      <td>NaN</td>\n",
       "      <td>1</td>\n",
       "      <td>21.166667</td>\n",
       "      <td>21.166667</td>\n",
       "    </tr>\n",
       "    <tr>\n",
       "      <th>5</th>\n",
       "      <td>Fir</td>\n",
       "      <td>EAS</td>\n",
       "      <td>MMC</td>\n",
       "      <td>33.866667</td>\n",
       "      <td>NaN</td>\n",
       "      <td>1</td>\n",
       "      <td>33.866667</td>\n",
       "      <td>33.866667</td>\n",
       "    </tr>\n",
       "    <tr>\n",
       "      <th>11</th>\n",
       "      <td>Pine</td>\n",
       "      <td>EAS</td>\n",
       "      <td>MMC</td>\n",
       "      <td>7.150000</td>\n",
       "      <td>NaN</td>\n",
       "      <td>1</td>\n",
       "      <td>7.150000</td>\n",
       "      <td>7.150000</td>\n",
       "    </tr>\n",
       "    <tr>\n",
       "      <th>2</th>\n",
       "      <td>Cedar</td>\n",
       "      <td>PEAS</td>\n",
       "      <td>DMC</td>\n",
       "      <td>6.066667</td>\n",
       "      <td>4.148360</td>\n",
       "      <td>2</td>\n",
       "      <td>3.133333</td>\n",
       "      <td>9.000000</td>\n",
       "    </tr>\n",
       "    <tr>\n",
       "      <th>6</th>\n",
       "      <td>Fir</td>\n",
       "      <td>PEAS</td>\n",
       "      <td>DMC</td>\n",
       "      <td>1.066667</td>\n",
       "      <td>1.037090</td>\n",
       "      <td>2</td>\n",
       "      <td>0.333333</td>\n",
       "      <td>1.800000</td>\n",
       "    </tr>\n",
       "    <tr>\n",
       "      <th>9</th>\n",
       "      <td>Oak</td>\n",
       "      <td>PEAS</td>\n",
       "      <td>DMC</td>\n",
       "      <td>0.700000</td>\n",
       "      <td>NaN</td>\n",
       "      <td>1</td>\n",
       "      <td>0.700000</td>\n",
       "      <td>0.700000</td>\n",
       "    </tr>\n",
       "    <tr>\n",
       "      <th>12</th>\n",
       "      <td>Pine</td>\n",
       "      <td>PEAS</td>\n",
       "      <td>DMC</td>\n",
       "      <td>5.950000</td>\n",
       "      <td>3.747666</td>\n",
       "      <td>2</td>\n",
       "      <td>3.300000</td>\n",
       "      <td>8.600000</td>\n",
       "    </tr>\n",
       "    <tr>\n",
       "      <th>3</th>\n",
       "      <td>Cedar</td>\n",
       "      <td>PEAS</td>\n",
       "      <td>MMC</td>\n",
       "      <td>8.423333</td>\n",
       "      <td>4.728187</td>\n",
       "      <td>2</td>\n",
       "      <td>5.080000</td>\n",
       "      <td>11.766667</td>\n",
       "    </tr>\n",
       "    <tr>\n",
       "      <th>7</th>\n",
       "      <td>Fir</td>\n",
       "      <td>PEAS</td>\n",
       "      <td>MMC</td>\n",
       "      <td>13.026667</td>\n",
       "      <td>13.020193</td>\n",
       "      <td>2</td>\n",
       "      <td>3.820000</td>\n",
       "      <td>22.233333</td>\n",
       "    </tr>\n",
       "    <tr>\n",
       "      <th>13</th>\n",
       "      <td>Pine</td>\n",
       "      <td>PEAS</td>\n",
       "      <td>MMC</td>\n",
       "      <td>7.416667</td>\n",
       "      <td>3.629815</td>\n",
       "      <td>2</td>\n",
       "      <td>4.850000</td>\n",
       "      <td>9.983333</td>\n",
       "    </tr>\n",
       "  </tbody>\n",
       "</table>\n",
       "</div>"
      ],
      "text/plain": [
       "      Pft Time_period Forest_type  BA_pft_mean  BA_pft_std  BA_pft_n  \\\n",
       "0   Cedar         EAS         DMC    13.488052    6.380858         2   \n",
       "4     Fir         EAS         DMC    10.056177   10.527156         2   \n",
       "8     Oak         EAS         DMC     3.351549    0.981847         3   \n",
       "10   Pine         EAS         DMC    13.295031    1.138399         2   \n",
       "1   Cedar         EAS         MMC    21.166667         NaN         1   \n",
       "5     Fir         EAS         MMC    33.866667         NaN         1   \n",
       "11   Pine         EAS         MMC     7.150000         NaN         1   \n",
       "2   Cedar        PEAS         DMC     6.066667    4.148360         2   \n",
       "6     Fir        PEAS         DMC     1.066667    1.037090         2   \n",
       "9     Oak        PEAS         DMC     0.700000         NaN         1   \n",
       "12   Pine        PEAS         DMC     5.950000    3.747666         2   \n",
       "3   Cedar        PEAS         MMC     8.423333    4.728187         2   \n",
       "7     Fir        PEAS         MMC    13.026667   13.020193         2   \n",
       "13   Pine        PEAS         MMC     7.416667    3.629815         2   \n",
       "\n",
       "    BA_pft_min  BA_pft_max  \n",
       "0     8.976104   18.000000  \n",
       "4     2.612354   17.500000  \n",
       "8     2.676712    4.477936  \n",
       "10   12.490061   14.100000  \n",
       "1    21.166667   21.166667  \n",
       "5    33.866667   33.866667  \n",
       "11    7.150000    7.150000  \n",
       "2     3.133333    9.000000  \n",
       "6     0.333333    1.800000  \n",
       "9     0.700000    0.700000  \n",
       "12    3.300000    8.600000  \n",
       "3     5.080000   11.766667  \n",
       "7     3.820000   22.233333  \n",
       "13    4.850000    9.983333  "
      ]
     },
     "execution_count": 148,
     "metadata": {},
     "output_type": "execute_result"
    }
   ],
   "source": [
    "BA_pft = pd.concat([\n",
    "    CZ2_BA_pft,STAN_BA_pft,YOSE_SFTR_BA_pft,YOSE_WEST_BA_pft\n",
    "])\n",
    "\n",
    "pft_specific_ba = BA_pft.loc[BA_pft.Statistic == 'BA_pft_mean'].groupby(['Pft','Time_period','Forest_type']).agg(\n",
    "        BA_pft_mean = (\"Value\", 'mean'),\n",
    "        BA_pft_std = (\"Value\", 'std'),\n",
    "        BA_pft_n = (\"Value\", 'count'),\n",
    "        BA_pft_min = (\"Value\", 'min'),\n",
    "        BA_pft_max = (\"Value\", 'max')\n",
    "    ).reset_index().sort_values(['Time_period','Forest_type','Pft'])\n",
    "\n",
    "pft_specific_ba"
   ]
  },
  {
   "cell_type": "markdown",
   "id": "fef0e012",
   "metadata": {},
   "source": [
    "### Get total ba from pft-specific ba"
   ]
  },
  {
   "cell_type": "code",
   "execution_count": 151,
   "id": "37365033",
   "metadata": {},
   "outputs": [
    {
     "data": {
      "text/html": [
       "<div>\n",
       "<style scoped>\n",
       "    .dataframe tbody tr th:only-of-type {\n",
       "        vertical-align: middle;\n",
       "    }\n",
       "\n",
       "    .dataframe tbody tr th {\n",
       "        vertical-align: top;\n",
       "    }\n",
       "\n",
       "    .dataframe thead th {\n",
       "        text-align: right;\n",
       "    }\n",
       "</style>\n",
       "<table border=\"1\" class=\"dataframe\">\n",
       "  <thead>\n",
       "    <tr style=\"text-align: right;\">\n",
       "      <th></th>\n",
       "      <th></th>\n",
       "      <th>BA_total</th>\n",
       "    </tr>\n",
       "    <tr>\n",
       "      <th>Time_period</th>\n",
       "      <th>Forest_type</th>\n",
       "      <th></th>\n",
       "    </tr>\n",
       "  </thead>\n",
       "  <tbody>\n",
       "    <tr>\n",
       "      <th rowspan=\"2\" valign=\"top\">EAS</th>\n",
       "      <th>DMC</th>\n",
       "      <td>40.190809</td>\n",
       "    </tr>\n",
       "    <tr>\n",
       "      <th>MMC</th>\n",
       "      <td>62.183333</td>\n",
       "    </tr>\n",
       "    <tr>\n",
       "      <th rowspan=\"2\" valign=\"top\">PEAS</th>\n",
       "      <th>DMC</th>\n",
       "      <td>13.783333</td>\n",
       "    </tr>\n",
       "    <tr>\n",
       "      <th>MMC</th>\n",
       "      <td>28.866667</td>\n",
       "    </tr>\n",
       "  </tbody>\n",
       "</table>\n",
       "</div>"
      ],
      "text/plain": [
       "                          BA_total\n",
       "Time_period Forest_type           \n",
       "EAS         DMC          40.190809\n",
       "            MMC          62.183333\n",
       "PEAS        DMC          13.783333\n",
       "            MMC          28.866667"
      ]
     },
     "execution_count": 151,
     "metadata": {},
     "output_type": "execute_result"
    }
   ],
   "source": [
    "pft_specific_ba.groupby(['Time_period','Forest_type']).agg(\n",
    "        BA_total = (\"BA_pft_mean\", 'sum'))"
   ]
  },
  {
   "cell_type": "markdown",
   "id": "e3f088c7",
   "metadata": {},
   "source": [
    "## Get total ba"
   ]
  },
  {
   "cell_type": "code",
   "execution_count": 169,
   "id": "aaf7e18f",
   "metadata": {},
   "outputs": [
    {
     "data": {
      "text/html": [
       "<div>\n",
       "<style scoped>\n",
       "    .dataframe tbody tr th:only-of-type {\n",
       "        vertical-align: middle;\n",
       "    }\n",
       "\n",
       "    .dataframe tbody tr th {\n",
       "        vertical-align: top;\n",
       "    }\n",
       "\n",
       "    .dataframe thead th {\n",
       "        text-align: right;\n",
       "    }\n",
       "</style>\n",
       "<table border=\"1\" class=\"dataframe\">\n",
       "  <thead>\n",
       "    <tr style=\"text-align: right;\">\n",
       "      <th></th>\n",
       "      <th></th>\n",
       "      <th>BA_total_mean</th>\n",
       "      <th>BA_std</th>\n",
       "      <th>BA_total_n</th>\n",
       "      <th>BA_total_min</th>\n",
       "      <th>BA_total_max</th>\n",
       "    </tr>\n",
       "    <tr>\n",
       "      <th>Time_period</th>\n",
       "      <th>Forest_type</th>\n",
       "      <th></th>\n",
       "      <th></th>\n",
       "      <th></th>\n",
       "      <th></th>\n",
       "      <th></th>\n",
       "    </tr>\n",
       "  </thead>\n",
       "  <tbody>\n",
       "    <tr>\n",
       "      <th rowspan=\"2\" valign=\"top\">PEAS</th>\n",
       "      <th>DMC</th>\n",
       "      <td>20.377778</td>\n",
       "      <td>9.448711</td>\n",
       "      <td>3</td>\n",
       "      <td>10.633333</td>\n",
       "      <td>29.5</td>\n",
       "    </tr>\n",
       "    <tr>\n",
       "      <th>MMC</th>\n",
       "      <td>33.611111</td>\n",
       "      <td>15.202644</td>\n",
       "      <td>3</td>\n",
       "      <td>22.833333</td>\n",
       "      <td>51.0</td>\n",
       "    </tr>\n",
       "  </tbody>\n",
       "</table>\n",
       "</div>"
      ],
      "text/plain": [
       "                         BA_total_mean     BA_std  BA_total_n  BA_total_min  \\\n",
       "Time_period Forest_type                                                       \n",
       "PEAS        DMC              20.377778   9.448711           3     10.633333   \n",
       "            MMC              33.611111  15.202644           3     22.833333   \n",
       "\n",
       "                         BA_total_max  \n",
       "Time_period Forest_type                \n",
       "PEAS        DMC                  29.5  \n",
       "            MMC                  51.0  "
      ]
     },
     "execution_count": 169,
     "metadata": {},
     "output_type": "execute_result"
    }
   ],
   "source": [
    "total_ba = pd.concat([\n",
    "    YW_total_ba_dry,YW_total_ba_wet,YOSE_SFTR_total_ba_ST,YOSE_SFTR_total_ba_USDA,Tk_total_ba,Tahoe_total_ba\n",
    "])\n",
    "total_ba.groupby(['Time_period','Forest_type']).agg(\n",
    "        BA_total_mean = (\"Value\", 'mean'),\n",
    "        BA_std = (\"Value\", 'std'),\n",
    "        BA_total_n = (\"Value\", 'count'),\n",
    "        BA_total_min = (\"Value\", 'min'),\n",
    "        BA_total_max = (\"Value\", 'max'))"
   ]
  },
  {
   "cell_type": "markdown",
   "id": "6e0eaacc",
   "metadata": {},
   "source": [
    "## Shrub Cover"
   ]
  },
  {
   "cell_type": "code",
   "execution_count": 181,
   "id": "d4879311",
   "metadata": {},
   "outputs": [
    {
     "data": {
      "text/html": [
       "<div>\n",
       "<style scoped>\n",
       "    .dataframe tbody tr th:only-of-type {\n",
       "        vertical-align: middle;\n",
       "    }\n",
       "\n",
       "    .dataframe tbody tr th {\n",
       "        vertical-align: top;\n",
       "    }\n",
       "\n",
       "    .dataframe thead th {\n",
       "        text-align: right;\n",
       "    }\n",
       "</style>\n",
       "<table border=\"1\" class=\"dataframe\">\n",
       "  <thead>\n",
       "    <tr style=\"text-align: right;\">\n",
       "      <th></th>\n",
       "      <th></th>\n",
       "      <th>Shrub_cov_mean</th>\n",
       "      <th>BA_std</th>\n",
       "      <th>BA_total_n</th>\n",
       "      <th>BA_total_min</th>\n",
       "      <th>BA_total_max</th>\n",
       "    </tr>\n",
       "    <tr>\n",
       "      <th>Time_period</th>\n",
       "      <th>Forest_type</th>\n",
       "      <th></th>\n",
       "      <th></th>\n",
       "      <th></th>\n",
       "      <th></th>\n",
       "      <th></th>\n",
       "    </tr>\n",
       "  </thead>\n",
       "  <tbody>\n",
       "    <tr>\n",
       "      <th>EAS</th>\n",
       "      <th>MMC</th>\n",
       "      <td>0.025333</td>\n",
       "      <td>NaN</td>\n",
       "      <td>1</td>\n",
       "      <td>0.025333</td>\n",
       "      <td>0.025333</td>\n",
       "    </tr>\n",
       "    <tr>\n",
       "      <th rowspan=\"3\" valign=\"top\">PEAS</th>\n",
       "      <th>Both</th>\n",
       "      <td>0.090000</td>\n",
       "      <td>NaN</td>\n",
       "      <td>1</td>\n",
       "      <td>0.090000</td>\n",
       "      <td>0.090000</td>\n",
       "    </tr>\n",
       "    <tr>\n",
       "      <th>DMC</th>\n",
       "      <td>0.231250</td>\n",
       "      <td>0.131875</td>\n",
       "      <td>2</td>\n",
       "      <td>0.138000</td>\n",
       "      <td>0.324500</td>\n",
       "    </tr>\n",
       "    <tr>\n",
       "      <th>MMC</th>\n",
       "      <td>0.295500</td>\n",
       "      <td>0.104697</td>\n",
       "      <td>3</td>\n",
       "      <td>0.195500</td>\n",
       "      <td>0.404333</td>\n",
       "    </tr>\n",
       "  </tbody>\n",
       "</table>\n",
       "</div>"
      ],
      "text/plain": [
       "                         Shrub_cov_mean    BA_std  BA_total_n  BA_total_min  \\\n",
       "Time_period Forest_type                                                       \n",
       "EAS         MMC                0.025333       NaN           1      0.025333   \n",
       "PEAS        Both               0.090000       NaN           1      0.090000   \n",
       "            DMC                0.231250  0.131875           2      0.138000   \n",
       "            MMC                0.295500  0.104697           3      0.195500   \n",
       "\n",
       "                         BA_total_max  \n",
       "Time_period Forest_type                \n",
       "EAS         MMC              0.025333  \n",
       "PEAS        Both             0.090000  \n",
       "            DMC              0.324500  \n",
       "            MMC              0.404333  "
      ]
     },
     "execution_count": 181,
     "metadata": {},
     "output_type": "execute_result"
    }
   ],
   "source": [
    "shrubCov = pd.concat([YOSE_WEST_ShrubCov,STAN_ShrubCov,GREEN_ShrubCov])\n",
    "shrubCov = shrubCov.loc[shrubCov.Statistic == \"ShrubCov_mean\"]\n",
    "\n",
    "shrubCov.groupby(['Time_period','Forest_type']).agg(\n",
    "        Shrub_cov_mean = (\"Value\", 'mean'),\n",
    "        BA_std = (\"Value\", 'std'),\n",
    "        BA_total_n = (\"Value\", 'count'),\n",
    "        BA_total_min = (\"Value\", 'min'),\n",
    "        BA_total_max = (\"Value\", 'max'))"
   ]
  },
  {
   "cell_type": "markdown",
   "id": "c5f2d9ed",
   "metadata": {},
   "source": [
    "## Summary of statistics for PEAS, DRY\n",
    "\n",
    "dbh_min: mostly 10 cm, but 15.2 for Collins et al., 2015 (western YOSE)\n",
    "\n",
    "* Total BA: 10-30 (mean 20)\n",
    "* Pine BA: 3-9 (mean 6)\n",
    "* Cedar BA: 3-9 (mean 6)\n",
    "* Fir BA: 0-2 (mean 1)\n",
    "* Shrub Cover: 14-32 (mean 23)"
   ]
  },
  {
   "cell_type": "code",
   "execution_count": 161,
   "id": "0f4dc23d",
   "metadata": {},
   "outputs": [
    {
     "name": "stdout",
     "output_type": "stream",
     "text": [
      "['_', '__', '___', 'obs', '_4', 'CZ2', '_8', 'grouped', '_10', '_11', '_12', 'CZ2_BA_pft', '_13', 'STAN', '_14', '_15', '_19', '_21', '_22', '_23', '_24', '_25', 'STAN_BA_pft', '_26', '_29', '_30', '_31', '_33', '_36', '_37', '_39', '_41', '_43', '_45', '_47', '_48', '_49', '_50', 'STAN_ShrubCov', '_51', 'YOSE_SFTR', '_56', '_57', '_58', 'YOSE_SFTR_BA_pft', 'YOSE_SFTR_BA_total', '_71', 'YOSE_SFTR_total_ba', '_75', '_78', 'YOSE_SFTR_stemDen_pft', 'Tahoe', 'Tahoe_total_ba', 'Tk', 'Tk_total_ba', 'YW', 'YW_total_ba', '_89', '_91', '_93', 'YOSE_WEST_ShrubCov', 'YOSE_WEST_BA_pft', '_97', '_100', '_103', 'YPMC', '_115', 'benchmarking_df', 'BA_pft', '_120', '_123', '_126', '_127', '_141', '_143', '_144', '_145', '_146', '_147', 'pft_specific_ba', '_148', '_151', 'YW_DRY', 'YW_WET', 'YW_total_ba_dry', 'YW_total_ba_wet', 'YOSE_SFTR_ST', 'YOSE_SFTR_USDA', 'YOSE_SFTR_total_ba_ST', 'YOSE_SFTR_total_ba_USDA']\n"
     ]
    }
   ],
   "source": [
    "dfs_in_memory = {name: obj for name, obj in globals().items() if isinstance(obj, pd.DataFrame)}\n",
    "\n",
    "# Print the names of the dataframes in memory\n",
    "print(list(dfs_in_memory.keys()))"
   ]
  }
 ],
 "metadata": {
  "kernelspec": {
   "display_name": "Python [conda env:env4]",
   "language": "python",
   "name": "conda-env-env4-py"
  },
  "language_info": {
   "codemirror_mode": {
    "name": "ipython",
    "version": 3
   },
   "file_extension": ".py",
   "mimetype": "text/x-python",
   "name": "python",
   "nbconvert_exporter": "python",
   "pygments_lexer": "ipython3",
   "version": "3.8.13"
  },
  "toc": {
   "base_numbering": 1,
   "nav_menu": {},
   "number_sections": true,
   "sideBar": true,
   "skip_h1_title": false,
   "title_cell": "Table of Contents",
   "title_sidebar": "Contents",
   "toc_cell": false,
   "toc_position": {},
   "toc_section_display": true,
   "toc_window_display": true
  }
 },
 "nbformat": 4,
 "nbformat_minor": 5
}
